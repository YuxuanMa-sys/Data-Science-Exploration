{
 "cells": [
  {
   "cell_type": "markdown",
   "metadata": {},
   "source": [
    "# STAT 207 Lab Assignment 3 - Individual Part - [25 total points]\n",
    "\n",
    "## Dataframe Manipulation,  Cleaning, and Numerical Variable Descriptive Analytics"
   ]
  },
  {
   "cell_type": "markdown",
   "metadata": {},
   "source": [
    "Due: Wednesday, February 9, 11:59pm CST\n",
    "\n",
    "<hr>\n"
   ]
  },
  {
   "cell_type": "markdown",
   "metadata": {},
   "source": [
    "## <u>Case Study</u>: Steam Game Play and Purchase Analysis\n",
    "Steam is the world's most popular PC Gaming hub. With a massive collection that includes everything from AAA blockbusters to small indie titles, great discovery tools can be super valuable for Steam. What can we learn about Steam gaming behavior?\n",
    "\n",
    "\n",
    "### Dataset Description\n",
    "The dataset we will be analyzing is comprised of a random sample of Steam users and their game play and purchase behaviors. It has the following columns:\n",
    "* **user_id**: the user id of the Steam user\n",
    "* **game_name**: the nume of the game that the user either *purchased* or *played*.\n",
    "* **activity**:\n",
    "    - <u>purchase</u>: indicating that the user has *purchased* the corresponding game\n",
    "    - <u>play</u>: indicating that the user has *played* the corresponding game (for at least some amount of time.) \n",
    "* **hours_played_if_play**:\n",
    "    - if the row corresponds to a 'play' activity, this number represents the number of hours the user has played the game\n",
    "    - if the row corresponds to a 'purchase' activity, this number is always a 1 (and means nothing... it's a placeholder).\n",
    "\n",
    "### Research Goals\n",
    "\n",
    "We have the following research goals for this analysis.\n",
    "\n",
    "1. Clean the dataset.\n",
    "2. Compare the number of hours Steam users spend playing the two most purchased games.\n",
    "3. Randomly profile two Steam users and determine what percent of the games that they purchase, do they actually end up playing.\n",
    "\n",
    "### Hint:\n",
    "\n",
    "When going through the questions in your lab assignments, you are welcome to add and delete code blocks as needed to further explore and test the code that you are writing.\n",
    "\n",
    "\n",
    "<p>&nbsp;</p>\n",
    "<table style=\"border: none;border-collapse: collapse;width:102pt;\">\n",
    "    <tbody>\n",
    "        <tr>\n",
    "            <td style=\"color:black;font-size:15px;font-weight:700;font-style:normal;text-decoration:none;font-family:Calibri, sans-serif;text-align:right;vertical-align:bottom;border:.5pt solid windowtext;height:14.25pt;width:51pt;\">Problem</td>\n",
    "            <td style=\"color:black;font-size:15px;font-weight:700;font-style:normal;text-decoration:none;font-family:Calibri, sans-serif;text-align:right;vertical-align:bottom;border:.5pt solid windowtext;border-left:none;width:51pt;\">Points</td>\n",
    "        </tr>\n",
    "        <tr>\n",
    "            <td style=\"color:black;font-size:15px;font-weight:400;font-style:normal;text-decoration:none;font-family:Calibri, sans-serif;text-align:right;vertical-align:bottom;border:.5pt solid windowtext;height:14.25pt;border-top:none;\">1.1</td>\n",
    "            <td style=\"color:black;font-size:15px;font-weight:400;font-style:normal;text-decoration:none;font-family:Calibri, sans-serif;text-align:right;vertical-align:bottom;border:.5pt solid windowtext;border-top:none;border-left:none;\">0.5</td>\n",
    "        </tr>\n",
    "        <tr>\n",
    "            <td style=\"color:black;font-size:15px;font-weight:400;font-style:normal;text-decoration:none;font-family:Calibri, sans-serif;text-align:right;vertical-align:bottom;border:.5pt solid windowtext;height:14.25pt;border-top:none;\">1.2</td>\n",
    "            <td style=\"color:black;font-size:15px;font-weight:400;font-style:normal;text-decoration:none;font-family:Calibri, sans-serif;text-align:right;vertical-align:bottom;border:.5pt solid windowtext;border-top:none;border-left:none;\">0.5</td>\n",
    "        </tr>\n",
    "        <tr>\n",
    "            <td style=\"color:black;font-size:15px;font-weight:400;font-style:normal;text-decoration:none;font-family:Calibri, sans-serif;text-align:right;vertical-align:bottom;border:.5pt solid windowtext;height:14.25pt;border-top:none;\">1.3</td>\n",
    "            <td style=\"color:black;font-size:15px;font-weight:400;font-style:normal;text-decoration:none;font-family:Calibri, sans-serif;text-align:right;vertical-align:bottom;border:.5pt solid windowtext;border-top:none;border-left:none;\">4</td>\n",
    "        </tr>\n",
    "        <tr>\n",
    "            <td style=\"color:black;font-size:15px;font-weight:400;font-style:normal;text-decoration:none;font-family:Calibri, sans-serif;text-align:right;vertical-align:bottom;border:.5pt solid windowtext;height:14.25pt;border-top:none;\">1.4</td>\n",
    "            <td style=\"color:black;font-size:15px;font-weight:400;font-style:normal;text-decoration:none;font-family:Calibri, sans-serif;text-align:right;vertical-align:bottom;border:.5pt solid windowtext;border-top:none;border-left:none;\">1</td>\n",
    "        </tr>\n",
    "        <tr>\n",
    "            <td style=\"color:black;font-size:15px;font-weight:400;font-style:normal;text-decoration:none;font-family:Calibri, sans-serif;text-align:right;vertical-align:bottom;border:.5pt solid windowtext;height:14.25pt;border-top:none;\">1.5</td>\n",
    "            <td style=\"color:black;font-size:15px;font-weight:400;font-style:normal;text-decoration:none;font-family:Calibri, sans-serif;text-align:right;vertical-align:bottom;border:.5pt solid windowtext;border-top:none;border-left:none;\">1</td>\n",
    "        </tr>\n",
    "        <tr>\n",
    "            <td style=\"color:black;font-size:15px;font-weight:400;font-style:normal;text-decoration:none;font-family:Calibri, sans-serif;text-align:right;vertical-align:bottom;border:.5pt solid windowtext;height:14.25pt;border-top:none;\">2.1</td>\n",
    "            <td style=\"color:black;font-size:15px;font-weight:400;font-style:normal;text-decoration:none;font-family:Calibri, sans-serif;text-align:right;vertical-align:bottom;border:.5pt solid windowtext;border-top:none;border-left:none;\">1</td>\n",
    "        </tr>\n",
    "        <tr>\n",
    "            <td style=\"color:black;font-size:15px;font-weight:400;font-style:normal;text-decoration:none;font-family:Calibri, sans-serif;text-align:right;vertical-align:bottom;border:.5pt solid windowtext;height:14.25pt;border-top:none;\">2.2.1</td>\n",
    "            <td style=\"color:black;font-size:15px;font-weight:400;font-style:normal;text-decoration:none;font-family:Calibri, sans-serif;text-align:right;vertical-align:bottom;border:.5pt solid windowtext;border-top:none;border-left:none;\">1.5</td>\n",
    "        </tr>\n",
    "        <tr>\n",
    "            <td style=\"color:black;font-size:15px;font-weight:400;font-style:normal;text-decoration:none;font-family:Calibri, sans-serif;text-align:right;vertical-align:bottom;border:.5pt solid windowtext;height:14.25pt;border-top:none;\">2.2.2</td>\n",
    "            <td style=\"color:black;font-size:15px;font-weight:400;font-style:normal;text-decoration:none;font-family:Calibri, sans-serif;text-align:right;vertical-align:bottom;border:.5pt solid windowtext;border-top:none;border-left:none;\">1.5</td>\n",
    "        </tr>\n",
    "        <tr>\n",
    "            <td style=\"color:black;font-size:15px;font-weight:400;font-style:normal;text-decoration:none;font-family:Calibri, sans-serif;text-align:right;vertical-align:bottom;border:.5pt solid windowtext;height:14.25pt;border-top:none;\">2.3</td>\n",
    "            <td style=\"color:black;font-size:15px;font-weight:400;font-style:normal;text-decoration:none;font-family:Calibri, sans-serif;text-align:right;vertical-align:bottom;border:.5pt solid windowtext;border-top:none;border-left:none;\">2</td>\n",
    "        </tr>\n",
    "        <tr>\n",
    "            <td style=\"color:black;font-size:15px;font-weight:400;font-style:normal;text-decoration:none;font-family:Calibri, sans-serif;text-align:right;vertical-align:bottom;border:.5pt solid windowtext;height:14.25pt;border-top:none;\">2.4.1</td>\n",
    "            <td style=\"color:black;font-size:15px;font-weight:400;font-style:normal;text-decoration:none;font-family:Calibri, sans-serif;text-align:right;vertical-align:bottom;border:.5pt solid windowtext;border-top:none;border-left:none;\">1</td>\n",
    "        </tr>\n",
    "        <tr>\n",
    "            <td style=\"color:black;font-size:15px;font-weight:400;font-style:normal;text-decoration:none;font-family:Calibri, sans-serif;text-align:right;vertical-align:bottom;border:.5pt solid windowtext;height:14.25pt;border-top:none;\">2.4.2</td>\n",
    "            <td style=\"color:black;font-size:15px;font-weight:400;font-style:normal;text-decoration:none;font-family:Calibri, sans-serif;text-align:right;vertical-align:bottom;border:.5pt solid windowtext;border-top:none;border-left:none;\">1</td>\n",
    "        </tr>\n",
    "        <tr>\n",
    "            <td style=\"color:black;font-size:15px;font-weight:400;font-style:normal;text-decoration:none;font-family:Calibri, sans-serif;text-align:right;vertical-align:bottom;border:.5pt solid windowtext;height:14.25pt;border-top:none;\">2.5.1</td>\n",
    "            <td style=\"color:black;font-size:15px;font-weight:400;font-style:normal;text-decoration:none;font-family:Calibri, sans-serif;text-align:right;vertical-align:bottom;border:.5pt solid windowtext;border-top:none;border-left:none;\">1</td>\n",
    "        </tr>\n",
    "        <tr>\n",
    "            <td style=\"color:black;font-size:15px;font-weight:400;font-style:normal;text-decoration:none;font-family:Calibri, sans-serif;text-align:right;vertical-align:bottom;border:.5pt solid windowtext;height:14.25pt;border-top:none;\">2.5.2</td>\n",
    "            <td style=\"color:black;font-size:15px;font-weight:400;font-style:normal;text-decoration:none;font-family:Calibri, sans-serif;text-align:right;vertical-align:bottom;border:.5pt solid windowtext;border-top:none;border-left:none;\">1.5</td>\n",
    "        </tr>\n",
    "        <tr>\n",
    "            <td style=\"color:black;font-size:15px;font-weight:400;font-style:normal;text-decoration:none;font-family:Calibri, sans-serif;text-align:right;vertical-align:bottom;border:.5pt solid windowtext;height:14.25pt;border-top:none;\">2.6</td>\n",
    "            <td style=\"color:black;font-size:15px;font-weight:400;font-style:normal;text-decoration:none;font-family:Calibri, sans-serif;text-align:right;vertical-align:bottom;border:.5pt solid windowtext;border-top:none;border-left:none;\">2</td>\n",
    "        </tr>\n",
    "        <tr>\n",
    "            <td style=\"color:black;font-size:15px;font-weight:400;font-style:normal;text-decoration:none;font-family:Calibri, sans-serif;text-align:right;vertical-align:bottom;border:.5pt solid windowtext;height:14.25pt;border-top:none;\">2.7</td>\n",
    "            <td style=\"color:black;font-size:15px;font-weight:400;font-style:normal;text-decoration:none;font-family:Calibri, sans-serif;text-align:right;vertical-align:bottom;border:.5pt solid windowtext;border-top:none;border-left:none;\">2</td>\n",
    "        </tr>\n",
    "        <tr>\n",
    "            <td style=\"color:black;font-size:15px;font-weight:400;font-style:normal;text-decoration:none;font-family:Calibri, sans-serif;text-align:right;vertical-align:bottom;border:.5pt solid windowtext;height:14.25pt;border-top:none;\">3.1</td>\n",
    "            <td style=\"color:black;font-size:15px;font-weight:400;font-style:normal;text-decoration:none;font-family:Calibri, sans-serif;text-align:right;vertical-align:bottom;border:.5pt solid windowtext;border-top:none;border-left:none;\">1.5</td>\n",
    "        </tr>\n",
    "        <tr>\n",
    "            <td style=\"color:black;font-size:15px;font-weight:400;font-style:normal;text-decoration:none;font-family:Calibri, sans-serif;text-align:right;vertical-align:bottom;border:.5pt solid windowtext;height:14.25pt;border-top:none;\">3.2</td>\n",
    "            <td style=\"color:black;font-size:15px;font-weight:400;font-style:normal;text-decoration:none;font-family:Calibri, sans-serif;text-align:right;vertical-align:bottom;border:.5pt solid windowtext;border-top:none;border-left:none;\">2</td>\n",
    "        </tr>\n",
    "    </tbody>\n",
    "</table>\n",
    "\n",
    "\n",
    "<hr>"
   ]
  },
  {
   "cell_type": "markdown",
   "metadata": {},
   "source": [
    "### Imports"
   ]
  },
  {
   "cell_type": "code",
   "execution_count": 130,
   "metadata": {},
   "outputs": [],
   "source": [
    "import pandas as pd                    # imports pandas and calls the imported version 'pd'\n",
    "import matplotlib.pyplot as plt        # imports the package and calls it 'plt'\n",
    "import seaborn as sns # imports the seaborn package with the imported name 'sns'\n",
    "sns.set() \n",
    "import scipy"
   ]
  },
  {
   "cell_type": "markdown",
   "metadata": {},
   "source": [
    "## 1. Data Cleaning and Processing\n",
    "\n",
    "First, let's process and clean this dataset.\n",
    "\n",
    "### 1.1 Read the csv\n",
    "First, read the **steam_sample.csv** file into a dataframe and display the first five rows of the dataframe."
   ]
  },
  {
   "cell_type": "code",
   "execution_count": 131,
   "metadata": {},
   "outputs": [
    {
     "data": {
      "text/html": [
       "<div>\n",
       "<style scoped>\n",
       "    .dataframe tbody tr th:only-of-type {\n",
       "        vertical-align: middle;\n",
       "    }\n",
       "\n",
       "    .dataframe tbody tr th {\n",
       "        vertical-align: top;\n",
       "    }\n",
       "\n",
       "    .dataframe thead th {\n",
       "        text-align: right;\n",
       "    }\n",
       "</style>\n",
       "<table border=\"1\" class=\"dataframe\">\n",
       "  <thead>\n",
       "    <tr style=\"text-align: right;\">\n",
       "      <th></th>\n",
       "      <th>user_id</th>\n",
       "      <th>game_name</th>\n",
       "      <th>activity</th>\n",
       "      <th>hours_played_if_play</th>\n",
       "    </tr>\n",
       "  </thead>\n",
       "  <tbody>\n",
       "    <tr>\n",
       "      <th>0</th>\n",
       "      <td>308653033</td>\n",
       "      <td>Unturned</td>\n",
       "      <td>purchase</td>\n",
       "      <td>1</td>\n",
       "    </tr>\n",
       "    <tr>\n",
       "      <th>1</th>\n",
       "      <td>308653033</td>\n",
       "      <td>Unturned</td>\n",
       "      <td>play</td>\n",
       "      <td>0.6</td>\n",
       "    </tr>\n",
       "    <tr>\n",
       "      <th>2</th>\n",
       "      <td>308653033</td>\n",
       "      <td>theHunter</td>\n",
       "      <td>purchase</td>\n",
       "      <td>1</td>\n",
       "    </tr>\n",
       "    <tr>\n",
       "      <th>3</th>\n",
       "      <td>144004384</td>\n",
       "      <td>Dota 2</td>\n",
       "      <td>purchase</td>\n",
       "      <td>1</td>\n",
       "    </tr>\n",
       "    <tr>\n",
       "      <th>4</th>\n",
       "      <td>144004384</td>\n",
       "      <td>Dota 2</td>\n",
       "      <td>play</td>\n",
       "      <td>22</td>\n",
       "    </tr>\n",
       "  </tbody>\n",
       "</table>\n",
       "</div>"
      ],
      "text/plain": [
       "     user_id  game_name  activity hours_played_if_play\n",
       "0  308653033   Unturned  purchase                    1\n",
       "1  308653033   Unturned      play                  0.6\n",
       "2  308653033  theHunter  purchase                    1\n",
       "3  144004384     Dota 2  purchase                    1\n",
       "4  144004384     Dota 2      play                   22"
      ]
     },
     "execution_count": 131,
     "metadata": {},
     "output_type": "execute_result"
    }
   ],
   "source": [
    "df = pd.read_csv(\"steam_sample.csv\")\n",
    "df.head()"
   ]
  },
  {
   "cell_type": "markdown",
   "metadata": {},
   "source": [
    "### 1.2. How many rows does the dataframe have? (Use Python code to show this). "
   ]
  },
  {
   "cell_type": "code",
   "execution_count": 132,
   "metadata": {},
   "outputs": [
    {
     "data": {
      "text/plain": [
       "7758"
      ]
     },
     "execution_count": 132,
     "metadata": {},
     "output_type": "execute_result"
    }
   ],
   "source": [
    "len(df)"
   ]
  },
  {
   "cell_type": "markdown",
   "metadata": {},
   "source": []
  },
  {
   "cell_type": "markdown",
   "metadata": {},
   "source": [
    "### 1.3. Data cleaning and data type checking \n",
    "\n",
    "We plan to analyze the \"hours_played_if_play\" variable in this assignment. In order to ensure that our subsequent functions work appropriately on these variables, you should do the following.\n",
    "1. Identify any values (if any) that have been encoded in the csv to represent a **missing value**. \n",
    "2. Make sure that the values in your \"hours_played_if_play\" variable are represented as numerical values (either float64 or int64 object types). If not, fix this using the methods we discussed in class.\n",
    "3. Delete any rows in your dataframe that have missing values. Remember, some \"missing values\", in the way that they're currently encoded in the csv may not be initially detectable by Python. It is your job to figure out what these missing values are and make it so Python does detect them. And then delete them."
   ]
  },
  {
   "cell_type": "code",
   "execution_count": 133,
   "metadata": {},
   "outputs": [
    {
     "data": {
      "text/plain": [
       "user_id                 0\n",
       "game_name               0\n",
       "activity                0\n",
       "hours_played_if_play    0\n",
       "dtype: int64"
      ]
     },
     "execution_count": 133,
     "metadata": {},
     "output_type": "execute_result"
    }
   ],
   "source": [
    "df.isna().sum()"
   ]
  },
  {
   "cell_type": "code",
   "execution_count": 134,
   "metadata": {},
   "outputs": [
    {
     "data": {
      "text/plain": [
       "user_id                  int64\n",
       "game_name               object\n",
       "activity                object\n",
       "hours_played_if_play    object\n",
       "dtype: object"
      ]
     },
     "execution_count": 134,
     "metadata": {},
     "output_type": "execute_result"
    }
   ],
   "source": [
    "df.dtypes"
   ]
  },
  {
   "cell_type": "code",
   "execution_count": 135,
   "metadata": {},
   "outputs": [
    {
     "data": {
      "text/plain": [
       "array(['1', '0.6', '22', '1028', '1008', '148', '108', '72', '36', '35',\n",
       "       '32', '21', '16', '15.8', '8.6', '7.8', '7.3', '3.1', '1.9', '1.7',\n",
       "       '1.1', '0.4', '153', '63', '26', '1.4', '0.3', '0.8', '396', '227',\n",
       "       '13.4', '12.6', '11.2', '10.1', '2.4', '210', '1.2', '2.3', '0.2',\n",
       "       '13.2', '0.7', '48', '110', '0.1', '67', '429', '5.5', '61', '1.6',\n",
       "       '18.3', '9.9', '4.7', '1714', '441', '197', '147', '117', '86',\n",
       "       '73', '49', '46', '33', '31', '24', '20', '19.7', '18.2', '14.2',\n",
       "       '11.6', '9.8', '9.7', '8.4', '6.5', '4.8', '4.1', '3.7', '2.9',\n",
       "       '2.7', '2.1', '0.5', '222', 'data not found', '14.9', '14.1', '83',\n",
       "       '11.1', '3.2', '6.9', '395', '251', '9.3', '7.4', '54', '34',\n",
       "       '1.8', '99', '98', '96', '29', '27', '23', '19.1', '18.7', '17.5',\n",
       "       '17', '16.6', '14.7', '13.3', '10.7', '10.2', '10', '9.6', '9.5',\n",
       "       '8', '7.9', '7.6', '7', '6.6', '6', '5.8', '5.6', '5.3', '4.4',\n",
       "       '4.3', '3.3', '3', '2.6', '2.5', '0.9', '6.2', '18.9', '2.8',\n",
       "       '4814', '4', '494', '1.3', '184', '13.8', '11.4', '8.9', '6.7',\n",
       "       '496', '1086', '525', '370', '270', '151', '85', '66', '56',\n",
       "       '15.3', '15.1', '11.5', '7.2', '3.8', '19.6', '2', '274', '7.1',\n",
       "       '4.9', '4.6', '3.6', '12.1', '103', '3.9', '13.1', '60', '3309',\n",
       "       '524', '431', '428', '262', '250', '180', '154', '137', '106',\n",
       "       '100', '80', '68', '62', '50', '47', '44', '38', '37', '30',\n",
       "       '13.5', '12', '11.9', '11', '9', '8.2', '8.1', '7.5', '6.8', '5.1',\n",
       "       '5', '4.2', '2.2', '1.5', '57', '964', '41', '12.5', '10.4', '361',\n",
       "       '88', '82', '17.6', '17.1', '16.3', '15.2', '14.6', '11.7', '8.8',\n",
       "       '8.3', '5.9', '717', '303', '13.9', '10.6', '2179', '526', '28',\n",
       "       '14.5', '12.4', '149', '10.8', '15', '19.9', '113', '76', '646',\n",
       "       '25', '14', '546', '11.8', '381', '16.1', '70', '215', '81',\n",
       "       '19.5', '248', '59', '42', '13.7', '3626', '997', '665', '622',\n",
       "       '522', '344', '224', '213', '208', '186', '95', '79', '78', '40',\n",
       "       '18.1', '18', '17.8', '17.4', '16.2', '15.9', '15.5', '14.8',\n",
       "       '12.3', '3.5', '3.4', '116', '6.1', '393', '65', '332', '238',\n",
       "       '307', '157', '550', '52', '9.2', '1343', '13.6', '8.5', '15.7',\n",
       "       '202', '530', '43', '6.3', '518', '232', '175', '58', '90', '15.4',\n",
       "       '14.4', '193', '173', '12.2', '1339', '190', '121', '7.7', '4.5',\n",
       "       '249', '77', '399', '278', '91', '6.4', '162', '89', '17.2', '9.1',\n",
       "       '652', '517', '125', '105', '75', '55', '17.9', '10.9', '8.7',\n",
       "       '10.3', '5.7', '5.4', '10.5', '118', '9.4', '284', '71', '19.3',\n",
       "       '209', '5.2', '1605', '1540', '710', '617', '312', '644', '189',\n",
       "       '191', '176', '136', '115', '39', '19', '69', '1912', '777', '686',\n",
       "       '15.6', '18.4', '539', '1760', '165', '17.3', '112', '386', '720',\n",
       "       '466', '124', '109', '87', '14.3', '676', '449', '236', '119',\n",
       "       '53', '45', '3178', '1302', '795', '174', '123', '104', '101',\n",
       "       '64', '51', '16.9', '16.8', '16.5', '11.3', '1030', '145', '214',\n",
       "       '11754', '144', '579', '263', '241', '160', '141', '120', '92',\n",
       "       '13', '289', '1337', '17.7', '2258', '217', '135', '389', '228',\n",
       "       '187', '111', '357', '923', '172', '1369', '1049', '488', '130',\n",
       "       '126', '93', '18.8', '1064', '18.5', '12.9', '458', '418', '194',\n",
       "       '272', '16.4', '419', '107', '290', '1499', '891', '693', '302',\n",
       "       '273', '264', '158', '133', '1301', '485', '1754', '231', '12.8',\n",
       "       '132', '733', '230', '127', '627', '994', '387', '487', '528',\n",
       "       '138', '809', '511', '2055', '402', '451', '170', '527', '206',\n",
       "       '164', '207', '196', '143', '1295', '520', '364', '1704'],\n",
       "      dtype=object)"
      ]
     },
     "execution_count": 135,
     "metadata": {},
     "output_type": "execute_result"
    }
   ],
   "source": [
    "df['hours_played_if_play'].unique()"
   ]
  },
  {
   "cell_type": "code",
   "execution_count": 136,
   "metadata": {},
   "outputs": [],
   "source": [
    "missing_values = [\"data not found\"]\n",
    "df1 = pd.read_csv(\"steam_sample.csv\", na_values = missing_values)"
   ]
  },
  {
   "cell_type": "code",
   "execution_count": 137,
   "metadata": {},
   "outputs": [
    {
     "data": {
      "text/plain": [
       "user_id                   int64\n",
       "game_name                object\n",
       "activity                 object\n",
       "hours_played_if_play    float64\n",
       "dtype: object"
      ]
     },
     "execution_count": 137,
     "metadata": {},
     "output_type": "execute_result"
    }
   ],
   "source": [
    "df1.dtypes"
   ]
  },
  {
   "cell_type": "code",
   "execution_count": 138,
   "metadata": {},
   "outputs": [
    {
     "data": {
      "text/plain": [
       "user_id                 0\n",
       "game_name               0\n",
       "activity                0\n",
       "hours_played_if_play    8\n",
       "dtype: int64"
      ]
     },
     "execution_count": 138,
     "metadata": {},
     "output_type": "execute_result"
    }
   ],
   "source": [
    "df1.isna().sum()"
   ]
  },
  {
   "cell_type": "code",
   "execution_count": 139,
   "metadata": {},
   "outputs": [],
   "source": [
    "df1 = df1.dropna()"
   ]
  },
  {
   "cell_type": "code",
   "execution_count": 140,
   "metadata": {},
   "outputs": [
    {
     "data": {
      "text/plain": [
       "array([1.0000e+00, 6.0000e-01, 2.2000e+01, 1.0280e+03, 1.0080e+03,\n",
       "       1.4800e+02, 1.0800e+02, 7.2000e+01, 3.6000e+01, 3.5000e+01,\n",
       "       3.2000e+01, 2.1000e+01, 1.6000e+01, 1.5800e+01, 8.6000e+00,\n",
       "       7.8000e+00, 7.3000e+00, 3.1000e+00, 1.9000e+00, 1.7000e+00,\n",
       "       1.1000e+00, 4.0000e-01, 1.5300e+02, 6.3000e+01, 2.6000e+01,\n",
       "       1.4000e+00, 3.0000e-01, 8.0000e-01, 3.9600e+02, 2.2700e+02,\n",
       "       1.3400e+01, 1.2600e+01, 1.1200e+01, 1.0100e+01, 2.4000e+00,\n",
       "       2.1000e+02, 1.2000e+00, 2.3000e+00, 2.0000e-01, 1.3200e+01,\n",
       "       7.0000e-01, 4.8000e+01, 1.1000e+02, 1.0000e-01, 6.7000e+01,\n",
       "       4.2900e+02, 5.5000e+00, 6.1000e+01, 1.6000e+00, 1.8300e+01,\n",
       "       9.9000e+00, 4.7000e+00, 1.7140e+03, 4.4100e+02, 1.9700e+02,\n",
       "       1.4700e+02, 1.1700e+02, 8.6000e+01, 7.3000e+01, 4.9000e+01,\n",
       "       4.6000e+01, 3.3000e+01, 3.1000e+01, 2.4000e+01, 2.0000e+01,\n",
       "       1.9700e+01, 1.8200e+01, 1.4200e+01, 1.1600e+01, 9.8000e+00,\n",
       "       9.7000e+00, 8.4000e+00, 6.5000e+00, 4.8000e+00, 4.1000e+00,\n",
       "       3.7000e+00, 2.9000e+00, 2.7000e+00, 2.1000e+00, 5.0000e-01,\n",
       "       2.2200e+02, 1.4900e+01, 1.4100e+01, 8.3000e+01, 1.1100e+01,\n",
       "       3.2000e+00, 6.9000e+00, 3.9500e+02, 2.5100e+02, 9.3000e+00,\n",
       "       7.4000e+00, 5.4000e+01, 3.4000e+01, 1.8000e+00, 9.9000e+01,\n",
       "       9.8000e+01, 9.6000e+01, 2.9000e+01, 2.7000e+01, 2.3000e+01,\n",
       "       1.9100e+01, 1.8700e+01, 1.7500e+01, 1.7000e+01, 1.6600e+01,\n",
       "       1.4700e+01, 1.3300e+01, 1.0700e+01, 1.0200e+01, 1.0000e+01,\n",
       "       9.6000e+00, 9.5000e+00, 8.0000e+00, 7.9000e+00, 7.6000e+00,\n",
       "       7.0000e+00, 6.6000e+00, 6.0000e+00, 5.8000e+00, 5.6000e+00,\n",
       "       5.3000e+00, 4.4000e+00, 4.3000e+00, 3.3000e+00, 3.0000e+00,\n",
       "       2.6000e+00, 2.5000e+00, 9.0000e-01, 6.2000e+00, 1.8900e+01,\n",
       "       2.8000e+00, 4.8140e+03, 4.0000e+00, 4.9400e+02, 1.3000e+00,\n",
       "       1.8400e+02, 1.3800e+01, 1.1400e+01, 8.9000e+00, 6.7000e+00,\n",
       "       4.9600e+02, 1.0860e+03, 5.2500e+02, 3.7000e+02, 2.7000e+02,\n",
       "       1.5100e+02, 8.5000e+01, 6.6000e+01, 5.6000e+01, 1.5300e+01,\n",
       "       1.5100e+01, 1.1500e+01, 7.2000e+00, 3.8000e+00, 1.9600e+01,\n",
       "       2.0000e+00, 2.7400e+02, 7.1000e+00, 4.9000e+00, 4.6000e+00,\n",
       "       3.6000e+00, 1.2100e+01, 1.0300e+02, 3.9000e+00, 1.3100e+01,\n",
       "       6.0000e+01, 3.3090e+03, 5.2400e+02, 4.3100e+02, 4.2800e+02,\n",
       "       2.6200e+02, 2.5000e+02, 1.8000e+02, 1.5400e+02, 1.3700e+02,\n",
       "       1.0600e+02, 1.0000e+02, 8.0000e+01, 6.8000e+01, 6.2000e+01,\n",
       "       5.0000e+01, 4.7000e+01, 4.4000e+01, 3.8000e+01, 3.7000e+01,\n",
       "       3.0000e+01, 1.3500e+01, 1.2000e+01, 1.1900e+01, 1.1000e+01,\n",
       "       9.0000e+00, 8.2000e+00, 8.1000e+00, 7.5000e+00, 6.8000e+00,\n",
       "       5.1000e+00, 5.0000e+00, 4.2000e+00, 2.2000e+00, 1.5000e+00,\n",
       "       5.7000e+01, 9.6400e+02, 4.1000e+01, 1.2500e+01, 1.0400e+01,\n",
       "       3.6100e+02, 8.8000e+01, 8.2000e+01, 1.7600e+01, 1.7100e+01,\n",
       "       1.6300e+01, 1.5200e+01, 1.4600e+01, 1.1700e+01, 8.8000e+00,\n",
       "       8.3000e+00, 5.9000e+00, 7.1700e+02, 3.0300e+02, 1.3900e+01,\n",
       "       1.0600e+01, 2.1790e+03, 5.2600e+02, 2.8000e+01, 1.4500e+01,\n",
       "       1.2400e+01, 1.4900e+02, 1.0800e+01, 1.5000e+01, 1.9900e+01,\n",
       "       1.1300e+02, 7.6000e+01, 6.4600e+02, 2.5000e+01, 1.4000e+01,\n",
       "       5.4600e+02, 1.1800e+01, 3.8100e+02, 1.6100e+01, 7.0000e+01,\n",
       "       2.1500e+02, 8.1000e+01, 1.9500e+01, 2.4800e+02, 5.9000e+01,\n",
       "       4.2000e+01, 1.3700e+01, 3.6260e+03, 9.9700e+02, 6.6500e+02,\n",
       "       6.2200e+02, 5.2200e+02, 3.4400e+02, 2.2400e+02, 2.1300e+02,\n",
       "       2.0800e+02, 1.8600e+02, 9.5000e+01, 7.9000e+01, 7.8000e+01,\n",
       "       4.0000e+01, 1.8100e+01, 1.8000e+01, 1.7800e+01, 1.7400e+01,\n",
       "       1.6200e+01, 1.5900e+01, 1.5500e+01, 1.4800e+01, 1.2300e+01,\n",
       "       3.5000e+00, 3.4000e+00, 1.1600e+02, 6.1000e+00, 3.9300e+02,\n",
       "       6.5000e+01, 3.3200e+02, 2.3800e+02, 3.0700e+02, 1.5700e+02,\n",
       "       5.5000e+02, 5.2000e+01, 9.2000e+00, 1.3430e+03, 1.3600e+01,\n",
       "       8.5000e+00, 1.5700e+01, 2.0200e+02, 5.3000e+02, 4.3000e+01,\n",
       "       6.3000e+00, 5.1800e+02, 2.3200e+02, 1.7500e+02, 5.8000e+01,\n",
       "       9.0000e+01, 1.5400e+01, 1.4400e+01, 1.9300e+02, 1.7300e+02,\n",
       "       1.2200e+01, 1.3390e+03, 1.9000e+02, 1.2100e+02, 7.7000e+00,\n",
       "       4.5000e+00, 2.4900e+02, 7.7000e+01, 3.9900e+02, 2.7800e+02,\n",
       "       9.1000e+01, 6.4000e+00, 1.6200e+02, 8.9000e+01, 1.7200e+01,\n",
       "       9.1000e+00, 6.5200e+02, 5.1700e+02, 1.2500e+02, 1.0500e+02,\n",
       "       7.5000e+01, 5.5000e+01, 1.7900e+01, 1.0900e+01, 8.7000e+00,\n",
       "       1.0300e+01, 5.7000e+00, 5.4000e+00, 1.0500e+01, 1.1800e+02,\n",
       "       9.4000e+00, 2.8400e+02, 7.1000e+01, 1.9300e+01, 2.0900e+02,\n",
       "       5.2000e+00, 1.6050e+03, 1.5400e+03, 7.1000e+02, 6.1700e+02,\n",
       "       3.1200e+02, 6.4400e+02, 1.8900e+02, 1.9100e+02, 1.7600e+02,\n",
       "       1.3600e+02, 1.1500e+02, 3.9000e+01, 1.9000e+01, 6.9000e+01,\n",
       "       1.9120e+03, 7.7700e+02, 6.8600e+02, 1.5600e+01, 1.8400e+01,\n",
       "       5.3900e+02, 1.7600e+03, 1.6500e+02, 1.7300e+01, 1.1200e+02,\n",
       "       3.8600e+02, 7.2000e+02, 4.6600e+02, 1.2400e+02, 1.0900e+02,\n",
       "       8.7000e+01, 1.4300e+01, 6.7600e+02, 4.4900e+02, 2.3600e+02,\n",
       "       1.1900e+02, 5.3000e+01, 4.5000e+01, 3.1780e+03, 1.3020e+03,\n",
       "       7.9500e+02, 1.7400e+02, 1.2300e+02, 1.0400e+02, 1.0100e+02,\n",
       "       6.4000e+01, 5.1000e+01, 1.6900e+01, 1.6800e+01, 1.6500e+01,\n",
       "       1.1300e+01, 1.0300e+03, 1.4500e+02, 2.1400e+02, 1.1754e+04,\n",
       "       1.4400e+02, 5.7900e+02, 2.6300e+02, 2.4100e+02, 1.6000e+02,\n",
       "       1.4100e+02, 1.2000e+02, 9.2000e+01, 1.3000e+01, 2.8900e+02,\n",
       "       1.3370e+03, 1.7700e+01, 2.2580e+03, 2.1700e+02, 1.3500e+02,\n",
       "       3.8900e+02, 2.2800e+02, 1.8700e+02, 1.1100e+02, 3.5700e+02,\n",
       "       9.2300e+02, 1.7200e+02, 1.3690e+03, 1.0490e+03, 4.8800e+02,\n",
       "       1.3000e+02, 1.2600e+02, 9.3000e+01, 1.8800e+01, 1.0640e+03,\n",
       "       1.8500e+01, 1.2900e+01, 4.5800e+02, 4.1800e+02, 1.9400e+02,\n",
       "       2.7200e+02, 1.6400e+01, 4.1900e+02, 1.0700e+02, 2.9000e+02,\n",
       "       1.4990e+03, 8.9100e+02, 6.9300e+02, 3.0200e+02, 2.7300e+02,\n",
       "       2.6400e+02, 1.5800e+02, 1.3300e+02, 1.3010e+03, 4.8500e+02,\n",
       "       1.7540e+03, 2.3100e+02, 1.2800e+01, 1.3200e+02, 7.3300e+02,\n",
       "       2.3000e+02, 1.2700e+02, 6.2700e+02, 9.9400e+02, 3.8700e+02,\n",
       "       4.8700e+02, 5.2800e+02, 1.3800e+02, 8.0900e+02, 5.1100e+02,\n",
       "       2.0550e+03, 4.0200e+02, 4.5100e+02, 1.7000e+02, 5.2700e+02,\n",
       "       2.0600e+02, 1.6400e+02, 2.0700e+02, 1.9600e+02, 1.4300e+02,\n",
       "       1.2950e+03, 5.2000e+02, 3.6400e+02, 1.7040e+03])"
      ]
     },
     "execution_count": 140,
     "metadata": {},
     "output_type": "execute_result"
    }
   ],
   "source": [
    "df1['hours_played_if_play'].unique()"
   ]
  },
  {
   "cell_type": "code",
   "execution_count": 141,
   "metadata": {},
   "outputs": [
    {
     "data": {
      "text/plain": [
       "user_id                 0\n",
       "game_name               0\n",
       "activity                0\n",
       "hours_played_if_play    0\n",
       "dtype: int64"
      ]
     },
     "execution_count": 141,
     "metadata": {},
     "output_type": "execute_result"
    }
   ],
   "source": [
    "df1.isna().sum()"
   ]
  },
  {
   "cell_type": "markdown",
   "metadata": {},
   "source": [
    "### 1.4. New dataframe \n",
    "\n",
    "How many rows with missing values did you delete from your original dataframe?"
   ]
  },
  {
   "cell_type": "code",
   "execution_count": 142,
   "metadata": {},
   "outputs": [
    {
     "data": {
      "text/plain": [
       "8"
      ]
     },
     "execution_count": 142,
     "metadata": {},
     "output_type": "execute_result"
    }
   ],
   "source": [
    "len(df) - len(df1)"
   ]
  },
  {
   "cell_type": "markdown",
   "metadata": {},
   "source": []
  },
  {
   "cell_type": "markdown",
   "metadata": {},
   "source": [
    "### 1.5. Separate the dataframes. \n",
    "\n",
    "Next, in this analysis we would like to analyze the game purchase information and game play information separately. First create two new dataframes:\n",
    "* one that is comprised of the purchase rows\n",
    "* the other that is comprised of the play rows."
   ]
  },
  {
   "cell_type": "code",
   "execution_count": 143,
   "metadata": {},
   "outputs": [
    {
     "data": {
      "text/html": [
       "<div>\n",
       "<style scoped>\n",
       "    .dataframe tbody tr th:only-of-type {\n",
       "        vertical-align: middle;\n",
       "    }\n",
       "\n",
       "    .dataframe tbody tr th {\n",
       "        vertical-align: top;\n",
       "    }\n",
       "\n",
       "    .dataframe thead th {\n",
       "        text-align: right;\n",
       "    }\n",
       "</style>\n",
       "<table border=\"1\" class=\"dataframe\">\n",
       "  <thead>\n",
       "    <tr style=\"text-align: right;\">\n",
       "      <th></th>\n",
       "      <th>user_id</th>\n",
       "      <th>game_name</th>\n",
       "      <th>activity</th>\n",
       "      <th>hours_played_if_play</th>\n",
       "    </tr>\n",
       "  </thead>\n",
       "  <tbody>\n",
       "    <tr>\n",
       "      <th>0</th>\n",
       "      <td>308653033</td>\n",
       "      <td>Unturned</td>\n",
       "      <td>purchase</td>\n",
       "      <td>1.0</td>\n",
       "    </tr>\n",
       "    <tr>\n",
       "      <th>2</th>\n",
       "      <td>308653033</td>\n",
       "      <td>theHunter</td>\n",
       "      <td>purchase</td>\n",
       "      <td>1.0</td>\n",
       "    </tr>\n",
       "    <tr>\n",
       "      <th>3</th>\n",
       "      <td>144004384</td>\n",
       "      <td>Dota 2</td>\n",
       "      <td>purchase</td>\n",
       "      <td>1.0</td>\n",
       "    </tr>\n",
       "    <tr>\n",
       "      <th>5</th>\n",
       "      <td>54103616</td>\n",
       "      <td>Counter-Strike Global Offensive</td>\n",
       "      <td>purchase</td>\n",
       "      <td>1.0</td>\n",
       "    </tr>\n",
       "    <tr>\n",
       "      <th>7</th>\n",
       "      <td>54103616</td>\n",
       "      <td>Counter-Strike</td>\n",
       "      <td>purchase</td>\n",
       "      <td>1.0</td>\n",
       "    </tr>\n",
       "  </tbody>\n",
       "</table>\n",
       "</div>"
      ],
      "text/plain": [
       "     user_id                        game_name  activity  hours_played_if_play\n",
       "0  308653033                         Unturned  purchase                   1.0\n",
       "2  308653033                        theHunter  purchase                   1.0\n",
       "3  144004384                           Dota 2  purchase                   1.0\n",
       "5   54103616  Counter-Strike Global Offensive  purchase                   1.0\n",
       "7   54103616                   Counter-Strike  purchase                   1.0"
      ]
     },
     "execution_count": 143,
     "metadata": {},
     "output_type": "execute_result"
    }
   ],
   "source": [
    "pur = df1[df1[\"activity\"] == \"purchase\"]\n",
    "pur.head()"
   ]
  },
  {
   "cell_type": "code",
   "execution_count": 144,
   "metadata": {},
   "outputs": [
    {
     "data": {
      "text/html": [
       "<div>\n",
       "<style scoped>\n",
       "    .dataframe tbody tr th:only-of-type {\n",
       "        vertical-align: middle;\n",
       "    }\n",
       "\n",
       "    .dataframe tbody tr th {\n",
       "        vertical-align: top;\n",
       "    }\n",
       "\n",
       "    .dataframe thead th {\n",
       "        text-align: right;\n",
       "    }\n",
       "</style>\n",
       "<table border=\"1\" class=\"dataframe\">\n",
       "  <thead>\n",
       "    <tr style=\"text-align: right;\">\n",
       "      <th></th>\n",
       "      <th>user_id</th>\n",
       "      <th>game_name</th>\n",
       "      <th>activity</th>\n",
       "      <th>hours_played_if_play</th>\n",
       "    </tr>\n",
       "  </thead>\n",
       "  <tbody>\n",
       "    <tr>\n",
       "      <th>1</th>\n",
       "      <td>308653033</td>\n",
       "      <td>Unturned</td>\n",
       "      <td>play</td>\n",
       "      <td>0.6</td>\n",
       "    </tr>\n",
       "    <tr>\n",
       "      <th>4</th>\n",
       "      <td>144004384</td>\n",
       "      <td>Dota 2</td>\n",
       "      <td>play</td>\n",
       "      <td>22.0</td>\n",
       "    </tr>\n",
       "    <tr>\n",
       "      <th>6</th>\n",
       "      <td>54103616</td>\n",
       "      <td>Counter-Strike Global Offensive</td>\n",
       "      <td>play</td>\n",
       "      <td>1028.0</td>\n",
       "    </tr>\n",
       "    <tr>\n",
       "      <th>8</th>\n",
       "      <td>54103616</td>\n",
       "      <td>Counter-Strike</td>\n",
       "      <td>play</td>\n",
       "      <td>1008.0</td>\n",
       "    </tr>\n",
       "    <tr>\n",
       "      <th>10</th>\n",
       "      <td>54103616</td>\n",
       "      <td>Left 4 Dead</td>\n",
       "      <td>play</td>\n",
       "      <td>148.0</td>\n",
       "    </tr>\n",
       "  </tbody>\n",
       "</table>\n",
       "</div>"
      ],
      "text/plain": [
       "      user_id                        game_name activity  hours_played_if_play\n",
       "1   308653033                         Unturned     play                   0.6\n",
       "4   144004384                           Dota 2     play                  22.0\n",
       "6    54103616  Counter-Strike Global Offensive     play                1028.0\n",
       "8    54103616                   Counter-Strike     play                1008.0\n",
       "10   54103616                      Left 4 Dead     play                 148.0"
      ]
     },
     "execution_count": 144,
     "metadata": {},
     "output_type": "execute_result"
    }
   ],
   "source": [
    "pla = df1[df1['activity'] == 'play']\n",
    "pla.head()"
   ]
  },
  {
   "cell_type": "markdown",
   "metadata": {},
   "source": [
    "## 2. Analyzing the Two Most Purchased Games\n",
    "\n",
    "Next, we would like to learn more about game play and purchase behavior of the top two most purchased games by Steam users in this dataset.\n",
    "\n",
    "### 2.1. Top 2 Most Purchased Games\n",
    "\n",
    "What are the two most commonly purchased games by Steam users in this dataset?\n",
    "\n",
    "We'll call these top two games **game 1** and **game 2**."
   ]
  },
  {
   "cell_type": "code",
   "execution_count": 145,
   "metadata": {},
   "outputs": [
    {
     "data": {
      "text/plain": [
       "Dota 2             196\n",
       "Team Fortress 2     93\n",
       "Name: game_name, dtype: int64"
      ]
     },
     "execution_count": 145,
     "metadata": {},
     "output_type": "execute_result"
    }
   ],
   "source": [
    "pur['game_name'].value_counts().head(2)\n"
   ]
  },
  {
   "cell_type": "markdown",
   "metadata": {},
   "source": []
  },
  {
   "cell_type": "markdown",
   "metadata": {},
   "source": [
    "### 2.2. Histograms of Game Play for the Two Most Purchased Games\n",
    "\n",
    "#### 2.2.1. Game 1 Hours Played Histogram\n",
    "\n",
    "For the most purchased game in this dataset, create a histogram visualizing the number of hours that users in this dataset have played this game.\n",
    "\n",
    "Make sure your plot has an appropriate **title**, **x-axis label**, and **y-axis label**."
   ]
  },
  {
   "cell_type": "code",
   "execution_count": 146,
   "metadata": {},
   "outputs": [
    {
     "data": {
      "text/html": [
       "<div>\n",
       "<style scoped>\n",
       "    .dataframe tbody tr th:only-of-type {\n",
       "        vertical-align: middle;\n",
       "    }\n",
       "\n",
       "    .dataframe tbody tr th {\n",
       "        vertical-align: top;\n",
       "    }\n",
       "\n",
       "    .dataframe thead th {\n",
       "        text-align: right;\n",
       "    }\n",
       "</style>\n",
       "<table border=\"1\" class=\"dataframe\">\n",
       "  <thead>\n",
       "    <tr style=\"text-align: right;\">\n",
       "      <th></th>\n",
       "      <th>user_id</th>\n",
       "      <th>game_name</th>\n",
       "      <th>activity</th>\n",
       "      <th>hours_played_if_play</th>\n",
       "    </tr>\n",
       "  </thead>\n",
       "  <tbody>\n",
       "    <tr>\n",
       "      <th>4</th>\n",
       "      <td>144004384</td>\n",
       "      <td>Dota 2</td>\n",
       "      <td>play</td>\n",
       "      <td>22.0</td>\n",
       "    </tr>\n",
       "    <tr>\n",
       "      <th>36</th>\n",
       "      <td>54103616</td>\n",
       "      <td>Dota 2</td>\n",
       "      <td>play</td>\n",
       "      <td>3.1</td>\n",
       "    </tr>\n",
       "    <tr>\n",
       "      <th>68</th>\n",
       "      <td>239397807</td>\n",
       "      <td>Dota 2</td>\n",
       "      <td>play</td>\n",
       "      <td>0.4</td>\n",
       "    </tr>\n",
       "    <tr>\n",
       "      <th>80</th>\n",
       "      <td>173857208</td>\n",
       "      <td>Dota 2</td>\n",
       "      <td>play</td>\n",
       "      <td>0.6</td>\n",
       "    </tr>\n",
       "    <tr>\n",
       "      <th>100</th>\n",
       "      <td>219446813</td>\n",
       "      <td>Dota 2</td>\n",
       "      <td>play</td>\n",
       "      <td>210.0</td>\n",
       "    </tr>\n",
       "  </tbody>\n",
       "</table>\n",
       "</div>"
      ],
      "text/plain": [
       "       user_id game_name activity  hours_played_if_play\n",
       "4    144004384    Dota 2     play                  22.0\n",
       "36    54103616    Dota 2     play                   3.1\n",
       "68   239397807    Dota 2     play                   0.4\n",
       "80   173857208    Dota 2     play                   0.6\n",
       "100  219446813    Dota 2     play                 210.0"
      ]
     },
     "execution_count": 146,
     "metadata": {},
     "output_type": "execute_result"
    }
   ],
   "source": [
    "dota = pla[pla['game_name'] == 'Dota 2']\n",
    "dota.head()"
   ]
  },
  {
   "cell_type": "code",
   "execution_count": 147,
   "metadata": {},
   "outputs": [
    {
     "data": {
      "text/plain": [
       "Text(0.5, 1.0, 'Dota2 played hours')"
      ]
     },
     "execution_count": 147,
     "metadata": {},
     "output_type": "execute_result"
    },
    {
     "data": {
      "image/png": "[encoded data removed]",
      "text/plain": [
       "<Figure size 432x288 with 1 Axes>"
      ]
     },
     "metadata": {},
     "output_type": "display_data"
    }
   ],
   "source": [
    "dota['hours_played_if_play'].hist()\n",
    "plt.xlabel(\"hours played\")\n",
    "plt.ylabel(\"Frequency\")\n",
    "plt.title(\"Dota2 played hours\")"
   ]
  },
  {
   "cell_type": "markdown",
   "metadata": {},
   "source": [
    "#### 2.2.2. Game 2 Hours Played Histogram\n",
    "\n",
    "For the second most purchased game, create a histogram visualizing the number of hours that users in this dataset have played this game.\n",
    "\n",
    "Make sure your plot has an appropriate **title**, **x-axis label**, and **y-axis label**."
   ]
  },
  {
   "cell_type": "code",
   "execution_count": 148,
   "metadata": {},
   "outputs": [
    {
     "data": {
      "text/html": [
       "<div>\n",
       "<style scoped>\n",
       "    .dataframe tbody tr th:only-of-type {\n",
       "        vertical-align: middle;\n",
       "    }\n",
       "\n",
       "    .dataframe tbody tr th {\n",
       "        vertical-align: top;\n",
       "    }\n",
       "\n",
       "    .dataframe thead th {\n",
       "        text-align: right;\n",
       "    }\n",
       "</style>\n",
       "<table border=\"1\" class=\"dataframe\">\n",
       "  <thead>\n",
       "    <tr style=\"text-align: right;\">\n",
       "      <th></th>\n",
       "      <th>user_id</th>\n",
       "      <th>game_name</th>\n",
       "      <th>activity</th>\n",
       "      <th>hours_played_if_play</th>\n",
       "    </tr>\n",
       "  </thead>\n",
       "  <tbody>\n",
       "    <tr>\n",
       "      <th>14</th>\n",
       "      <td>54103616</td>\n",
       "      <td>Team Fortress 2</td>\n",
       "      <td>play</td>\n",
       "      <td>72.0</td>\n",
       "    </tr>\n",
       "    <tr>\n",
       "      <th>108</th>\n",
       "      <td>246892835</td>\n",
       "      <td>Team Fortress 2</td>\n",
       "      <td>play</td>\n",
       "      <td>0.3</td>\n",
       "    </tr>\n",
       "    <tr>\n",
       "      <th>127</th>\n",
       "      <td>176033341</td>\n",
       "      <td>Team Fortress 2</td>\n",
       "      <td>play</td>\n",
       "      <td>429.0</td>\n",
       "    </tr>\n",
       "    <tr>\n",
       "      <th>166</th>\n",
       "      <td>87071236</td>\n",
       "      <td>Team Fortress 2</td>\n",
       "      <td>play</td>\n",
       "      <td>86.0</td>\n",
       "    </tr>\n",
       "    <tr>\n",
       "      <th>281</th>\n",
       "      <td>135177440</td>\n",
       "      <td>Team Fortress 2</td>\n",
       "      <td>play</td>\n",
       "      <td>1.1</td>\n",
       "    </tr>\n",
       "  </tbody>\n",
       "</table>\n",
       "</div>"
      ],
      "text/plain": [
       "       user_id        game_name activity  hours_played_if_play\n",
       "14    54103616  Team Fortress 2     play                  72.0\n",
       "108  246892835  Team Fortress 2     play                   0.3\n",
       "127  176033341  Team Fortress 2     play                 429.0\n",
       "166   87071236  Team Fortress 2     play                  86.0\n",
       "281  135177440  Team Fortress 2     play                   1.1"
      ]
     },
     "execution_count": 148,
     "metadata": {},
     "output_type": "execute_result"
    }
   ],
   "source": [
    "TF = pla[pla['game_name'] == 'Team Fortress 2']\n",
    "TF.head()"
   ]
  },
  {
   "cell_type": "code",
   "execution_count": 149,
   "metadata": {},
   "outputs": [
    {
     "data": {
      "text/plain": [
       "Text(0.5, 1.0, 'Team Fortress 2 hours played')"
      ]
     },
     "execution_count": 149,
     "metadata": {},
     "output_type": "execute_result"
    },
    {
     "data": {
      "image/png": "[encoded data removed]",
      "text/plain": [
       "<Figure size 432x288 with 1 Axes>"
      ]
     },
     "metadata": {},
     "output_type": "display_data"
    }
   ],
   "source": [
    "TF['hours_played_if_play'].hist()\n",
    "plt.xlabel('hours played')\n",
    "plt.ylabel('Frequency')\n",
    "plt.title('Team Fortress 2 hours played')"
   ]
  },
  {
   "cell_type": "markdown",
   "metadata": {},
   "source": [
    "### 2.3. Boxplots of Game Play for Just the Two Most Purchased Games\n",
    "\n",
    "Next, rather than using histograms, we would like to compare the amount time spent playing the two most commonly purchased games using box plots instead. In a *single plot* below, you should plot two boxplots: one boxplot should show the amount of hours spent playing the first game, the second boxplot should show the amount of hours spent playing the second game.\n",
    "\n",
    "Make sure you give this plot an appropriate **title**."
   ]
  },
  {
   "cell_type": "code",
   "execution_count": 150,
   "metadata": {},
   "outputs": [
    {
     "data": {
      "text/html": [
       "<div>\n",
       "<style scoped>\n",
       "    .dataframe tbody tr th:only-of-type {\n",
       "        vertical-align: middle;\n",
       "    }\n",
       "\n",
       "    .dataframe tbody tr th {\n",
       "        vertical-align: top;\n",
       "    }\n",
       "\n",
       "    .dataframe thead th {\n",
       "        text-align: right;\n",
       "    }\n",
       "</style>\n",
       "<table border=\"1\" class=\"dataframe\">\n",
       "  <thead>\n",
       "    <tr style=\"text-align: right;\">\n",
       "      <th></th>\n",
       "      <th>user_id</th>\n",
       "      <th>game_name</th>\n",
       "      <th>activity</th>\n",
       "      <th>hours_played_if_play</th>\n",
       "    </tr>\n",
       "  </thead>\n",
       "  <tbody>\n",
       "    <tr>\n",
       "      <th>4</th>\n",
       "      <td>144004384</td>\n",
       "      <td>Dota 2</td>\n",
       "      <td>play</td>\n",
       "      <td>22.0</td>\n",
       "    </tr>\n",
       "    <tr>\n",
       "      <th>14</th>\n",
       "      <td>54103616</td>\n",
       "      <td>Team Fortress 2</td>\n",
       "      <td>play</td>\n",
       "      <td>72.0</td>\n",
       "    </tr>\n",
       "    <tr>\n",
       "      <th>36</th>\n",
       "      <td>54103616</td>\n",
       "      <td>Dota 2</td>\n",
       "      <td>play</td>\n",
       "      <td>3.1</td>\n",
       "    </tr>\n",
       "    <tr>\n",
       "      <th>68</th>\n",
       "      <td>239397807</td>\n",
       "      <td>Dota 2</td>\n",
       "      <td>play</td>\n",
       "      <td>0.4</td>\n",
       "    </tr>\n",
       "    <tr>\n",
       "      <th>80</th>\n",
       "      <td>173857208</td>\n",
       "      <td>Dota 2</td>\n",
       "      <td>play</td>\n",
       "      <td>0.6</td>\n",
       "    </tr>\n",
       "  </tbody>\n",
       "</table>\n",
       "</div>"
      ],
      "text/plain": [
       "      user_id        game_name activity  hours_played_if_play\n",
       "4   144004384           Dota 2     play                  22.0\n",
       "14   54103616  Team Fortress 2     play                  72.0\n",
       "36   54103616           Dota 2     play                   3.1\n",
       "68  239397807           Dota 2     play                   0.4\n",
       "80  173857208           Dota 2     play                   0.6"
      ]
     },
     "execution_count": 150,
     "metadata": {},
     "output_type": "execute_result"
    }
   ],
   "source": [
    "box = pla[(pla['game_name'] == 'Dota 2') | (pla['game_name'] == 'Team Fortress 2')]\n",
    "box.head()"
   ]
  },
  {
   "cell_type": "code",
   "execution_count": 151,
   "metadata": {},
   "outputs": [
    {
     "data": {
      "text/plain": [
       "Text(0.5, 1.0, 'hours played of each game')"
      ]
     },
     "execution_count": 151,
     "metadata": {},
     "output_type": "execute_result"
    },
    {
     "data": {
      "image/png": "[encoded data removed]",
      "text/plain": [
       "<Figure size 432x288 with 1 Axes>"
      ]
     },
     "metadata": {},
     "output_type": "display_data"
    }
   ],
   "source": [
    "sns.boxplot(x = 'game_name', y = 'hours_played_if_play', data = box)\n",
    "plt.xlabel('Game')\n",
    "plt.ylabel('Hours played')\n",
    "plt.title('hours played of each game')"
   ]
  },
  {
   "cell_type": "markdown",
   "metadata": {},
   "source": [
    "### 2.4. Measures of Center of Hours Spent Playing the Two Most Purchased Games\n",
    "\n",
    "Next, we would like to calculate and compare the **measures of center** for the amount of hours spent playing the two most commonly purchased games.\n",
    "\n",
    "#### 2.4.1. Most Appropriate Measures of Center\n",
    "\n",
    "Would the mean or the median be the most appropriate measure of center to describe the distribution of the amount of hours played by these two games? Explain.\n",
    "\n"
   ]
  },
  {
   "cell_type": "markdown",
   "metadata": {},
   "source": [
    "Median is better for measure of center because the graph is not symmetric and the data of each country has outliers. The distribution is skewed."
   ]
  },
  {
   "cell_type": "markdown",
   "metadata": {},
   "source": [
    "#### 2.4.2. Calculating the Measures of Center\n",
    "\n",
    "For each of these two games, calculate this measure of center for the amount of hours spent playing this game."
   ]
  },
  {
   "cell_type": "code",
   "execution_count": 152,
   "metadata": {},
   "outputs": [
    {
     "name": "stdout",
     "output_type": "stream",
     "text": [
      "Game: \n",
      "\n",
      "Dota 2\n",
      "\n",
      "Median: \n",
      "\n",
      "4.85\n"
     ]
    }
   ],
   "source": [
    "game = \"Dota 2\"\n",
    "print(\"Game: \\n\")\n",
    "print(game)\n",
    "print('\\nMedian: \\n')\n",
    "print(box[box.game_name == game].hours_played_if_play.median())"
   ]
  },
  {
   "cell_type": "code",
   "execution_count": 153,
   "metadata": {},
   "outputs": [
    {
     "name": "stdout",
     "output_type": "stream",
     "text": [
      "Game: \n",
      "\n",
      "Team Fortress 2\n",
      "\n",
      "Median: \n",
      "\n",
      "3.7\n"
     ]
    }
   ],
   "source": [
    "game = \"Team Fortress 2\"\n",
    "print(\"Game: \\n\")\n",
    "print(game)\n",
    "print('\\nMedian: \\n')\n",
    "print(box[box.game_name == game].hours_played_if_play.median())"
   ]
  },
  {
   "cell_type": "markdown",
   "metadata": {},
   "source": [
    "### 2.5. Measures of Spread of Hours Spent Playing the Two Most Purchased Games\n",
    "\n",
    "Next, we would like to calculate and compare the **measures of spread** for the amount of hours spent playing the two most commonly purchased games.\n",
    "\n",
    "#### 2.5.1. Most Appropriate Measures of Spread\n",
    "\n",
    "Would the standard deviation or the IQR be the most appropriate measure of spread to describe the distribution of the amount of hours played by these two games? Explain.\n",
    "\n"
   ]
  },
  {
   "cell_type": "markdown",
   "metadata": {},
   "source": [
    "IQR is better to represent the measure of spread, because the distribution is skewed and has outliers. "
   ]
  },
  {
   "cell_type": "markdown",
   "metadata": {},
   "source": [
    "#### 2.5.2. Calculating the Measures of Spread\n",
    "\n",
    "For each of these two games, calculate this measure of center for the amount of hours spent playing this game."
   ]
  },
  {
   "cell_type": "code",
   "execution_count": 154,
   "metadata": {},
   "outputs": [
    {
     "name": "stdout",
     "output_type": "stream",
     "text": [
      "Game: \n",
      "\n",
      "Dota 2\n",
      "\n",
      "IQR: \n",
      "\n",
      "68.05\n"
     ]
    }
   ],
   "source": [
    "game = \"Dota 2\"\n",
    "print(\"Game: \\n\")\n",
    "print(game)\n",
    "print('\\nIQR: \\n')\n",
    "print(scipy.stats.iqr(box[box.game_name == game].hours_played_if_play))"
   ]
  },
  {
   "cell_type": "code",
   "execution_count": 155,
   "metadata": {},
   "outputs": [
    {
     "name": "stdout",
     "output_type": "stream",
     "text": [
      "Game: \n",
      "\n",
      "Team Fortress 2\n",
      "\n",
      "IQR: \n",
      "\n",
      "13.6\n"
     ]
    }
   ],
   "source": [
    "game = \"Team Fortress 2\"\n",
    "print(\"Game: \\n\")\n",
    "print(game)\n",
    "print('\\nIQR: \\n')\n",
    "print(scipy.stats.iqr(box[box.game_name == game].hours_played_if_play))"
   ]
  },
  {
   "cell_type": "markdown",
   "metadata": {},
   "source": [
    "### 2.6. Comparing Time Spent Playing by the Most Active Players\n",
    "\n",
    "For each of these top two most purchased games, who were the top 5 users that played each game the most and how many hours did they play this game?"
   ]
  },
  {
   "cell_type": "code",
   "execution_count": 156,
   "metadata": {},
   "outputs": [
    {
     "data": {
      "text/html": [
       "<div>\n",
       "<style scoped>\n",
       "    .dataframe tbody tr th:only-of-type {\n",
       "        vertical-align: middle;\n",
       "    }\n",
       "\n",
       "    .dataframe tbody tr th {\n",
       "        vertical-align: top;\n",
       "    }\n",
       "\n",
       "    .dataframe thead th {\n",
       "        text-align: right;\n",
       "    }\n",
       "</style>\n",
       "<table border=\"1\" class=\"dataframe\">\n",
       "  <thead>\n",
       "    <tr style=\"text-align: right;\">\n",
       "      <th></th>\n",
       "      <th>index</th>\n",
       "      <th>user_id</th>\n",
       "      <th>game_name</th>\n",
       "      <th>activity</th>\n",
       "      <th>hours_played_if_play</th>\n",
       "    </tr>\n",
       "  </thead>\n",
       "  <tbody>\n",
       "    <tr>\n",
       "      <th>0</th>\n",
       "      <td>721</td>\n",
       "      <td>99077905</td>\n",
       "      <td>Dota 2</td>\n",
       "      <td>play</td>\n",
       "      <td>3309.0</td>\n",
       "    </tr>\n",
       "    <tr>\n",
       "      <th>1</th>\n",
       "      <td>1322</td>\n",
       "      <td>131217195</td>\n",
       "      <td>Dota 2</td>\n",
       "      <td>play</td>\n",
       "      <td>2179.0</td>\n",
       "    </tr>\n",
       "    <tr>\n",
       "      <th>2</th>\n",
       "      <td>3571</td>\n",
       "      <td>93290614</td>\n",
       "      <td>Dota 2</td>\n",
       "      <td>play</td>\n",
       "      <td>1760.0</td>\n",
       "    </tr>\n",
       "    <tr>\n",
       "      <th>3</th>\n",
       "      <td>156</td>\n",
       "      <td>87071236</td>\n",
       "      <td>Dota 2</td>\n",
       "      <td>play</td>\n",
       "      <td>1714.0</td>\n",
       "    </tr>\n",
       "    <tr>\n",
       "      <th>4</th>\n",
       "      <td>7707</td>\n",
       "      <td>99096740</td>\n",
       "      <td>Dota 2</td>\n",
       "      <td>play</td>\n",
       "      <td>1704.0</td>\n",
       "    </tr>\n",
       "  </tbody>\n",
       "</table>\n",
       "</div>"
      ],
      "text/plain": [
       "   index    user_id game_name activity  hours_played_if_play\n",
       "0    721   99077905    Dota 2     play                3309.0\n",
       "1   1322  131217195    Dota 2     play                2179.0\n",
       "2   3571   93290614    Dota 2     play                1760.0\n",
       "3    156   87071236    Dota 2     play                1714.0\n",
       "4   7707   99096740    Dota 2     play                1704.0"
      ]
     },
     "execution_count": 156,
     "metadata": {},
     "output_type": "execute_result"
    }
   ],
   "source": [
    "\n",
    "sorted_dota = dota.sort_values(by = \"hours_played_if_play\",ascending = False).reset_index()\n",
    "sorted_dota.head(5)"
   ]
  },
  {
   "cell_type": "code",
   "execution_count": 157,
   "metadata": {},
   "outputs": [
    {
     "data": {
      "text/html": [
       "<div>\n",
       "<style scoped>\n",
       "    .dataframe tbody tr th:only-of-type {\n",
       "        vertical-align: middle;\n",
       "    }\n",
       "\n",
       "    .dataframe tbody tr th {\n",
       "        vertical-align: top;\n",
       "    }\n",
       "\n",
       "    .dataframe thead th {\n",
       "        text-align: right;\n",
       "    }\n",
       "</style>\n",
       "<table border=\"1\" class=\"dataframe\">\n",
       "  <thead>\n",
       "    <tr style=\"text-align: right;\">\n",
       "      <th></th>\n",
       "      <th>index</th>\n",
       "      <th>user_id</th>\n",
       "      <th>game_name</th>\n",
       "      <th>activity</th>\n",
       "      <th>hours_played_if_play</th>\n",
       "    </tr>\n",
       "  </thead>\n",
       "  <tbody>\n",
       "    <tr>\n",
       "      <th>0</th>\n",
       "      <td>1449</td>\n",
       "      <td>164948794</td>\n",
       "      <td>Team Fortress 2</td>\n",
       "      <td>play</td>\n",
       "      <td>546.0</td>\n",
       "    </tr>\n",
       "    <tr>\n",
       "      <th>1</th>\n",
       "      <td>514</td>\n",
       "      <td>55906627</td>\n",
       "      <td>Team Fortress 2</td>\n",
       "      <td>play</td>\n",
       "      <td>494.0</td>\n",
       "    </tr>\n",
       "    <tr>\n",
       "      <th>2</th>\n",
       "      <td>127</td>\n",
       "      <td>176033341</td>\n",
       "      <td>Team Fortress 2</td>\n",
       "      <td>play</td>\n",
       "      <td>429.0</td>\n",
       "    </tr>\n",
       "    <tr>\n",
       "      <th>3</th>\n",
       "      <td>5140</td>\n",
       "      <td>19696244</td>\n",
       "      <td>Team Fortress 2</td>\n",
       "      <td>play</td>\n",
       "      <td>241.0</td>\n",
       "    </tr>\n",
       "    <tr>\n",
       "      <th>4</th>\n",
       "      <td>7093</td>\n",
       "      <td>75598925</td>\n",
       "      <td>Team Fortress 2</td>\n",
       "      <td>play</td>\n",
       "      <td>202.0</td>\n",
       "    </tr>\n",
       "  </tbody>\n",
       "</table>\n",
       "</div>"
      ],
      "text/plain": [
       "   index    user_id        game_name activity  hours_played_if_play\n",
       "0   1449  164948794  Team Fortress 2     play                 546.0\n",
       "1    514   55906627  Team Fortress 2     play                 494.0\n",
       "2    127  176033341  Team Fortress 2     play                 429.0\n",
       "3   5140   19696244  Team Fortress 2     play                 241.0\n",
       "4   7093   75598925  Team Fortress 2     play                 202.0"
      ]
     },
     "execution_count": 157,
     "metadata": {},
     "output_type": "execute_result"
    }
   ],
   "source": [
    "sorted_TF = TF.sort_values(by = 'hours_played_if_play', ascending = False).reset_index()\n",
    "sorted_TF.head(5)"
   ]
  },
  {
   "cell_type": "markdown",
   "metadata": {},
   "source": [
    "### 2.7. Percent of Purchasing Users that Actually Play the Game\n",
    "\n",
    "For each of the top two most purchased games, what percent of players that bought the game, actually *played* the game (for at least some amount of time)?"
   ]
  },
  {
   "cell_type": "code",
   "execution_count": 158,
   "metadata": {},
   "outputs": [
    {
     "data": {
      "text/plain": [
       "1.0"
      ]
     },
     "execution_count": 158,
     "metadata": {},
     "output_type": "execute_result"
    }
   ],
   "source": [
    "dota_pur = pur[pur['game_name'] == 'Dota 2']\n",
    "len(dota)/len(dota_pur)"
   ]
  },
  {
   "cell_type": "code",
   "execution_count": 159,
   "metadata": {},
   "outputs": [
    {
     "data": {
      "text/plain": [
       "1.0"
      ]
     },
     "execution_count": 159,
     "metadata": {},
     "output_type": "execute_result"
    }
   ],
   "source": [
    "TF_pur = pur[pur['game_name'] == 'Team Fortress 2']\n",
    "len(TF) / len(TF_pur)"
   ]
  },
  {
   "cell_type": "code",
   "execution_count": null,
   "metadata": {},
   "outputs": [],
   "source": []
  },
  {
   "cell_type": "code",
   "execution_count": null,
   "metadata": {},
   "outputs": [],
   "source": []
  },
  {
   "cell_type": "code",
   "execution_count": null,
   "metadata": {},
   "outputs": [],
   "source": []
  },
  {
   "cell_type": "markdown",
   "metadata": {},
   "source": [
    "## 3. User Commitment to Playing Games that They Purchased\n",
    "\n",
    "Do *all* Steam users play *all* of the games that they purchase? Or do they buy some games, but never actually play them? Let's profile the playing habits of *two* randomly selected Steam users that have purchased the most commmonly purchased game.\n",
    "\n",
    "### 3.1. Collect a Random Sample\n",
    "\n",
    "Collect a random sample of two steam users (without replacement) from the dataframe of Steam users that have purchased the most commonly purchased game.\n",
    "\n",
    "**Use a random state of 100 when you do this!**"
   ]
  },
  {
   "cell_type": "code",
   "execution_count": 160,
   "metadata": {},
   "outputs": [
    {
     "data": {
      "text/html": [
       "<div>\n",
       "<style scoped>\n",
       "    .dataframe tbody tr th:only-of-type {\n",
       "        vertical-align: middle;\n",
       "    }\n",
       "\n",
       "    .dataframe tbody tr th {\n",
       "        vertical-align: top;\n",
       "    }\n",
       "\n",
       "    .dataframe thead th {\n",
       "        text-align: right;\n",
       "    }\n",
       "</style>\n",
       "<table border=\"1\" class=\"dataframe\">\n",
       "  <thead>\n",
       "    <tr style=\"text-align: right;\">\n",
       "      <th></th>\n",
       "      <th>user_id</th>\n",
       "      <th>game_name</th>\n",
       "      <th>activity</th>\n",
       "      <th>hours_played_if_play</th>\n",
       "    </tr>\n",
       "  </thead>\n",
       "  <tbody>\n",
       "    <tr>\n",
       "      <th>3225</th>\n",
       "      <td>195072781</td>\n",
       "      <td>Dota 2</td>\n",
       "      <td>play</td>\n",
       "      <td>2.1</td>\n",
       "    </tr>\n",
       "    <tr>\n",
       "      <th>3192</th>\n",
       "      <td>157692363</td>\n",
       "      <td>Dota 2</td>\n",
       "      <td>play</td>\n",
       "      <td>617.0</td>\n",
       "    </tr>\n",
       "  </tbody>\n",
       "</table>\n",
       "</div>"
      ],
      "text/plain": [
       "        user_id game_name activity  hours_played_if_play\n",
       "3225  195072781    Dota 2     play                   2.1\n",
       "3192  157692363    Dota 2     play                 617.0"
      ]
     },
     "execution_count": 160,
     "metadata": {},
     "output_type": "execute_result"
    }
   ],
   "source": [
    "dota_samp = dota.sample(n = 2, random_state = 100)\n",
    "dota_samp"
   ]
  },
  {
   "cell_type": "markdown",
   "metadata": {},
   "source": [
    "### 3.2. What Percent of Games that they Purchase Do They Actually Play\n",
    "\n",
    "For each of the two users in the sample that you collected, what percent of games that they purchased, did they actually play?"
   ]
  },
  {
   "cell_type": "code",
   "execution_count": 161,
   "metadata": {},
   "outputs": [
    {
     "data": {
      "text/plain": [
       "0.6428571428571429"
      ]
     },
     "execution_count": 161,
     "metadata": {},
     "output_type": "execute_result"
    }
   ],
   "source": [
    "samp_pur1 = pur[pur['user_id'] == 195072781]\n",
    "samp_pla1 = pla[pla['user_id'] == 195072781]\n",
    "\n",
    "len(samp_pla1) / len(samp_pur1)"
   ]
  },
  {
   "cell_type": "code",
   "execution_count": 162,
   "metadata": {},
   "outputs": [
    {
     "data": {
      "text/plain": [
       "0.4"
      ]
     },
     "execution_count": 162,
     "metadata": {},
     "output_type": "execute_result"
    }
   ],
   "source": [
    "samp_pur2 = pur[pur['user_id'] == 157692363]\n",
    "samp_pla2 = pla[pla['user_id'] == 157692363]\n",
    "\n",
    "len(samp_pla2) / len(samp_pur2)"
   ]
  },
  {
   "cell_type": "code",
   "execution_count": null,
   "metadata": {},
   "outputs": [],
   "source": []
  }
 ],
 "metadata": {
  "kernelspec": {
   "display_name": "Python 3",
   "language": "python",
   "name": "python3"
  },
  "language_info": {
   "codemirror_mode": {
    "name": "ipython",
    "version": 3
   },
   "file_extension": ".py",
   "mimetype": "text/x-python",
   "name": "python",
   "nbconvert_exporter": "python",
   "pygments_lexer": "ipython3",
   "version": "3.7.6"
  }
 },
 "nbformat": 4,
 "nbformat_minor": 2
}
