{
 "cells": [
  {
   "cell_type": "markdown",
   "metadata": {},
   "source": [
    "# STAT 207 Lab Assignment 1 - Individual Part - [25 total points]\n",
    "\n",
    "## Python with Jupyter Notebooks "
   ]
  },
  {
   "cell_type": "markdown",
   "metadata": {},
   "source": [
    "Due: Wednesday, January 26, 11:59pm CST\n",
    "<hr>"
   ]
  },
  {
   "cell_type": "markdown",
   "metadata": {},
   "source": [
    "## Purpose:\n",
    "The purpose of this individual lab assignment is to verify that you have successfully installed and set up all of the necessary data science applications that we will be using in this class. We will also practice some basic dataframe summarization functions as well as visualize of a single **categorical** variable.\n",
    "\n",
    "## Case Study: Learning More about Billionaires\n",
    "\n",
    "In this case study we will explore the list of all the world's billionaires from 2021 https://www.forbes.com/real-time-billionaires/#49c85f6e3d78. We will use this dataset to answer the following research questions.\n",
    "\n",
    "### Research Questions\n",
    "\n",
    "1. What countries are these 2021 billionaires most likely to live in?\n",
    "2. What types of industries are these 2021 billionaires most likely to make their income from?\n",
    "\n",
    "\n",
    "\n",
    "<hr>"
   ]
  },
  {
   "cell_type": "markdown",
   "metadata": {},
   "source": [
    "## <u>Instructions</u>:\n",
    "\n",
    "### Part 1. [8 pts for successfully submitting this notebook to Github]\n",
    "\n",
    "Make sure you have the following packages installed for Python on your computer: pandas, matplotlib.pyplot, seaborn.\n",
    "To install them, launch a **command line window** and issue commands of the form:\n",
    "\n",
    "    conda install *package_name_here*\n",
    "    \n",
    "To check if they are installed issue the command:\n",
    "\n",
    "    conda list\n",
    "    \n",
    "and look through the list to make sure the packages you need are there. When done, return to this notebook."
   ]
  },
  {
   "cell_type": "markdown",
   "metadata": {},
   "source": [
    "### Part 2. Imports [5 points for getting the code below to run]\n",
    "\n",
    "After ensuring that the packages listed above are installed on your computer import them here in the notebook by running the following commands. You should be able to do this by clicking anywhere inside the cell to select it and then hitting the 'Run' button in the menu at the top of this page."
   ]
  },
  {
   "cell_type": "code",
   "execution_count": 30,
   "metadata": {},
   "outputs": [],
   "source": [
    "import pandas as pd                    # imports pandas and calls the imported version 'pd'\n",
    "import matplotlib.pyplot as plt        # imports the package and calls it 'plt'\n",
    "import seaborn as sns                  # imports the seaborn package with the imported name 'sns'\n",
    "sns.set()                              # sets the default plotting style"
   ]
  },
  {
   "cell_type": "markdown",
   "metadata": {},
   "source": [
    "### Part 3. Basic Display of the Dataset\n",
    "\n",
    "**a)** [3 points] You should have a file \"Billionaire.csv\" in the same folder as this notebook. Read the file into a pandas data frame. You may call it \"df\" or whatever you like. As illustrated in the class notes, use the .head() function to display the first several lines of the data frame. "
   ]
  },
  {
   "cell_type": "code",
   "execution_count": 31,
   "metadata": {},
   "outputs": [
    {
     "data": {
      "text/html": [
       "<div>\n",
       "<style scoped>\n",
       "    .dataframe tbody tr th:only-of-type {\n",
       "        vertical-align: middle;\n",
       "    }\n",
       "\n",
       "    .dataframe tbody tr th {\n",
       "        vertical-align: top;\n",
       "    }\n",
       "\n",
       "    .dataframe thead th {\n",
       "        text-align: right;\n",
       "    }\n",
       "</style>\n",
       "<table border=\"1\" class=\"dataframe\">\n",
       "  <thead>\n",
       "    <tr style=\"text-align: right;\">\n",
       "      <th></th>\n",
       "      <th>Name</th>\n",
       "      <th>NetWorth</th>\n",
       "      <th>Country</th>\n",
       "      <th>Source</th>\n",
       "      <th>Rank</th>\n",
       "      <th>Age</th>\n",
       "      <th>Industry</th>\n",
       "    </tr>\n",
       "  </thead>\n",
       "  <tbody>\n",
       "    <tr>\n",
       "      <th>0</th>\n",
       "      <td>Jeff Bezos</td>\n",
       "      <td>$177 B</td>\n",
       "      <td>United States</td>\n",
       "      <td>Amazon</td>\n",
       "      <td>1</td>\n",
       "      <td>57.0</td>\n",
       "      <td>Technology</td>\n",
       "    </tr>\n",
       "    <tr>\n",
       "      <th>1</th>\n",
       "      <td>Elon Musk</td>\n",
       "      <td>$151 B</td>\n",
       "      <td>United States</td>\n",
       "      <td>Tesla, SpaceX</td>\n",
       "      <td>2</td>\n",
       "      <td>49.0</td>\n",
       "      <td>Automotive</td>\n",
       "    </tr>\n",
       "    <tr>\n",
       "      <th>2</th>\n",
       "      <td>Bernard Arnault &amp; family</td>\n",
       "      <td>$150 B</td>\n",
       "      <td>France</td>\n",
       "      <td>LVMH</td>\n",
       "      <td>3</td>\n",
       "      <td>72.0</td>\n",
       "      <td>Fashion &amp; Retail</td>\n",
       "    </tr>\n",
       "    <tr>\n",
       "      <th>3</th>\n",
       "      <td>Bill Gates</td>\n",
       "      <td>$124 B</td>\n",
       "      <td>United States</td>\n",
       "      <td>Microsoft</td>\n",
       "      <td>4</td>\n",
       "      <td>65.0</td>\n",
       "      <td>Technology</td>\n",
       "    </tr>\n",
       "    <tr>\n",
       "      <th>4</th>\n",
       "      <td>Mark Zuckerberg</td>\n",
       "      <td>$97 B</td>\n",
       "      <td>United States</td>\n",
       "      <td>Facebook</td>\n",
       "      <td>5</td>\n",
       "      <td>36.0</td>\n",
       "      <td>Technology</td>\n",
       "    </tr>\n",
       "  </tbody>\n",
       "</table>\n",
       "</div>"
      ],
      "text/plain": [
       "                       Name NetWorth        Country         Source  Rank  \\\n",
       "0                Jeff Bezos   $177 B  United States         Amazon     1   \n",
       "1                 Elon Musk   $151 B  United States  Tesla, SpaceX     2   \n",
       "2  Bernard Arnault & family   $150 B         France           LVMH     3   \n",
       "3                Bill Gates   $124 B  United States      Microsoft     4   \n",
       "4           Mark Zuckerberg    $97 B  United States       Facebook     5   \n",
       "\n",
       "    Age          Industry  \n",
       "0  57.0        Technology  \n",
       "1  49.0        Automotive  \n",
       "2  72.0  Fashion & Retail  \n",
       "3  65.0        Technology  \n",
       "4  36.0        Technology  "
      ]
     },
     "execution_count": 31,
     "metadata": {},
     "output_type": "execute_result"
    }
   ],
   "source": [
    "df = pd.read_csv(\"Billionaire.csv\")\n",
    "df.head()"
   ]
  },
  {
   "cell_type": "markdown",
   "metadata": {},
   "source": [
    "**b)** [1 point] Use **.shape** to determine how many observations (rows) there are."
   ]
  },
  {
   "cell_type": "code",
   "execution_count": 32,
   "metadata": {},
   "outputs": [
    {
     "data": {
      "text/plain": [
       "(2755, 7)"
      ]
     },
     "execution_count": 32,
     "metadata": {},
     "output_type": "execute_result"
    }
   ],
   "source": [
    "df.shape"
   ]
  },
  {
   "cell_type": "markdown",
   "metadata": {},
   "source": [
    "### Part 4. Residence of Billionaires\n",
    "\n",
    "The data contains several variables describing each of the billionaires in the dataframe. The third column, 'Country' lists where the billionaire lived in 2021.\n",
    "\n",
    "**a)** [3 points] Using python commands in the cell below, determine how many billionaires there are from each country in this dataset."
   ]
  },
  {
   "cell_type": "code",
   "execution_count": 33,
   "metadata": {},
   "outputs": [
    {
     "data": {
      "text/plain": [
       "United States           724\n",
       "China                   626\n",
       "India                   140\n",
       "Germany                 136\n",
       "Russia                  118\n",
       "                       ... \n",
       "Guernsey                  1\n",
       "Eswatini (Swaziland)      1\n",
       "Oman                      1\n",
       "Macao                     1\n",
       "Zimbabwe                  1\n",
       "Name: Country, Length: 70, dtype: int64"
      ]
     },
     "execution_count": 33,
     "metadata": {},
     "output_type": "execute_result"
    }
   ],
   "source": [
    "df[\"Country\"].value_counts()"
   ]
  },
  {
   "cell_type": "markdown",
   "metadata": {},
   "source": [
    "### Part 5. Industry Source of Income for Billionaires\n",
    "\n",
    "The seventh column, 'Industry', lists the industry that the billionaire derives their income from.\n",
    "\n",
    "**a)** [1 points] Using python commands in the cell below, determine how many billionaires there are that get their income from each type of industry."
   ]
  },
  {
   "cell_type": "code",
   "execution_count": 34,
   "metadata": {},
   "outputs": [
    {
     "data": {
      "text/plain": [
       "Finance & Investments         371\n",
       "Technology                    365\n",
       "Manufacturing                 331\n",
       "Fashion & Retail              273\n",
       "Healthcare                    221\n",
       "Food & Beverage               219\n",
       "Real Estate                   215\n",
       "Diversified                   188\n",
       "Energy                        100\n",
       "Media & Entertainment          95\n",
       "Service                        75\n",
       "Metals & Mining                74\n",
       "Automotive                     68\n",
       "Construction & Engineering     44\n",
       "Logistics                      35\n",
       "Telecom                        32\n",
       "Gambling & Casinos             25\n",
       "Sports                         24\n",
       "Name: Industry, dtype: int64"
      ]
     },
     "execution_count": 34,
     "metadata": {},
     "output_type": "execute_result"
    }
   ],
   "source": [
    "df[\"Industry\"].value_counts()"
   ]
  },
  {
   "cell_type": "markdown",
   "metadata": {},
   "source": [
    "**b)** [3 points] Using python commands in the cell below, make a barplot that shows the counts how many billionaires there are that get their income from each type of industry.\n",
    "\n",
    "Be sure to include:\n",
    "* a title\n",
    "* an appropriate label for your x-axis\n",
    "* an appropriate label for your y-axis."
   ]
  },
  {
   "cell_type": "code",
   "execution_count": 35,
   "metadata": {},
   "outputs": [
    {
     "data": {
      "image/png": "[encoded data removed]",
      "text/plain": [
       "<Figure size 432x288 with 1 Axes>"
      ]
     },
     "metadata": {},
     "output_type": "display_data"
    }
   ],
   "source": [
    "df1 = df.groupby(\"Industry\").agg('count').reset_index()\n",
    "\n",
    "plt.bar(df1.Industry,df1.Name)\n",
    "plt.xlabel(\"type of Industry\")\n",
    "plt.ylabel(\"Number\")\n",
    "plt.title(\"Industry income types\")\n",
    "plt.show()"
   ]
  },
  {
   "cell_type": "markdown",
   "metadata": {},
   "source": [
    "**c)** [1 points] Most likely you were unable to to see the labels on the x-axis in your plot above. Run the same code that you have in 4b below, but add the following line of code just above the **plt.show()** line.\n",
    "\n",
    "```plt.xticks(rotation = 90)```\n",
    "\n",
    "This will rotate your x-axis labels by 90 degrees.\n"
   ]
  },
  {
   "cell_type": "code",
   "execution_count": 36,
   "metadata": {},
   "outputs": [
    {
     "data": {
      "image/png": "[encoded data removed]",
      "text/plain": [
       "<Figure size 432x288 with 1 Axes>"
      ]
     },
     "metadata": {},
     "output_type": "display_data"
    }
   ],
   "source": [
    "df1 = df.groupby(\"Industry\").agg('count').reset_index()\n",
    "\n",
    "plt.bar(df1.Industry,df1.Name)\n",
    "plt.xlabel(\"type of Industry\")\n",
    "plt.ylabel(\"Number\")\n",
    "plt.title(\"Industry income types\")\n",
    "plt.xticks(rotation = 90)\n",
    "plt.show()"
   ]
  },
  {
   "cell_type": "markdown",
   "metadata": {},
   "source": [
    "Remember to keep all your cells and hit the save icon above periodically to checkpoint (save) your results on your local computer. Once you are satisified with your results restart the kernel and run all. **Make sure nothing has changed**. Checkpoint and exit. Follow the git submit instructions to submit your notebook."
   ]
  },
  {
   "cell_type": "code",
   "execution_count": null,
   "metadata": {},
   "outputs": [],
   "source": []
  }
 ],
 "metadata": {
  "kernelspec": {
   "display_name": "Python 3",
   "language": "python",
   "name": "python3"
  },
  "language_info": {
   "codemirror_mode": {
    "name": "ipython",
    "version": 3
   },
   "file_extension": ".py",
   "mimetype": "text/x-python",
   "name": "python",
   "nbconvert_exporter": "python",
   "pygments_lexer": "ipython3",
   "version": "3.7.6"
  }
 },
 "nbformat": 4,
 "nbformat_minor": 2
}
