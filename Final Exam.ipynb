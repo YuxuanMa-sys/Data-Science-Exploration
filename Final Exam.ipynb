{
 "cells": [
  {
   "cell_type": "markdown",
   "metadata": {},
   "source": [
    "# STAT107 Project 2 \n",
    "\n",
    "## Regional Video Games Sales\n",
    "\n",
    "\n",
    "\n",
    "\n",
    "\n",
    "### Information\n",
    "\n",
    "Specifically, the data in the **sample_game_sales.csv** file contains the following attributes.\n",
    "\n",
    "* **Name** - The game's name\n",
    "\n",
    "* **Platform** - Platform of the game's release (i.e. PC,PS4, etc.)\n",
    "\n",
    "* **Year** - Year of the game's release\n",
    "\n",
    "* **Genre** - Genre of the game\n",
    "\n",
    "* **NA_Sales** - Sales in North America (in millions)\n",
    "\n",
    "* **EU_Sales** - Sales in Europe (in millions)\n",
    "\n",
    "* **JP_Sales** - Sales in Japan (in millions)\n",
    "\n",
    "* **Other_Sales** - Sales in the rest of the world (in millions)\n",
    "\n",
    "\n",
    "\n",
    "\n",
    "       \n",
    "      \n"
   ]
  },
  {
   "cell_type": "markdown",
   "metadata": {},
   "source": [
    "## Section 1: DataSet\n",
    "\n",
    "I choose this dataset because I am interested in video games and curios about sales of different games in different countries. \n",
    "In this analysis, we would like to discuss the relationship between video games sales in different regions around the globe (North America, Europe, Japan, and Other) as well as their relationship to the genre of the game,  the platform of the game's release, and the year that the game was released.\n",
    "\n",
    "The data in the **sample_game_sales.csv** file contains a **random sample** of game attributes that were originally scraped online. Each game that was scraped had at least 100,000 games sold globally."
   ]
  },
  {
   "cell_type": "markdown",
   "metadata": {},
   "source": [
    "### Imports"
   ]
  },
  {
   "cell_type": "code",
   "execution_count": 1,
   "metadata": {},
   "outputs": [],
   "source": [
    "import pandas as pd\n",
    "import seaborn as sns\n",
    "import statsmodels.formula.api as smf \n",
    "import numpy as np \n",
    "import matplotlib.pyplot as plt \n",
    "import statsmodels.regression.linear_model as lm \n",
    "import statsmodels.api as sm\n",
    "import statsmodels.formula.api as smf"
   ]
  },
  {
   "cell_type": "markdown",
   "metadata": {},
   "source": [
    "## 1. Data Preprocessing and Cleaning\n",
    "\n"
   ]
  },
  {
   "cell_type": "code",
   "execution_count": 2,
   "metadata": {},
   "outputs": [
    {
     "data": {
      "text/html": [
       "<div>\n",
       "<style scoped>\n",
       "    .dataframe tbody tr th:only-of-type {\n",
       "        vertical-align: middle;\n",
       "    }\n",
       "\n",
       "    .dataframe tbody tr th {\n",
       "        vertical-align: top;\n",
       "    }\n",
       "\n",
       "    .dataframe thead th {\n",
       "        text-align: right;\n",
       "    }\n",
       "</style>\n",
       "<table border=\"1\" class=\"dataframe\">\n",
       "  <thead>\n",
       "    <tr style=\"text-align: right;\">\n",
       "      <th></th>\n",
       "      <th>Name</th>\n",
       "      <th>Platform</th>\n",
       "      <th>Year</th>\n",
       "      <th>Genre</th>\n",
       "      <th>NA_Sales</th>\n",
       "      <th>EU_Sales</th>\n",
       "      <th>JP_Sales</th>\n",
       "      <th>Other_Sales</th>\n",
       "    </tr>\n",
       "  </thead>\n",
       "  <tbody>\n",
       "    <tr>\n",
       "      <th>0</th>\n",
       "      <td>Need for Speed: Most Wanted</td>\n",
       "      <td>WiiU</td>\n",
       "      <td>2013</td>\n",
       "      <td>Racing</td>\n",
       "      <td>0.14</td>\n",
       "      <td>0.12</td>\n",
       "      <td>0.00</td>\n",
       "      <td>0.02</td>\n",
       "    </tr>\n",
       "    <tr>\n",
       "      <th>1</th>\n",
       "      <td>Taito Legends Power Up</td>\n",
       "      <td>PSP</td>\n",
       "      <td>2007</td>\n",
       "      <td>Action</td>\n",
       "      <td>0.05</td>\n",
       "      <td>0</td>\n",
       "      <td>0.00</td>\n",
       "      <td>0.00</td>\n",
       "    </tr>\n",
       "    <tr>\n",
       "      <th>2</th>\n",
       "      <td>Magic: The Gathering - Battlegrounds</td>\n",
       "      <td>XB</td>\n",
       "      <td>2003</td>\n",
       "      <td>Strategy</td>\n",
       "      <td>0.12</td>\n",
       "      <td>0.03</td>\n",
       "      <td>0.00</td>\n",
       "      <td>0.01</td>\n",
       "    </tr>\n",
       "    <tr>\n",
       "      <th>3</th>\n",
       "      <td>Shrek the Third</td>\n",
       "      <td>X360</td>\n",
       "      <td>2007</td>\n",
       "      <td>Action</td>\n",
       "      <td>0.54</td>\n",
       "      <td>0.1</td>\n",
       "      <td>0.00</td>\n",
       "      <td>0.06</td>\n",
       "    </tr>\n",
       "    <tr>\n",
       "      <th>4</th>\n",
       "      <td>Destiny Links</td>\n",
       "      <td>DS</td>\n",
       "      <td>2009</td>\n",
       "      <td>Role-Playing</td>\n",
       "      <td>0.00</td>\n",
       "      <td>0</td>\n",
       "      <td>0.01</td>\n",
       "      <td>0.00</td>\n",
       "    </tr>\n",
       "  </tbody>\n",
       "</table>\n",
       "</div>"
      ],
      "text/plain": [
       "                                   Name Platform  Year         Genre  \\\n",
       "0           Need for Speed: Most Wanted     WiiU  2013        Racing   \n",
       "1                Taito Legends Power Up      PSP  2007        Action   \n",
       "2  Magic: The Gathering - Battlegrounds       XB  2003      Strategy   \n",
       "3                       Shrek the Third     X360  2007        Action   \n",
       "4                         Destiny Links       DS  2009  Role-Playing   \n",
       "\n",
       "   NA_Sales EU_Sales  JP_Sales  Other_Sales  \n",
       "0      0.14     0.12      0.00         0.02  \n",
       "1      0.05        0      0.00         0.00  \n",
       "2      0.12     0.03      0.00         0.01  \n",
       "3      0.54      0.1      0.00         0.06  \n",
       "4      0.00        0      0.01         0.00  "
      ]
     },
     "execution_count": 2,
     "metadata": {},
     "output_type": "execute_result"
    }
   ],
   "source": [
    "df =pd.read_csv('sample_game_sales.csv')\n",
    "df.head()"
   ]
  },
  {
   "cell_type": "code",
   "execution_count": 3,
   "metadata": {},
   "outputs": [
    {
     "data": {
      "text/plain": [
       "(1000, 8)"
      ]
     },
     "execution_count": 3,
     "metadata": {},
     "output_type": "execute_result"
    }
   ],
   "source": [
    "df.shape"
   ]
  },
  {
   "cell_type": "code",
   "execution_count": 4,
   "metadata": {},
   "outputs": [
    {
     "data": {
      "text/plain": [
       "Name            object\n",
       "Platform        object\n",
       "Year            object\n",
       "Genre           object\n",
       "NA_Sales       float64\n",
       "EU_Sales        object\n",
       "JP_Sales       float64\n",
       "Other_Sales    float64\n",
       "dtype: object"
      ]
     },
     "execution_count": 4,
     "metadata": {},
     "output_type": "execute_result"
    }
   ],
   "source": [
    "df.dtypes"
   ]
  },
  {
   "cell_type": "code",
   "execution_count": 5,
   "metadata": {},
   "outputs": [
    {
     "name": "stdout",
     "output_type": "stream",
     "text": [
      "Unique values for the Platform column.\n",
      "['WiiU' 'PSP' 'XB' 'X360' 'DS' 'Wii' 'PS3' 'PS2' 'PSV' 'PS' 'SAT' 'GC'\n",
      " 'SNES' '3DS' 'DC' 'GBA' 'PC' 'PS4' 'XOne' 'N64' '2600' 'GB' 'NES' 'WS'\n",
      " 'GEN']\n",
      "\n",
      "Unique values for the Year column.\n",
      "['2013' '2007' '2003' '2009' '2006' '2002' '2010' '2011' '2008' '2012'\n",
      " 'unknown' '1997' '2005' '1994' '1996' '1995' '1999' '2001' '2000' '2004'\n",
      " '1992' '2015' '2016' '2014' '1981' '1998' '1991' '1990' '1993' '1987'\n",
      " '1980' '1989' '1985' '1986' '1984' '1982' '1988']\n",
      "\n",
      "Unique values for the Genre column.\n",
      "['Racing' 'Action' 'Strategy' 'Role-Playing' 'Adventure' 'Sports' 'Puzzle'\n",
      " 'Simulation' 'Platform' 'Shooter' 'Misc' 'Fighting']\n",
      "\n",
      "Unique values for the NA_Sales column.\n",
      "[1.400e-01 5.000e-02 1.200e-01 5.400e-01 0.000e+00 1.000e-01 2.600e-01\n",
      " 3.000e-02 3.700e-01 1.600e-01 4.000e-02 5.600e-01 1.500e-01 1.700e-01\n",
      " 2.200e-01 2.900e-01 1.090e+00 1.400e+00 7.000e-02 3.000e-01 2.700e-01\n",
      " 8.900e-01 6.400e-01 9.200e-01 7.200e-01 1.800e-01 2.320e+00 1.000e-02\n",
      " 2.000e-01 4.800e-01 1.420e+00 9.000e-02 1.060e+00 4.600e-01 7.800e-01\n",
      " 2.000e-02 2.800e-01 4.050e+00 4.000e-01 9.100e-01 6.200e-01 6.000e-02\n",
      " 2.500e-01 1.900e-01 4.700e-01 8.000e-02 8.000e-01 3.100e-01 2.840e+00\n",
      " 1.100e-01 4.300e-01 8.200e-01 3.200e-01 3.300e-01 2.400e-01 6.000e-01\n",
      " 5.800e-01 1.000e+00 5.500e-01 3.500e-01 6.300e-01 1.300e-01 2.100e-01\n",
      " 1.330e+00 1.730e+00 5.990e+00 5.000e-01 6.910e+00 1.020e+00 1.190e+00\n",
      " 6.100e-01 1.270e+00 2.100e+00 1.010e+00 3.600e-01 4.000e+00 9.600e-01\n",
      " 2.200e+00 8.500e-01 4.500e-01 5.300e-01 1.440e+00 7.900e-01 4.400e-01\n",
      " 7.700e-01 2.450e+00 8.800e-01 1.700e+00 1.970e+00 2.300e+00 3.400e-01\n",
      " 3.900e-01 1.940e+00 2.300e-01 2.910e+00 1.560e+00 2.908e+01 1.740e+00\n",
      " 1.200e+00 1.530e+00 5.900e-01 1.690e+00 5.200e-01 3.240e+00 1.890e+00\n",
      " 9.540e+00 2.480e+00 2.210e+00 9.000e-01 4.200e-01 1.980e+00 1.080e+00\n",
      " 3.800e-01 1.040e+00 5.100e-01 3.920e+00 5.890e+00 5.700e-01 1.320e+00\n",
      " 9.300e-01 3.980e+00 9.400e-01 6.500e-01 1.575e+01 2.990e+00 1.640e+00\n",
      " 2.110e+00 7.600e-01 2.950e+00 1.850e+00 5.030e+00 6.900e-01 1.430e+00\n",
      " 8.700e-01 2.050e+00 3.740e+00 6.700e-01 1.540e+00 1.150e+00 1.250e+00\n",
      " 6.600e-01 1.590e+00 7.100e-01 5.390e+00]\n",
      "\n",
      "Unique values for the EU_Sales column.\n",
      "['0.12' '0' '0.03' '0.1' '0.69' '0.01' '0.05' '0.44' '0.13' '0.15' '0.14'\n",
      " '0.25' '0.07' 'unknown' '0.65' '1.14' '0.18' '0.57' '0.17' '0.35' '1.3'\n",
      " '0.02' '0.51' '0.24' '0.67' '0.06' '0.28' '0.04' '0.97' '0.09' '0.08'\n",
      " '0.3' '1.62' '0.27' '1' '0.32' '0.22' '0.4' '0.26' '0.43' '0.39' '0.21'\n",
      " '0.64' '0.31' '0.63' '0.47' '0.54' '0.38' '0.11' '0.49' '0.5' '0.19'\n",
      " '2.15' '1.18' '0.76' '2.85' '0.84' '0.48' '0.42' '0.33' '1.33' '0.2'\n",
      " '1.72' '0.58' '0.34' '1.26' '0.16' '0.91' '0.78' '2.01' '0.6' '2.02'\n",
      " '0.37' '1.41' '0.53' '0.85' '0.23' '2.07' '0.61' '3.58' '0.8' '0.7'\n",
      " '3.75' '0.96' '0.95' '0.62' '0.87' '4.29' '0.82' '0.45' '0.71' '1.35'\n",
      " '1.99' '3.44' '0.88' '0.29' '0.36' '1.24' '1.78' '5.04' '0.41' '1.05'\n",
      " '0.46' '0.55' '11.01' '1.31' '2.48' '0.66' '0.94' '1.2' '2.86' '1.4'\n",
      " '0.93' '1.17' '0.98' '1.43' '1.11' '1.61' '1.8']\n",
      "\n",
      "Unique values for the JP_Sales column.\n",
      "[0.   0.01 0.28 0.09 0.11 0.02 0.04 0.18 0.1  0.71 0.46 0.2  0.05 0.44\n",
      " 0.03 1.27 0.12 2.1  0.06 0.14 0.07 1.03 0.35 0.19 0.63 0.33 0.13 0.15\n",
      " 0.25 0.42 0.59 0.08 0.22 0.62 2.12 1.93 0.52 0.21 0.32 1.91 0.54 0.43\n",
      " 0.55 0.29 0.41 2.41 1.38 0.16 0.37 0.23 0.27 0.86 1.37 0.87 0.91 0.17\n",
      " 1.5  2.73 6.81 0.39 1.56 0.34 0.3  0.4  1.21 2.42 3.84 1.25 0.24 0.26\n",
      " 3.12 0.57 3.28 0.53 1.97 1.54 2.02 0.74 0.76 1.69 0.56 0.5  3.18 0.75\n",
      " 0.96 0.31 0.72 1.46 0.7 ]\n",
      "\n",
      "Unique values for the Other_Sales column.\n",
      "[0.02 0.   0.01 0.06 0.14 0.21 0.04 0.05 0.09 0.2  0.31 0.07 0.03 0.13\n",
      " 0.52 0.08 0.18 0.1  0.11 0.49 0.17 0.24 0.22 0.26 0.4  0.29 0.43 0.27\n",
      " 0.23 0.16 0.51 0.72 1.21 0.12 0.53 0.28 0.33 0.77 0.25 0.69 0.42 1.23\n",
      " 1.47 0.48 0.46 0.32 0.59 0.15 0.66 2.96 0.41 0.58 0.34 0.37 0.19 0.85\n",
      " 0.3  0.74 0.54]\n",
      "\n"
     ]
    }
   ],
   "source": [
    "for col in ['Platform', 'Year', 'Genre', 'NA_Sales', 'EU_Sales', 'JP_Sales', 'Other_Sales']:\n",
    "    print('Unique values for the '+col+' column.')\n",
    "    print(df[col].unique())\n",
    "    print()"
   ]
  },
  {
   "cell_type": "code",
   "execution_count": 6,
   "metadata": {},
   "outputs": [],
   "source": [
    "df = pd.read_csv('sample_game_sales.csv', na_values = ['unknown'])\n"
   ]
  },
  {
   "cell_type": "code",
   "execution_count": 7,
   "metadata": {},
   "outputs": [
    {
     "data": {
      "text/plain": [
       "Name            object\n",
       "Platform        object\n",
       "Year           float64\n",
       "Genre           object\n",
       "NA_Sales       float64\n",
       "EU_Sales       float64\n",
       "JP_Sales       float64\n",
       "Other_Sales    float64\n",
       "dtype: object"
      ]
     },
     "execution_count": 7,
     "metadata": {},
     "output_type": "execute_result"
    }
   ],
   "source": [
    "df.dtypes"
   ]
  },
  {
   "cell_type": "code",
   "execution_count": 8,
   "metadata": {},
   "outputs": [
    {
     "data": {
      "text/html": [
       "<div>\n",
       "<style scoped>\n",
       "    .dataframe tbody tr th:only-of-type {\n",
       "        vertical-align: middle;\n",
       "    }\n",
       "\n",
       "    .dataframe tbody tr th {\n",
       "        vertical-align: top;\n",
       "    }\n",
       "\n",
       "    .dataframe thead th {\n",
       "        text-align: right;\n",
       "    }\n",
       "</style>\n",
       "<table border=\"1\" class=\"dataframe\">\n",
       "  <thead>\n",
       "    <tr style=\"text-align: right;\">\n",
       "      <th></th>\n",
       "      <th>Name</th>\n",
       "      <th>Platform</th>\n",
       "      <th>Year</th>\n",
       "      <th>Genre</th>\n",
       "      <th>NA_Sales</th>\n",
       "      <th>EU_Sales</th>\n",
       "      <th>JP_Sales</th>\n",
       "      <th>Other_Sales</th>\n",
       "    </tr>\n",
       "  </thead>\n",
       "  <tbody>\n",
       "    <tr>\n",
       "      <th>0</th>\n",
       "      <td>Need for Speed: Most Wanted</td>\n",
       "      <td>WiiU</td>\n",
       "      <td>2013.0</td>\n",
       "      <td>Racing</td>\n",
       "      <td>0.14</td>\n",
       "      <td>0.12</td>\n",
       "      <td>0.00</td>\n",
       "      <td>0.02</td>\n",
       "    </tr>\n",
       "    <tr>\n",
       "      <th>1</th>\n",
       "      <td>Taito Legends Power Up</td>\n",
       "      <td>PSP</td>\n",
       "      <td>2007.0</td>\n",
       "      <td>Action</td>\n",
       "      <td>0.05</td>\n",
       "      <td>0.00</td>\n",
       "      <td>0.00</td>\n",
       "      <td>0.00</td>\n",
       "    </tr>\n",
       "    <tr>\n",
       "      <th>2</th>\n",
       "      <td>Magic: The Gathering - Battlegrounds</td>\n",
       "      <td>XB</td>\n",
       "      <td>2003.0</td>\n",
       "      <td>Strategy</td>\n",
       "      <td>0.12</td>\n",
       "      <td>0.03</td>\n",
       "      <td>0.00</td>\n",
       "      <td>0.01</td>\n",
       "    </tr>\n",
       "    <tr>\n",
       "      <th>3</th>\n",
       "      <td>Shrek the Third</td>\n",
       "      <td>X360</td>\n",
       "      <td>2007.0</td>\n",
       "      <td>Action</td>\n",
       "      <td>0.54</td>\n",
       "      <td>0.10</td>\n",
       "      <td>0.00</td>\n",
       "      <td>0.06</td>\n",
       "    </tr>\n",
       "    <tr>\n",
       "      <th>4</th>\n",
       "      <td>Destiny Links</td>\n",
       "      <td>DS</td>\n",
       "      <td>2009.0</td>\n",
       "      <td>Role-Playing</td>\n",
       "      <td>0.00</td>\n",
       "      <td>0.00</td>\n",
       "      <td>0.01</td>\n",
       "      <td>0.00</td>\n",
       "    </tr>\n",
       "  </tbody>\n",
       "</table>\n",
       "</div>"
      ],
      "text/plain": [
       "                                   Name Platform    Year         Genre  \\\n",
       "0           Need for Speed: Most Wanted     WiiU  2013.0        Racing   \n",
       "1                Taito Legends Power Up      PSP  2007.0        Action   \n",
       "2  Magic: The Gathering - Battlegrounds       XB  2003.0      Strategy   \n",
       "3                       Shrek the Third     X360  2007.0        Action   \n",
       "4                         Destiny Links       DS  2009.0  Role-Playing   \n",
       "\n",
       "   NA_Sales  EU_Sales  JP_Sales  Other_Sales  \n",
       "0      0.14      0.12      0.00         0.02  \n",
       "1      0.05      0.00      0.00         0.00  \n",
       "2      0.12      0.03      0.00         0.01  \n",
       "3      0.54      0.10      0.00         0.06  \n",
       "4      0.00      0.00      0.01         0.00  "
      ]
     },
     "execution_count": 8,
     "metadata": {},
     "output_type": "execute_result"
    }
   ],
   "source": [
    "df = df.dropna()\n",
    "df.head()"
   ]
  },
  {
   "cell_type": "code",
   "execution_count": 9,
   "metadata": {},
   "outputs": [
    {
     "data": {
      "text/plain": [
       "(982, 8)"
      ]
     },
     "execution_count": 9,
     "metadata": {},
     "output_type": "execute_result"
    }
   ],
   "source": [
    "df.shape"
   ]
  },
  {
   "cell_type": "markdown",
   "metadata": {},
   "source": [
    "### 1.2. Filtering for Specific Genres\n",
    "\n",
    "There are many game genres in this dataset. To simplify this analysis, we would like to focus on only the following 4 types of genres:\n",
    "* Action\n",
    "* Role-Playing\n",
    "* Fighting\n",
    "* Shooter\n",
    "\n",
    "Filter your dataset to contain just these four genres."
   ]
  },
  {
   "cell_type": "code",
   "execution_count": 10,
   "metadata": {},
   "outputs": [
    {
     "data": {
      "text/html": [
       "<div>\n",
       "<style scoped>\n",
       "    .dataframe tbody tr th:only-of-type {\n",
       "        vertical-align: middle;\n",
       "    }\n",
       "\n",
       "    .dataframe tbody tr th {\n",
       "        vertical-align: top;\n",
       "    }\n",
       "\n",
       "    .dataframe thead th {\n",
       "        text-align: right;\n",
       "    }\n",
       "</style>\n",
       "<table border=\"1\" class=\"dataframe\">\n",
       "  <thead>\n",
       "    <tr style=\"text-align: right;\">\n",
       "      <th></th>\n",
       "      <th>Name</th>\n",
       "      <th>Platform</th>\n",
       "      <th>Year</th>\n",
       "      <th>Genre</th>\n",
       "      <th>NA_Sales</th>\n",
       "      <th>EU_Sales</th>\n",
       "      <th>JP_Sales</th>\n",
       "      <th>Other_Sales</th>\n",
       "    </tr>\n",
       "  </thead>\n",
       "  <tbody>\n",
       "    <tr>\n",
       "      <th>1</th>\n",
       "      <td>Taito Legends Power Up</td>\n",
       "      <td>PSP</td>\n",
       "      <td>2007.0</td>\n",
       "      <td>Action</td>\n",
       "      <td>0.05</td>\n",
       "      <td>0.00</td>\n",
       "      <td>0.00</td>\n",
       "      <td>0.00</td>\n",
       "    </tr>\n",
       "    <tr>\n",
       "      <th>3</th>\n",
       "      <td>Shrek the Third</td>\n",
       "      <td>X360</td>\n",
       "      <td>2007.0</td>\n",
       "      <td>Action</td>\n",
       "      <td>0.54</td>\n",
       "      <td>0.10</td>\n",
       "      <td>0.00</td>\n",
       "      <td>0.06</td>\n",
       "    </tr>\n",
       "    <tr>\n",
       "      <th>4</th>\n",
       "      <td>Destiny Links</td>\n",
       "      <td>DS</td>\n",
       "      <td>2009.0</td>\n",
       "      <td>Role-Playing</td>\n",
       "      <td>0.00</td>\n",
       "      <td>0.00</td>\n",
       "      <td>0.01</td>\n",
       "      <td>0.00</td>\n",
       "    </tr>\n",
       "    <tr>\n",
       "      <th>12</th>\n",
       "      <td>Saints Row IV</td>\n",
       "      <td>PS3</td>\n",
       "      <td>2013.0</td>\n",
       "      <td>Action</td>\n",
       "      <td>0.56</td>\n",
       "      <td>0.44</td>\n",
       "      <td>0.09</td>\n",
       "      <td>0.21</td>\n",
       "    </tr>\n",
       "    <tr>\n",
       "      <th>14</th>\n",
       "      <td>Final Fantasy XI</td>\n",
       "      <td>X360</td>\n",
       "      <td>2006.0</td>\n",
       "      <td>Role-Playing</td>\n",
       "      <td>0.17</td>\n",
       "      <td>0.01</td>\n",
       "      <td>0.00</td>\n",
       "      <td>0.01</td>\n",
       "    </tr>\n",
       "  </tbody>\n",
       "</table>\n",
       "</div>"
      ],
      "text/plain": [
       "                      Name Platform    Year         Genre  NA_Sales  EU_Sales  \\\n",
       "1   Taito Legends Power Up      PSP  2007.0        Action      0.05      0.00   \n",
       "3          Shrek the Third     X360  2007.0        Action      0.54      0.10   \n",
       "4            Destiny Links       DS  2009.0  Role-Playing      0.00      0.00   \n",
       "12           Saints Row IV      PS3  2013.0        Action      0.56      0.44   \n",
       "14        Final Fantasy XI     X360  2006.0  Role-Playing      0.17      0.01   \n",
       "\n",
       "    JP_Sales  Other_Sales  \n",
       "1       0.00         0.00  \n",
       "3       0.00         0.06  \n",
       "4       0.01         0.00  \n",
       "12      0.09         0.21  \n",
       "14      0.00         0.01  "
      ]
     },
     "execution_count": 10,
     "metadata": {},
     "output_type": "execute_result"
    }
   ],
   "source": [
    "df1 = df[(df['Genre'] == 'Action') | (df['Genre'] == 'Role-Playing') | (df['Genre'] == 'Fighting') | (df['Genre'] == 'Shooter')]\n",
    "df1.head()"
   ]
  },
  {
   "cell_type": "markdown",
   "metadata": {},
   "source": [
    "### 1.3. Top 5 Platforms"
   ]
  },
  {
   "cell_type": "code",
   "execution_count": 11,
   "metadata": {},
   "outputs": [
    {
     "data": {
      "text/plain": [
       "Platform\n",
       "PS2     45\n",
       "X360    43\n",
       "PS3     37\n",
       "PSP     34\n",
       "DS      31\n",
       "PS      28\n",
       "PC      26\n",
       "3DS     21\n",
       "GBA     21\n",
       "XB      20\n",
       "Wii     19\n",
       "GC      13\n",
       "N64     12\n",
       "XOne    11\n",
       "PS4     11\n",
       "SNES     9\n",
       "2600     7\n",
       "WiiU     6\n",
       "PSV      6\n",
       "SAT      4\n",
       "NES      3\n",
       "GB       2\n",
       "DC       1\n",
       "Name: count, dtype: int64"
      ]
     },
     "execution_count": 11,
     "metadata": {},
     "output_type": "execute_result"
    }
   ],
   "source": [
    "df1['Platform'].value_counts()"
   ]
  },
  {
   "cell_type": "code",
   "execution_count": 15,
   "metadata": {},
   "outputs": [
    {
     "data": {
      "text/html": [
       "<div>\n",
       "<style scoped>\n",
       "    .dataframe tbody tr th:only-of-type {\n",
       "        vertical-align: middle;\n",
       "    }\n",
       "\n",
       "    .dataframe tbody tr th {\n",
       "        vertical-align: top;\n",
       "    }\n",
       "\n",
       "    .dataframe thead th {\n",
       "        text-align: right;\n",
       "    }\n",
       "</style>\n",
       "<table border=\"1\" class=\"dataframe\">\n",
       "  <thead>\n",
       "    <tr style=\"text-align: right;\">\n",
       "      <th></th>\n",
       "      <th>Name</th>\n",
       "      <th>Platform</th>\n",
       "      <th>Year</th>\n",
       "      <th>Genre</th>\n",
       "      <th>NA_Sales</th>\n",
       "      <th>EU_Sales</th>\n",
       "      <th>JP_Sales</th>\n",
       "      <th>Other_Sales</th>\n",
       "    </tr>\n",
       "  </thead>\n",
       "  <tbody>\n",
       "    <tr>\n",
       "      <th>1</th>\n",
       "      <td>Taito Legends Power Up</td>\n",
       "      <td>PSP</td>\n",
       "      <td>2007.0</td>\n",
       "      <td>Action</td>\n",
       "      <td>0.05</td>\n",
       "      <td>0.00</td>\n",
       "      <td>0.00</td>\n",
       "      <td>0.00</td>\n",
       "    </tr>\n",
       "    <tr>\n",
       "      <th>3</th>\n",
       "      <td>Shrek the Third</td>\n",
       "      <td>X360</td>\n",
       "      <td>2007.0</td>\n",
       "      <td>Action</td>\n",
       "      <td>0.54</td>\n",
       "      <td>0.10</td>\n",
       "      <td>0.00</td>\n",
       "      <td>0.06</td>\n",
       "    </tr>\n",
       "    <tr>\n",
       "      <th>4</th>\n",
       "      <td>Destiny Links</td>\n",
       "      <td>DS</td>\n",
       "      <td>2009.0</td>\n",
       "      <td>Role-Playing</td>\n",
       "      <td>0.00</td>\n",
       "      <td>0.00</td>\n",
       "      <td>0.01</td>\n",
       "      <td>0.00</td>\n",
       "    </tr>\n",
       "    <tr>\n",
       "      <th>12</th>\n",
       "      <td>Saints Row IV</td>\n",
       "      <td>PS3</td>\n",
       "      <td>2013.0</td>\n",
       "      <td>Action</td>\n",
       "      <td>0.56</td>\n",
       "      <td>0.44</td>\n",
       "      <td>0.09</td>\n",
       "      <td>0.21</td>\n",
       "    </tr>\n",
       "    <tr>\n",
       "      <th>14</th>\n",
       "      <td>Final Fantasy XI</td>\n",
       "      <td>X360</td>\n",
       "      <td>2006.0</td>\n",
       "      <td>Role-Playing</td>\n",
       "      <td>0.17</td>\n",
       "      <td>0.01</td>\n",
       "      <td>0.00</td>\n",
       "      <td>0.01</td>\n",
       "    </tr>\n",
       "  </tbody>\n",
       "</table>\n",
       "</div>"
      ],
      "text/plain": [
       "                      Name Platform    Year         Genre  NA_Sales  EU_Sales  \\\n",
       "1   Taito Legends Power Up      PSP  2007.0        Action      0.05      0.00   \n",
       "3          Shrek the Third     X360  2007.0        Action      0.54      0.10   \n",
       "4            Destiny Links       DS  2009.0  Role-Playing      0.00      0.00   \n",
       "12           Saints Row IV      PS3  2013.0        Action      0.56      0.44   \n",
       "14        Final Fantasy XI     X360  2006.0  Role-Playing      0.17      0.01   \n",
       "\n",
       "    JP_Sales  Other_Sales  \n",
       "1       0.00         0.00  \n",
       "3       0.00         0.06  \n",
       "4       0.01         0.00  \n",
       "12      0.09         0.21  \n",
       "14      0.00         0.01  "
      ]
     },
     "execution_count": 15,
     "metadata": {},
     "output_type": "execute_result"
    }
   ],
   "source": [
    "df1 = df1[(df1['Platform'] == 'PS2') | (df1['Platform'] == 'X360') | (df1['Platform'] == 'PS3') | (df1['Platform'] == 'PSP') | (df1['Platform'] == 'DS')]\n",
    "df1.head()"
   ]
  },
  {
   "cell_type": "markdown",
   "metadata": {},
   "source": [
    "## Section 2: Exploratory Data Analysis\n",
    "\n",
    "### 2.1. Numerical Variable Pairwise Relationships\n"
   ]
  },
  {
   "cell_type": "code",
   "execution_count": 16,
   "metadata": {},
   "outputs": [
    {
     "data": {
      "image/png": "[encoded data removed]",
      "text/plain": [
       "<Figure size 1250x1250 with 30 Axes>"
      ]
     },
     "metadata": {},
     "output_type": "display_data"
    }
   ],
   "source": [
    "sns.pairplot(df1)\n",
    "plt.show()"
   ]
  },
  {
   "cell_type": "code",
   "execution_count": 18,
   "metadata": {},
   "outputs": [
    {
     "data": {
      "text/html": [
       "<div>\n",
       "<style scoped>\n",
       "    .dataframe tbody tr th:only-of-type {\n",
       "        vertical-align: middle;\n",
       "    }\n",
       "\n",
       "    .dataframe tbody tr th {\n",
       "        vertical-align: top;\n",
       "    }\n",
       "\n",
       "    .dataframe thead th {\n",
       "        text-align: right;\n",
       "    }\n",
       "</style>\n",
       "<table border=\"1\" class=\"dataframe\">\n",
       "  <thead>\n",
       "    <tr style=\"text-align: right;\">\n",
       "      <th></th>\n",
       "      <th>Year</th>\n",
       "      <th>NA_Sales</th>\n",
       "      <th>EU_Sales</th>\n",
       "      <th>JP_Sales</th>\n",
       "      <th>Other_Sales</th>\n",
       "    </tr>\n",
       "  </thead>\n",
       "  <tbody>\n",
       "    <tr>\n",
       "      <th>Year</th>\n",
       "      <td>1.000000</td>\n",
       "      <td>-0.101545</td>\n",
       "      <td>-0.119341</td>\n",
       "      <td>-0.187205</td>\n",
       "      <td>-0.112706</td>\n",
       "    </tr>\n",
       "    <tr>\n",
       "      <th>NA_Sales</th>\n",
       "      <td>-0.101545</td>\n",
       "      <td>1.000000</td>\n",
       "      <td>0.878340</td>\n",
       "      <td>0.352546</td>\n",
       "      <td>0.782950</td>\n",
       "    </tr>\n",
       "    <tr>\n",
       "      <th>EU_Sales</th>\n",
       "      <td>-0.119341</td>\n",
       "      <td>0.878340</td>\n",
       "      <td>1.000000</td>\n",
       "      <td>0.409199</td>\n",
       "      <td>0.877006</td>\n",
       "    </tr>\n",
       "    <tr>\n",
       "      <th>JP_Sales</th>\n",
       "      <td>-0.187205</td>\n",
       "      <td>0.352546</td>\n",
       "      <td>0.409199</td>\n",
       "      <td>1.000000</td>\n",
       "      <td>0.232658</td>\n",
       "    </tr>\n",
       "    <tr>\n",
       "      <th>Other_Sales</th>\n",
       "      <td>-0.112706</td>\n",
       "      <td>0.782950</td>\n",
       "      <td>0.877006</td>\n",
       "      <td>0.232658</td>\n",
       "      <td>1.000000</td>\n",
       "    </tr>\n",
       "  </tbody>\n",
       "</table>\n",
       "</div>"
      ],
      "text/plain": [
       "                 Year  NA_Sales  EU_Sales  JP_Sales  Other_Sales\n",
       "Year         1.000000 -0.101545 -0.119341 -0.187205    -0.112706\n",
       "NA_Sales    -0.101545  1.000000  0.878340  0.352546     0.782950\n",
       "EU_Sales    -0.119341  0.878340  1.000000  0.409199     0.877006\n",
       "JP_Sales    -0.187205  0.352546  0.409199  1.000000     0.232658\n",
       "Other_Sales -0.112706  0.782950  0.877006  0.232658     1.000000"
      ]
     },
     "execution_count": 18,
     "metadata": {},
     "output_type": "execute_result"
    }
   ],
   "source": [
    "df1.corr(numeric_only=True)"
   ]
  },
  {
   "cell_type": "markdown",
   "metadata": {},
   "source": [
    "### 2.2. Numerical Variables Pairwise Relationship Strength\n"
   ]
  },
  {
   "cell_type": "markdown",
   "metadata": {},
   "source": [
    "From the pairplot and correlation coefficient above, we can tell:\n",
    "1. 'year' variable does not have strong association with any of the 4 regional sales variables\n",
    "2. 'NA_Sales' has the strongest linear relationship with the 'year' variable\n",
    "3. 'JP_Sales' and 'Other_Sales' have the weakest relationship with each other. "
   ]
  },
  {
   "cell_type": "markdown",
   "metadata": {},
   "source": [
    "### 2.3. The Relationship between Genre in Japanese vs. North American Sales"
   ]
  },
  {
   "cell_type": "code",
   "execution_count": 19,
   "metadata": {},
   "outputs": [
    {
     "data": {
      "image/png": "[encoded data removed]",
      "text/plain": [
       "<Figure size 640x480 with 1 Axes>"
      ]
     },
     "metadata": {},
     "output_type": "display_data"
    }
   ],
   "source": [
    "sns.boxplot(x = 'Genre', y = 'JP_Sales', data = df1)\n",
    "plt.title('JP_Sales in different genres')\n",
    "plt.show()"
   ]
  },
  {
   "cell_type": "code",
   "execution_count": 20,
   "metadata": {},
   "outputs": [
    {
     "data": {
      "image/png": "[encoded data removed]",
      "text/plain": [
       "<Figure size 640x480 with 1 Axes>"
      ]
     },
     "metadata": {},
     "output_type": "display_data"
    }
   ],
   "source": [
    "sns.boxplot(x = 'Genre', y = 'NA_Sales', data = df1)\n",
    "plt.title('NA_Sales in different genres')\n",
    "plt.show()"
   ]
  },
  {
   "cell_type": "markdown",
   "metadata": {},
   "source": [
    "Conclusion: buyers in Japan and North America do not have the same preferemce when it comes to different genres of games. As we can see in the plots, the distribution of sales are different. "
   ]
  },
  {
   "cell_type": "markdown",
   "metadata": {},
   "source": [
    "## Section 3: Exploratory Data Visualization:\n"
   ]
  },
  {
   "cell_type": "code",
   "execution_count": 23,
   "metadata": {},
   "outputs": [
    {
     "data": {
      "text/html": [
       "<div>\n",
       "<style scoped>\n",
       "    .dataframe tbody tr th:only-of-type {\n",
       "        vertical-align: middle;\n",
       "    }\n",
       "\n",
       "    .dataframe tbody tr th {\n",
       "        vertical-align: top;\n",
       "    }\n",
       "\n",
       "    .dataframe thead th {\n",
       "        text-align: right;\n",
       "    }\n",
       "</style>\n",
       "<table border=\"1\" class=\"dataframe\">\n",
       "  <thead>\n",
       "    <tr style=\"text-align: right;\">\n",
       "      <th>Genre</th>\n",
       "      <th>Action</th>\n",
       "      <th>Fighting</th>\n",
       "      <th>Role-Playing</th>\n",
       "      <th>Shooter</th>\n",
       "    </tr>\n",
       "    <tr>\n",
       "      <th>Platform</th>\n",
       "      <th></th>\n",
       "      <th></th>\n",
       "      <th></th>\n",
       "      <th></th>\n",
       "    </tr>\n",
       "  </thead>\n",
       "  <tbody>\n",
       "    <tr>\n",
       "      <th>DS</th>\n",
       "      <td>0.419355</td>\n",
       "      <td>0.032258</td>\n",
       "      <td>0.451613</td>\n",
       "      <td>0.096774</td>\n",
       "    </tr>\n",
       "    <tr>\n",
       "      <th>PS2</th>\n",
       "      <td>0.444444</td>\n",
       "      <td>0.155556</td>\n",
       "      <td>0.222222</td>\n",
       "      <td>0.177778</td>\n",
       "    </tr>\n",
       "    <tr>\n",
       "      <th>PS3</th>\n",
       "      <td>0.378378</td>\n",
       "      <td>0.270270</td>\n",
       "      <td>0.162162</td>\n",
       "      <td>0.189189</td>\n",
       "    </tr>\n",
       "    <tr>\n",
       "      <th>PSP</th>\n",
       "      <td>0.470588</td>\n",
       "      <td>0.088235</td>\n",
       "      <td>0.352941</td>\n",
       "      <td>0.088235</td>\n",
       "    </tr>\n",
       "    <tr>\n",
       "      <th>X360</th>\n",
       "      <td>0.511628</td>\n",
       "      <td>0.069767</td>\n",
       "      <td>0.162791</td>\n",
       "      <td>0.255814</td>\n",
       "    </tr>\n",
       "  </tbody>\n",
       "</table>\n",
       "</div>"
      ],
      "text/plain": [
       "Genre       Action  Fighting  Role-Playing   Shooter\n",
       "Platform                                            \n",
       "DS        0.419355  0.032258      0.451613  0.096774\n",
       "PS2       0.444444  0.155556      0.222222  0.177778\n",
       "PS3       0.378378  0.270270      0.162162  0.189189\n",
       "PSP       0.470588  0.088235      0.352941  0.088235\n",
       "X360      0.511628  0.069767      0.162791  0.255814"
      ]
     },
     "execution_count": 23,
     "metadata": {},
     "output_type": "execute_result"
    }
   ],
   "source": [
    "temp = pd.crosstab(df1['Platform'], df1['Genre'], normalize = 'index')\n",
    "temp"
   ]
  },
  {
   "cell_type": "code",
   "execution_count": 24,
   "metadata": {},
   "outputs": [
    {
     "data": {
      "image/png": "[encoded data removed]",
      "text/plain": [
       "<Figure size 640x480 with 1 Axes>"
      ]
     },
     "metadata": {},
     "output_type": "display_data"
    }
   ],
   "source": [
    "temp.plot.bar()\n",
    "plt.title('Relationship between Platform and Genre')\n",
    "plt.show()"
   ]
  },
  {
   "cell_type": "markdown",
   "metadata": {},
   "source": [
    "Conclusion:\n",
    "1. PS3 has the lowest percentage of role-playong games.\n",
    "2. 16.216% of this platform's games were role-playing games."
   ]
  },
  {
   "cell_type": "markdown",
   "metadata": {},
   "source": [
    "## Section 4: Data Science:\n"
   ]
  },
  {
   "cell_type": "markdown",
   "metadata": {},
   "source": [
    "### 4.1: Interference:"
   ]
  },
  {
   "cell_type": "markdown",
   "metadata": {},
   "source": [
    "Hypotheses:"
   ]
  },
  {
   "cell_type": "markdown",
   "metadata": {},
   "source": [
    "$ H_{0} : \\mu_{rp} - \\mu_{a} = 0$\n",
    "\n",
    "$ H_{A} : \\mu_{rp} - \\mu_{a} \\neq 0$"
   ]
  },
  {
   "cell_type": "markdown",
   "metadata": {},
   "source": [
    "Checking conditions for Inference:\n",
    "\n"
   ]
  },
  {
   "cell_type": "markdown",
   "metadata": {},
   "source": [
    "1. Sample of role-playing games is randomly selected from the population of all role-playing games that were sold globally before 2016, coming from DS, PS2, PS3, PSP, and X360 platforms that had at least more than 100,000 sales globally.\n",
    "\n",
    "2. $n_{rp}$ = 49 < 10% of the population of all role-playing games that were sold globally before 2016, coming from DS, PS2, PS3, PSP, and X360 platforms that had at least more than 100,000 sales globally.\n",
    "\n",
    "3. $n_{rp}$ = 49 > 30.\n",
    "\n",
    "4. Sample of action games is randomly selected from the population of all action games that were sold globally before 2016, coming from DS, PS2, PS3, PSP, and X360 platforms that had at least more than 100,000 sales globally.\n",
    "\n",
    "5. $n_{a}$ = 85 < 10% of the population of all action games that were sold globally before 2016, coming from DS, PS2, PS3, PSP, and X360 platforms that had at least more than 100,000 sales globally.\n",
    "\n",
    "6. $n_{a}$ = 85 > 30.\n",
    "\n",
    "7. The samples of role-playing and action games are independent (there was no pairwise relationship in the way in which we collected the two samples)."
   ]
  },
  {
   "cell_type": "code",
   "execution_count": 29,
   "metadata": {},
   "outputs": [
    {
     "name": "stdout",
     "output_type": "stream",
     "text": [
      "value of role_playing game count is:  49\n"
     ]
    }
   ],
   "source": [
    "rp = df1[df1['Genre'] == 'Role-Playing']\n",
    "n_rp = len(rp)\n",
    "print('value of role_playing game count is: ', n_rp)"
   ]
  },
  {
   "cell_type": "code",
   "execution_count": 30,
   "metadata": {},
   "outputs": [
    {
     "name": "stdout",
     "output_type": "stream",
     "text": [
      "value of action game count is:  85\n"
     ]
    }
   ],
   "source": [
    "action = df1[df1['Genre'] == 'Action']\n",
    "n_action = len(action)\n",
    "print('value of action game count is: ', n_action)"
   ]
  },
  {
   "cell_type": "code",
   "execution_count": 31,
   "metadata": {},
   "outputs": [
    {
     "data": {
      "image/png": "[encoded data removed]",
      "text/plain": [
       "<Figure size 640x480 with 1 Axes>"
      ]
     },
     "metadata": {},
     "output_type": "display_data"
    }
   ],
   "source": [
    "rp['JP_Sales'].hist(color='orange') \n",
    "plt.title('Role_Playing Game sample') \n",
    "plt.xlabel('JP_Sales') \n",
    "plt.ylabel('Frequency') \n",
    "plt.show() "
   ]
  },
  {
   "cell_type": "code",
   "execution_count": 32,
   "metadata": {},
   "outputs": [
    {
     "data": {
      "image/png": "[encoded data removed]",
      "text/plain": [
       "<Figure size 640x480 with 1 Axes>"
      ]
     },
     "metadata": {},
     "output_type": "display_data"
    }
   ],
   "source": [
    "action['JP_Sales'].hist(color='orange') \n",
    "plt.title('Action Game sample') \n",
    "plt.xlabel('JP_Sales') \n",
    "plt.ylabel('Frequency') \n",
    "plt.show() "
   ]
  },
  {
   "cell_type": "markdown",
   "metadata": {},
   "source": [
    "### Confidence Interval\n",
    "90% confidence interval for $\\mu_{rp}-\\mu_{a}$ (ie. the difference between the average number of role-playing games sold in Japan in our population of role-playing games and the average number of action games sold in Japan in our population of action games)."
   ]
  },
  {
   "cell_type": "code",
   "execution_count": 33,
   "metadata": {},
   "outputs": [
    {
     "name": "stdout",
     "output_type": "stream",
     "text": [
      "critical value of the confidence interval is:  1.6772241953450393\n"
     ]
    }
   ],
   "source": [
    "from scipy.stats import t\n",
    "critical_value = t.ppf(0.95, df = 48)\n",
    "print('critical value of the confidence interval is: ', critical_value)"
   ]
  },
  {
   "cell_type": "code",
   "execution_count": 35,
   "metadata": {},
   "outputs": [
    {
     "data": {
      "text/plain": [
       "0.14837695078031213"
      ]
     },
     "execution_count": 35,
     "metadata": {},
     "output_type": "execute_result"
    }
   ],
   "source": [
    "sample_rp_mean = rp['JP_Sales'].mean()\n",
    "sample_action_mean = action['JP_Sales'].mean()\n",
    "point_estimate = sample_rp_mean - sample_action_mean\n",
    "point_estimate"
   ]
  },
  {
   "cell_type": "code",
   "execution_count": 36,
   "metadata": {},
   "outputs": [
    {
     "data": {
      "text/plain": [
       "0.06981755532433521"
      ]
     },
     "execution_count": 36,
     "metadata": {},
     "output_type": "execute_result"
    }
   ],
   "source": [
    "sample_rp_std = rp['JP_Sales'].std()\n",
    "sample_action_std = action['JP_Sales'].std()\n",
    "standard_error = np.sqrt((sample_rp_std**2)/n_rp + (sample_action_std**2)\n",
    "/n_action) \n",
    "standard_error "
   ]
  },
  {
   "cell_type": "code",
   "execution_count": 37,
   "metadata": {},
   "outputs": [
    {
     "name": "stdout",
     "output_type": "stream",
     "text": [
      "Our confidence interval is: ( 0.031277257730496236 0.26547664383012803 )\n"
     ]
    }
   ],
   "source": [
    "lower_bound = point_estimate - critical_value*standard_error \n",
    "upper_bound = point_estimate + critical_value*standard_error \n",
    "print('Our confidence interval is: (', lower_bound, upper_bound, ')') "
   ]
  },
  {
   "cell_type": "markdown",
   "metadata": {},
   "source": [
    "Description: We are 90% confident that the difference in the average JP_Sales of all role-playing games and the average JP_Sales of all action games that were sold globally before 2016, coming from DS, PS2, PS3, PSP, and X360 platforms that had at least more than 100,000 sales globally, is between 0.03127725 and 0.2654766"
   ]
  },
  {
   "cell_type": "markdown",
   "metadata": {},
   "source": [
    "### Hypothesis Test Conclusion with a Confidence Interval"
   ]
  },
  {
   "cell_type": "markdown",
   "metadata": {},
   "source": [
    "Because the null value $\\mu_{rp} - \\mu_{a} = 0$ was not in the confidence interval, we reject the null hypothesis. Thus there is sufficient evidence to suggest $\\mu_{rp} - \\mu_{a} \\neq 0$ (or in other words, that there is an association between JP_Sales and whether the game is role-playing or action). "
   ]
  },
  {
   "cell_type": "markdown",
   "metadata": {},
   "source": [
    "### Test Statistics"
   ]
  },
  {
   "cell_type": "code",
   "execution_count": 40,
   "metadata": {},
   "outputs": [
    {
     "name": "stdout",
     "output_type": "stream",
     "text": [
      "The test statistics is : 2.1252097712535445\n"
     ]
    }
   ],
   "source": [
    "null_value = 0\n",
    "test_stat = (point_estimate - null_value)/standard_error\n",
    "print('The test statistics is :', test_stat)"
   ]
  },
  {
   "cell_type": "markdown",
   "metadata": {},
   "source": [
    "### p-value\n"
   ]
  },
  {
   "cell_type": "code",
   "execution_count": 41,
   "metadata": {},
   "outputs": [
    {
     "name": "stdout",
     "output_type": "stream",
     "text": [
      "p-value is : 0.038743200234060415\n"
     ]
    }
   ],
   "source": [
    "pvalue = 2*(1 - t.cdf(np.abs(test_stat), df = 48))\n",
    "print('p-value is :', pvalue)"
   ]
  },
  {
   "cell_type": "markdown",
   "metadata": {},
   "source": [
    "Conclusion: \n"
   ]
  },
  {
   "cell_type": "markdown",
   "metadata": {},
   "source": [
    "Because the pvalue = 0.038743200234060415 < $\\alpha = 0.1$, we reject the null hypothesis. Thus there is sufficient evidence to suggest $\\mu_{rp} - \\mu_{a} \\neq 0$ (or in other words, that there is an association between JP_Sales and whether the game is role-playing or action)."
   ]
  },
  {
   "cell_type": "markdown",
   "metadata": {},
   "source": [
    "### Sampling Distribution\n",
    "\n",
    "\n"
   ]
  },
  {
   "cell_type": "code",
   "execution_count": 42,
   "metadata": {},
   "outputs": [],
   "source": [
    "samples = []\n",
    "for i in range(500):\n",
    "    samples.append(df.sample(100, replace = True)['JP_Sales'].mean())"
   ]
  },
  {
   "cell_type": "code",
   "execution_count": 43,
   "metadata": {},
   "outputs": [
    {
     "data": {
      "text/html": [
       "<div>\n",
       "<style scoped>\n",
       "    .dataframe tbody tr th:only-of-type {\n",
       "        vertical-align: middle;\n",
       "    }\n",
       "\n",
       "    .dataframe tbody tr th {\n",
       "        vertical-align: top;\n",
       "    }\n",
       "\n",
       "    .dataframe thead th {\n",
       "        text-align: right;\n",
       "    }\n",
       "</style>\n",
       "<table border=\"1\" class=\"dataframe\">\n",
       "  <thead>\n",
       "    <tr style=\"text-align: right;\">\n",
       "      <th></th>\n",
       "      <th>mean</th>\n",
       "    </tr>\n",
       "  </thead>\n",
       "  <tbody>\n",
       "    <tr>\n",
       "      <th>0</th>\n",
       "      <td>0.1322</td>\n",
       "    </tr>\n",
       "    <tr>\n",
       "      <th>1</th>\n",
       "      <td>0.1287</td>\n",
       "    </tr>\n",
       "    <tr>\n",
       "      <th>2</th>\n",
       "      <td>0.1557</td>\n",
       "    </tr>\n",
       "    <tr>\n",
       "      <th>3</th>\n",
       "      <td>0.1066</td>\n",
       "    </tr>\n",
       "    <tr>\n",
       "      <th>4</th>\n",
       "      <td>0.0953</td>\n",
       "    </tr>\n",
       "  </tbody>\n",
       "</table>\n",
       "</div>"
      ],
      "text/plain": [
       "     mean\n",
       "0  0.1322\n",
       "1  0.1287\n",
       "2  0.1557\n",
       "3  0.1066\n",
       "4  0.0953"
      ]
     },
     "execution_count": 43,
     "metadata": {},
     "output_type": "execute_result"
    }
   ],
   "source": [
    "sample = pd.DataFrame(data = samples, columns = ['mean'])\n",
    "sample.head()"
   ]
  },
  {
   "cell_type": "markdown",
   "metadata": {},
   "source": [
    "### Linear Regression Variable Selection\n",
    "\n",
    "Let's build a linear regression model that predicts **North America game sales numbers** given the following set of explanatory variables:\n",
    "* Japan sales numbers\n",
    "* European sales number\n",
    "* other region sales numbers\n",
    "* Genre\n",
    "* Platform\n",
    "* Year\n",
    "\n",
    "\n"
   ]
  },
  {
   "cell_type": "markdown",
   "metadata": {},
   "source": [
    "### Features Matrix"
   ]
  },
  {
   "cell_type": "code",
   "execution_count": 44,
   "metadata": {},
   "outputs": [
    {
     "data": {
      "text/html": [
       "<div>\n",
       "<style scoped>\n",
       "    .dataframe tbody tr th:only-of-type {\n",
       "        vertical-align: middle;\n",
       "    }\n",
       "\n",
       "    .dataframe tbody tr th {\n",
       "        vertical-align: top;\n",
       "    }\n",
       "\n",
       "    .dataframe thead th {\n",
       "        text-align: right;\n",
       "    }\n",
       "</style>\n",
       "<table border=\"1\" class=\"dataframe\">\n",
       "  <thead>\n",
       "    <tr style=\"text-align: right;\">\n",
       "      <th></th>\n",
       "      <th>JP_Sales</th>\n",
       "      <th>EU_Sales</th>\n",
       "      <th>Other_Sales</th>\n",
       "      <th>Genre</th>\n",
       "      <th>Platform</th>\n",
       "      <th>Year</th>\n",
       "    </tr>\n",
       "  </thead>\n",
       "  <tbody>\n",
       "    <tr>\n",
       "      <th>0</th>\n",
       "      <td>0.00</td>\n",
       "      <td>0.12</td>\n",
       "      <td>0.02</td>\n",
       "      <td>Racing</td>\n",
       "      <td>WiiU</td>\n",
       "      <td>2013.0</td>\n",
       "    </tr>\n",
       "    <tr>\n",
       "      <th>1</th>\n",
       "      <td>0.00</td>\n",
       "      <td>0.00</td>\n",
       "      <td>0.00</td>\n",
       "      <td>Action</td>\n",
       "      <td>PSP</td>\n",
       "      <td>2007.0</td>\n",
       "    </tr>\n",
       "    <tr>\n",
       "      <th>2</th>\n",
       "      <td>0.00</td>\n",
       "      <td>0.03</td>\n",
       "      <td>0.01</td>\n",
       "      <td>Strategy</td>\n",
       "      <td>XB</td>\n",
       "      <td>2003.0</td>\n",
       "    </tr>\n",
       "    <tr>\n",
       "      <th>3</th>\n",
       "      <td>0.00</td>\n",
       "      <td>0.10</td>\n",
       "      <td>0.06</td>\n",
       "      <td>Action</td>\n",
       "      <td>X360</td>\n",
       "      <td>2007.0</td>\n",
       "    </tr>\n",
       "    <tr>\n",
       "      <th>4</th>\n",
       "      <td>0.01</td>\n",
       "      <td>0.00</td>\n",
       "      <td>0.00</td>\n",
       "      <td>Role-Playing</td>\n",
       "      <td>DS</td>\n",
       "      <td>2009.0</td>\n",
       "    </tr>\n",
       "  </tbody>\n",
       "</table>\n",
       "</div>"
      ],
      "text/plain": [
       "   JP_Sales  EU_Sales  Other_Sales         Genre Platform    Year\n",
       "0      0.00      0.12         0.02        Racing     WiiU  2013.0\n",
       "1      0.00      0.00         0.00        Action      PSP  2007.0\n",
       "2      0.00      0.03         0.01      Strategy       XB  2003.0\n",
       "3      0.00      0.10         0.06        Action     X360  2007.0\n",
       "4      0.01      0.00         0.00  Role-Playing       DS  2009.0"
      ]
     },
     "execution_count": 44,
     "metadata": {},
     "output_type": "execute_result"
    }
   ],
   "source": [
    "X = df[['JP_Sales', 'EU_Sales', 'Other_Sales', 'Genre', 'Platform', 'Year']]\n",
    "X.head()"
   ]
  },
  {
   "cell_type": "code",
   "execution_count": 45,
   "metadata": {},
   "outputs": [
    {
     "data": {
      "text/html": [
       "<div>\n",
       "<style scoped>\n",
       "    .dataframe tbody tr th:only-of-type {\n",
       "        vertical-align: middle;\n",
       "    }\n",
       "\n",
       "    .dataframe tbody tr th {\n",
       "        vertical-align: top;\n",
       "    }\n",
       "\n",
       "    .dataframe thead th {\n",
       "        text-align: right;\n",
       "    }\n",
       "</style>\n",
       "<table border=\"1\" class=\"dataframe\">\n",
       "  <thead>\n",
       "    <tr style=\"text-align: right;\">\n",
       "      <th></th>\n",
       "      <th>JP_Sales</th>\n",
       "      <th>EU_Sales</th>\n",
       "      <th>Other_Sales</th>\n",
       "      <th>Year</th>\n",
       "      <th>Genre_Adventure</th>\n",
       "      <th>Genre_Fighting</th>\n",
       "      <th>Genre_Misc</th>\n",
       "      <th>Genre_Platform</th>\n",
       "      <th>Genre_Puzzle</th>\n",
       "      <th>Genre_Racing</th>\n",
       "      <th>...</th>\n",
       "      <th>Platform_PSP</th>\n",
       "      <th>Platform_PSV</th>\n",
       "      <th>Platform_SAT</th>\n",
       "      <th>Platform_SNES</th>\n",
       "      <th>Platform_WS</th>\n",
       "      <th>Platform_Wii</th>\n",
       "      <th>Platform_WiiU</th>\n",
       "      <th>Platform_X360</th>\n",
       "      <th>Platform_XB</th>\n",
       "      <th>Platform_XOne</th>\n",
       "    </tr>\n",
       "  </thead>\n",
       "  <tbody>\n",
       "    <tr>\n",
       "      <th>0</th>\n",
       "      <td>0.00</td>\n",
       "      <td>0.12</td>\n",
       "      <td>0.02</td>\n",
       "      <td>2013.0</td>\n",
       "      <td>False</td>\n",
       "      <td>False</td>\n",
       "      <td>False</td>\n",
       "      <td>False</td>\n",
       "      <td>False</td>\n",
       "      <td>True</td>\n",
       "      <td>...</td>\n",
       "      <td>False</td>\n",
       "      <td>False</td>\n",
       "      <td>False</td>\n",
       "      <td>False</td>\n",
       "      <td>False</td>\n",
       "      <td>False</td>\n",
       "      <td>True</td>\n",
       "      <td>False</td>\n",
       "      <td>False</td>\n",
       "      <td>False</td>\n",
       "    </tr>\n",
       "    <tr>\n",
       "      <th>1</th>\n",
       "      <td>0.00</td>\n",
       "      <td>0.00</td>\n",
       "      <td>0.00</td>\n",
       "      <td>2007.0</td>\n",
       "      <td>False</td>\n",
       "      <td>False</td>\n",
       "      <td>False</td>\n",
       "      <td>False</td>\n",
       "      <td>False</td>\n",
       "      <td>False</td>\n",
       "      <td>...</td>\n",
       "      <td>True</td>\n",
       "      <td>False</td>\n",
       "      <td>False</td>\n",
       "      <td>False</td>\n",
       "      <td>False</td>\n",
       "      <td>False</td>\n",
       "      <td>False</td>\n",
       "      <td>False</td>\n",
       "      <td>False</td>\n",
       "      <td>False</td>\n",
       "    </tr>\n",
       "    <tr>\n",
       "      <th>2</th>\n",
       "      <td>0.00</td>\n",
       "      <td>0.03</td>\n",
       "      <td>0.01</td>\n",
       "      <td>2003.0</td>\n",
       "      <td>False</td>\n",
       "      <td>False</td>\n",
       "      <td>False</td>\n",
       "      <td>False</td>\n",
       "      <td>False</td>\n",
       "      <td>False</td>\n",
       "      <td>...</td>\n",
       "      <td>False</td>\n",
       "      <td>False</td>\n",
       "      <td>False</td>\n",
       "      <td>False</td>\n",
       "      <td>False</td>\n",
       "      <td>False</td>\n",
       "      <td>False</td>\n",
       "      <td>False</td>\n",
       "      <td>True</td>\n",
       "      <td>False</td>\n",
       "    </tr>\n",
       "    <tr>\n",
       "      <th>3</th>\n",
       "      <td>0.00</td>\n",
       "      <td>0.10</td>\n",
       "      <td>0.06</td>\n",
       "      <td>2007.0</td>\n",
       "      <td>False</td>\n",
       "      <td>False</td>\n",
       "      <td>False</td>\n",
       "      <td>False</td>\n",
       "      <td>False</td>\n",
       "      <td>False</td>\n",
       "      <td>...</td>\n",
       "      <td>False</td>\n",
       "      <td>False</td>\n",
       "      <td>False</td>\n",
       "      <td>False</td>\n",
       "      <td>False</td>\n",
       "      <td>False</td>\n",
       "      <td>False</td>\n",
       "      <td>True</td>\n",
       "      <td>False</td>\n",
       "      <td>False</td>\n",
       "    </tr>\n",
       "    <tr>\n",
       "      <th>4</th>\n",
       "      <td>0.01</td>\n",
       "      <td>0.00</td>\n",
       "      <td>0.00</td>\n",
       "      <td>2009.0</td>\n",
       "      <td>False</td>\n",
       "      <td>False</td>\n",
       "      <td>False</td>\n",
       "      <td>False</td>\n",
       "      <td>False</td>\n",
       "      <td>False</td>\n",
       "      <td>...</td>\n",
       "      <td>False</td>\n",
       "      <td>False</td>\n",
       "      <td>False</td>\n",
       "      <td>False</td>\n",
       "      <td>False</td>\n",
       "      <td>False</td>\n",
       "      <td>False</td>\n",
       "      <td>False</td>\n",
       "      <td>False</td>\n",
       "      <td>False</td>\n",
       "    </tr>\n",
       "  </tbody>\n",
       "</table>\n",
       "<p>5 rows × 39 columns</p>\n",
       "</div>"
      ],
      "text/plain": [
       "   JP_Sales  EU_Sales  Other_Sales    Year  Genre_Adventure  Genre_Fighting  \\\n",
       "0      0.00      0.12         0.02  2013.0            False           False   \n",
       "1      0.00      0.00         0.00  2007.0            False           False   \n",
       "2      0.00      0.03         0.01  2003.0            False           False   \n",
       "3      0.00      0.10         0.06  2007.0            False           False   \n",
       "4      0.01      0.00         0.00  2009.0            False           False   \n",
       "\n",
       "   Genre_Misc  Genre_Platform  Genre_Puzzle  Genre_Racing  ...  Platform_PSP  \\\n",
       "0       False           False         False          True  ...         False   \n",
       "1       False           False         False         False  ...          True   \n",
       "2       False           False         False         False  ...         False   \n",
       "3       False           False         False         False  ...         False   \n",
       "4       False           False         False         False  ...         False   \n",
       "\n",
       "   Platform_PSV  Platform_SAT  Platform_SNES  Platform_WS  Platform_Wii  \\\n",
       "0         False         False          False        False         False   \n",
       "1         False         False          False        False         False   \n",
       "2         False         False          False        False         False   \n",
       "3         False         False          False        False         False   \n",
       "4         False         False          False        False         False   \n",
       "\n",
       "   Platform_WiiU  Platform_X360  Platform_XB  Platform_XOne  \n",
       "0           True          False        False          False  \n",
       "1          False          False        False          False  \n",
       "2          False          False         True          False  \n",
       "3          False           True        False          False  \n",
       "4          False          False        False          False  \n",
       "\n",
       "[5 rows x 39 columns]"
      ]
     },
     "execution_count": 45,
     "metadata": {},
     "output_type": "execute_result"
    }
   ],
   "source": [
    "X = pd.get_dummies(X, drop_first=True)\n",
    "X.head()"
   ]
  },
  {
   "cell_type": "code",
   "execution_count": 46,
   "metadata": {},
   "outputs": [
    {
     "data": {
      "text/plain": [
       "0    0.14\n",
       "1    0.05\n",
       "2    0.12\n",
       "3    0.54\n",
       "4    0.00\n",
       "Name: NA_Sales, dtype: float64"
      ]
     },
     "execution_count": 46,
     "metadata": {},
     "output_type": "execute_result"
    }
   ],
   "source": [
    "y = df['NA_Sales']\n",
    "y.head()"
   ]
  },
  {
   "cell_type": "markdown",
   "metadata": {},
   "source": [
    "### Non-Regularized Linear Regression Model\n",
    "\n",
    "perform **k=5 fold cross validation** on a **non-regularized linear regression model**"
   ]
  },
  {
   "cell_type": "code",
   "execution_count": 47,
   "metadata": {},
   "outputs": [
    {
     "name": "stdout",
     "output_type": "stream",
     "text": [
      "CV MSE scores: [0.21949152 0.80410033 2.83554387 0.35467819 0.36810772]\n",
      "Average MSE: 0.92\n",
      "Std. error: 0.44\n"
     ]
    }
   ],
   "source": [
    "from sklearn.linear_model import Lasso, LinearRegression\n",
    "from sklearn.model_selection import cross_val_score\n",
    "finalmod = LinearRegression()\n",
    "scores0 = cross_val_score(finalmod, X, y, cv=5, \n",
    "                          scoring=\"neg_mean_squared_error\")\n",
    "print(\"CV MSE scores:\", -scores0)\n",
    "print(\"Average MSE:\", round(-scores0.mean(), 2))\n",
    "print(\"Std. error:\", round(scores0.std()/np.sqrt(len(scores0)), 2))"
   ]
  },
  {
   "cell_type": "markdown",
   "metadata": {},
   "source": [
    "### LASSO Linear Regression Model\n",
    "\n",
    "\n"
   ]
  },
  {
   "cell_type": "markdown",
   "metadata": {},
   "source": [
    "#### Cross-Validation for the LASSO Linear Regression with $\\lambda=0.1$\n"
   ]
  },
  {
   "cell_type": "code",
   "execution_count": 48,
   "metadata": {},
   "outputs": [],
   "source": [
    "from sklearn.linear_model import LassoCV\n",
    "model_1 = LassoCV(cv=5, alphas=[0.1]).fit(X, y)"
   ]
  },
  {
   "cell_type": "code",
   "execution_count": 49,
   "metadata": {},
   "outputs": [
    {
     "data": {
      "text/plain": [
       "array([0.1])"
      ]
     },
     "execution_count": 49,
     "metadata": {},
     "output_type": "execute_result"
    }
   ],
   "source": [
    "model_1.alphas_"
   ]
  },
  {
   "cell_type": "code",
   "execution_count": 50,
   "metadata": {
    "scrolled": true
   },
   "outputs": [
    {
     "data": {
      "text/html": [
       "<div>\n",
       "<style scoped>\n",
       "    .dataframe tbody tr th:only-of-type {\n",
       "        vertical-align: middle;\n",
       "    }\n",
       "\n",
       "    .dataframe tbody tr th {\n",
       "        vertical-align: top;\n",
       "    }\n",
       "\n",
       "    .dataframe thead th {\n",
       "        text-align: right;\n",
       "    }\n",
       "</style>\n",
       "<table border=\"1\" class=\"dataframe\">\n",
       "  <thead>\n",
       "    <tr style=\"text-align: right;\">\n",
       "      <th></th>\n",
       "      <th>0.1</th>\n",
       "    </tr>\n",
       "  </thead>\n",
       "  <tbody>\n",
       "    <tr>\n",
       "      <th>test_fold_1_avg_MSE</th>\n",
       "      <td>0.179351</td>\n",
       "    </tr>\n",
       "    <tr>\n",
       "      <th>test_fold_2_avg_MSE</th>\n",
       "      <td>0.362941</td>\n",
       "    </tr>\n",
       "    <tr>\n",
       "      <th>test_fold_3_avg_MSE</th>\n",
       "      <td>3.536751</td>\n",
       "    </tr>\n",
       "    <tr>\n",
       "      <th>test_fold_4_avg_MSE</th>\n",
       "      <td>0.401443</td>\n",
       "    </tr>\n",
       "    <tr>\n",
       "      <th>test_fold_5_avg_MSE</th>\n",
       "      <td>0.215648</td>\n",
       "    </tr>\n",
       "  </tbody>\n",
       "</table>\n",
       "</div>"
      ],
      "text/plain": [
       "                          0.1\n",
       "test_fold_1_avg_MSE  0.179351\n",
       "test_fold_2_avg_MSE  0.362941\n",
       "test_fold_3_avg_MSE  3.536751\n",
       "test_fold_4_avg_MSE  0.401443\n",
       "test_fold_5_avg_MSE  0.215648"
      ]
     },
     "execution_count": 50,
     "metadata": {},
     "output_type": "execute_result"
    }
   ],
   "source": [
    "test_mse_df_1= pd.DataFrame(model_1.mse_path_, columns=model_1.alphas_, index=['test_fold_%s_avg_MSE'%(str(i)) for i in range(1,6)])\n",
    "test_mse_df_1"
   ]
  },
  {
   "cell_type": "code",
   "execution_count": 51,
   "metadata": {},
   "outputs": [
    {
     "data": {
      "text/plain": [
       "0.9392269121043857"
      ]
     },
     "execution_count": 51,
     "metadata": {},
     "output_type": "execute_result"
    }
   ],
   "source": [
    "test_mse_df_1[0.1].mean()"
   ]
  },
  {
   "cell_type": "code",
   "execution_count": 52,
   "metadata": {},
   "outputs": [
    {
     "data": {
      "text/html": [
       "<div>\n",
       "<style scoped>\n",
       "    .dataframe tbody tr th:only-of-type {\n",
       "        vertical-align: middle;\n",
       "    }\n",
       "\n",
       "    .dataframe tbody tr th {\n",
       "        vertical-align: top;\n",
       "    }\n",
       "\n",
       "    .dataframe thead th {\n",
       "        text-align: right;\n",
       "    }\n",
       "</style>\n",
       "<table border=\"1\" class=\"dataframe\">\n",
       "  <thead>\n",
       "    <tr style=\"text-align: right;\">\n",
       "      <th></th>\n",
       "      <th>Best_LASSO_Slopes</th>\n",
       "    </tr>\n",
       "  </thead>\n",
       "  <tbody>\n",
       "    <tr>\n",
       "      <th>JP_Sales</th>\n",
       "      <td>0.897450</td>\n",
       "    </tr>\n",
       "    <tr>\n",
       "      <th>EU_Sales</th>\n",
       "      <td>0.913709</td>\n",
       "    </tr>\n",
       "    <tr>\n",
       "      <th>Other_Sales</th>\n",
       "      <td>0.000000</td>\n",
       "    </tr>\n",
       "    <tr>\n",
       "      <th>Year</th>\n",
       "      <td>-0.016565</td>\n",
       "    </tr>\n",
       "    <tr>\n",
       "      <th>Genre_Adventure</th>\n",
       "      <td>-0.000000</td>\n",
       "    </tr>\n",
       "    <tr>\n",
       "      <th>Genre_Fighting</th>\n",
       "      <td>-0.000000</td>\n",
       "    </tr>\n",
       "    <tr>\n",
       "      <th>Genre_Misc</th>\n",
       "      <td>-0.000000</td>\n",
       "    </tr>\n",
       "    <tr>\n",
       "      <th>Genre_Platform</th>\n",
       "      <td>0.000000</td>\n",
       "    </tr>\n",
       "    <tr>\n",
       "      <th>Genre_Puzzle</th>\n",
       "      <td>-0.000000</td>\n",
       "    </tr>\n",
       "    <tr>\n",
       "      <th>Genre_Racing</th>\n",
       "      <td>-0.000000</td>\n",
       "    </tr>\n",
       "    <tr>\n",
       "      <th>Genre_Role-Playing</th>\n",
       "      <td>-0.000000</td>\n",
       "    </tr>\n",
       "    <tr>\n",
       "      <th>Genre_Shooter</th>\n",
       "      <td>0.000000</td>\n",
       "    </tr>\n",
       "    <tr>\n",
       "      <th>Genre_Simulation</th>\n",
       "      <td>-0.000000</td>\n",
       "    </tr>\n",
       "    <tr>\n",
       "      <th>Genre_Sports</th>\n",
       "      <td>0.000000</td>\n",
       "    </tr>\n",
       "    <tr>\n",
       "      <th>Genre_Strategy</th>\n",
       "      <td>-0.000000</td>\n",
       "    </tr>\n",
       "    <tr>\n",
       "      <th>Platform_3DS</th>\n",
       "      <td>-0.000000</td>\n",
       "    </tr>\n",
       "    <tr>\n",
       "      <th>Platform_DC</th>\n",
       "      <td>-0.000000</td>\n",
       "    </tr>\n",
       "    <tr>\n",
       "      <th>Platform_DS</th>\n",
       "      <td>-0.000000</td>\n",
       "    </tr>\n",
       "    <tr>\n",
       "      <th>Platform_GB</th>\n",
       "      <td>-0.000000</td>\n",
       "    </tr>\n",
       "    <tr>\n",
       "      <th>Platform_GBA</th>\n",
       "      <td>-0.000000</td>\n",
       "    </tr>\n",
       "    <tr>\n",
       "      <th>Platform_GC</th>\n",
       "      <td>-0.000000</td>\n",
       "    </tr>\n",
       "    <tr>\n",
       "      <th>Platform_GEN</th>\n",
       "      <td>-0.000000</td>\n",
       "    </tr>\n",
       "    <tr>\n",
       "      <th>Platform_N64</th>\n",
       "      <td>0.000000</td>\n",
       "    </tr>\n",
       "    <tr>\n",
       "      <th>Platform_NES</th>\n",
       "      <td>0.000000</td>\n",
       "    </tr>\n",
       "    <tr>\n",
       "      <th>Platform_PC</th>\n",
       "      <td>-0.000000</td>\n",
       "    </tr>\n",
       "    <tr>\n",
       "      <th>Platform_PS</th>\n",
       "      <td>-0.000000</td>\n",
       "    </tr>\n",
       "    <tr>\n",
       "      <th>Platform_PS2</th>\n",
       "      <td>-0.000000</td>\n",
       "    </tr>\n",
       "    <tr>\n",
       "      <th>Platform_PS3</th>\n",
       "      <td>-0.000000</td>\n",
       "    </tr>\n",
       "    <tr>\n",
       "      <th>Platform_PS4</th>\n",
       "      <td>-0.000000</td>\n",
       "    </tr>\n",
       "    <tr>\n",
       "      <th>Platform_PSP</th>\n",
       "      <td>-0.000000</td>\n",
       "    </tr>\n",
       "    <tr>\n",
       "      <th>Platform_PSV</th>\n",
       "      <td>0.000000</td>\n",
       "    </tr>\n",
       "    <tr>\n",
       "      <th>Platform_SAT</th>\n",
       "      <td>-0.000000</td>\n",
       "    </tr>\n",
       "    <tr>\n",
       "      <th>Platform_SNES</th>\n",
       "      <td>-0.000000</td>\n",
       "    </tr>\n",
       "    <tr>\n",
       "      <th>Platform_WS</th>\n",
       "      <td>-0.000000</td>\n",
       "    </tr>\n",
       "    <tr>\n",
       "      <th>Platform_Wii</th>\n",
       "      <td>0.000000</td>\n",
       "    </tr>\n",
       "    <tr>\n",
       "      <th>Platform_WiiU</th>\n",
       "      <td>0.000000</td>\n",
       "    </tr>\n",
       "    <tr>\n",
       "      <th>Platform_X360</th>\n",
       "      <td>0.000000</td>\n",
       "    </tr>\n",
       "    <tr>\n",
       "      <th>Platform_XB</th>\n",
       "      <td>0.000000</td>\n",
       "    </tr>\n",
       "    <tr>\n",
       "      <th>Platform_XOne</th>\n",
       "      <td>0.000000</td>\n",
       "    </tr>\n",
       "  </tbody>\n",
       "</table>\n",
       "</div>"
      ],
      "text/plain": [
       "                    Best_LASSO_Slopes\n",
       "JP_Sales                     0.897450\n",
       "EU_Sales                     0.913709\n",
       "Other_Sales                  0.000000\n",
       "Year                        -0.016565\n",
       "Genre_Adventure             -0.000000\n",
       "Genre_Fighting              -0.000000\n",
       "Genre_Misc                  -0.000000\n",
       "Genre_Platform               0.000000\n",
       "Genre_Puzzle                -0.000000\n",
       "Genre_Racing                -0.000000\n",
       "Genre_Role-Playing          -0.000000\n",
       "Genre_Shooter                0.000000\n",
       "Genre_Simulation            -0.000000\n",
       "Genre_Sports                 0.000000\n",
       "Genre_Strategy              -0.000000\n",
       "Platform_3DS                -0.000000\n",
       "Platform_DC                 -0.000000\n",
       "Platform_DS                 -0.000000\n",
       "Platform_GB                 -0.000000\n",
       "Platform_GBA                -0.000000\n",
       "Platform_GC                 -0.000000\n",
       "Platform_GEN                -0.000000\n",
       "Platform_N64                 0.000000\n",
       "Platform_NES                 0.000000\n",
       "Platform_PC                 -0.000000\n",
       "Platform_PS                 -0.000000\n",
       "Platform_PS2                -0.000000\n",
       "Platform_PS3                -0.000000\n",
       "Platform_PS4                -0.000000\n",
       "Platform_PSP                -0.000000\n",
       "Platform_PSV                 0.000000\n",
       "Platform_SAT                -0.000000\n",
       "Platform_SNES               -0.000000\n",
       "Platform_WS                 -0.000000\n",
       "Platform_Wii                 0.000000\n",
       "Platform_WiiU                0.000000\n",
       "Platform_X360                0.000000\n",
       "Platform_XB                  0.000000\n",
       "Platform_XOne                0.000000"
      ]
     },
     "execution_count": 52,
     "metadata": {},
     "output_type": "execute_result"
    }
   ],
   "source": [
    "pd.DataFrame(model_1.coef_, columns=['Best_LASSO_Slopes'], index=X.columns)"
   ]
  },
  {
   "cell_type": "markdown",
   "metadata": {},
   "source": [
    "#### Cross-Validation for the LASSO Linear Regression with $\\lambda=0.5$\n"
   ]
  },
  {
   "cell_type": "code",
   "execution_count": 53,
   "metadata": {},
   "outputs": [],
   "source": [
    "model_5 = LassoCV(cv=5, alphas=[0.5]).fit(X, y)"
   ]
  },
  {
   "cell_type": "code",
   "execution_count": 54,
   "metadata": {},
   "outputs": [
    {
     "data": {
      "text/html": [
       "<div>\n",
       "<style scoped>\n",
       "    .dataframe tbody tr th:only-of-type {\n",
       "        vertical-align: middle;\n",
       "    }\n",
       "\n",
       "    .dataframe tbody tr th {\n",
       "        vertical-align: top;\n",
       "    }\n",
       "\n",
       "    .dataframe thead th {\n",
       "        text-align: right;\n",
       "    }\n",
       "</style>\n",
       "<table border=\"1\" class=\"dataframe\">\n",
       "  <thead>\n",
       "    <tr style=\"text-align: right;\">\n",
       "      <th></th>\n",
       "      <th>0.5</th>\n",
       "    </tr>\n",
       "  </thead>\n",
       "  <tbody>\n",
       "    <tr>\n",
       "      <th>test_fold_1_avg_MSE</th>\n",
       "      <td>0.345153</td>\n",
       "    </tr>\n",
       "    <tr>\n",
       "      <th>test_fold_2_avg_MSE</th>\n",
       "      <td>0.464644</td>\n",
       "    </tr>\n",
       "    <tr>\n",
       "      <th>test_fold_3_avg_MSE</th>\n",
       "      <td>4.845861</td>\n",
       "    </tr>\n",
       "    <tr>\n",
       "      <th>test_fold_4_avg_MSE</th>\n",
       "      <td>1.854547</td>\n",
       "    </tr>\n",
       "    <tr>\n",
       "      <th>test_fold_5_avg_MSE</th>\n",
       "      <td>0.255460</td>\n",
       "    </tr>\n",
       "  </tbody>\n",
       "</table>\n",
       "</div>"
      ],
      "text/plain": [
       "                          0.5\n",
       "test_fold_1_avg_MSE  0.345153\n",
       "test_fold_2_avg_MSE  0.464644\n",
       "test_fold_3_avg_MSE  4.845861\n",
       "test_fold_4_avg_MSE  1.854547\n",
       "test_fold_5_avg_MSE  0.255460"
      ]
     },
     "execution_count": 54,
     "metadata": {},
     "output_type": "execute_result"
    }
   ],
   "source": [
    "test_mse_df_5= pd.DataFrame(model_5.mse_path_, columns=model_5.alphas_, index=['test_fold_%s_avg_MSE'%(str(i)) for i in range(1,6)])\n",
    "test_mse_df_5"
   ]
  },
  {
   "cell_type": "code",
   "execution_count": 55,
   "metadata": {},
   "outputs": [
    {
     "data": {
      "text/plain": [
       "1.553133256436981"
      ]
     },
     "execution_count": 55,
     "metadata": {},
     "output_type": "execute_result"
    }
   ],
   "source": [
    "test_mse_df_5[0.5].mean()"
   ]
  },
  {
   "cell_type": "code",
   "execution_count": 56,
   "metadata": {},
   "outputs": [
    {
     "data": {
      "text/html": [
       "<div>\n",
       "<style scoped>\n",
       "    .dataframe tbody tr th:only-of-type {\n",
       "        vertical-align: middle;\n",
       "    }\n",
       "\n",
       "    .dataframe tbody tr th {\n",
       "        vertical-align: top;\n",
       "    }\n",
       "\n",
       "    .dataframe thead th {\n",
       "        text-align: right;\n",
       "    }\n",
       "</style>\n",
       "<table border=\"1\" class=\"dataframe\">\n",
       "  <thead>\n",
       "    <tr style=\"text-align: right;\">\n",
       "      <th></th>\n",
       "      <th>Best_LASSO_Slopes</th>\n",
       "    </tr>\n",
       "  </thead>\n",
       "  <tbody>\n",
       "    <tr>\n",
       "      <th>JP_Sales</th>\n",
       "      <td>0.000000</td>\n",
       "    </tr>\n",
       "    <tr>\n",
       "      <th>EU_Sales</th>\n",
       "      <td>0.000000</td>\n",
       "    </tr>\n",
       "    <tr>\n",
       "      <th>Other_Sales</th>\n",
       "      <td>0.000000</td>\n",
       "    </tr>\n",
       "    <tr>\n",
       "      <th>Year</th>\n",
       "      <td>-0.021487</td>\n",
       "    </tr>\n",
       "    <tr>\n",
       "      <th>Genre_Adventure</th>\n",
       "      <td>-0.000000</td>\n",
       "    </tr>\n",
       "    <tr>\n",
       "      <th>Genre_Fighting</th>\n",
       "      <td>0.000000</td>\n",
       "    </tr>\n",
       "    <tr>\n",
       "      <th>Genre_Misc</th>\n",
       "      <td>-0.000000</td>\n",
       "    </tr>\n",
       "    <tr>\n",
       "      <th>Genre_Platform</th>\n",
       "      <td>0.000000</td>\n",
       "    </tr>\n",
       "    <tr>\n",
       "      <th>Genre_Puzzle</th>\n",
       "      <td>-0.000000</td>\n",
       "    </tr>\n",
       "    <tr>\n",
       "      <th>Genre_Racing</th>\n",
       "      <td>-0.000000</td>\n",
       "    </tr>\n",
       "    <tr>\n",
       "      <th>Genre_Role-Playing</th>\n",
       "      <td>-0.000000</td>\n",
       "    </tr>\n",
       "    <tr>\n",
       "      <th>Genre_Shooter</th>\n",
       "      <td>0.000000</td>\n",
       "    </tr>\n",
       "    <tr>\n",
       "      <th>Genre_Simulation</th>\n",
       "      <td>-0.000000</td>\n",
       "    </tr>\n",
       "    <tr>\n",
       "      <th>Genre_Sports</th>\n",
       "      <td>0.000000</td>\n",
       "    </tr>\n",
       "    <tr>\n",
       "      <th>Genre_Strategy</th>\n",
       "      <td>-0.000000</td>\n",
       "    </tr>\n",
       "    <tr>\n",
       "      <th>Platform_3DS</th>\n",
       "      <td>0.000000</td>\n",
       "    </tr>\n",
       "    <tr>\n",
       "      <th>Platform_DC</th>\n",
       "      <td>-0.000000</td>\n",
       "    </tr>\n",
       "    <tr>\n",
       "      <th>Platform_DS</th>\n",
       "      <td>-0.000000</td>\n",
       "    </tr>\n",
       "    <tr>\n",
       "      <th>Platform_GB</th>\n",
       "      <td>0.000000</td>\n",
       "    </tr>\n",
       "    <tr>\n",
       "      <th>Platform_GBA</th>\n",
       "      <td>-0.000000</td>\n",
       "    </tr>\n",
       "    <tr>\n",
       "      <th>Platform_GC</th>\n",
       "      <td>-0.000000</td>\n",
       "    </tr>\n",
       "    <tr>\n",
       "      <th>Platform_GEN</th>\n",
       "      <td>-0.000000</td>\n",
       "    </tr>\n",
       "    <tr>\n",
       "      <th>Platform_N64</th>\n",
       "      <td>0.000000</td>\n",
       "    </tr>\n",
       "    <tr>\n",
       "      <th>Platform_NES</th>\n",
       "      <td>0.000000</td>\n",
       "    </tr>\n",
       "    <tr>\n",
       "      <th>Platform_PC</th>\n",
       "      <td>-0.000000</td>\n",
       "    </tr>\n",
       "    <tr>\n",
       "      <th>Platform_PS</th>\n",
       "      <td>-0.000000</td>\n",
       "    </tr>\n",
       "    <tr>\n",
       "      <th>Platform_PS2</th>\n",
       "      <td>-0.000000</td>\n",
       "    </tr>\n",
       "    <tr>\n",
       "      <th>Platform_PS3</th>\n",
       "      <td>0.000000</td>\n",
       "    </tr>\n",
       "    <tr>\n",
       "      <th>Platform_PS4</th>\n",
       "      <td>0.000000</td>\n",
       "    </tr>\n",
       "    <tr>\n",
       "      <th>Platform_PSP</th>\n",
       "      <td>-0.000000</td>\n",
       "    </tr>\n",
       "    <tr>\n",
       "      <th>Platform_PSV</th>\n",
       "      <td>-0.000000</td>\n",
       "    </tr>\n",
       "    <tr>\n",
       "      <th>Platform_SAT</th>\n",
       "      <td>-0.000000</td>\n",
       "    </tr>\n",
       "    <tr>\n",
       "      <th>Platform_SNES</th>\n",
       "      <td>-0.000000</td>\n",
       "    </tr>\n",
       "    <tr>\n",
       "      <th>Platform_WS</th>\n",
       "      <td>-0.000000</td>\n",
       "    </tr>\n",
       "    <tr>\n",
       "      <th>Platform_Wii</th>\n",
       "      <td>0.000000</td>\n",
       "    </tr>\n",
       "    <tr>\n",
       "      <th>Platform_WiiU</th>\n",
       "      <td>0.000000</td>\n",
       "    </tr>\n",
       "    <tr>\n",
       "      <th>Platform_X360</th>\n",
       "      <td>0.000000</td>\n",
       "    </tr>\n",
       "    <tr>\n",
       "      <th>Platform_XB</th>\n",
       "      <td>-0.000000</td>\n",
       "    </tr>\n",
       "    <tr>\n",
       "      <th>Platform_XOne</th>\n",
       "      <td>0.000000</td>\n",
       "    </tr>\n",
       "  </tbody>\n",
       "</table>\n",
       "</div>"
      ],
      "text/plain": [
       "                    Best_LASSO_Slopes\n",
       "JP_Sales                     0.000000\n",
       "EU_Sales                     0.000000\n",
       "Other_Sales                  0.000000\n",
       "Year                        -0.021487\n",
       "Genre_Adventure             -0.000000\n",
       "Genre_Fighting               0.000000\n",
       "Genre_Misc                  -0.000000\n",
       "Genre_Platform               0.000000\n",
       "Genre_Puzzle                -0.000000\n",
       "Genre_Racing                -0.000000\n",
       "Genre_Role-Playing          -0.000000\n",
       "Genre_Shooter                0.000000\n",
       "Genre_Simulation            -0.000000\n",
       "Genre_Sports                 0.000000\n",
       "Genre_Strategy              -0.000000\n",
       "Platform_3DS                 0.000000\n",
       "Platform_DC                 -0.000000\n",
       "Platform_DS                 -0.000000\n",
       "Platform_GB                  0.000000\n",
       "Platform_GBA                -0.000000\n",
       "Platform_GC                 -0.000000\n",
       "Platform_GEN                -0.000000\n",
       "Platform_N64                 0.000000\n",
       "Platform_NES                 0.000000\n",
       "Platform_PC                 -0.000000\n",
       "Platform_PS                 -0.000000\n",
       "Platform_PS2                -0.000000\n",
       "Platform_PS3                 0.000000\n",
       "Platform_PS4                 0.000000\n",
       "Platform_PSP                -0.000000\n",
       "Platform_PSV                -0.000000\n",
       "Platform_SAT                -0.000000\n",
       "Platform_SNES               -0.000000\n",
       "Platform_WS                 -0.000000\n",
       "Platform_Wii                 0.000000\n",
       "Platform_WiiU                0.000000\n",
       "Platform_X360                0.000000\n",
       "Platform_XB                 -0.000000\n",
       "Platform_XOne                0.000000"
      ]
     },
     "execution_count": 56,
     "metadata": {},
     "output_type": "execute_result"
    }
   ],
   "source": [
    "pd.DataFrame(model_5.coef_, columns=['Best_LASSO_Slopes'], index=X.columns)"
   ]
  },
  {
   "cell_type": "markdown",
   "metadata": {},
   "source": [
    "#### Comparison of different LASSO Model\n"
   ]
  },
  {
   "cell_type": "markdown",
   "metadata": {},
   "source": [
    "the model with $\\lambda$ = 0.1 is better, because the average MSE is lower. the results would help me remove the 'Other_Sales' variable to select reduced model. "
   ]
  },
  {
   "cell_type": "markdown",
   "metadata": {},
   "source": [
    "#### Best Overall Model:\n",
    "1. the non-regularized linear regression model,\n",
    "2. the LASSO linear regression model with regularization parameter $\\lambda=0.1$, and \n",
    "3. the LASSO linear regression model with regularization parameter $\\lambda=0.5$,\n"
   ]
  },
  {
   "cell_type": "markdown",
   "metadata": {},
   "source": [
    "In comparison, the non-regularized linear regression model, because it has the lowest average MSE of 0.92. We would expect the reduced model to have a better performance.  "
   ]
  },
  {
   "cell_type": "markdown",
   "metadata": {},
   "source": [
    "### Full vs. Reduced Models using Adjusted $R^2$\n",
    "\n",
    "#### Full Model Adjusted $R^2$"
   ]
  },
  {
   "cell_type": "code",
   "execution_count": 57,
   "metadata": {},
   "outputs": [
    {
     "data": {
      "text/plain": [
       "0.681406995454565"
      ]
     },
     "execution_count": 57,
     "metadata": {},
     "output_type": "execute_result"
    }
   ],
   "source": [
    "full_mod = smf.ols('NA_Sales ~ JP_Sales + EU_Sales + Other_Sales + Genre + Platform + Year', data = df).fit()\n",
    "full_rsquare = full_mod.rsquared_adj\n",
    "full_rsquare"
   ]
  },
  {
   "cell_type": "markdown",
   "metadata": {},
   "source": [
    "#### Reduced Model Adjusted $R^2$\n"
   ]
  },
  {
   "cell_type": "code",
   "execution_count": 58,
   "metadata": {},
   "outputs": [
    {
     "data": {
      "text/plain": [
       "0.6540249538523779"
      ]
     },
     "execution_count": 58,
     "metadata": {},
     "output_type": "execute_result"
    }
   ],
   "source": [
    "reduced_mod = smf.ols('NA_Sales ~ JP_Sales + EU_Sales + Year', data = df).fit()\n",
    "reduced_rsquare = reduced_mod.rsquared_adj\n",
    "reduced_rsquare"
   ]
  },
  {
   "cell_type": "markdown",
   "metadata": {},
   "source": [
    "#### Conclusion\n"
   ]
  },
  {
   "cell_type": "markdown",
   "metadata": {},
   "source": [
    "1. the adjusted R-squared looks at whether additional input variables are contributing to the model.\n",
    "2. the adjusted R-squared of full model is higher, so the full model will more likely perform better for new dataset. "
   ]
  },
  {
   "cell_type": "markdown",
   "metadata": {},
   "source": [
    "### Full Linear Regression Model - Inference and Predictions\n",
    "\n",
    "Next, let's fit our **full linear regression model** given all 6 explanatory variables:\n",
    "* Japan sales numbers\n",
    "* European sales number\n",
    "* other region sales numbers\n",
    "* Genre\n",
    "* Platform\n",
    "* Year.\n"
   ]
  },
  {
   "cell_type": "code",
   "execution_count": 59,
   "metadata": {},
   "outputs": [
    {
     "data": {
      "text/html": [
       "<table class=\"simpletable\">\n",
       "<caption>OLS Regression Results</caption>\n",
       "<tr>\n",
       "  <th>Dep. Variable:</th>        <td>NA_Sales</td>     <th>  R-squared:         </th> <td>   0.646</td>\n",
       "</tr>\n",
       "<tr>\n",
       "  <th>Model:</th>                   <td>OLS</td>       <th>  Adj. R-squared:    </th> <td>   0.631</td>\n",
       "</tr>\n",
       "<tr>\n",
       "  <th>Method:</th>             <td>Least Squares</td>  <th>  F-statistic:       </th> <td>   42.99</td>\n",
       "</tr>\n",
       "<tr>\n",
       "  <th>Date:</th>             <td>Tue, 05 Dec 2023</td> <th>  Prob (F-statistic):</th> <td>3.05e-88</td>\n",
       "</tr>\n",
       "<tr>\n",
       "  <th>Time:</th>                 <td>15:42:20</td>     <th>  Log-Likelihood:    </th> <td> -159.60</td>\n",
       "</tr>\n",
       "<tr>\n",
       "  <th>No. Observations:</th>      <td>   467</td>      <th>  AIC:               </th> <td>   359.2</td>\n",
       "</tr>\n",
       "<tr>\n",
       "  <th>Df Residuals:</th>          <td>   447</td>      <th>  BIC:               </th> <td>   442.1</td>\n",
       "</tr>\n",
       "<tr>\n",
       "  <th>Df Model:</th>              <td>    19</td>      <th>                     </th>     <td> </td>   \n",
       "</tr>\n",
       "<tr>\n",
       "  <th>Covariance Type:</th>      <td>nonrobust</td>    <th>                     </th>     <td> </td>   \n",
       "</tr>\n",
       "</table>\n",
       "<table class=\"simpletable\">\n",
       "<tr>\n",
       "            <td></td>               <th>coef</th>     <th>std err</th>      <th>t</th>      <th>P>|t|</th>  <th>[0.025</th>    <th>0.975]</th>  \n",
       "</tr>\n",
       "<tr>\n",
       "  <th>Intercept</th>             <td>    8.5693</td> <td>   14.759</td> <td>    0.581</td> <td> 0.562</td> <td>  -20.436</td> <td>   37.575</td>\n",
       "</tr>\n",
       "<tr>\n",
       "  <th>Genre[T.Adventure]</th>    <td>   -0.0621</td> <td>    0.065</td> <td>   -0.953</td> <td> 0.341</td> <td>   -0.190</td> <td>    0.066</td>\n",
       "</tr>\n",
       "<tr>\n",
       "  <th>Genre[T.Fighting]</th>     <td>   -0.0162</td> <td>    0.082</td> <td>   -0.198</td> <td> 0.843</td> <td>   -0.176</td> <td>    0.144</td>\n",
       "</tr>\n",
       "<tr>\n",
       "  <th>Genre[T.Misc]</th>         <td>   -0.0741</td> <td>    0.063</td> <td>   -1.185</td> <td> 0.237</td> <td>   -0.197</td> <td>    0.049</td>\n",
       "</tr>\n",
       "<tr>\n",
       "  <th>Genre[T.Platform]</th>     <td>    0.1109</td> <td>    0.092</td> <td>    1.210</td> <td> 0.227</td> <td>   -0.069</td> <td>    0.291</td>\n",
       "</tr>\n",
       "<tr>\n",
       "  <th>Genre[T.Puzzle]</th>       <td>   -0.0341</td> <td>    0.080</td> <td>   -0.425</td> <td> 0.671</td> <td>   -0.192</td> <td>    0.124</td>\n",
       "</tr>\n",
       "<tr>\n",
       "  <th>Genre[T.Racing]</th>       <td>   -0.2337</td> <td>    0.082</td> <td>   -2.839</td> <td> 0.005</td> <td>   -0.395</td> <td>   -0.072</td>\n",
       "</tr>\n",
       "<tr>\n",
       "  <th>Genre[T.Role-Playing]</th> <td>    0.0262</td> <td>    0.064</td> <td>    0.409</td> <td> 0.683</td> <td>   -0.100</td> <td>    0.152</td>\n",
       "</tr>\n",
       "<tr>\n",
       "  <th>Genre[T.Shooter]</th>      <td>    0.0249</td> <td>    0.074</td> <td>    0.339</td> <td> 0.735</td> <td>   -0.120</td> <td>    0.169</td>\n",
       "</tr>\n",
       "<tr>\n",
       "  <th>Genre[T.Simulation]</th>   <td>   -0.0217</td> <td>    0.082</td> <td>   -0.266</td> <td> 0.790</td> <td>   -0.182</td> <td>    0.139</td>\n",
       "</tr>\n",
       "<tr>\n",
       "  <th>Genre[T.Sports]</th>       <td>    0.0425</td> <td>    0.060</td> <td>    0.711</td> <td> 0.477</td> <td>   -0.075</td> <td>    0.160</td>\n",
       "</tr>\n",
       "<tr>\n",
       "  <th>Genre[T.Strategy]</th>     <td>   -0.0592</td> <td>    0.084</td> <td>   -0.702</td> <td> 0.483</td> <td>   -0.225</td> <td>    0.106</td>\n",
       "</tr>\n",
       "<tr>\n",
       "  <th>Platform[T.PS2]</th>       <td>   -0.0313</td> <td>    0.055</td> <td>   -0.572</td> <td> 0.567</td> <td>   -0.139</td> <td>    0.076</td>\n",
       "</tr>\n",
       "<tr>\n",
       "  <th>Platform[T.PS3]</th>       <td>   -0.1223</td> <td>    0.059</td> <td>   -2.087</td> <td> 0.037</td> <td>   -0.237</td> <td>   -0.007</td>\n",
       "</tr>\n",
       "<tr>\n",
       "  <th>Platform[T.PSP]</th>       <td>   -0.0694</td> <td>    0.054</td> <td>   -1.287</td> <td> 0.199</td> <td>   -0.175</td> <td>    0.037</td>\n",
       "</tr>\n",
       "<tr>\n",
       "  <th>Platform[T.X360]</th>      <td>    0.1992</td> <td>    0.058</td> <td>    3.423</td> <td> 0.001</td> <td>    0.085</td> <td>    0.314</td>\n",
       "</tr>\n",
       "<tr>\n",
       "  <th>JP_Sales</th>              <td>    0.1255</td> <td>    0.082</td> <td>    1.528</td> <td> 0.127</td> <td>   -0.036</td> <td>    0.287</td>\n",
       "</tr>\n",
       "<tr>\n",
       "  <th>EU_Sales</th>              <td>    0.8080</td> <td>    0.083</td> <td>    9.761</td> <td> 0.000</td> <td>    0.645</td> <td>    0.971</td>\n",
       "</tr>\n",
       "<tr>\n",
       "  <th>Other_Sales</th>           <td>    1.1747</td> <td>    0.201</td> <td>    5.855</td> <td> 0.000</td> <td>    0.780</td> <td>    1.569</td>\n",
       "</tr>\n",
       "<tr>\n",
       "  <th>Year</th>                  <td>   -0.0042</td> <td>    0.007</td> <td>   -0.575</td> <td> 0.566</td> <td>   -0.019</td> <td>    0.010</td>\n",
       "</tr>\n",
       "</table>\n",
       "<table class=\"simpletable\">\n",
       "<tr>\n",
       "  <th>Omnibus:</th>       <td>286.059</td> <th>  Durbin-Watson:     </th> <td>   1.890</td>\n",
       "</tr>\n",
       "<tr>\n",
       "  <th>Prob(Omnibus):</th> <td> 0.000</td>  <th>  Jarque-Bera (JB):  </th> <td>7463.291</td>\n",
       "</tr>\n",
       "<tr>\n",
       "  <th>Skew:</th>          <td> 2.149</td>  <th>  Prob(JB):          </th> <td>    0.00</td>\n",
       "</tr>\n",
       "<tr>\n",
       "  <th>Kurtosis:</th>      <td>22.107</td>  <th>  Cond. No.          </th> <td>1.84e+06</td>\n",
       "</tr>\n",
       "</table><br/><br/>Notes:<br/>[1] Standard Errors assume that the covariance matrix of the errors is correctly specified.<br/>[2] The condition number is large, 1.84e+06. This might indicate that there are<br/>strong multicollinearity or other numerical problems."
      ],
      "text/latex": [
       "\\begin{center}\n",
       "\\begin{tabular}{lclc}\n",
       "\\toprule\n",
       "\\textbf{Dep. Variable:}        &    NA\\_Sales     & \\textbf{  R-squared:         } &     0.646   \\\\\n",
       "\\textbf{Model:}                &       OLS        & \\textbf{  Adj. R-squared:    } &     0.631   \\\\\n",
       "\\textbf{Method:}               &  Least Squares   & \\textbf{  F-statistic:       } &     42.99   \\\\\n",
       "\\textbf{Date:}                 & Tue, 05 Dec 2023 & \\textbf{  Prob (F-statistic):} &  3.05e-88   \\\\\n",
       "\\textbf{Time:}                 &     15:42:20     & \\textbf{  Log-Likelihood:    } &   -159.60   \\\\\n",
       "\\textbf{No. Observations:}     &         467      & \\textbf{  AIC:               } &     359.2   \\\\\n",
       "\\textbf{Df Residuals:}         &         447      & \\textbf{  BIC:               } &     442.1   \\\\\n",
       "\\textbf{Df Model:}             &          19      & \\textbf{                     } &             \\\\\n",
       "\\textbf{Covariance Type:}      &    nonrobust     & \\textbf{                     } &             \\\\\n",
       "\\bottomrule\n",
       "\\end{tabular}\n",
       "\\begin{tabular}{lcccccc}\n",
       "                               & \\textbf{coef} & \\textbf{std err} & \\textbf{t} & \\textbf{P$> |$t$|$} & \\textbf{[0.025} & \\textbf{0.975]}  \\\\\n",
       "\\midrule\n",
       "\\textbf{Intercept}             &       8.5693  &       14.759     &     0.581  &         0.562        &      -20.436    &       37.575     \\\\\n",
       "\\textbf{Genre[T.Adventure]}    &      -0.0621  &        0.065     &    -0.953  &         0.341        &       -0.190    &        0.066     \\\\\n",
       "\\textbf{Genre[T.Fighting]}     &      -0.0162  &        0.082     &    -0.198  &         0.843        &       -0.176    &        0.144     \\\\\n",
       "\\textbf{Genre[T.Misc]}         &      -0.0741  &        0.063     &    -1.185  &         0.237        &       -0.197    &        0.049     \\\\\n",
       "\\textbf{Genre[T.Platform]}     &       0.1109  &        0.092     &     1.210  &         0.227        &       -0.069    &        0.291     \\\\\n",
       "\\textbf{Genre[T.Puzzle]}       &      -0.0341  &        0.080     &    -0.425  &         0.671        &       -0.192    &        0.124     \\\\\n",
       "\\textbf{Genre[T.Racing]}       &      -0.2337  &        0.082     &    -2.839  &         0.005        &       -0.395    &       -0.072     \\\\\n",
       "\\textbf{Genre[T.Role-Playing]} &       0.0262  &        0.064     &     0.409  &         0.683        &       -0.100    &        0.152     \\\\\n",
       "\\textbf{Genre[T.Shooter]}      &       0.0249  &        0.074     &     0.339  &         0.735        &       -0.120    &        0.169     \\\\\n",
       "\\textbf{Genre[T.Simulation]}   &      -0.0217  &        0.082     &    -0.266  &         0.790        &       -0.182    &        0.139     \\\\\n",
       "\\textbf{Genre[T.Sports]}       &       0.0425  &        0.060     &     0.711  &         0.477        &       -0.075    &        0.160     \\\\\n",
       "\\textbf{Genre[T.Strategy]}     &      -0.0592  &        0.084     &    -0.702  &         0.483        &       -0.225    &        0.106     \\\\\n",
       "\\textbf{Platform[T.PS2]}       &      -0.0313  &        0.055     &    -0.572  &         0.567        &       -0.139    &        0.076     \\\\\n",
       "\\textbf{Platform[T.PS3]}       &      -0.1223  &        0.059     &    -2.087  &         0.037        &       -0.237    &       -0.007     \\\\\n",
       "\\textbf{Platform[T.PSP]}       &      -0.0694  &        0.054     &    -1.287  &         0.199        &       -0.175    &        0.037     \\\\\n",
       "\\textbf{Platform[T.X360]}      &       0.1992  &        0.058     &     3.423  &         0.001        &        0.085    &        0.314     \\\\\n",
       "\\textbf{JP\\_Sales}             &       0.1255  &        0.082     &     1.528  &         0.127        &       -0.036    &        0.287     \\\\\n",
       "\\textbf{EU\\_Sales}             &       0.8080  &        0.083     &     9.761  &         0.000        &        0.645    &        0.971     \\\\\n",
       "\\textbf{Other\\_Sales}          &       1.1747  &        0.201     &     5.855  &         0.000        &        0.780    &        1.569     \\\\\n",
       "\\textbf{Year}                  &      -0.0042  &        0.007     &    -0.575  &         0.566        &       -0.019    &        0.010     \\\\\n",
       "\\bottomrule\n",
       "\\end{tabular}\n",
       "\\begin{tabular}{lclc}\n",
       "\\textbf{Omnibus:}       & 286.059 & \\textbf{  Durbin-Watson:     } &    1.890  \\\\\n",
       "\\textbf{Prob(Omnibus):} &   0.000 & \\textbf{  Jarque-Bera (JB):  } & 7463.291  \\\\\n",
       "\\textbf{Skew:}          &   2.149 & \\textbf{  Prob(JB):          } &     0.00  \\\\\n",
       "\\textbf{Kurtosis:}      &  22.107 & \\textbf{  Cond. No.          } & 1.84e+06  \\\\\n",
       "\\bottomrule\n",
       "\\end{tabular}\n",
       "%\\caption{OLS Regression Results}\n",
       "\\end{center}\n",
       "\n",
       "Notes: \\newline\n",
       " [1] Standard Errors assume that the covariance matrix of the errors is correctly specified. \\newline\n",
       " [2] The condition number is large, 1.84e+06. This might indicate that there are \\newline\n",
       " strong multicollinearity or other numerical problems."
      ],
      "text/plain": [
       "<class 'statsmodels.iolib.summary.Summary'>\n",
       "\"\"\"\n",
       "                            OLS Regression Results                            \n",
       "==============================================================================\n",
       "Dep. Variable:               NA_Sales   R-squared:                       0.646\n",
       "Model:                            OLS   Adj. R-squared:                  0.631\n",
       "Method:                 Least Squares   F-statistic:                     42.99\n",
       "Date:                Tue, 05 Dec 2023   Prob (F-statistic):           3.05e-88\n",
       "Time:                        15:42:20   Log-Likelihood:                -159.60\n",
       "No. Observations:                 467   AIC:                             359.2\n",
       "Df Residuals:                     447   BIC:                             442.1\n",
       "Df Model:                          19                                         \n",
       "Covariance Type:            nonrobust                                         \n",
       "=========================================================================================\n",
       "                            coef    std err          t      P>|t|      [0.025      0.975]\n",
       "-----------------------------------------------------------------------------------------\n",
       "Intercept                 8.5693     14.759      0.581      0.562     -20.436      37.575\n",
       "Genre[T.Adventure]       -0.0621      0.065     -0.953      0.341      -0.190       0.066\n",
       "Genre[T.Fighting]        -0.0162      0.082     -0.198      0.843      -0.176       0.144\n",
       "Genre[T.Misc]            -0.0741      0.063     -1.185      0.237      -0.197       0.049\n",
       "Genre[T.Platform]         0.1109      0.092      1.210      0.227      -0.069       0.291\n",
       "Genre[T.Puzzle]          -0.0341      0.080     -0.425      0.671      -0.192       0.124\n",
       "Genre[T.Racing]          -0.2337      0.082     -2.839      0.005      -0.395      -0.072\n",
       "Genre[T.Role-Playing]     0.0262      0.064      0.409      0.683      -0.100       0.152\n",
       "Genre[T.Shooter]          0.0249      0.074      0.339      0.735      -0.120       0.169\n",
       "Genre[T.Simulation]      -0.0217      0.082     -0.266      0.790      -0.182       0.139\n",
       "Genre[T.Sports]           0.0425      0.060      0.711      0.477      -0.075       0.160\n",
       "Genre[T.Strategy]        -0.0592      0.084     -0.702      0.483      -0.225       0.106\n",
       "Platform[T.PS2]          -0.0313      0.055     -0.572      0.567      -0.139       0.076\n",
       "Platform[T.PS3]          -0.1223      0.059     -2.087      0.037      -0.237      -0.007\n",
       "Platform[T.PSP]          -0.0694      0.054     -1.287      0.199      -0.175       0.037\n",
       "Platform[T.X360]          0.1992      0.058      3.423      0.001       0.085       0.314\n",
       "JP_Sales                  0.1255      0.082      1.528      0.127      -0.036       0.287\n",
       "EU_Sales                  0.8080      0.083      9.761      0.000       0.645       0.971\n",
       "Other_Sales               1.1747      0.201      5.855      0.000       0.780       1.569\n",
       "Year                     -0.0042      0.007     -0.575      0.566      -0.019       0.010\n",
       "==============================================================================\n",
       "Omnibus:                      286.059   Durbin-Watson:                   1.890\n",
       "Prob(Omnibus):                  0.000   Jarque-Bera (JB):             7463.291\n",
       "Skew:                           2.149   Prob(JB):                         0.00\n",
       "Kurtosis:                      22.107   Cond. No.                     1.84e+06\n",
       "==============================================================================\n",
       "\n",
       "Notes:\n",
       "[1] Standard Errors assume that the covariance matrix of the errors is correctly specified.\n",
       "[2] The condition number is large, 1.84e+06. This might indicate that there are\n",
       "strong multicollinearity or other numerical problems.\n",
       "\"\"\""
      ]
     },
     "execution_count": 59,
     "metadata": {},
     "output_type": "execute_result"
    }
   ],
   "source": [
    "df2 = df[(df['Platform'] == 'DS') | (df['Platform'] == 'PS2') | (df['Platform'] == 'PS3') | (df['Platform'] == 'PSP') | (df['Platform'] == 'X360')]\n",
    "full_model = smf.ols('NA_Sales ~ JP_Sales + EU_Sales + Other_Sales + Genre + Platform + Year', data = df2).fit()\n",
    "full_model.summary()"
   ]
  },
  {
   "cell_type": "code",
   "execution_count": 61,
   "metadata": {},
   "outputs": [
    {
     "name": "stdout",
     "output_type": "stream",
     "text": [
      "36.87215057122821 % of NA_sale variability is NOT explained by this full model\n"
     ]
    }
   ],
   "source": [
    "per = 1 - full_model.rsquared_adj\n",
    "print(per*100, '% of NA_sale variability is NOT explained by this full model')"
   ]
  },
  {
   "cell_type": "markdown",
   "metadata": {},
   "source": [
    "Next, to determine if there is a relationship between EU_Sales and NA_Sales in the corresponding population model. \n",
    "\n",
    "Hypotheses:"
   ]
  },
  {
   "cell_type": "markdown",
   "metadata": {},
   "source": [
    "$H_{0} : \\beta_{17} = 0$\n",
    "\n",
    "$H_{A} : \\beta_{17}\\neq 0$"
   ]
  },
  {
   "cell_type": "markdown",
   "metadata": {},
   "source": [
    "#### 95% Confidence Interval\n"
   ]
  },
  {
   "cell_type": "code",
   "execution_count": 62,
   "metadata": {},
   "outputs": [
    {
     "name": "stdout",
     "output_type": "stream",
     "text": [
      "point estimate:  0.808\n",
      "standard error:  0.083\n",
      "n: 467\n",
      "number of slopes:  19\n",
      "critical value:  1.965285233654453\n"
     ]
    }
   ],
   "source": [
    "from scipy.stats import t \n",
    " \n",
    "point_estimate = 0.8080 \n",
    "print('point estimate: ', point_estimate) \n",
    " \n",
    "standard_error = 0.083 \n",
    "print('standard error: ', standard_error) \n",
    " \n",
    "n=df2.shape[0] \n",
    "print('n:', n) \n",
    " \n",
    "p = 19\n",
    "print('number of slopes: ', p) \n",
    " \n",
    "critical_value = t.ppf(0.975, df=n-p-1) \n",
    "print('critical value: ', critical_value) "
   ]
  },
  {
   "cell_type": "code",
   "execution_count": 65,
   "metadata": {},
   "outputs": [
    {
     "name": "stdout",
     "output_type": "stream",
     "text": [
      "Our confidence Interval: ( 0.6448813256066804 0.9711186743933197 )\n"
     ]
    }
   ],
   "source": [
    "lower_bound = point_estimate - critical_value*standard_error \n",
    "upper_bound = point_estimate + critical_value*standard_error \n",
    " \n",
    "print('Our confidence Interval: (', lower_bound, upper_bound, ')') "
   ]
  },
  {
   "cell_type": "markdown",
   "metadata": {},
   "source": [
    "We are 95% confident that the population slope that corresponds to EU_Sales in the corresponding population model is between 0.64488 and 0.9711187"
   ]
  },
  {
   "cell_type": "markdown",
   "metadata": {},
   "source": [
    "Conclusion:\n",
    "\n",
    "Because the null value $\\beta_{16} = 0$ is not inside the confidence interval, we reject the null hypothesis. Thus there is sufficient evidence to suggest that the population slope of EU_Sales is non-zero. "
   ]
  },
  {
   "cell_type": "markdown",
   "metadata": {},
   "source": [
    "#### Test Statistic"
   ]
  },
  {
   "cell_type": "code",
   "execution_count": 68,
   "metadata": {},
   "outputs": [
    {
     "name": "stdout",
     "output_type": "stream",
     "text": [
      "Our test statistics is: 9.734939759036145\n"
     ]
    }
   ],
   "source": [
    "test_stat = (point_estimate -0)/standard_error \n",
    "print('Our test statistics is:', test_stat) "
   ]
  },
  {
   "cell_type": "markdown",
   "metadata": {},
   "source": [
    "#### p-value\n"
   ]
  },
  {
   "cell_type": "code",
   "execution_count": 70,
   "metadata": {},
   "outputs": [
    {
     "name": "stdout",
     "output_type": "stream",
     "text": [
      "Our p_value is : 0.0\n"
     ]
    }
   ],
   "source": [
    "pvalue = 2*(1-t.cdf(np.abs(test_stat), df=n-p-1)) \n",
    "print('Our p_value is :',pvalue) "
   ]
  },
  {
   "cell_type": "markdown",
   "metadata": {},
   "source": [
    "Conclusion:\n",
    "\n",
    "Because the pvalue = 0 < alpha = 0.05, we reject the null hypothesis. Thus there is sufficient evidence to suggest that the population slope of EU_Sales is non-zero."
   ]
  },
  {
   "cell_type": "markdown",
   "metadata": {},
   "source": [
    "### Prediction"
   ]
  },
  {
   "cell_type": "code",
   "execution_count": 71,
   "metadata": {},
   "outputs": [
    {
     "data": {
      "text/html": [
       "<div>\n",
       "<style scoped>\n",
       "    .dataframe tbody tr th:only-of-type {\n",
       "        vertical-align: middle;\n",
       "    }\n",
       "\n",
       "    .dataframe tbody tr th {\n",
       "        vertical-align: top;\n",
       "    }\n",
       "\n",
       "    .dataframe thead th {\n",
       "        text-align: right;\n",
       "    }\n",
       "</style>\n",
       "<table border=\"1\" class=\"dataframe\">\n",
       "  <thead>\n",
       "    <tr style=\"text-align: right;\">\n",
       "      <th></th>\n",
       "      <th>Name</th>\n",
       "      <th>Platform</th>\n",
       "      <th>Year</th>\n",
       "      <th>Genre</th>\n",
       "      <th>NA_Sales</th>\n",
       "      <th>EU_Sales</th>\n",
       "      <th>JP_Sales</th>\n",
       "      <th>Other_Sales</th>\n",
       "    </tr>\n",
       "  </thead>\n",
       "  <tbody>\n",
       "    <tr>\n",
       "      <th>843</th>\n",
       "      <td>SpongeBob's Truth or Square</td>\n",
       "      <td>X360</td>\n",
       "      <td>2009.0</td>\n",
       "      <td>Action</td>\n",
       "      <td>0.03</td>\n",
       "      <td>0.04</td>\n",
       "      <td>0.0</td>\n",
       "      <td>0.0</td>\n",
       "    </tr>\n",
       "  </tbody>\n",
       "</table>\n",
       "</div>"
      ],
      "text/plain": [
       "                            Name Platform    Year   Genre  NA_Sales  EU_Sales  \\\n",
       "843  SpongeBob's Truth or Square     X360  2009.0  Action      0.03      0.04   \n",
       "\n",
       "     JP_Sales  Other_Sales  \n",
       "843       0.0          0.0  "
      ]
     },
     "execution_count": 71,
     "metadata": {},
     "output_type": "execute_result"
    }
   ],
   "source": [
    "temp1 = df2[(df2['Name'] == \"SpongeBob's Truth or Square\") & (df2['Platform'] == 'X360')]\n",
    "temp1"
   ]
  },
  {
   "cell_type": "code",
   "execution_count": 73,
   "metadata": {},
   "outputs": [
    {
     "name": "stdout",
     "output_type": "stream",
     "text": [
      "Prediction for the NA_Sales of the game is 0.36302000000000056\n"
     ]
    }
   ],
   "source": [
    "pred = 8.5693 + 0.1992 + 0.1255*0+ 0.808*0.04+1.1747 * 0 - 0.0042*2009\n",
    "print('Prediction for the NA_Sales of the game is', pred)"
   ]
  },
  {
   "cell_type": "code",
   "execution_count": 74,
   "metadata": {},
   "outputs": [
    {
     "name": "stdout",
     "output_type": "stream",
     "text": [
      "residual of the game is: 0.33299999999999996\n"
     ]
    }
   ],
   "source": [
    "print('residual of the game is:', np.abs(0.03 - 0.363))"
   ]
  },
  {
   "cell_type": "markdown",
   "metadata": {},
   "source": [
    "## Logistic Regression Variable Selection\n",
    "\n",
    "build a logistic regression model that can be used as a classifier model to predict whether or not a game is a role-playing game. \n",
    "* Year\n",
    "* NA_Sales\n",
    "* EU_Sales\n",
    "* JP_Sales\n",
    "* Other_Sales\n",
    "* Platform\n",
    "\n",
    "\n"
   ]
  },
  {
   "cell_type": "markdown",
   "metadata": {},
   "source": [
    "### Pre-Processing\n",
    "\n",
    "Role-playing => 1\n",
    "\n",
    "Other => 0"
   ]
  },
  {
   "cell_type": "code",
   "execution_count": 75,
   "metadata": {},
   "outputs": [
    {
     "data": {
      "text/html": [
       "<div>\n",
       "<style scoped>\n",
       "    .dataframe tbody tr th:only-of-type {\n",
       "        vertical-align: middle;\n",
       "    }\n",
       "\n",
       "    .dataframe tbody tr th {\n",
       "        vertical-align: top;\n",
       "    }\n",
       "\n",
       "    .dataframe thead th {\n",
       "        text-align: right;\n",
       "    }\n",
       "</style>\n",
       "<table border=\"1\" class=\"dataframe\">\n",
       "  <thead>\n",
       "    <tr style=\"text-align: right;\">\n",
       "      <th></th>\n",
       "      <th>Name</th>\n",
       "      <th>Platform</th>\n",
       "      <th>Year</th>\n",
       "      <th>Genre</th>\n",
       "      <th>NA_Sales</th>\n",
       "      <th>EU_Sales</th>\n",
       "      <th>JP_Sales</th>\n",
       "      <th>Other_Sales</th>\n",
       "      <th>y</th>\n",
       "    </tr>\n",
       "  </thead>\n",
       "  <tbody>\n",
       "    <tr>\n",
       "      <th>1</th>\n",
       "      <td>Taito Legends Power Up</td>\n",
       "      <td>PSP</td>\n",
       "      <td>2007.0</td>\n",
       "      <td>Action</td>\n",
       "      <td>0.05</td>\n",
       "      <td>0.00</td>\n",
       "      <td>0.00</td>\n",
       "      <td>0.00</td>\n",
       "      <td>0</td>\n",
       "    </tr>\n",
       "    <tr>\n",
       "      <th>3</th>\n",
       "      <td>Shrek the Third</td>\n",
       "      <td>X360</td>\n",
       "      <td>2007.0</td>\n",
       "      <td>Action</td>\n",
       "      <td>0.54</td>\n",
       "      <td>0.10</td>\n",
       "      <td>0.00</td>\n",
       "      <td>0.06</td>\n",
       "      <td>0</td>\n",
       "    </tr>\n",
       "    <tr>\n",
       "      <th>4</th>\n",
       "      <td>Destiny Links</td>\n",
       "      <td>DS</td>\n",
       "      <td>2009.0</td>\n",
       "      <td>Role-Playing</td>\n",
       "      <td>0.00</td>\n",
       "      <td>0.00</td>\n",
       "      <td>0.01</td>\n",
       "      <td>0.00</td>\n",
       "      <td>1</td>\n",
       "    </tr>\n",
       "    <tr>\n",
       "      <th>12</th>\n",
       "      <td>Saints Row IV</td>\n",
       "      <td>PS3</td>\n",
       "      <td>2013.0</td>\n",
       "      <td>Action</td>\n",
       "      <td>0.56</td>\n",
       "      <td>0.44</td>\n",
       "      <td>0.09</td>\n",
       "      <td>0.21</td>\n",
       "      <td>0</td>\n",
       "    </tr>\n",
       "    <tr>\n",
       "      <th>14</th>\n",
       "      <td>Final Fantasy XI</td>\n",
       "      <td>X360</td>\n",
       "      <td>2006.0</td>\n",
       "      <td>Role-Playing</td>\n",
       "      <td>0.17</td>\n",
       "      <td>0.01</td>\n",
       "      <td>0.00</td>\n",
       "      <td>0.01</td>\n",
       "      <td>1</td>\n",
       "    </tr>\n",
       "  </tbody>\n",
       "</table>\n",
       "</div>"
      ],
      "text/plain": [
       "                      Name Platform    Year         Genre  NA_Sales  EU_Sales  \\\n",
       "1   Taito Legends Power Up      PSP  2007.0        Action      0.05      0.00   \n",
       "3          Shrek the Third     X360  2007.0        Action      0.54      0.10   \n",
       "4            Destiny Links       DS  2009.0  Role-Playing      0.00      0.00   \n",
       "12           Saints Row IV      PS3  2013.0        Action      0.56      0.44   \n",
       "14        Final Fantasy XI     X360  2006.0  Role-Playing      0.17      0.01   \n",
       "\n",
       "    JP_Sales  Other_Sales  y  \n",
       "1       0.00         0.00  0  \n",
       "3       0.00         0.06  0  \n",
       "4       0.01         0.00  1  \n",
       "12      0.09         0.21  0  \n",
       "14      0.00         0.01  1  "
      ]
     },
     "execution_count": 75,
     "metadata": {},
     "output_type": "execute_result"
    }
   ],
   "source": [
    "df1['y'] = 1*(df1['Genre'] == 'Role-Playing')\n",
    "df1.head()"
   ]
  },
  {
   "cell_type": "markdown",
   "metadata": {},
   "source": [
    "#### split data\n"
   ]
  },
  {
   "cell_type": "code",
   "execution_count": 76,
   "metadata": {},
   "outputs": [
    {
     "data": {
      "text/html": [
       "<div>\n",
       "<style scoped>\n",
       "    .dataframe tbody tr th:only-of-type {\n",
       "        vertical-align: middle;\n",
       "    }\n",
       "\n",
       "    .dataframe tbody tr th {\n",
       "        vertical-align: top;\n",
       "    }\n",
       "\n",
       "    .dataframe thead th {\n",
       "        text-align: right;\n",
       "    }\n",
       "</style>\n",
       "<table border=\"1\" class=\"dataframe\">\n",
       "  <thead>\n",
       "    <tr style=\"text-align: right;\">\n",
       "      <th></th>\n",
       "      <th>Name</th>\n",
       "      <th>Platform</th>\n",
       "      <th>Year</th>\n",
       "      <th>Genre</th>\n",
       "      <th>NA_Sales</th>\n",
       "      <th>EU_Sales</th>\n",
       "      <th>JP_Sales</th>\n",
       "      <th>Other_Sales</th>\n",
       "      <th>y</th>\n",
       "    </tr>\n",
       "  </thead>\n",
       "  <tbody>\n",
       "    <tr>\n",
       "      <th>758</th>\n",
       "      <td>Resident Evil 5</td>\n",
       "      <td>X360</td>\n",
       "      <td>2009.0</td>\n",
       "      <td>Action</td>\n",
       "      <td>2.11</td>\n",
       "      <td>0.94</td>\n",
       "      <td>0.12</td>\n",
       "      <td>0.34</td>\n",
       "      <td>0</td>\n",
       "    </tr>\n",
       "    <tr>\n",
       "      <th>910</th>\n",
       "      <td>Pirates of the Caribbean: At World's End</td>\n",
       "      <td>PS2</td>\n",
       "      <td>2007.0</td>\n",
       "      <td>Action</td>\n",
       "      <td>0.20</td>\n",
       "      <td>0.16</td>\n",
       "      <td>0.00</td>\n",
       "      <td>0.05</td>\n",
       "      <td>0</td>\n",
       "    </tr>\n",
       "    <tr>\n",
       "      <th>789</th>\n",
       "      <td>Shin Sangoku Musou Online: Souten Ranbu</td>\n",
       "      <td>PS3</td>\n",
       "      <td>2010.0</td>\n",
       "      <td>Action</td>\n",
       "      <td>0.00</td>\n",
       "      <td>0.00</td>\n",
       "      <td>0.02</td>\n",
       "      <td>0.00</td>\n",
       "      <td>0</td>\n",
       "    </tr>\n",
       "    <tr>\n",
       "      <th>434</th>\n",
       "      <td>Dragon Ball Z: Battle of Z</td>\n",
       "      <td>X360</td>\n",
       "      <td>2014.0</td>\n",
       "      <td>Fighting</td>\n",
       "      <td>0.01</td>\n",
       "      <td>0.06</td>\n",
       "      <td>0.00</td>\n",
       "      <td>0.01</td>\n",
       "      <td>0</td>\n",
       "    </tr>\n",
       "    <tr>\n",
       "      <th>797</th>\n",
       "      <td>UFC Undisputed 2010</td>\n",
       "      <td>PS3</td>\n",
       "      <td>2010.0</td>\n",
       "      <td>Fighting</td>\n",
       "      <td>0.80</td>\n",
       "      <td>0.41</td>\n",
       "      <td>0.02</td>\n",
       "      <td>0.19</td>\n",
       "      <td>0</td>\n",
       "    </tr>\n",
       "    <tr>\n",
       "      <th>...</th>\n",
       "      <td>...</td>\n",
       "      <td>...</td>\n",
       "      <td>...</td>\n",
       "      <td>...</td>\n",
       "      <td>...</td>\n",
       "      <td>...</td>\n",
       "      <td>...</td>\n",
       "      <td>...</td>\n",
       "      <td>...</td>\n",
       "    </tr>\n",
       "    <tr>\n",
       "      <th>106</th>\n",
       "      <td>Street Fighter X Tekken</td>\n",
       "      <td>X360</td>\n",
       "      <td>2012.0</td>\n",
       "      <td>Fighting</td>\n",
       "      <td>0.31</td>\n",
       "      <td>0.10</td>\n",
       "      <td>0.03</td>\n",
       "      <td>0.03</td>\n",
       "      <td>0</td>\n",
       "    </tr>\n",
       "    <tr>\n",
       "      <th>524</th>\n",
       "      <td>Ni no Kuni: Wrath of the White Witch</td>\n",
       "      <td>PS3</td>\n",
       "      <td>2011.0</td>\n",
       "      <td>Role-Playing</td>\n",
       "      <td>0.60</td>\n",
       "      <td>0.51</td>\n",
       "      <td>0.21</td>\n",
       "      <td>0.23</td>\n",
       "      <td>1</td>\n",
       "    </tr>\n",
       "    <tr>\n",
       "      <th>369</th>\n",
       "      <td>Shining Hearts</td>\n",
       "      <td>PSP</td>\n",
       "      <td>2010.0</td>\n",
       "      <td>Role-Playing</td>\n",
       "      <td>0.00</td>\n",
       "      <td>0.00</td>\n",
       "      <td>0.20</td>\n",
       "      <td>0.00</td>\n",
       "      <td>1</td>\n",
       "    </tr>\n",
       "    <tr>\n",
       "      <th>673</th>\n",
       "      <td>True Crime: Streets of LA</td>\n",
       "      <td>PS2</td>\n",
       "      <td>2003.0</td>\n",
       "      <td>Action</td>\n",
       "      <td>1.89</td>\n",
       "      <td>1.05</td>\n",
       "      <td>0.02</td>\n",
       "      <td>0.31</td>\n",
       "      <td>0</td>\n",
       "    </tr>\n",
       "    <tr>\n",
       "      <th>587</th>\n",
       "      <td>The History Channel: Battle for the Pacific</td>\n",
       "      <td>X360</td>\n",
       "      <td>2007.0</td>\n",
       "      <td>Shooter</td>\n",
       "      <td>0.05</td>\n",
       "      <td>0.00</td>\n",
       "      <td>0.00</td>\n",
       "      <td>0.00</td>\n",
       "      <td>0</td>\n",
       "    </tr>\n",
       "  </tbody>\n",
       "</table>\n",
       "<p>152 rows × 9 columns</p>\n",
       "</div>"
      ],
      "text/plain": [
       "                                            Name Platform    Year  \\\n",
       "758                              Resident Evil 5     X360  2009.0   \n",
       "910     Pirates of the Caribbean: At World's End      PS2  2007.0   \n",
       "789      Shin Sangoku Musou Online: Souten Ranbu      PS3  2010.0   \n",
       "434                   Dragon Ball Z: Battle of Z     X360  2014.0   \n",
       "797                          UFC Undisputed 2010      PS3  2010.0   \n",
       "..                                           ...      ...     ...   \n",
       "106                      Street Fighter X Tekken     X360  2012.0   \n",
       "524         Ni no Kuni: Wrath of the White Witch      PS3  2011.0   \n",
       "369                               Shining Hearts      PSP  2010.0   \n",
       "673                    True Crime: Streets of LA      PS2  2003.0   \n",
       "587  The History Channel: Battle for the Pacific     X360  2007.0   \n",
       "\n",
       "            Genre  NA_Sales  EU_Sales  JP_Sales  Other_Sales  y  \n",
       "758        Action      2.11      0.94      0.12         0.34  0  \n",
       "910        Action      0.20      0.16      0.00         0.05  0  \n",
       "789        Action      0.00      0.00      0.02         0.00  0  \n",
       "434      Fighting      0.01      0.06      0.00         0.01  0  \n",
       "797      Fighting      0.80      0.41      0.02         0.19  0  \n",
       "..            ...       ...       ...       ...          ... ..  \n",
       "106      Fighting      0.31      0.10      0.03         0.03  0  \n",
       "524  Role-Playing      0.60      0.51      0.21         0.23  1  \n",
       "369  Role-Playing      0.00      0.00      0.20         0.00  1  \n",
       "673        Action      1.89      1.05      0.02         0.31  0  \n",
       "587       Shooter      0.05      0.00      0.00         0.00  0  \n",
       "\n",
       "[152 rows x 9 columns]"
      ]
     },
     "execution_count": 76,
     "metadata": {},
     "output_type": "execute_result"
    }
   ],
   "source": [
    "from sklearn.model_selection import train_test_split\n",
    "\n",
    "df_train, df_test = train_test_split(df1, \n",
    "                                   test_size=0.20, \n",
    "                                   random_state=123)\n",
    "df_train"
   ]
  },
  {
   "cell_type": "markdown",
   "metadata": {},
   "source": [
    "### Full Logistic Regression Model \n",
    "explanatory variables:\n",
    "\n",
    "* Year\n",
    "* NA_Sales\n",
    "* EU_Sales\n",
    "* JP_Sales\n",
    "* Other_Sales\n",
    "* Platform"
   ]
  },
  {
   "cell_type": "markdown",
   "metadata": {},
   "source": [
    "#### Fitting the Full Logistic Regression Model\n"
   ]
  },
  {
   "cell_type": "code",
   "execution_count": 77,
   "metadata": {},
   "outputs": [
    {
     "name": "stdout",
     "output_type": "stream",
     "text": [
      "Optimization terminated successfully.\n",
      "         Current function value: 0.484904\n",
      "         Iterations 7\n"
     ]
    },
    {
     "data": {
      "text/html": [
       "<table class=\"simpletable\">\n",
       "<caption>Logit Regression Results</caption>\n",
       "<tr>\n",
       "  <th>Dep. Variable:</th>           <td>y</td>        <th>  No. Observations:  </th>  <td>   152</td> \n",
       "</tr>\n",
       "<tr>\n",
       "  <th>Model:</th>                 <td>Logit</td>      <th>  Df Residuals:      </th>  <td>   142</td> \n",
       "</tr>\n",
       "<tr>\n",
       "  <th>Method:</th>                 <td>MLE</td>       <th>  Df Model:          </th>  <td>     9</td> \n",
       "</tr>\n",
       "<tr>\n",
       "  <th>Date:</th>            <td>Tue, 05 Dec 2023</td> <th>  Pseudo R-squ.:     </th>  <td>0.1586</td> \n",
       "</tr>\n",
       "<tr>\n",
       "  <th>Time:</th>                <td>15:53:35</td>     <th>  Log-Likelihood:    </th> <td> -73.705</td>\n",
       "</tr>\n",
       "<tr>\n",
       "  <th>converged:</th>             <td>True</td>       <th>  LL-Null:           </th> <td> -87.603</td>\n",
       "</tr>\n",
       "<tr>\n",
       "  <th>Covariance Type:</th>     <td>nonrobust</td>    <th>  LLR p-value:       </th> <td>0.001032</td>\n",
       "</tr>\n",
       "</table>\n",
       "<table class=\"simpletable\">\n",
       "<tr>\n",
       "          <td></td>            <th>coef</th>     <th>std err</th>      <th>z</th>      <th>P>|z|</th>  <th>[0.025</th>    <th>0.975]</th>  \n",
       "</tr>\n",
       "<tr>\n",
       "  <th>Intercept</th>        <td> -146.0549</td> <td>  197.186</td> <td>   -0.741</td> <td> 0.459</td> <td> -532.533</td> <td>  240.423</td>\n",
       "</tr>\n",
       "<tr>\n",
       "  <th>Platform[T.PS2]</th>  <td>   -0.4838</td> <td>    0.695</td> <td>   -0.696</td> <td> 0.486</td> <td>   -1.845</td> <td>    0.878</td>\n",
       "</tr>\n",
       "<tr>\n",
       "  <th>Platform[T.PS3]</th>  <td>   -1.2138</td> <td>    0.789</td> <td>   -1.538</td> <td> 0.124</td> <td>   -2.760</td> <td>    0.333</td>\n",
       "</tr>\n",
       "<tr>\n",
       "  <th>Platform[T.PSP]</th>  <td>    0.0211</td> <td>    0.610</td> <td>    0.035</td> <td> 0.972</td> <td>   -1.174</td> <td>    1.217</td>\n",
       "</tr>\n",
       "<tr>\n",
       "  <th>Platform[T.X360]</th> <td>   -0.7934</td> <td>    0.761</td> <td>   -1.043</td> <td> 0.297</td> <td>   -2.284</td> <td>    0.698</td>\n",
       "</tr>\n",
       "<tr>\n",
       "  <th>Year</th>             <td>    0.0724</td> <td>    0.098</td> <td>    0.737</td> <td> 0.461</td> <td>   -0.120</td> <td>    0.265</td>\n",
       "</tr>\n",
       "<tr>\n",
       "  <th>NA_Sales</th>         <td>   -0.4859</td> <td>    1.256</td> <td>   -0.387</td> <td> 0.699</td> <td>   -2.948</td> <td>    1.976</td>\n",
       "</tr>\n",
       "<tr>\n",
       "  <th>EU_Sales</th>         <td>   -1.7865</td> <td>    2.177</td> <td>   -0.821</td> <td> 0.412</td> <td>   -6.054</td> <td>    2.481</td>\n",
       "</tr>\n",
       "<tr>\n",
       "  <th>JP_Sales</th>         <td>    3.5621</td> <td>    1.115</td> <td>    3.194</td> <td> 0.001</td> <td>    1.377</td> <td>    5.748</td>\n",
       "</tr>\n",
       "<tr>\n",
       "  <th>Other_Sales</th>      <td>   -0.2269</td> <td>    5.452</td> <td>   -0.042</td> <td> 0.967</td> <td>  -10.913</td> <td>   10.459</td>\n",
       "</tr>\n",
       "</table>"
      ],
      "text/latex": [
       "\\begin{center}\n",
       "\\begin{tabular}{lclc}\n",
       "\\toprule\n",
       "\\textbf{Dep. Variable:}   &        y         & \\textbf{  No. Observations:  } &      152    \\\\\n",
       "\\textbf{Model:}           &      Logit       & \\textbf{  Df Residuals:      } &      142    \\\\\n",
       "\\textbf{Method:}          &       MLE        & \\textbf{  Df Model:          } &        9    \\\\\n",
       "\\textbf{Date:}            & Tue, 05 Dec 2023 & \\textbf{  Pseudo R-squ.:     } &   0.1586    \\\\\n",
       "\\textbf{Time:}            &     15:53:35     & \\textbf{  Log-Likelihood:    } &   -73.705   \\\\\n",
       "\\textbf{converged:}       &       True       & \\textbf{  LL-Null:           } &   -87.603   \\\\\n",
       "\\textbf{Covariance Type:} &    nonrobust     & \\textbf{  LLR p-value:       } &  0.001032   \\\\\n",
       "\\bottomrule\n",
       "\\end{tabular}\n",
       "\\begin{tabular}{lcccccc}\n",
       "                          & \\textbf{coef} & \\textbf{std err} & \\textbf{z} & \\textbf{P$> |$z$|$} & \\textbf{[0.025} & \\textbf{0.975]}  \\\\\n",
       "\\midrule\n",
       "\\textbf{Intercept}        &    -146.0549  &      197.186     &    -0.741  &         0.459        &     -532.533    &      240.423     \\\\\n",
       "\\textbf{Platform[T.PS2]}  &      -0.4838  &        0.695     &    -0.696  &         0.486        &       -1.845    &        0.878     \\\\\n",
       "\\textbf{Platform[T.PS3]}  &      -1.2138  &        0.789     &    -1.538  &         0.124        &       -2.760    &        0.333     \\\\\n",
       "\\textbf{Platform[T.PSP]}  &       0.0211  &        0.610     &     0.035  &         0.972        &       -1.174    &        1.217     \\\\\n",
       "\\textbf{Platform[T.X360]} &      -0.7934  &        0.761     &    -1.043  &         0.297        &       -2.284    &        0.698     \\\\\n",
       "\\textbf{Year}             &       0.0724  &        0.098     &     0.737  &         0.461        &       -0.120    &        0.265     \\\\\n",
       "\\textbf{NA\\_Sales}        &      -0.4859  &        1.256     &    -0.387  &         0.699        &       -2.948    &        1.976     \\\\\n",
       "\\textbf{EU\\_Sales}        &      -1.7865  &        2.177     &    -0.821  &         0.412        &       -6.054    &        2.481     \\\\\n",
       "\\textbf{JP\\_Sales}        &       3.5621  &        1.115     &     3.194  &         0.001        &        1.377    &        5.748     \\\\\n",
       "\\textbf{Other\\_Sales}     &      -0.2269  &        5.452     &    -0.042  &         0.967        &      -10.913    &       10.459     \\\\\n",
       "\\bottomrule\n",
       "\\end{tabular}\n",
       "%\\caption{Logit Regression Results}\n",
       "\\end{center}"
      ],
      "text/plain": [
       "<class 'statsmodels.iolib.summary.Summary'>\n",
       "\"\"\"\n",
       "                           Logit Regression Results                           \n",
       "==============================================================================\n",
       "Dep. Variable:                      y   No. Observations:                  152\n",
       "Model:                          Logit   Df Residuals:                      142\n",
       "Method:                           MLE   Df Model:                            9\n",
       "Date:                Tue, 05 Dec 2023   Pseudo R-squ.:                  0.1586\n",
       "Time:                        15:53:35   Log-Likelihood:                -73.705\n",
       "converged:                       True   LL-Null:                       -87.603\n",
       "Covariance Type:            nonrobust   LLR p-value:                  0.001032\n",
       "====================================================================================\n",
       "                       coef    std err          z      P>|z|      [0.025      0.975]\n",
       "------------------------------------------------------------------------------------\n",
       "Intercept         -146.0549    197.186     -0.741      0.459    -532.533     240.423\n",
       "Platform[T.PS2]     -0.4838      0.695     -0.696      0.486      -1.845       0.878\n",
       "Platform[T.PS3]     -1.2138      0.789     -1.538      0.124      -2.760       0.333\n",
       "Platform[T.PSP]      0.0211      0.610      0.035      0.972      -1.174       1.217\n",
       "Platform[T.X360]    -0.7934      0.761     -1.043      0.297      -2.284       0.698\n",
       "Year                 0.0724      0.098      0.737      0.461      -0.120       0.265\n",
       "NA_Sales            -0.4859      1.256     -0.387      0.699      -2.948       1.976\n",
       "EU_Sales            -1.7865      2.177     -0.821      0.412      -6.054       2.481\n",
       "JP_Sales             3.5621      1.115      3.194      0.001       1.377       5.748\n",
       "Other_Sales         -0.2269      5.452     -0.042      0.967     -10.913      10.459\n",
       "====================================================================================\n",
       "\"\"\""
      ]
     },
     "execution_count": 77,
     "metadata": {},
     "output_type": "execute_result"
    }
   ],
   "source": [
    "ful_mod = smf.logit('y ~ Year + NA_Sales + EU_Sales + JP_Sales + Other_Sales + Platform', data = df_train).fit()\n",
    "ful_mod.summary()"
   ]
  },
  {
   "cell_type": "markdown",
   "metadata": {},
   "source": [
    "#### 8.2.2. Predictive Probabilities\n",
    "\n",
    "the predictive probabilities for the observations in the **test dataset.**"
   ]
  },
  {
   "cell_type": "code",
   "execution_count": 78,
   "metadata": {},
   "outputs": [
    {
     "data": {
      "text/plain": [
       "430    0.404216\n",
       "144    0.092551\n",
       "219    0.131351\n",
       "14     0.152971\n",
       "842    0.308349\n",
       "Name: phat_test, dtype: float64"
      ]
     },
     "execution_count": 78,
     "metadata": {},
     "output_type": "execute_result"
    }
   ],
   "source": [
    "df_test['phat_test'] = ful_mod.predict(exog=df_test)\n",
    "df_test['phat_test'].head() "
   ]
  },
  {
   "cell_type": "markdown",
   "metadata": {},
   "source": [
    "#### ROC and AUC of logistic model and test_data"
   ]
  },
  {
   "cell_type": "code",
   "execution_count": 80,
   "metadata": {},
   "outputs": [],
   "source": [
    "from sklearn.metrics import roc_curve\n",
    "from sklearn.metrics import roc_auc_score\n",
    "\n",
    "fpr, tpr, score = roc_curve(y_true=df_test['y'], y_score=df_test['phat_test'])\n",
    "auc = roc_auc_score(y_true=df_test['y'], y_score=df_test['phat_test'])"
   ]
  },
  {
   "cell_type": "code",
   "execution_count": 82,
   "metadata": {},
   "outputs": [],
   "source": [
    "def plot_roc(fpr, tpr, auc, lw=2):\n",
    "    plt.plot(fpr, tpr, color='darkorange', lw=lw,\n",
    "             label='ROC curve (area = '+str(round(auc,3))+')')\n",
    "    plt.plot([0, 1], [0, 1], color='navy', lw=lw, linestyle='--')\n",
    "    plt.xlabel('False Positive Rate')\n",
    "    plt.ylabel('True Positive Rate')\n",
    "    plt.title('ROC Curve')\n",
    "    plt.legend(loc=\"lower right\")\n",
    "    plt.show()"
   ]
  },
  {
   "cell_type": "code",
   "execution_count": 83,
   "metadata": {},
   "outputs": [
    {
     "data": {
      "image/png": "[encoded data removed]",
      "text/plain": [
       "<Figure size 640x480 with 1 Axes>"
      ]
     },
     "metadata": {},
     "output_type": "display_data"
    }
   ],
   "source": [
    "plot_roc(fpr, tpr, auc)"
   ]
  },
  {
   "cell_type": "markdown",
   "metadata": {},
   "source": [
    "###  Reduced Models (better classification) with with Regularized Logistic Regression\n",
    "\n",
    "\n"
   ]
  },
  {
   "cell_type": "code",
   "execution_count": 84,
   "metadata": {},
   "outputs": [
    {
     "data": {
      "text/html": [
       "<div>\n",
       "<style scoped>\n",
       "    .dataframe tbody tr th:only-of-type {\n",
       "        vertical-align: middle;\n",
       "    }\n",
       "\n",
       "    .dataframe tbody tr th {\n",
       "        vertical-align: top;\n",
       "    }\n",
       "\n",
       "    .dataframe thead th {\n",
       "        text-align: right;\n",
       "    }\n",
       "</style>\n",
       "<table border=\"1\" class=\"dataframe\">\n",
       "  <thead>\n",
       "    <tr style=\"text-align: right;\">\n",
       "      <th></th>\n",
       "      <th>Year</th>\n",
       "      <th>NA_Sales</th>\n",
       "      <th>EU_Sales</th>\n",
       "      <th>JP_Sales</th>\n",
       "      <th>Other_Sales</th>\n",
       "      <th>Platform</th>\n",
       "    </tr>\n",
       "  </thead>\n",
       "  <tbody>\n",
       "    <tr>\n",
       "      <th>758</th>\n",
       "      <td>2009.0</td>\n",
       "      <td>2.11</td>\n",
       "      <td>0.94</td>\n",
       "      <td>0.12</td>\n",
       "      <td>0.34</td>\n",
       "      <td>X360</td>\n",
       "    </tr>\n",
       "    <tr>\n",
       "      <th>910</th>\n",
       "      <td>2007.0</td>\n",
       "      <td>0.20</td>\n",
       "      <td>0.16</td>\n",
       "      <td>0.00</td>\n",
       "      <td>0.05</td>\n",
       "      <td>PS2</td>\n",
       "    </tr>\n",
       "    <tr>\n",
       "      <th>789</th>\n",
       "      <td>2010.0</td>\n",
       "      <td>0.00</td>\n",
       "      <td>0.00</td>\n",
       "      <td>0.02</td>\n",
       "      <td>0.00</td>\n",
       "      <td>PS3</td>\n",
       "    </tr>\n",
       "    <tr>\n",
       "      <th>434</th>\n",
       "      <td>2014.0</td>\n",
       "      <td>0.01</td>\n",
       "      <td>0.06</td>\n",
       "      <td>0.00</td>\n",
       "      <td>0.01</td>\n",
       "      <td>X360</td>\n",
       "    </tr>\n",
       "    <tr>\n",
       "      <th>797</th>\n",
       "      <td>2010.0</td>\n",
       "      <td>0.80</td>\n",
       "      <td>0.41</td>\n",
       "      <td>0.02</td>\n",
       "      <td>0.19</td>\n",
       "      <td>PS3</td>\n",
       "    </tr>\n",
       "  </tbody>\n",
       "</table>\n",
       "</div>"
      ],
      "text/plain": [
       "       Year  NA_Sales  EU_Sales  JP_Sales  Other_Sales Platform\n",
       "758  2009.0      2.11      0.94      0.12         0.34     X360\n",
       "910  2007.0      0.20      0.16      0.00         0.05      PS2\n",
       "789  2010.0      0.00      0.00      0.02         0.00      PS3\n",
       "434  2014.0      0.01      0.06      0.00         0.01     X360\n",
       "797  2010.0      0.80      0.41      0.02         0.19      PS3"
      ]
     },
     "execution_count": 84,
     "metadata": {},
     "output_type": "execute_result"
    }
   ],
   "source": [
    "X_train = df_train[['Year', 'NA_Sales', 'EU_Sales', 'JP_Sales', 'Other_Sales', 'Platform']]\n",
    "X_train.head()"
   ]
  },
  {
   "cell_type": "code",
   "execution_count": 85,
   "metadata": {},
   "outputs": [
    {
     "data": {
      "text/html": [
       "<div>\n",
       "<style scoped>\n",
       "    .dataframe tbody tr th:only-of-type {\n",
       "        vertical-align: middle;\n",
       "    }\n",
       "\n",
       "    .dataframe tbody tr th {\n",
       "        vertical-align: top;\n",
       "    }\n",
       "\n",
       "    .dataframe thead th {\n",
       "        text-align: right;\n",
       "    }\n",
       "</style>\n",
       "<table border=\"1\" class=\"dataframe\">\n",
       "  <thead>\n",
       "    <tr style=\"text-align: right;\">\n",
       "      <th></th>\n",
       "      <th>Year</th>\n",
       "      <th>NA_Sales</th>\n",
       "      <th>EU_Sales</th>\n",
       "      <th>JP_Sales</th>\n",
       "      <th>Other_Sales</th>\n",
       "      <th>Platform_PS2</th>\n",
       "      <th>Platform_PS3</th>\n",
       "      <th>Platform_PSP</th>\n",
       "      <th>Platform_X360</th>\n",
       "    </tr>\n",
       "  </thead>\n",
       "  <tbody>\n",
       "    <tr>\n",
       "      <th>758</th>\n",
       "      <td>2009.0</td>\n",
       "      <td>2.11</td>\n",
       "      <td>0.94</td>\n",
       "      <td>0.12</td>\n",
       "      <td>0.34</td>\n",
       "      <td>False</td>\n",
       "      <td>False</td>\n",
       "      <td>False</td>\n",
       "      <td>True</td>\n",
       "    </tr>\n",
       "    <tr>\n",
       "      <th>910</th>\n",
       "      <td>2007.0</td>\n",
       "      <td>0.20</td>\n",
       "      <td>0.16</td>\n",
       "      <td>0.00</td>\n",
       "      <td>0.05</td>\n",
       "      <td>True</td>\n",
       "      <td>False</td>\n",
       "      <td>False</td>\n",
       "      <td>False</td>\n",
       "    </tr>\n",
       "    <tr>\n",
       "      <th>789</th>\n",
       "      <td>2010.0</td>\n",
       "      <td>0.00</td>\n",
       "      <td>0.00</td>\n",
       "      <td>0.02</td>\n",
       "      <td>0.00</td>\n",
       "      <td>False</td>\n",
       "      <td>True</td>\n",
       "      <td>False</td>\n",
       "      <td>False</td>\n",
       "    </tr>\n",
       "    <tr>\n",
       "      <th>434</th>\n",
       "      <td>2014.0</td>\n",
       "      <td>0.01</td>\n",
       "      <td>0.06</td>\n",
       "      <td>0.00</td>\n",
       "      <td>0.01</td>\n",
       "      <td>False</td>\n",
       "      <td>False</td>\n",
       "      <td>False</td>\n",
       "      <td>True</td>\n",
       "    </tr>\n",
       "    <tr>\n",
       "      <th>797</th>\n",
       "      <td>2010.0</td>\n",
       "      <td>0.80</td>\n",
       "      <td>0.41</td>\n",
       "      <td>0.02</td>\n",
       "      <td>0.19</td>\n",
       "      <td>False</td>\n",
       "      <td>True</td>\n",
       "      <td>False</td>\n",
       "      <td>False</td>\n",
       "    </tr>\n",
       "  </tbody>\n",
       "</table>\n",
       "</div>"
      ],
      "text/plain": [
       "       Year  NA_Sales  EU_Sales  JP_Sales  Other_Sales  Platform_PS2  \\\n",
       "758  2009.0      2.11      0.94      0.12         0.34         False   \n",
       "910  2007.0      0.20      0.16      0.00         0.05          True   \n",
       "789  2010.0      0.00      0.00      0.02         0.00         False   \n",
       "434  2014.0      0.01      0.06      0.00         0.01         False   \n",
       "797  2010.0      0.80      0.41      0.02         0.19         False   \n",
       "\n",
       "     Platform_PS3  Platform_PSP  Platform_X360  \n",
       "758         False         False           True  \n",
       "910         False         False          False  \n",
       "789          True         False          False  \n",
       "434         False         False           True  \n",
       "797          True         False          False  "
      ]
     },
     "execution_count": 85,
     "metadata": {},
     "output_type": "execute_result"
    }
   ],
   "source": [
    "X_train = pd.get_dummies(X_train, drop_first=True)\n",
    "X_train.head()"
   ]
  },
  {
   "cell_type": "code",
   "execution_count": 86,
   "metadata": {},
   "outputs": [
    {
     "data": {
      "text/plain": [
       "758    0\n",
       "910    0\n",
       "789    0\n",
       "434    0\n",
       "797    0\n",
       "Name: y, dtype: int64"
      ]
     },
     "execution_count": 86,
     "metadata": {},
     "output_type": "execute_result"
    }
   ],
   "source": [
    "y_train = df_train['y']\n",
    "y_train.head()"
   ]
  },
  {
   "cell_type": "code",
   "execution_count": 87,
   "metadata": {},
   "outputs": [
    {
     "data": {
      "text/html": [
       "<div>\n",
       "<style scoped>\n",
       "    .dataframe tbody tr th:only-of-type {\n",
       "        vertical-align: middle;\n",
       "    }\n",
       "\n",
       "    .dataframe tbody tr th {\n",
       "        vertical-align: top;\n",
       "    }\n",
       "\n",
       "    .dataframe thead th {\n",
       "        text-align: right;\n",
       "    }\n",
       "</style>\n",
       "<table border=\"1\" class=\"dataframe\">\n",
       "  <thead>\n",
       "    <tr style=\"text-align: right;\">\n",
       "      <th></th>\n",
       "      <th>Year</th>\n",
       "      <th>NA_Sales</th>\n",
       "      <th>EU_Sales</th>\n",
       "      <th>JP_Sales</th>\n",
       "      <th>Other_Sales</th>\n",
       "      <th>Platform</th>\n",
       "    </tr>\n",
       "  </thead>\n",
       "  <tbody>\n",
       "    <tr>\n",
       "      <th>430</th>\n",
       "      <td>2006.0</td>\n",
       "      <td>0.00</td>\n",
       "      <td>0.00</td>\n",
       "      <td>0.12</td>\n",
       "      <td>0.00</td>\n",
       "      <td>DS</td>\n",
       "    </tr>\n",
       "    <tr>\n",
       "      <th>144</th>\n",
       "      <td>2012.0</td>\n",
       "      <td>0.58</td>\n",
       "      <td>0.47</td>\n",
       "      <td>0.01</td>\n",
       "      <td>0.10</td>\n",
       "      <td>X360</td>\n",
       "    </tr>\n",
       "    <tr>\n",
       "      <th>219</th>\n",
       "      <td>2012.0</td>\n",
       "      <td>0.28</td>\n",
       "      <td>0.33</td>\n",
       "      <td>0.13</td>\n",
       "      <td>0.14</td>\n",
       "      <td>PS3</td>\n",
       "    </tr>\n",
       "    <tr>\n",
       "      <th>14</th>\n",
       "      <td>2006.0</td>\n",
       "      <td>0.17</td>\n",
       "      <td>0.01</td>\n",
       "      <td>0.00</td>\n",
       "      <td>0.01</td>\n",
       "      <td>X360</td>\n",
       "    </tr>\n",
       "    <tr>\n",
       "      <th>842</th>\n",
       "      <td>2010.0</td>\n",
       "      <td>0.13</td>\n",
       "      <td>0.12</td>\n",
       "      <td>0.00</td>\n",
       "      <td>0.02</td>\n",
       "      <td>DS</td>\n",
       "    </tr>\n",
       "  </tbody>\n",
       "</table>\n",
       "</div>"
      ],
      "text/plain": [
       "       Year  NA_Sales  EU_Sales  JP_Sales  Other_Sales Platform\n",
       "430  2006.0      0.00      0.00      0.12         0.00       DS\n",
       "144  2012.0      0.58      0.47      0.01         0.10     X360\n",
       "219  2012.0      0.28      0.33      0.13         0.14      PS3\n",
       "14   2006.0      0.17      0.01      0.00         0.01     X360\n",
       "842  2010.0      0.13      0.12      0.00         0.02       DS"
      ]
     },
     "execution_count": 87,
     "metadata": {},
     "output_type": "execute_result"
    }
   ],
   "source": [
    "X_test = df_test[['Year', 'NA_Sales', 'EU_Sales', 'JP_Sales', 'Other_Sales', 'Platform']]\n",
    "X_test.head()"
   ]
  },
  {
   "cell_type": "code",
   "execution_count": 88,
   "metadata": {},
   "outputs": [
    {
     "data": {
      "text/html": [
       "<div>\n",
       "<style scoped>\n",
       "    .dataframe tbody tr th:only-of-type {\n",
       "        vertical-align: middle;\n",
       "    }\n",
       "\n",
       "    .dataframe tbody tr th {\n",
       "        vertical-align: top;\n",
       "    }\n",
       "\n",
       "    .dataframe thead th {\n",
       "        text-align: right;\n",
       "    }\n",
       "</style>\n",
       "<table border=\"1\" class=\"dataframe\">\n",
       "  <thead>\n",
       "    <tr style=\"text-align: right;\">\n",
       "      <th></th>\n",
       "      <th>Year</th>\n",
       "      <th>NA_Sales</th>\n",
       "      <th>EU_Sales</th>\n",
       "      <th>JP_Sales</th>\n",
       "      <th>Other_Sales</th>\n",
       "      <th>Platform_PS2</th>\n",
       "      <th>Platform_PS3</th>\n",
       "      <th>Platform_PSP</th>\n",
       "      <th>Platform_X360</th>\n",
       "    </tr>\n",
       "  </thead>\n",
       "  <tbody>\n",
       "    <tr>\n",
       "      <th>430</th>\n",
       "      <td>2006.0</td>\n",
       "      <td>0.00</td>\n",
       "      <td>0.00</td>\n",
       "      <td>0.12</td>\n",
       "      <td>0.00</td>\n",
       "      <td>False</td>\n",
       "      <td>False</td>\n",
       "      <td>False</td>\n",
       "      <td>False</td>\n",
       "    </tr>\n",
       "    <tr>\n",
       "      <th>144</th>\n",
       "      <td>2012.0</td>\n",
       "      <td>0.58</td>\n",
       "      <td>0.47</td>\n",
       "      <td>0.01</td>\n",
       "      <td>0.10</td>\n",
       "      <td>False</td>\n",
       "      <td>False</td>\n",
       "      <td>False</td>\n",
       "      <td>True</td>\n",
       "    </tr>\n",
       "    <tr>\n",
       "      <th>219</th>\n",
       "      <td>2012.0</td>\n",
       "      <td>0.28</td>\n",
       "      <td>0.33</td>\n",
       "      <td>0.13</td>\n",
       "      <td>0.14</td>\n",
       "      <td>False</td>\n",
       "      <td>True</td>\n",
       "      <td>False</td>\n",
       "      <td>False</td>\n",
       "    </tr>\n",
       "    <tr>\n",
       "      <th>14</th>\n",
       "      <td>2006.0</td>\n",
       "      <td>0.17</td>\n",
       "      <td>0.01</td>\n",
       "      <td>0.00</td>\n",
       "      <td>0.01</td>\n",
       "      <td>False</td>\n",
       "      <td>False</td>\n",
       "      <td>False</td>\n",
       "      <td>True</td>\n",
       "    </tr>\n",
       "    <tr>\n",
       "      <th>842</th>\n",
       "      <td>2010.0</td>\n",
       "      <td>0.13</td>\n",
       "      <td>0.12</td>\n",
       "      <td>0.00</td>\n",
       "      <td>0.02</td>\n",
       "      <td>False</td>\n",
       "      <td>False</td>\n",
       "      <td>False</td>\n",
       "      <td>False</td>\n",
       "    </tr>\n",
       "  </tbody>\n",
       "</table>\n",
       "</div>"
      ],
      "text/plain": [
       "       Year  NA_Sales  EU_Sales  JP_Sales  Other_Sales  Platform_PS2  \\\n",
       "430  2006.0      0.00      0.00      0.12         0.00         False   \n",
       "144  2012.0      0.58      0.47      0.01         0.10         False   \n",
       "219  2012.0      0.28      0.33      0.13         0.14         False   \n",
       "14   2006.0      0.17      0.01      0.00         0.01         False   \n",
       "842  2010.0      0.13      0.12      0.00         0.02         False   \n",
       "\n",
       "     Platform_PS3  Platform_PSP  Platform_X360  \n",
       "430         False         False          False  \n",
       "144         False         False           True  \n",
       "219          True         False          False  \n",
       "14          False         False           True  \n",
       "842         False         False          False  "
      ]
     },
     "execution_count": 88,
     "metadata": {},
     "output_type": "execute_result"
    }
   ],
   "source": [
    "X_test = pd.get_dummies(X_test, drop_first=True)\n",
    "X_test.head()"
   ]
  },
  {
   "cell_type": "code",
   "execution_count": 89,
   "metadata": {},
   "outputs": [
    {
     "data": {
      "text/plain": [
       "430    1\n",
       "144    0\n",
       "219    0\n",
       "14     1\n",
       "842    0\n",
       "Name: y, dtype: int64"
      ]
     },
     "execution_count": 89,
     "metadata": {},
     "output_type": "execute_result"
    }
   ],
   "source": [
    "y_test = df_test['y']\n",
    "y_test.head()"
   ]
  },
  {
   "cell_type": "markdown",
   "metadata": {},
   "source": [
    "#### Reduced model 1:"
   ]
  },
  {
   "cell_type": "markdown",
   "metadata": {},
   "source": [
    "LASSO Logistic Regression Model with Penalty Term $\\lambda=2$ \n"
   ]
  },
  {
   "cell_type": "code",
   "execution_count": 90,
   "metadata": {},
   "outputs": [
    {
     "data": {
      "text/html": [
       "<style>#sk-container-id-1 {color: black;}#sk-container-id-1 pre{padding: 0;}#sk-container-id-1 div.sk-toggleable {background-color: white;}#sk-container-id-1 label.sk-toggleable__label {cursor: pointer;display: block;width: 100%;margin-bottom: 0;padding: 0.3em;box-sizing: border-box;text-align: center;}#sk-container-id-1 label.sk-toggleable__label-arrow:before {content: \"▸\";float: left;margin-right: 0.25em;color: #696969;}#sk-container-id-1 label.sk-toggleable__label-arrow:hover:before {color: black;}#sk-container-id-1 div.sk-estimator:hover label.sk-toggleable__label-arrow:before {color: black;}#sk-container-id-1 div.sk-toggleable__content {max-height: 0;max-width: 0;overflow: hidden;text-align: left;background-color: #f0f8ff;}#sk-container-id-1 div.sk-toggleable__content pre {margin: 0.2em;color: black;border-radius: 0.25em;background-color: #f0f8ff;}#sk-container-id-1 input.sk-toggleable__control:checked~div.sk-toggleable__content {max-height: 200px;max-width: 100%;overflow: auto;}#sk-container-id-1 input.sk-toggleable__control:checked~label.sk-toggleable__label-arrow:before {content: \"▾\";}#sk-container-id-1 div.sk-estimator input.sk-toggleable__control:checked~label.sk-toggleable__label {background-color: #d4ebff;}#sk-container-id-1 div.sk-label input.sk-toggleable__control:checked~label.sk-toggleable__label {background-color: #d4ebff;}#sk-container-id-1 input.sk-hidden--visually {border: 0;clip: rect(1px 1px 1px 1px);clip: rect(1px, 1px, 1px, 1px);height: 1px;margin: -1px;overflow: hidden;padding: 0;position: absolute;width: 1px;}#sk-container-id-1 div.sk-estimator {font-family: monospace;background-color: #f0f8ff;border: 1px dotted black;border-radius: 0.25em;box-sizing: border-box;margin-bottom: 0.5em;}#sk-container-id-1 div.sk-estimator:hover {background-color: #d4ebff;}#sk-container-id-1 div.sk-parallel-item::after {content: \"\";width: 100%;border-bottom: 1px solid gray;flex-grow: 1;}#sk-container-id-1 div.sk-label:hover label.sk-toggleable__label {background-color: #d4ebff;}#sk-container-id-1 div.sk-serial::before {content: \"\";position: absolute;border-left: 1px solid gray;box-sizing: border-box;top: 0;bottom: 0;left: 50%;z-index: 0;}#sk-container-id-1 div.sk-serial {display: flex;flex-direction: column;align-items: center;background-color: white;padding-right: 0.2em;padding-left: 0.2em;position: relative;}#sk-container-id-1 div.sk-item {position: relative;z-index: 1;}#sk-container-id-1 div.sk-parallel {display: flex;align-items: stretch;justify-content: center;background-color: white;position: relative;}#sk-container-id-1 div.sk-item::before, #sk-container-id-1 div.sk-parallel-item::before {content: \"\";position: absolute;border-left: 1px solid gray;box-sizing: border-box;top: 0;bottom: 0;left: 50%;z-index: -1;}#sk-container-id-1 div.sk-parallel-item {display: flex;flex-direction: column;z-index: 1;position: relative;background-color: white;}#sk-container-id-1 div.sk-parallel-item:first-child::after {align-self: flex-end;width: 50%;}#sk-container-id-1 div.sk-parallel-item:last-child::after {align-self: flex-start;width: 50%;}#sk-container-id-1 div.sk-parallel-item:only-child::after {width: 0;}#sk-container-id-1 div.sk-dashed-wrapped {border: 1px dashed gray;margin: 0 0.4em 0.5em 0.4em;box-sizing: border-box;padding-bottom: 0.4em;background-color: white;}#sk-container-id-1 div.sk-label label {font-family: monospace;font-weight: bold;display: inline-block;line-height: 1.2em;}#sk-container-id-1 div.sk-label-container {text-align: center;}#sk-container-id-1 div.sk-container {/* jupyter's `normalize.less` sets `[hidden] { display: none; }` but bootstrap.min.css set `[hidden] { display: none !important; }` so we also need the `!important` here to be able to override the default hidden behavior on the sphinx rendered scikit-learn.org. See: https://github.com/scikit-learn/scikit-learn/issues/21755 */display: inline-block !important;position: relative;}#sk-container-id-1 div.sk-text-repr-fallback {display: none;}</style><div id=\"sk-container-id-1\" class=\"sk-top-container\"><div class=\"sk-text-repr-fallback\"><pre>LogisticRegression(C=0.5, max_iter=1000, penalty=&#x27;l1&#x27;, solver=&#x27;liblinear&#x27;)</pre><b>In a Jupyter environment, please rerun this cell to show the HTML representation or trust the notebook. <br />On GitHub, the HTML representation is unable to render, please try loading this page with nbviewer.org.</b></div><div class=\"sk-container\" hidden><div class=\"sk-item\"><div class=\"sk-estimator sk-toggleable\"><input class=\"sk-toggleable__control sk-hidden--visually\" id=\"sk-estimator-id-1\" type=\"checkbox\" checked><label for=\"sk-estimator-id-1\" class=\"sk-toggleable__label sk-toggleable__label-arrow\">LogisticRegression</label><div class=\"sk-toggleable__content\"><pre>LogisticRegression(C=0.5, max_iter=1000, penalty=&#x27;l1&#x27;, solver=&#x27;liblinear&#x27;)</pre></div></div></div></div></div>"
      ],
      "text/plain": [
       "LogisticRegression(C=0.5, max_iter=1000, penalty='l1', solver='liblinear')"
      ]
     },
     "execution_count": 90,
     "metadata": {},
     "output_type": "execute_result"
    }
   ],
   "source": [
    "from sklearn.linear_model import LogisticRegression\n",
    "lasso_mod_2 = LogisticRegression('l1', solver='liblinear', \n",
    "                          max_iter=1000, C=1/2)\n",
    "lasso_mod_2.fit(X_train,y_train)"
   ]
  },
  {
   "cell_type": "markdown",
   "metadata": {},
   "source": [
    "Extract the slopes for this LASSO logistic regression model."
   ]
  },
  {
   "cell_type": "code",
   "execution_count": 91,
   "metadata": {},
   "outputs": [
    {
     "data": {
      "text/html": [
       "<div>\n",
       "<style scoped>\n",
       "    .dataframe tbody tr th:only-of-type {\n",
       "        vertical-align: middle;\n",
       "    }\n",
       "\n",
       "    .dataframe tbody tr th {\n",
       "        vertical-align: top;\n",
       "    }\n",
       "\n",
       "    .dataframe thead th {\n",
       "        text-align: right;\n",
       "    }\n",
       "</style>\n",
       "<table border=\"1\" class=\"dataframe\">\n",
       "  <thead>\n",
       "    <tr style=\"text-align: right;\">\n",
       "      <th></th>\n",
       "      <th>lasso_2_slopes</th>\n",
       "    </tr>\n",
       "  </thead>\n",
       "  <tbody>\n",
       "    <tr>\n",
       "      <th>Year</th>\n",
       "      <td>-0.000568</td>\n",
       "    </tr>\n",
       "    <tr>\n",
       "      <th>NA_Sales</th>\n",
       "      <td>-0.441026</td>\n",
       "    </tr>\n",
       "    <tr>\n",
       "      <th>EU_Sales</th>\n",
       "      <td>0.000000</td>\n",
       "    </tr>\n",
       "    <tr>\n",
       "      <th>JP_Sales</th>\n",
       "      <td>1.601405</td>\n",
       "    </tr>\n",
       "    <tr>\n",
       "      <th>Other_Sales</th>\n",
       "      <td>0.000000</td>\n",
       "    </tr>\n",
       "    <tr>\n",
       "      <th>Platform_PS2</th>\n",
       "      <td>0.000000</td>\n",
       "    </tr>\n",
       "    <tr>\n",
       "      <th>Platform_PS3</th>\n",
       "      <td>-0.107744</td>\n",
       "    </tr>\n",
       "    <tr>\n",
       "      <th>Platform_PSP</th>\n",
       "      <td>0.436529</td>\n",
       "    </tr>\n",
       "    <tr>\n",
       "      <th>Platform_X360</th>\n",
       "      <td>-0.052914</td>\n",
       "    </tr>\n",
       "  </tbody>\n",
       "</table>\n",
       "</div>"
      ],
      "text/plain": [
       "               lasso_2_slopes\n",
       "Year                -0.000568\n",
       "NA_Sales            -0.441026\n",
       "EU_Sales             0.000000\n",
       "JP_Sales             1.601405\n",
       "Other_Sales          0.000000\n",
       "Platform_PS2         0.000000\n",
       "Platform_PS3        -0.107744\n",
       "Platform_PSP         0.436529\n",
       "Platform_X360       -0.052914"
      ]
     },
     "execution_count": 91,
     "metadata": {},
     "output_type": "execute_result"
    }
   ],
   "source": [
    "df_slope = pd.DataFrame(lasso_mod_2.coef_.T, columns=['lasso_2_slopes'], index=X_train.columns)\n",
    "df_slope"
   ]
  },
  {
   "cell_type": "markdown",
   "metadata": {},
   "source": [
    "Explain:\n",
    "\n",
    "The results of this LASSO logistic regression model with regularization penalty  𝜆=5 suggest that only the Year, NA_Sales, JP_Sales, and Platform explanatory variables bring enough predictive power to logistic regression model to warrant leaving them in the model (as these are the only slopes in the model that are non-zero).\n",
    "\n",
    "If we were to use these results to create a reduced model for further testing, this would indicate that we would only want to use  Year, NA_Sales, JP_Sales, and Platform as explanatory variables."
   ]
  },
  {
   "cell_type": "markdown",
   "metadata": {},
   "source": [
    "#### Reduced model 2:\n",
    "\n",
    "an elastic net logistic regression model with penalty term $\\lambda=5$ and $\\alpha = 0.95$ to see what this might suggest about which explanatory variables to include/not include in our second reduced model.\n",
    "\n"
   ]
  },
  {
   "cell_type": "code",
   "execution_count": 92,
   "metadata": {},
   "outputs": [
    {
     "name": "stderr",
     "output_type": "stream",
     "text": [
      "/Library/Frameworks/Python.framework/Versions/3.11/lib/python3.11/site-packages/sklearn/linear_model/_sag.py:350: ConvergenceWarning: The max_iter was reached which means the coef_ did not converge\n",
      "  warnings.warn(\n"
     ]
    },
    {
     "data": {
      "text/html": [
       "<style>#sk-container-id-2 {color: black;}#sk-container-id-2 pre{padding: 0;}#sk-container-id-2 div.sk-toggleable {background-color: white;}#sk-container-id-2 label.sk-toggleable__label {cursor: pointer;display: block;width: 100%;margin-bottom: 0;padding: 0.3em;box-sizing: border-box;text-align: center;}#sk-container-id-2 label.sk-toggleable__label-arrow:before {content: \"▸\";float: left;margin-right: 0.25em;color: #696969;}#sk-container-id-2 label.sk-toggleable__label-arrow:hover:before {color: black;}#sk-container-id-2 div.sk-estimator:hover label.sk-toggleable__label-arrow:before {color: black;}#sk-container-id-2 div.sk-toggleable__content {max-height: 0;max-width: 0;overflow: hidden;text-align: left;background-color: #f0f8ff;}#sk-container-id-2 div.sk-toggleable__content pre {margin: 0.2em;color: black;border-radius: 0.25em;background-color: #f0f8ff;}#sk-container-id-2 input.sk-toggleable__control:checked~div.sk-toggleable__content {max-height: 200px;max-width: 100%;overflow: auto;}#sk-container-id-2 input.sk-toggleable__control:checked~label.sk-toggleable__label-arrow:before {content: \"▾\";}#sk-container-id-2 div.sk-estimator input.sk-toggleable__control:checked~label.sk-toggleable__label {background-color: #d4ebff;}#sk-container-id-2 div.sk-label input.sk-toggleable__control:checked~label.sk-toggleable__label {background-color: #d4ebff;}#sk-container-id-2 input.sk-hidden--visually {border: 0;clip: rect(1px 1px 1px 1px);clip: rect(1px, 1px, 1px, 1px);height: 1px;margin: -1px;overflow: hidden;padding: 0;position: absolute;width: 1px;}#sk-container-id-2 div.sk-estimator {font-family: monospace;background-color: #f0f8ff;border: 1px dotted black;border-radius: 0.25em;box-sizing: border-box;margin-bottom: 0.5em;}#sk-container-id-2 div.sk-estimator:hover {background-color: #d4ebff;}#sk-container-id-2 div.sk-parallel-item::after {content: \"\";width: 100%;border-bottom: 1px solid gray;flex-grow: 1;}#sk-container-id-2 div.sk-label:hover label.sk-toggleable__label {background-color: #d4ebff;}#sk-container-id-2 div.sk-serial::before {content: \"\";position: absolute;border-left: 1px solid gray;box-sizing: border-box;top: 0;bottom: 0;left: 50%;z-index: 0;}#sk-container-id-2 div.sk-serial {display: flex;flex-direction: column;align-items: center;background-color: white;padding-right: 0.2em;padding-left: 0.2em;position: relative;}#sk-container-id-2 div.sk-item {position: relative;z-index: 1;}#sk-container-id-2 div.sk-parallel {display: flex;align-items: stretch;justify-content: center;background-color: white;position: relative;}#sk-container-id-2 div.sk-item::before, #sk-container-id-2 div.sk-parallel-item::before {content: \"\";position: absolute;border-left: 1px solid gray;box-sizing: border-box;top: 0;bottom: 0;left: 50%;z-index: -1;}#sk-container-id-2 div.sk-parallel-item {display: flex;flex-direction: column;z-index: 1;position: relative;background-color: white;}#sk-container-id-2 div.sk-parallel-item:first-child::after {align-self: flex-end;width: 50%;}#sk-container-id-2 div.sk-parallel-item:last-child::after {align-self: flex-start;width: 50%;}#sk-container-id-2 div.sk-parallel-item:only-child::after {width: 0;}#sk-container-id-2 div.sk-dashed-wrapped {border: 1px dashed gray;margin: 0 0.4em 0.5em 0.4em;box-sizing: border-box;padding-bottom: 0.4em;background-color: white;}#sk-container-id-2 div.sk-label label {font-family: monospace;font-weight: bold;display: inline-block;line-height: 1.2em;}#sk-container-id-2 div.sk-label-container {text-align: center;}#sk-container-id-2 div.sk-container {/* jupyter's `normalize.less` sets `[hidden] { display: none; }` but bootstrap.min.css set `[hidden] { display: none !important; }` so we also need the `!important` here to be able to override the default hidden behavior on the sphinx rendered scikit-learn.org. See: https://github.com/scikit-learn/scikit-learn/issues/21755 */display: inline-block !important;position: relative;}#sk-container-id-2 div.sk-text-repr-fallback {display: none;}</style><div id=\"sk-container-id-2\" class=\"sk-top-container\"><div class=\"sk-text-repr-fallback\"><pre>LogisticRegression(C=0.2, l1_ratio=0.95, max_iter=1000, penalty=&#x27;elasticnet&#x27;,\n",
       "                   solver=&#x27;saga&#x27;)</pre><b>In a Jupyter environment, please rerun this cell to show the HTML representation or trust the notebook. <br />On GitHub, the HTML representation is unable to render, please try loading this page with nbviewer.org.</b></div><div class=\"sk-container\" hidden><div class=\"sk-item\"><div class=\"sk-estimator sk-toggleable\"><input class=\"sk-toggleable__control sk-hidden--visually\" id=\"sk-estimator-id-2\" type=\"checkbox\" checked><label for=\"sk-estimator-id-2\" class=\"sk-toggleable__label sk-toggleable__label-arrow\">LogisticRegression</label><div class=\"sk-toggleable__content\"><pre>LogisticRegression(C=0.2, l1_ratio=0.95, max_iter=1000, penalty=&#x27;elasticnet&#x27;,\n",
       "                   solver=&#x27;saga&#x27;)</pre></div></div></div></div></div>"
      ],
      "text/plain": [
       "LogisticRegression(C=0.2, l1_ratio=0.95, max_iter=1000, penalty='elasticnet',\n",
       "                   solver='saga')"
      ]
     },
     "execution_count": 92,
     "metadata": {},
     "output_type": "execute_result"
    }
   ],
   "source": [
    "enet_mod = LogisticRegression('elasticnet', solver='saga', \n",
    "                          max_iter=1000, C=1/5, l1_ratio=0.95)\n",
    "enet_mod.fit(X_train,y_train)"
   ]
  },
  {
   "cell_type": "markdown",
   "metadata": {},
   "source": [
    "extract the slopes for this elastic net logistic regression model."
   ]
  },
  {
   "cell_type": "code",
   "execution_count": 93,
   "metadata": {},
   "outputs": [
    {
     "data": {
      "text/html": [
       "<div>\n",
       "<style scoped>\n",
       "    .dataframe tbody tr th:only-of-type {\n",
       "        vertical-align: middle;\n",
       "    }\n",
       "\n",
       "    .dataframe tbody tr th {\n",
       "        vertical-align: top;\n",
       "    }\n",
       "\n",
       "    .dataframe thead th {\n",
       "        text-align: right;\n",
       "    }\n",
       "</style>\n",
       "<table border=\"1\" class=\"dataframe\">\n",
       "  <thead>\n",
       "    <tr style=\"text-align: right;\">\n",
       "      <th></th>\n",
       "      <th>lasso_2_slopes</th>\n",
       "      <th>elastic_net_slopes</th>\n",
       "    </tr>\n",
       "  </thead>\n",
       "  <tbody>\n",
       "    <tr>\n",
       "      <th>Year</th>\n",
       "      <td>-0.000568</td>\n",
       "      <td>-0.000513</td>\n",
       "    </tr>\n",
       "    <tr>\n",
       "      <th>NA_Sales</th>\n",
       "      <td>-0.441026</td>\n",
       "      <td>0.000000</td>\n",
       "    </tr>\n",
       "    <tr>\n",
       "      <th>EU_Sales</th>\n",
       "      <td>0.000000</td>\n",
       "      <td>0.000000</td>\n",
       "    </tr>\n",
       "    <tr>\n",
       "      <th>JP_Sales</th>\n",
       "      <td>1.601405</td>\n",
       "      <td>0.000379</td>\n",
       "    </tr>\n",
       "    <tr>\n",
       "      <th>Other_Sales</th>\n",
       "      <td>0.000000</td>\n",
       "      <td>0.000000</td>\n",
       "    </tr>\n",
       "    <tr>\n",
       "      <th>Platform_PS2</th>\n",
       "      <td>0.000000</td>\n",
       "      <td>0.000000</td>\n",
       "    </tr>\n",
       "    <tr>\n",
       "      <th>Platform_PS3</th>\n",
       "      <td>-0.107744</td>\n",
       "      <td>0.000000</td>\n",
       "    </tr>\n",
       "    <tr>\n",
       "      <th>Platform_PSP</th>\n",
       "      <td>0.436529</td>\n",
       "      <td>0.000000</td>\n",
       "    </tr>\n",
       "    <tr>\n",
       "      <th>Platform_X360</th>\n",
       "      <td>-0.052914</td>\n",
       "      <td>0.000000</td>\n",
       "    </tr>\n",
       "  </tbody>\n",
       "</table>\n",
       "</div>"
      ],
      "text/plain": [
       "               lasso_2_slopes  elastic_net_slopes\n",
       "Year                -0.000568           -0.000513\n",
       "NA_Sales            -0.441026            0.000000\n",
       "EU_Sales             0.000000            0.000000\n",
       "JP_Sales             1.601405            0.000379\n",
       "Other_Sales          0.000000            0.000000\n",
       "Platform_PS2         0.000000            0.000000\n",
       "Platform_PS3        -0.107744            0.000000\n",
       "Platform_PSP         0.436529            0.000000\n",
       "Platform_X360       -0.052914            0.000000"
      ]
     },
     "execution_count": 93,
     "metadata": {},
     "output_type": "execute_result"
    }
   ],
   "source": [
    "df_slope['elastic_net_slopes'] = enet_mod.coef_.T\n",
    "df_slope"
   ]
  },
  {
   "cell_type": "markdown",
   "metadata": {},
   "source": [
    "Explain:\n",
    "\n",
    "The results of this elastic net logistic regression model with regularization penalty  𝜆=5 and  𝛼=0.9 suggest that only the Year, JP_Sales explanatory variables bring enough predictive power to logistic regression model to warrant leaving them in the model (as these are the only slopes in the model that are non-zero).\n",
    "If we were to use these results to create a reduced model for further testing, this would indicate that we would only want to use Year, JP_Sales, and Platform as explanatory variables."
   ]
  },
  {
   "cell_type": "markdown",
   "metadata": {},
   "source": [
    "Conclusion:\n",
    "\n",
    "Our LASSO logistic regression results are much more straightforward about which explanatory variables to exclude and include in a reduced model. In the LASSO model, many of the slopes are set exactly equal to 0, suggesting that these corresponding explanatory variables do not bring enough predictive power to the model. Thus we might consider excluding these explanatory variables from a reduced model to use for further testing.\n",
    "Alternatively, ridge regression models will often not set any of the slopes EXACTLY equal to 0. This makes interpretation difficult as some slopes in a logistic may be:\n",
    "set to be small because they do not bring enough preditive power to the model OR\n",
    "the relationship between this variable and the response variable may just be naturally small.\n",
    "It is more difficult to determine \"how small of a slope is small enough\" to determine that the corresponding variable does not contribute enough predictive power to the model."
   ]
  },
  {
   "cell_type": "markdown",
   "metadata": {},
   "source": [
    "\n",
    "#### Fitting Reduced Model 1\n"
   ]
  },
  {
   "cell_type": "code",
   "execution_count": 94,
   "metadata": {},
   "outputs": [
    {
     "name": "stdout",
     "output_type": "stream",
     "text": [
      "Optimization terminated successfully.\n",
      "         Current function value: 0.487700\n",
      "         Iterations 7\n"
     ]
    },
    {
     "data": {
      "text/html": [
       "<table class=\"simpletable\">\n",
       "<caption>Logit Regression Results</caption>\n",
       "<tr>\n",
       "  <th>Dep. Variable:</th>           <td>y</td>        <th>  No. Observations:  </th>  <td>   152</td>  \n",
       "</tr>\n",
       "<tr>\n",
       "  <th>Model:</th>                 <td>Logit</td>      <th>  Df Residuals:      </th>  <td>   144</td>  \n",
       "</tr>\n",
       "<tr>\n",
       "  <th>Method:</th>                 <td>MLE</td>       <th>  Df Model:          </th>  <td>     7</td>  \n",
       "</tr>\n",
       "<tr>\n",
       "  <th>Date:</th>            <td>Tue, 05 Dec 2023</td> <th>  Pseudo R-squ.:     </th>  <td>0.1538</td>  \n",
       "</tr>\n",
       "<tr>\n",
       "  <th>Time:</th>                <td>16:00:13</td>     <th>  Log-Likelihood:    </th> <td> -74.130</td> \n",
       "</tr>\n",
       "<tr>\n",
       "  <th>converged:</th>             <td>True</td>       <th>  LL-Null:           </th> <td> -87.603</td> \n",
       "</tr>\n",
       "<tr>\n",
       "  <th>Covariance Type:</th>     <td>nonrobust</td>    <th>  LLR p-value:       </th> <td>0.0003410</td>\n",
       "</tr>\n",
       "</table>\n",
       "<table class=\"simpletable\">\n",
       "<tr>\n",
       "          <td></td>            <th>coef</th>     <th>std err</th>      <th>z</th>      <th>P>|z|</th>  <th>[0.025</th>    <th>0.975]</th>  \n",
       "</tr>\n",
       "<tr>\n",
       "  <th>Intercept</th>        <td> -165.0712</td> <td>  194.931</td> <td>   -0.847</td> <td> 0.397</td> <td> -547.129</td> <td>  216.987</td>\n",
       "</tr>\n",
       "<tr>\n",
       "  <th>Platform[T.PS2]</th>  <td>   -0.4944</td> <td>    0.687</td> <td>   -0.720</td> <td> 0.472</td> <td>   -1.841</td> <td>    0.852</td>\n",
       "</tr>\n",
       "<tr>\n",
       "  <th>Platform[T.PS3]</th>  <td>   -1.4146</td> <td>    0.753</td> <td>   -1.879</td> <td> 0.060</td> <td>   -2.890</td> <td>    0.061</td>\n",
       "</tr>\n",
       "<tr>\n",
       "  <th>Platform[T.PSP]</th>  <td>   -0.0395</td> <td>    0.606</td> <td>   -0.065</td> <td> 0.948</td> <td>   -1.227</td> <td>    1.148</td>\n",
       "</tr>\n",
       "<tr>\n",
       "  <th>Platform[T.X360]</th> <td>   -0.9416</td> <td>    0.743</td> <td>   -1.267</td> <td> 0.205</td> <td>   -2.398</td> <td>    0.515</td>\n",
       "</tr>\n",
       "<tr>\n",
       "  <th>Year</th>             <td>    0.0819</td> <td>    0.097</td> <td>    0.844</td> <td> 0.399</td> <td>   -0.108</td> <td>    0.272</td>\n",
       "</tr>\n",
       "<tr>\n",
       "  <th>NA_Sales</th>         <td>   -1.2754</td> <td>    0.720</td> <td>   -1.772</td> <td> 0.076</td> <td>   -2.686</td> <td>    0.135</td>\n",
       "</tr>\n",
       "<tr>\n",
       "  <th>JP_Sales</th>         <td>    3.3996</td> <td>    1.080</td> <td>    3.148</td> <td> 0.002</td> <td>    1.283</td> <td>    5.516</td>\n",
       "</tr>\n",
       "</table>"
      ],
      "text/latex": [
       "\\begin{center}\n",
       "\\begin{tabular}{lclc}\n",
       "\\toprule\n",
       "\\textbf{Dep. Variable:}   &        y         & \\textbf{  No. Observations:  } &      152    \\\\\n",
       "\\textbf{Model:}           &      Logit       & \\textbf{  Df Residuals:      } &      144    \\\\\n",
       "\\textbf{Method:}          &       MLE        & \\textbf{  Df Model:          } &        7    \\\\\n",
       "\\textbf{Date:}            & Tue, 05 Dec 2023 & \\textbf{  Pseudo R-squ.:     } &   0.1538    \\\\\n",
       "\\textbf{Time:}            &     16:00:13     & \\textbf{  Log-Likelihood:    } &   -74.130   \\\\\n",
       "\\textbf{converged:}       &       True       & \\textbf{  LL-Null:           } &   -87.603   \\\\\n",
       "\\textbf{Covariance Type:} &    nonrobust     & \\textbf{  LLR p-value:       } & 0.0003410   \\\\\n",
       "\\bottomrule\n",
       "\\end{tabular}\n",
       "\\begin{tabular}{lcccccc}\n",
       "                          & \\textbf{coef} & \\textbf{std err} & \\textbf{z} & \\textbf{P$> |$z$|$} & \\textbf{[0.025} & \\textbf{0.975]}  \\\\\n",
       "\\midrule\n",
       "\\textbf{Intercept}        &    -165.0712  &      194.931     &    -0.847  &         0.397        &     -547.129    &      216.987     \\\\\n",
       "\\textbf{Platform[T.PS2]}  &      -0.4944  &        0.687     &    -0.720  &         0.472        &       -1.841    &        0.852     \\\\\n",
       "\\textbf{Platform[T.PS3]}  &      -1.4146  &        0.753     &    -1.879  &         0.060        &       -2.890    &        0.061     \\\\\n",
       "\\textbf{Platform[T.PSP]}  &      -0.0395  &        0.606     &    -0.065  &         0.948        &       -1.227    &        1.148     \\\\\n",
       "\\textbf{Platform[T.X360]} &      -0.9416  &        0.743     &    -1.267  &         0.205        &       -2.398    &        0.515     \\\\\n",
       "\\textbf{Year}             &       0.0819  &        0.097     &     0.844  &         0.399        &       -0.108    &        0.272     \\\\\n",
       "\\textbf{NA\\_Sales}        &      -1.2754  &        0.720     &    -1.772  &         0.076        &       -2.686    &        0.135     \\\\\n",
       "\\textbf{JP\\_Sales}        &       3.3996  &        1.080     &     3.148  &         0.002        &        1.283    &        5.516     \\\\\n",
       "\\bottomrule\n",
       "\\end{tabular}\n",
       "%\\caption{Logit Regression Results}\n",
       "\\end{center}"
      ],
      "text/plain": [
       "<class 'statsmodels.iolib.summary.Summary'>\n",
       "\"\"\"\n",
       "                           Logit Regression Results                           \n",
       "==============================================================================\n",
       "Dep. Variable:                      y   No. Observations:                  152\n",
       "Model:                          Logit   Df Residuals:                      144\n",
       "Method:                           MLE   Df Model:                            7\n",
       "Date:                Tue, 05 Dec 2023   Pseudo R-squ.:                  0.1538\n",
       "Time:                        16:00:13   Log-Likelihood:                -74.130\n",
       "converged:                       True   LL-Null:                       -87.603\n",
       "Covariance Type:            nonrobust   LLR p-value:                 0.0003410\n",
       "====================================================================================\n",
       "                       coef    std err          z      P>|z|      [0.025      0.975]\n",
       "------------------------------------------------------------------------------------\n",
       "Intercept         -165.0712    194.931     -0.847      0.397    -547.129     216.987\n",
       "Platform[T.PS2]     -0.4944      0.687     -0.720      0.472      -1.841       0.852\n",
       "Platform[T.PS3]     -1.4146      0.753     -1.879      0.060      -2.890       0.061\n",
       "Platform[T.PSP]     -0.0395      0.606     -0.065      0.948      -1.227       1.148\n",
       "Platform[T.X360]    -0.9416      0.743     -1.267      0.205      -2.398       0.515\n",
       "Year                 0.0819      0.097      0.844      0.399      -0.108       0.272\n",
       "NA_Sales            -1.2754      0.720     -1.772      0.076      -2.686       0.135\n",
       "JP_Sales             3.3996      1.080      3.148      0.002       1.283       5.516\n",
       "====================================================================================\n",
       "\"\"\""
      ]
     },
     "execution_count": 94,
     "metadata": {},
     "output_type": "execute_result"
    }
   ],
   "source": [
    "red_mod1 = smf.logit('y ~ Year + NA_Sales + JP_Sales + Platform', data = df_train).fit()\n",
    "red_mod1.summary()"
   ]
  },
  {
   "cell_type": "markdown",
   "metadata": {},
   "source": [
    "#### Predictive Probabilities\n"
   ]
  },
  {
   "cell_type": "code",
   "execution_count": 95,
   "metadata": {},
   "outputs": [
    {
     "data": {
      "text/plain": [
       "430    0.408744\n",
       "144    0.126413\n",
       "219    0.165835\n",
       "14     0.126138\n",
       "842    0.350849\n",
       "Name: phat_test, dtype: float64"
      ]
     },
     "execution_count": 95,
     "metadata": {},
     "output_type": "execute_result"
    }
   ],
   "source": [
    "df_test['phat_test'] = red_mod1.predict(exog=df_test)\n",
    "df_test['phat_test'].head() "
   ]
  },
  {
   "cell_type": "markdown",
   "metadata": {},
   "source": [
    "####  ROC and AUC\n"
   ]
  },
  {
   "cell_type": "code",
   "execution_count": 96,
   "metadata": {},
   "outputs": [],
   "source": [
    "from sklearn.metrics import roc_curve\n",
    "from sklearn.metrics import roc_auc_score\n",
    "\n",
    "fpr1, tpr1, score1 = roc_curve(y_true=df_test['y'], y_score=df_test['phat_test'])\n",
    "auc1 = roc_auc_score(y_true=df_test['y'], y_score=df_test['phat_test'])"
   ]
  },
  {
   "cell_type": "code",
   "execution_count": 97,
   "metadata": {},
   "outputs": [],
   "source": [
    "def plot_roc(fpr, tpr, auc, lw=2):\n",
    "    plt.plot(fpr, tpr, color='darkorange', lw=lw,\n",
    "             label='ROC curve (area = '+str(round(auc,3))+')')\n",
    "    plt.plot([0, 1], [0, 1], color='navy', lw=lw, linestyle='--')\n",
    "    plt.xlabel('False Positive Rate')\n",
    "    plt.ylabel('True Positive Rate')\n",
    "    plt.title('ROC Curve')\n",
    "    plt.legend(loc=\"lower right\")\n",
    "    plt.show()"
   ]
  },
  {
   "cell_type": "code",
   "execution_count": 98,
   "metadata": {},
   "outputs": [
    {
     "data": {
      "image/png": "[encoded data removed]",
      "text/plain": [
       "<Figure size 640x480 with 1 Axes>"
      ]
     },
     "metadata": {},
     "output_type": "display_data"
    }
   ],
   "source": [
    "plot_roc(fpr1, tpr1, auc1)"
   ]
  },
  {
   "cell_type": "markdown",
   "metadata": {},
   "source": [
    "\n",
    "#### Fitting Reduced Model 2"
   ]
  },
  {
   "cell_type": "code",
   "execution_count": 99,
   "metadata": {},
   "outputs": [
    {
     "name": "stdout",
     "output_type": "stream",
     "text": [
      "Optimization terminated successfully.\n",
      "         Current function value: 0.536171\n",
      "         Iterations 7\n"
     ]
    },
    {
     "data": {
      "text/html": [
       "<table class=\"simpletable\">\n",
       "<caption>Logit Regression Results</caption>\n",
       "<tr>\n",
       "  <th>Dep. Variable:</th>           <td>y</td>        <th>  No. Observations:  </th>  <td>   152</td> \n",
       "</tr>\n",
       "<tr>\n",
       "  <th>Model:</th>                 <td>Logit</td>      <th>  Df Residuals:      </th>  <td>   149</td> \n",
       "</tr>\n",
       "<tr>\n",
       "  <th>Method:</th>                 <td>MLE</td>       <th>  Df Model:          </th>  <td>     2</td> \n",
       "</tr>\n",
       "<tr>\n",
       "  <th>Date:</th>            <td>Tue, 05 Dec 2023</td> <th>  Pseudo R-squ.:     </th>  <td>0.06969</td>\n",
       "</tr>\n",
       "<tr>\n",
       "  <th>Time:</th>                <td>16:01:02</td>     <th>  Log-Likelihood:    </th> <td> -81.498</td>\n",
       "</tr>\n",
       "<tr>\n",
       "  <th>converged:</th>             <td>True</td>       <th>  LL-Null:           </th> <td> -87.603</td>\n",
       "</tr>\n",
       "<tr>\n",
       "  <th>Covariance Type:</th>     <td>nonrobust</td>    <th>  LLR p-value:       </th> <td>0.002232</td>\n",
       "</tr>\n",
       "</table>\n",
       "<table class=\"simpletable\">\n",
       "<tr>\n",
       "      <td></td>         <th>coef</th>     <th>std err</th>      <th>z</th>      <th>P>|z|</th>  <th>[0.025</th>    <th>0.975]</th>  \n",
       "</tr>\n",
       "<tr>\n",
       "  <th>Intercept</th> <td> -109.0296</td> <td>  124.062</td> <td>   -0.879</td> <td> 0.379</td> <td> -352.186</td> <td>  134.127</td>\n",
       "</tr>\n",
       "<tr>\n",
       "  <th>Year</th>      <td>    0.0536</td> <td>    0.062</td> <td>    0.868</td> <td> 0.385</td> <td>   -0.067</td> <td>    0.175</td>\n",
       "</tr>\n",
       "<tr>\n",
       "  <th>JP_Sales</th>  <td>    2.6712</td> <td>    1.036</td> <td>    2.579</td> <td> 0.010</td> <td>    0.641</td> <td>    4.701</td>\n",
       "</tr>\n",
       "</table>"
      ],
      "text/latex": [
       "\\begin{center}\n",
       "\\begin{tabular}{lclc}\n",
       "\\toprule\n",
       "\\textbf{Dep. Variable:}   &        y         & \\textbf{  No. Observations:  } &      152    \\\\\n",
       "\\textbf{Model:}           &      Logit       & \\textbf{  Df Residuals:      } &      149    \\\\\n",
       "\\textbf{Method:}          &       MLE        & \\textbf{  Df Model:          } &        2    \\\\\n",
       "\\textbf{Date:}            & Tue, 05 Dec 2023 & \\textbf{  Pseudo R-squ.:     } &  0.06969    \\\\\n",
       "\\textbf{Time:}            &     16:01:02     & \\textbf{  Log-Likelihood:    } &   -81.498   \\\\\n",
       "\\textbf{converged:}       &       True       & \\textbf{  LL-Null:           } &   -87.603   \\\\\n",
       "\\textbf{Covariance Type:} &    nonrobust     & \\textbf{  LLR p-value:       } &  0.002232   \\\\\n",
       "\\bottomrule\n",
       "\\end{tabular}\n",
       "\\begin{tabular}{lcccccc}\n",
       "                   & \\textbf{coef} & \\textbf{std err} & \\textbf{z} & \\textbf{P$> |$z$|$} & \\textbf{[0.025} & \\textbf{0.975]}  \\\\\n",
       "\\midrule\n",
       "\\textbf{Intercept} &    -109.0296  &      124.062     &    -0.879  &         0.379        &     -352.186    &      134.127     \\\\\n",
       "\\textbf{Year}      &       0.0536  &        0.062     &     0.868  &         0.385        &       -0.067    &        0.175     \\\\\n",
       "\\textbf{JP\\_Sales} &       2.6712  &        1.036     &     2.579  &         0.010        &        0.641    &        4.701     \\\\\n",
       "\\bottomrule\n",
       "\\end{tabular}\n",
       "%\\caption{Logit Regression Results}\n",
       "\\end{center}"
      ],
      "text/plain": [
       "<class 'statsmodels.iolib.summary.Summary'>\n",
       "\"\"\"\n",
       "                           Logit Regression Results                           \n",
       "==============================================================================\n",
       "Dep. Variable:                      y   No. Observations:                  152\n",
       "Model:                          Logit   Df Residuals:                      149\n",
       "Method:                           MLE   Df Model:                            2\n",
       "Date:                Tue, 05 Dec 2023   Pseudo R-squ.:                 0.06969\n",
       "Time:                        16:01:02   Log-Likelihood:                -81.498\n",
       "converged:                       True   LL-Null:                       -87.603\n",
       "Covariance Type:            nonrobust   LLR p-value:                  0.002232\n",
       "==============================================================================\n",
       "                 coef    std err          z      P>|z|      [0.025      0.975]\n",
       "------------------------------------------------------------------------------\n",
       "Intercept   -109.0296    124.062     -0.879      0.379    -352.186     134.127\n",
       "Year           0.0536      0.062      0.868      0.385      -0.067       0.175\n",
       "JP_Sales       2.6712      1.036      2.579      0.010       0.641       4.701\n",
       "==============================================================================\n",
       "\"\"\""
      ]
     },
     "execution_count": 99,
     "metadata": {},
     "output_type": "execute_result"
    }
   ],
   "source": [
    "red_mod2 = smf.logit('y~Year + JP_Sales', data = df_train).fit()\n",
    "red_mod2.summary()"
   ]
  },
  {
   "cell_type": "markdown",
   "metadata": {},
   "source": [
    "#### Predictive Probabilities\n"
   ]
  },
  {
   "cell_type": "code",
   "execution_count": 100,
   "metadata": {},
   "outputs": [
    {
     "data": {
      "text/plain": [
       "430    0.243489\n",
       "144    0.248671\n",
       "219    0.313207\n",
       "14     0.189359\n",
       "842    0.224492\n",
       "Name: phat_test, dtype: float64"
      ]
     },
     "execution_count": 100,
     "metadata": {},
     "output_type": "execute_result"
    }
   ],
   "source": [
    "df_test['phat_test'] = red_mod2.predict(exog=df_test)\n",
    "df_test['phat_test'].head() "
   ]
  },
  {
   "cell_type": "markdown",
   "metadata": {},
   "source": [
    "#### ROC and AUC\n"
   ]
  },
  {
   "cell_type": "code",
   "execution_count": 101,
   "metadata": {},
   "outputs": [],
   "source": [
    "from sklearn.metrics import roc_curve\n",
    "from sklearn.metrics import roc_auc_score\n",
    "\n",
    "fpr2, tpr2, score2 = roc_curve(y_true=df_test['y'], y_score=df_test['phat_test'])\n",
    "auc2 = roc_auc_score(y_true=df_test['y'], y_score=df_test['phat_test'])"
   ]
  },
  {
   "cell_type": "code",
   "execution_count": 102,
   "metadata": {},
   "outputs": [],
   "source": [
    "def plot_roc(fpr, tpr, auc, lw=2):\n",
    "    plt.plot(fpr, tpr, color='darkorange', lw=lw,\n",
    "             label='ROC curve (area = '+str(round(auc,3))+')')\n",
    "    plt.plot([0, 1], [0, 1], color='navy', lw=lw, linestyle='--')\n",
    "    plt.xlabel('False Positive Rate')\n",
    "    plt.ylabel('True Positive Rate')\n",
    "    plt.title('ROC Curve')\n",
    "    plt.legend(loc=\"lower right\")\n",
    "    plt.show()"
   ]
  },
  {
   "cell_type": "code",
   "execution_count": 103,
   "metadata": {},
   "outputs": [
    {
     "data": {
      "image/png": "[encoded data removed]",
      "text/plain": [
       "<Figure size 640x480 with 1 Axes>"
      ]
     },
     "metadata": {},
     "output_type": "display_data"
    }
   ],
   "source": [
    "plot_roc(fpr2, tpr2, auc2)"
   ]
  },
  {
   "cell_type": "markdown",
   "metadata": {},
   "source": [
    "### Comparison\n",
    "\n",
    "Compare the performance of all 3 classifier models that we have selected:\n",
    "* the full model\n",
    "* reduced model 1\n",
    "* reduced model 2\n"
   ]
  },
  {
   "cell_type": "code",
   "execution_count": 104,
   "metadata": {},
   "outputs": [
    {
     "name": "stdout",
     "output_type": "stream",
     "text": [
      "the full model has auc of: 0.6513409961685823\n"
     ]
    }
   ],
   "source": [
    "print('the full model has auc of:', auc)"
   ]
  },
  {
   "cell_type": "code",
   "execution_count": 105,
   "metadata": {},
   "outputs": [
    {
     "name": "stdout",
     "output_type": "stream",
     "text": [
      "the reduced model 1 has the auc of: 0.6551724137931034\n"
     ]
    }
   ],
   "source": [
    "print('the reduced model 1 has the auc of:', auc1)"
   ]
  },
  {
   "cell_type": "code",
   "execution_count": 106,
   "metadata": {},
   "outputs": [
    {
     "name": "stdout",
     "output_type": "stream",
     "text": [
      "the reduced model 2 has the auc of: 0.6398467432950191\n"
     ]
    }
   ],
   "source": [
    "print('the reduced model 2 has the auc of:',auc2)"
   ]
  },
  {
   "cell_type": "markdown",
   "metadata": {},
   "source": [
    "Conclusion:\n",
    "\n",
    "It actually turns out that the reduced model1 had the best performance out of all 3 classifier models. It's AUC for the test dataset was the highest. This indicates that the full classifier model had a predictive probability threshold that got the closest to having the ideal classification scenario of a fpr = 0 and a tpr = 1."
   ]
  },
  {
   "cell_type": "markdown",
   "metadata": {},
   "source": [
    "Performance Analysis:\n",
    "\n",
    "None of these classifiers performed exceptionally well in classifying the observations in the test dataset. The reduced model1 had the highest AUC of 0.6377882909520993. This indicates that none of these logistic regression models had a predictive probability threshold that got anywhere close to yielding the ideal classification scenario of a fpr = 0 and a tpr =1 (which would have yielded an AUC of 1).\n",
    "Even our best logistic regression model is much closer to an AUC of 0.5, which would be the type of classifier model performance we would expect to get if we had simpy just assigned a 1 (ie. packets) classification and 0 (ie. non-packets classification) to the data in our test dataset at random."
   ]
  },
  {
   "cell_type": "markdown",
   "metadata": {},
   "source": [
    "#### Model Comparison with Hypothesis Testing\n",
    "\n"
   ]
  },
  {
   "cell_type": "code",
   "execution_count": 109,
   "metadata": {},
   "outputs": [
    {
     "name": "stdout",
     "output_type": "stream",
     "text": [
      "test statistics: 0.8498390399868185\n"
     ]
    }
   ],
   "source": [
    "test_stat = -2*(red_mod1.llf - ful_mod.llf)\n",
    "print('test statistics:', test_stat)"
   ]
  },
  {
   "cell_type": "code",
   "execution_count": 110,
   "metadata": {},
   "outputs": [
    {
     "name": "stdout",
     "output_type": "stream",
     "text": [
      "p_value: 0.9737461454787804\n"
     ]
    }
   ],
   "source": [
    "from scipy.stats import chi2\n",
    "pvalue = 1 - chi2.cdf(test_stat, df=5)\n",
    "print('p_value:', pvalue)"
   ]
  },
  {
   "cell_type": "markdown",
   "metadata": {},
   "source": [
    "Conclusion:\n"
   ]
  },
  {
   "cell_type": "markdown",
   "metadata": {},
   "source": [
    "Because our p-value =  0.9737461454787648 >= alpha = 0.05, \n",
    "we fail to reject our null hypothesis. Thus, there is not sufficient evidence to suggest that the reduced Model is incorrect because the missing EU_Sales and Other_Sales coefficients in Reduced Model are not zero."
   ]
  },
  {
   "cell_type": "markdown",
   "metadata": {},
   "source": [
    "#### Model Comparison with BIC Score Between Full Model and Reduced model 1"
   ]
  },
  {
   "cell_type": "code",
   "execution_count": 112,
   "metadata": {},
   "outputs": [
    {
     "name": "stdout",
     "output_type": "stream",
     "text": [
      "bic score of full model is 197.64973136757195\n"
     ]
    }
   ],
   "source": [
    "print('bic score of full model is', ful_mod.bic)"
   ]
  },
  {
   "cell_type": "code",
   "execution_count": 113,
   "metadata": {},
   "outputs": [
    {
     "name": "stdout",
     "output_type": "stream",
     "text": [
      "bic score of reduced model is 188.4518093658662\n"
     ]
    }
   ],
   "source": [
    "print('bic score of reduced model is', red_mod1.bic)"
   ]
  },
  {
   "cell_type": "markdown",
   "metadata": {},
   "source": [
    "Conclusion:\n",
    "\n",
    "BIC can measure the efficiency of the parameterized model in terms of predicting the data. BIC of the reduced model 1 is lower, which means that the reduced model 1 will perform the best with new datasets. "
   ]
  },
  {
   "cell_type": "markdown",
   "metadata": {},
   "source": [
    "Overall, red_mod1 has the best prediction performance"
   ]
  },
  {
   "cell_type": "markdown",
   "metadata": {},
   "source": [
    "### Building a Classifier with Reduced Model 1"
   ]
  },
  {
   "cell_type": "markdown",
   "metadata": {},
   "source": [
    "#### Evaluating FPR/TPR Combinations in the ROC Curve\n",
    "\n",
    "Let's examine three predictive probability thresholds that we could use with our reduced model 1.\n",
    "\n",
    "* Threshold A creates a classification of the test data with tpr = 0.44, fpr = 0.10.\n",
    "* Threshold B creates a classification of the test data with tpr = 0.44, fpr = 0.34.\n",
    "* Threshold C creates a classification of the test data with tpr = 0.89, fpr = 0.66.\n"
   ]
  },
  {
   "cell_type": "markdown",
   "metadata": {},
   "source": [
    "Suppose our research goal for building this classifier model cares more about correctly classifying **non-roleplaying** games and doesn't care as much about correctly classifying **role-playing games**. Threshold C that produces a tpr = 0.89, fpr = 0.66 will be better. Because we want to accurately predict as many non-roleplaying (ie. y=0 observations) as possible, we would like for our true negative rate to be high. However, we do not care as much if we incorrectly classify a lot of roleplaying games (ie. y=1 observations). In other words, we do not care if our true positive rate is high."
   ]
  },
  {
   "cell_type": "markdown",
   "metadata": {},
   "source": [
    "### Predictive Probability Threshold of combination selected above"
   ]
  },
  {
   "cell_type": "code",
   "execution_count": 114,
   "metadata": {},
   "outputs": [
    {
     "data": {
      "text/plain": [
       "430    0.404216\n",
       "144    0.092551\n",
       "219    0.131351\n",
       "14     0.152971\n",
       "842    0.308349\n",
       "Name: phat_test, dtype: float64"
      ]
     },
     "execution_count": 114,
     "metadata": {},
     "output_type": "execute_result"
    }
   ],
   "source": [
    "df_test['phat_test'] = ful_mod.predict(exog=df_test)\n",
    "df_test['phat_test'].head() "
   ]
  },
  {
   "cell_type": "code",
   "execution_count": 115,
   "metadata": {},
   "outputs": [],
   "source": [
    "from sklearn.metrics import roc_curve\n",
    "from sklearn.metrics import roc_auc_score\n",
    "\n",
    "fpr, tpr, score = roc_curve(y_true=df_test['y'], y_score=df_test['phat_test'])\n",
    "auc = roc_auc_score(y_true=df_test['y'], y_score=df_test['phat_test'])"
   ]
  },
  {
   "cell_type": "code",
   "execution_count": 116,
   "metadata": {},
   "outputs": [
    {
     "data": {
      "image/png": "[encoded data removed]",
      "text/plain": [
       "<Figure size 640x480 with 1 Axes>"
      ]
     },
     "metadata": {},
     "output_type": "display_data"
    }
   ],
   "source": [
    "plot_roc(fpr, tpr, auc)"
   ]
  },
  {
   "cell_type": "code",
   "execution_count": 117,
   "metadata": {},
   "outputs": [],
   "source": [
    "from sklearn.metrics import confusion_matrix\n",
    "\n",
    "def tpr_fpr_thresh(y, pred_prob, thresh):\n",
    "    yhat = 1*(pred_prob >= thresh)\n",
    "    tn, fp, fn, tp = confusion_matrix(y_true=y, y_pred=yhat).ravel()\n",
    "    tpr = tp / (fn + tp)\n",
    "    fpr = fp / (fp + tn)\n",
    "    return pd.DataFrame({'threshold':[thresh],\n",
    "                         'tpr':[tpr], \n",
    "                         'fpr':[fpr]})"
   ]
  },
  {
   "cell_type": "code",
   "execution_count": 118,
   "metadata": {
    "scrolled": false
   },
   "outputs": [
    {
     "name": "stdout",
     "output_type": "stream",
     "text": [
      "   threshold  tpr  fpr\n",
      "0        0.0  1.0  1.0\n",
      "   threshold       tpr       fpr\n",
      "0       0.01  0.888889  0.965517\n",
      "   threshold       tpr       fpr\n",
      "0       0.02  0.888889  0.965517\n",
      "   threshold       tpr       fpr\n",
      "0       0.03  0.888889  0.896552\n",
      "   threshold       tpr       fpr\n",
      "0       0.04  0.888889  0.862069\n",
      "   threshold       tpr       fpr\n",
      "0       0.05  0.888889  0.862069\n",
      "   threshold       tpr       fpr\n",
      "0       0.06  0.888889  0.793103\n",
      "   threshold       tpr       fpr\n",
      "0       0.07  0.888889  0.724138\n",
      "   threshold       tpr       fpr\n",
      "0       0.08  0.888889  0.689655\n",
      "   threshold       tpr       fpr\n",
      "0       0.09  0.888889  0.689655\n",
      "   threshold       tpr       fpr\n",
      "0        0.1  0.888889  0.655172\n",
      "   threshold       tpr       fpr\n",
      "0       0.11  0.888889  0.655172\n",
      "   threshold       tpr       fpr\n",
      "0       0.12  0.888889  0.655172\n",
      "   threshold       tpr       fpr\n",
      "0       0.13  0.888889  0.655172\n",
      "   threshold       tpr       fpr\n",
      "0       0.14  0.777778  0.586207\n",
      "   threshold       tpr       fpr\n",
      "0       0.15  0.777778  0.551724\n",
      "   threshold       tpr       fpr\n",
      "0       0.16  0.666667  0.517241\n",
      "   threshold       tpr       fpr\n",
      "0       0.17  0.666667  0.517241\n",
      "   threshold       tpr       fpr\n",
      "0       0.18  0.666667  0.482759\n",
      "   threshold       tpr       fpr\n",
      "0       0.19  0.555556  0.448276\n",
      "   threshold       tpr       fpr\n",
      "0        0.2  0.555556  0.413793\n",
      "   threshold       tpr      fpr\n",
      "0       0.21  0.555556  0.37931\n",
      "   threshold       tpr      fpr\n",
      "0       0.22  0.555556  0.37931\n",
      "   threshold       tpr      fpr\n",
      "0       0.23  0.444444  0.37931\n",
      "   threshold       tpr       fpr\n",
      "0       0.24  0.444444  0.344828\n",
      "   threshold       tpr       fpr\n",
      "0       0.25  0.444444  0.344828\n",
      "   threshold       tpr       fpr\n",
      "0       0.26  0.444444  0.275862\n",
      "   threshold       tpr       fpr\n",
      "0       0.27  0.444444  0.275862\n",
      "   threshold       tpr       fpr\n",
      "0       0.28  0.444444  0.275862\n",
      "   threshold       tpr       fpr\n",
      "0       0.29  0.444444  0.275862\n",
      "   threshold       tpr       fpr\n",
      "0        0.3  0.444444  0.206897\n",
      "   threshold       tpr       fpr\n",
      "0       0.31  0.444444  0.137931\n",
      "   threshold       tpr       fpr\n",
      "0       0.32  0.444444  0.137931\n",
      "   threshold       tpr       fpr\n",
      "0       0.33  0.444444  0.103448\n",
      "   threshold       tpr       fpr\n",
      "0       0.34  0.444444  0.068966\n",
      "   threshold       tpr       fpr\n",
      "0       0.35  0.444444  0.068966\n",
      "   threshold       tpr       fpr\n",
      "0       0.36  0.333333  0.068966\n",
      "   threshold       tpr       fpr\n",
      "0       0.37  0.333333  0.068966\n",
      "   threshold       tpr       fpr\n",
      "0       0.38  0.333333  0.068966\n",
      "   threshold       tpr       fpr\n",
      "0       0.39  0.333333  0.068966\n",
      "   threshold       tpr       fpr\n",
      "0        0.4  0.333333  0.068966\n",
      "   threshold       tpr       fpr\n",
      "0       0.41  0.222222  0.068966\n",
      "   threshold       tpr  fpr\n",
      "0       0.42  0.222222  0.0\n",
      "   threshold       tpr  fpr\n",
      "0       0.43  0.222222  0.0\n",
      "   threshold       tpr  fpr\n",
      "0       0.44  0.222222  0.0\n",
      "   threshold       tpr  fpr\n",
      "0       0.45  0.222222  0.0\n",
      "   threshold       tpr  fpr\n",
      "0       0.46  0.222222  0.0\n",
      "   threshold       tpr  fpr\n",
      "0       0.47  0.222222  0.0\n",
      "   threshold       tpr  fpr\n",
      "0       0.48  0.111111  0.0\n",
      "   threshold       tpr  fpr\n",
      "0       0.49  0.111111  0.0\n",
      "   threshold       tpr  fpr\n",
      "0        0.5  0.111111  0.0\n",
      "   threshold       tpr  fpr\n",
      "0       0.51  0.111111  0.0\n",
      "   threshold  tpr  fpr\n",
      "0       0.52  0.0  0.0\n",
      "   threshold  tpr  fpr\n",
      "0       0.53  0.0  0.0\n",
      "   threshold  tpr  fpr\n",
      "0       0.54  0.0  0.0\n",
      "   threshold  tpr  fpr\n",
      "0       0.55  0.0  0.0\n",
      "   threshold  tpr  fpr\n",
      "0       0.56  0.0  0.0\n",
      "   threshold  tpr  fpr\n",
      "0       0.57  0.0  0.0\n",
      "   threshold  tpr  fpr\n",
      "0       0.58  0.0  0.0\n",
      "   threshold  tpr  fpr\n",
      "0       0.59  0.0  0.0\n",
      "   threshold  tpr  fpr\n",
      "0        0.6  0.0  0.0\n",
      "   threshold  tpr  fpr\n",
      "0       0.61  0.0  0.0\n",
      "   threshold  tpr  fpr\n",
      "0       0.62  0.0  0.0\n",
      "   threshold  tpr  fpr\n",
      "0       0.63  0.0  0.0\n",
      "   threshold  tpr  fpr\n",
      "0       0.64  0.0  0.0\n",
      "   threshold  tpr  fpr\n",
      "0       0.65  0.0  0.0\n",
      "   threshold  tpr  fpr\n",
      "0       0.66  0.0  0.0\n",
      "   threshold  tpr  fpr\n",
      "0       0.67  0.0  0.0\n",
      "   threshold  tpr  fpr\n",
      "0       0.68  0.0  0.0\n",
      "   threshold  tpr  fpr\n",
      "0       0.69  0.0  0.0\n",
      "   threshold  tpr  fpr\n",
      "0        0.7  0.0  0.0\n",
      "   threshold  tpr  fpr\n",
      "0       0.71  0.0  0.0\n",
      "   threshold  tpr  fpr\n",
      "0       0.72  0.0  0.0\n",
      "   threshold  tpr  fpr\n",
      "0       0.73  0.0  0.0\n",
      "   threshold  tpr  fpr\n",
      "0       0.74  0.0  0.0\n",
      "   threshold  tpr  fpr\n",
      "0       0.75  0.0  0.0\n",
      "   threshold  tpr  fpr\n",
      "0       0.76  0.0  0.0\n",
      "   threshold  tpr  fpr\n",
      "0       0.77  0.0  0.0\n",
      "   threshold  tpr  fpr\n",
      "0       0.78  0.0  0.0\n",
      "   threshold  tpr  fpr\n",
      "0       0.79  0.0  0.0\n",
      "   threshold  tpr  fpr\n",
      "0        0.8  0.0  0.0\n",
      "   threshold  tpr  fpr\n",
      "0       0.81  0.0  0.0\n",
      "   threshold  tpr  fpr\n",
      "0       0.82  0.0  0.0\n",
      "   threshold  tpr  fpr\n",
      "0       0.83  0.0  0.0\n",
      "   threshold  tpr  fpr\n",
      "0       0.84  0.0  0.0\n",
      "   threshold  tpr  fpr\n",
      "0       0.85  0.0  0.0\n",
      "   threshold  tpr  fpr\n",
      "0       0.86  0.0  0.0\n",
      "   threshold  tpr  fpr\n",
      "0       0.87  0.0  0.0\n",
      "   threshold  tpr  fpr\n",
      "0       0.88  0.0  0.0\n",
      "   threshold  tpr  fpr\n",
      "0       0.89  0.0  0.0\n",
      "   threshold  tpr  fpr\n",
      "0        0.9  0.0  0.0\n",
      "   threshold  tpr  fpr\n",
      "0       0.91  0.0  0.0\n",
      "   threshold  tpr  fpr\n",
      "0       0.92  0.0  0.0\n",
      "   threshold  tpr  fpr\n",
      "0       0.93  0.0  0.0\n",
      "   threshold  tpr  fpr\n",
      "0       0.94  0.0  0.0\n",
      "   threshold  tpr  fpr\n",
      "0       0.95  0.0  0.0\n",
      "   threshold  tpr  fpr\n",
      "0       0.96  0.0  0.0\n",
      "   threshold  tpr  fpr\n",
      "0       0.97  0.0  0.0\n",
      "   threshold  tpr  fpr\n",
      "0       0.98  0.0  0.0\n",
      "   threshold  tpr  fpr\n",
      "0       0.99  0.0  0.0\n"
     ]
    }
   ],
   "source": [
    "for thresh in np.arange(0,1,.01):\n",
    "    print(tpr_fpr_thresh(df_test['y'], df_test['phat_test'], thresh))"
   ]
  },
  {
   "cell_type": "markdown",
   "metadata": {},
   "source": [
    "Result:\n",
    "\n",
    "A predictive probability threshold with $p_{0}$ = 0.1 will yeild a test data tpr =0.888889 fpr = 0.655172"
   ]
  },
  {
   "cell_type": "markdown",
   "metadata": {},
   "source": [
    "### Confusion Matrix\n",
    "\n",
    "Use this threshold to calculate a confusion matrix for the test dataset.\n",
    "\n"
   ]
  },
  {
   "cell_type": "code",
   "execution_count": 119,
   "metadata": {},
   "outputs": [
    {
     "data": {
      "text/html": [
       "<div>\n",
       "<style scoped>\n",
       "    .dataframe tbody tr th:only-of-type {\n",
       "        vertical-align: middle;\n",
       "    }\n",
       "\n",
       "    .dataframe tbody tr th {\n",
       "        vertical-align: top;\n",
       "    }\n",
       "\n",
       "    .dataframe thead th {\n",
       "        text-align: right;\n",
       "    }\n",
       "</style>\n",
       "<table border=\"1\" class=\"dataframe\">\n",
       "  <thead>\n",
       "    <tr style=\"text-align: right;\">\n",
       "      <th></th>\n",
       "      <th>Name</th>\n",
       "      <th>Platform</th>\n",
       "      <th>Year</th>\n",
       "      <th>Genre</th>\n",
       "      <th>NA_Sales</th>\n",
       "      <th>EU_Sales</th>\n",
       "      <th>JP_Sales</th>\n",
       "      <th>Other_Sales</th>\n",
       "      <th>y</th>\n",
       "      <th>phat_test</th>\n",
       "      <th>yhat</th>\n",
       "    </tr>\n",
       "  </thead>\n",
       "  <tbody>\n",
       "    <tr>\n",
       "      <th>430</th>\n",
       "      <td>Eyeshield 21: Max Devil Power</td>\n",
       "      <td>DS</td>\n",
       "      <td>2006.0</td>\n",
       "      <td>Role-Playing</td>\n",
       "      <td>0.00</td>\n",
       "      <td>0.00</td>\n",
       "      <td>0.12</td>\n",
       "      <td>0.00</td>\n",
       "      <td>1</td>\n",
       "      <td>0.404216</td>\n",
       "      <td>1</td>\n",
       "    </tr>\n",
       "    <tr>\n",
       "      <th>144</th>\n",
       "      <td>Medal of Honor: Warfighter</td>\n",
       "      <td>X360</td>\n",
       "      <td>2012.0</td>\n",
       "      <td>Action</td>\n",
       "      <td>0.58</td>\n",
       "      <td>0.47</td>\n",
       "      <td>0.01</td>\n",
       "      <td>0.10</td>\n",
       "      <td>0</td>\n",
       "      <td>0.092551</td>\n",
       "      <td>0</td>\n",
       "    </tr>\n",
       "    <tr>\n",
       "      <th>219</th>\n",
       "      <td>Tekken Tag Tournament 2</td>\n",
       "      <td>PS3</td>\n",
       "      <td>2012.0</td>\n",
       "      <td>Fighting</td>\n",
       "      <td>0.28</td>\n",
       "      <td>0.33</td>\n",
       "      <td>0.13</td>\n",
       "      <td>0.14</td>\n",
       "      <td>0</td>\n",
       "      <td>0.131351</td>\n",
       "      <td>1</td>\n",
       "    </tr>\n",
       "    <tr>\n",
       "      <th>14</th>\n",
       "      <td>Final Fantasy XI</td>\n",
       "      <td>X360</td>\n",
       "      <td>2006.0</td>\n",
       "      <td>Role-Playing</td>\n",
       "      <td>0.17</td>\n",
       "      <td>0.01</td>\n",
       "      <td>0.00</td>\n",
       "      <td>0.01</td>\n",
       "      <td>1</td>\n",
       "      <td>0.152971</td>\n",
       "      <td>1</td>\n",
       "    </tr>\n",
       "    <tr>\n",
       "      <th>842</th>\n",
       "      <td>The Penguins of Madagascar</td>\n",
       "      <td>DS</td>\n",
       "      <td>2010.0</td>\n",
       "      <td>Action</td>\n",
       "      <td>0.13</td>\n",
       "      <td>0.12</td>\n",
       "      <td>0.00</td>\n",
       "      <td>0.02</td>\n",
       "      <td>0</td>\n",
       "      <td>0.308349</td>\n",
       "      <td>1</td>\n",
       "    </tr>\n",
       "  </tbody>\n",
       "</table>\n",
       "</div>"
      ],
      "text/plain": [
       "                              Name Platform    Year         Genre  NA_Sales  \\\n",
       "430  Eyeshield 21: Max Devil Power       DS  2006.0  Role-Playing      0.00   \n",
       "144     Medal of Honor: Warfighter     X360  2012.0        Action      0.58   \n",
       "219        Tekken Tag Tournament 2      PS3  2012.0      Fighting      0.28   \n",
       "14                Final Fantasy XI     X360  2006.0  Role-Playing      0.17   \n",
       "842     The Penguins of Madagascar       DS  2010.0        Action      0.13   \n",
       "\n",
       "     EU_Sales  JP_Sales  Other_Sales  y  phat_test  yhat  \n",
       "430      0.00      0.12         0.00  1   0.404216     1  \n",
       "144      0.47      0.01         0.10  0   0.092551     0  \n",
       "219      0.33      0.13         0.14  0   0.131351     1  \n",
       "14       0.01      0.00         0.01  1   0.152971     1  \n",
       "842      0.12      0.00         0.02  0   0.308349     1  "
      ]
     },
     "execution_count": 119,
     "metadata": {},
     "output_type": "execute_result"
    }
   ],
   "source": [
    "df_test['yhat'] = 1*(df_test['phat_test'] >= 0.1)\n",
    "df_test.head()"
   ]
  },
  {
   "cell_type": "code",
   "execution_count": 120,
   "metadata": {},
   "outputs": [
    {
     "name": "stdout",
     "output_type": "stream",
     "text": [
      "10 19 1 8\n"
     ]
    }
   ],
   "source": [
    "tn, fp, fn, tp = confusion_matrix(y_true=df_test['y'], y_pred=df_test['yhat']).ravel()\n",
    "print(tn, fp, fn, tp)"
   ]
  },
  {
   "cell_type": "markdown",
   "metadata": {},
   "source": [
    "Result:\n",
    "\n",
    "* 8 role playing games in the test dataset were correctly classified as role-playing games\n",
    "* 1 role playing games in the test dataset were incorrectly classified as non-role-playing games\n",
    "* 19 non-role playing games in the test dataset were correctly classified as non-role-playing games\n",
    "* 10 non-role playing games in the test dataset were incorrectly classified as role-playing games"
   ]
  },
  {
   "cell_type": "markdown",
   "metadata": {},
   "source": [
    "### Sensitivity and Specificity\n"
   ]
  },
  {
   "cell_type": "code",
   "execution_count": 121,
   "metadata": {},
   "outputs": [
    {
     "name": "stdout",
     "output_type": "stream",
     "text": [
      "sensitivity: 0.8888888888888888\n"
     ]
    }
   ],
   "source": [
    "sensitivity = tp/(tp+fn)\n",
    "print('sensitivity:', sensitivity)"
   ]
  },
  {
   "cell_type": "code",
   "execution_count": 122,
   "metadata": {},
   "outputs": [
    {
     "name": "stdout",
     "output_type": "stream",
     "text": [
      "specificity: 0.3448275862068966\n"
     ]
    }
   ],
   "source": [
    "specificity = tn/(tn+fp)\n",
    "print('specificity:', specificity)"
   ]
  },
  {
   "cell_type": "markdown",
   "metadata": {},
   "source": [
    "## Reduced Model 1 Inference and Prediction\n"
   ]
  },
  {
   "cell_type": "markdown",
   "metadata": {},
   "source": [
    "### Logistic Regression Equation"
   ]
  },
  {
   "cell_type": "code",
   "execution_count": 123,
   "metadata": {},
   "outputs": [
    {
     "data": {
      "text/html": [
       "<table class=\"simpletable\">\n",
       "<caption>Logit Regression Results</caption>\n",
       "<tr>\n",
       "  <th>Dep. Variable:</th>           <td>y</td>        <th>  No. Observations:  </th>  <td>   152</td>  \n",
       "</tr>\n",
       "<tr>\n",
       "  <th>Model:</th>                 <td>Logit</td>      <th>  Df Residuals:      </th>  <td>   144</td>  \n",
       "</tr>\n",
       "<tr>\n",
       "  <th>Method:</th>                 <td>MLE</td>       <th>  Df Model:          </th>  <td>     7</td>  \n",
       "</tr>\n",
       "<tr>\n",
       "  <th>Date:</th>            <td>Tue, 05 Dec 2023</td> <th>  Pseudo R-squ.:     </th>  <td>0.1538</td>  \n",
       "</tr>\n",
       "<tr>\n",
       "  <th>Time:</th>                <td>16:12:10</td>     <th>  Log-Likelihood:    </th> <td> -74.130</td> \n",
       "</tr>\n",
       "<tr>\n",
       "  <th>converged:</th>             <td>True</td>       <th>  LL-Null:           </th> <td> -87.603</td> \n",
       "</tr>\n",
       "<tr>\n",
       "  <th>Covariance Type:</th>     <td>nonrobust</td>    <th>  LLR p-value:       </th> <td>0.0003410</td>\n",
       "</tr>\n",
       "</table>\n",
       "<table class=\"simpletable\">\n",
       "<tr>\n",
       "          <td></td>            <th>coef</th>     <th>std err</th>      <th>z</th>      <th>P>|z|</th>  <th>[0.025</th>    <th>0.975]</th>  \n",
       "</tr>\n",
       "<tr>\n",
       "  <th>Intercept</th>        <td> -165.0712</td> <td>  194.931</td> <td>   -0.847</td> <td> 0.397</td> <td> -547.129</td> <td>  216.987</td>\n",
       "</tr>\n",
       "<tr>\n",
       "  <th>Platform[T.PS2]</th>  <td>   -0.4944</td> <td>    0.687</td> <td>   -0.720</td> <td> 0.472</td> <td>   -1.841</td> <td>    0.852</td>\n",
       "</tr>\n",
       "<tr>\n",
       "  <th>Platform[T.PS3]</th>  <td>   -1.4146</td> <td>    0.753</td> <td>   -1.879</td> <td> 0.060</td> <td>   -2.890</td> <td>    0.061</td>\n",
       "</tr>\n",
       "<tr>\n",
       "  <th>Platform[T.PSP]</th>  <td>   -0.0395</td> <td>    0.606</td> <td>   -0.065</td> <td> 0.948</td> <td>   -1.227</td> <td>    1.148</td>\n",
       "</tr>\n",
       "<tr>\n",
       "  <th>Platform[T.X360]</th> <td>   -0.9416</td> <td>    0.743</td> <td>   -1.267</td> <td> 0.205</td> <td>   -2.398</td> <td>    0.515</td>\n",
       "</tr>\n",
       "<tr>\n",
       "  <th>Year</th>             <td>    0.0819</td> <td>    0.097</td> <td>    0.844</td> <td> 0.399</td> <td>   -0.108</td> <td>    0.272</td>\n",
       "</tr>\n",
       "<tr>\n",
       "  <th>NA_Sales</th>         <td>   -1.2754</td> <td>    0.720</td> <td>   -1.772</td> <td> 0.076</td> <td>   -2.686</td> <td>    0.135</td>\n",
       "</tr>\n",
       "<tr>\n",
       "  <th>JP_Sales</th>         <td>    3.3996</td> <td>    1.080</td> <td>    3.148</td> <td> 0.002</td> <td>    1.283</td> <td>    5.516</td>\n",
       "</tr>\n",
       "</table>"
      ],
      "text/latex": [
       "\\begin{center}\n",
       "\\begin{tabular}{lclc}\n",
       "\\toprule\n",
       "\\textbf{Dep. Variable:}   &        y         & \\textbf{  No. Observations:  } &      152    \\\\\n",
       "\\textbf{Model:}           &      Logit       & \\textbf{  Df Residuals:      } &      144    \\\\\n",
       "\\textbf{Method:}          &       MLE        & \\textbf{  Df Model:          } &        7    \\\\\n",
       "\\textbf{Date:}            & Tue, 05 Dec 2023 & \\textbf{  Pseudo R-squ.:     } &   0.1538    \\\\\n",
       "\\textbf{Time:}            &     16:12:10     & \\textbf{  Log-Likelihood:    } &   -74.130   \\\\\n",
       "\\textbf{converged:}       &       True       & \\textbf{  LL-Null:           } &   -87.603   \\\\\n",
       "\\textbf{Covariance Type:} &    nonrobust     & \\textbf{  LLR p-value:       } & 0.0003410   \\\\\n",
       "\\bottomrule\n",
       "\\end{tabular}\n",
       "\\begin{tabular}{lcccccc}\n",
       "                          & \\textbf{coef} & \\textbf{std err} & \\textbf{z} & \\textbf{P$> |$z$|$} & \\textbf{[0.025} & \\textbf{0.975]}  \\\\\n",
       "\\midrule\n",
       "\\textbf{Intercept}        &    -165.0712  &      194.931     &    -0.847  &         0.397        &     -547.129    &      216.987     \\\\\n",
       "\\textbf{Platform[T.PS2]}  &      -0.4944  &        0.687     &    -0.720  &         0.472        &       -1.841    &        0.852     \\\\\n",
       "\\textbf{Platform[T.PS3]}  &      -1.4146  &        0.753     &    -1.879  &         0.060        &       -2.890    &        0.061     \\\\\n",
       "\\textbf{Platform[T.PSP]}  &      -0.0395  &        0.606     &    -0.065  &         0.948        &       -1.227    &        1.148     \\\\\n",
       "\\textbf{Platform[T.X360]} &      -0.9416  &        0.743     &    -1.267  &         0.205        &       -2.398    &        0.515     \\\\\n",
       "\\textbf{Year}             &       0.0819  &        0.097     &     0.844  &         0.399        &       -0.108    &        0.272     \\\\\n",
       "\\textbf{NA\\_Sales}        &      -1.2754  &        0.720     &    -1.772  &         0.076        &       -2.686    &        0.135     \\\\\n",
       "\\textbf{JP\\_Sales}        &       3.3996  &        1.080     &     3.148  &         0.002        &        1.283    &        5.516     \\\\\n",
       "\\bottomrule\n",
       "\\end{tabular}\n",
       "%\\caption{Logit Regression Results}\n",
       "\\end{center}"
      ],
      "text/plain": [
       "<class 'statsmodels.iolib.summary.Summary'>\n",
       "\"\"\"\n",
       "                           Logit Regression Results                           \n",
       "==============================================================================\n",
       "Dep. Variable:                      y   No. Observations:                  152\n",
       "Model:                          Logit   Df Residuals:                      144\n",
       "Method:                           MLE   Df Model:                            7\n",
       "Date:                Tue, 05 Dec 2023   Pseudo R-squ.:                  0.1538\n",
       "Time:                        16:12:10   Log-Likelihood:                -74.130\n",
       "converged:                       True   LL-Null:                       -87.603\n",
       "Covariance Type:            nonrobust   LLR p-value:                 0.0003410\n",
       "====================================================================================\n",
       "                       coef    std err          z      P>|z|      [0.025      0.975]\n",
       "------------------------------------------------------------------------------------\n",
       "Intercept         -165.0712    194.931     -0.847      0.397    -547.129     216.987\n",
       "Platform[T.PS2]     -0.4944      0.687     -0.720      0.472      -1.841       0.852\n",
       "Platform[T.PS3]     -1.4146      0.753     -1.879      0.060      -2.890       0.061\n",
       "Platform[T.PSP]     -0.0395      0.606     -0.065      0.948      -1.227       1.148\n",
       "Platform[T.X360]    -0.9416      0.743     -1.267      0.205      -2.398       0.515\n",
       "Year                 0.0819      0.097      0.844      0.399      -0.108       0.272\n",
       "NA_Sales            -1.2754      0.720     -1.772      0.076      -2.686       0.135\n",
       "JP_Sales             3.3996      1.080      3.148      0.002       1.283       5.516\n",
       "====================================================================================\n",
       "\"\"\""
      ]
     },
     "execution_count": 123,
     "metadata": {},
     "output_type": "execute_result"
    }
   ],
   "source": [
    "red_mod1.summary()"
   ]
  },
  {
   "cell_type": "markdown",
   "metadata": {},
   "source": [
    "Equation:\n",
    "\n",
    "$\\log(\\frac{\\hat{p}}{(1-\\hat{p})})$ = 165.0712-0.4944Platform[T.PS2]-1.4146Platform[T.PS3]-0.0395Platform[T.PSP]-0.9416Platform[T.X360] + 0.0819Year - 1.2754NA_Sales + 3.3996JP_Sales"
   ]
  },
  {
   "cell_type": "markdown",
   "metadata": {},
   "source": [
    "### Probability Prediction\n"
   ]
  },
  {
   "cell_type": "code",
   "execution_count": 128,
   "metadata": {},
   "outputs": [
    {
     "name": "stdout",
     "output_type": "stream",
     "text": [
      "The probability of a X360 game made in 2011 with 1.2 million games sold in Japan and 0.1 million games sold in North America is NOT a role-playing game is 0.06643781689257489\n"
     ]
    }
   ],
   "source": [
    "prob=red_mod1.predict(exog=dict(Platform = 'X360', Year = 2011, NA_Sales = 0.1, JP_Sales = 1.2)).iloc[0]\n",
    "print('The probability of a X360 game made in 2011 with 1.2 million games sold in Japan and 0.1 million games sold in North America is NOT a role-playing game is', 1 - prob)"
   ]
  },
  {
   "cell_type": "markdown",
   "metadata": {},
   "source": [
    "### Classification\n"
   ]
  },
  {
   "cell_type": "markdown",
   "metadata": {},
   "source": [
    "This game's probability prediction is below the threshold 0.1, therefore we will classify it to be non-role-playing game. "
   ]
  },
  {
   "cell_type": "markdown",
   "metadata": {},
   "source": [
    "### Odds Prediction\n"
   ]
  },
  {
   "cell_type": "code",
   "execution_count": 129,
   "metadata": {},
   "outputs": [
    {
     "data": {
      "text/plain": [
       "14.051668564259527"
      ]
     },
     "execution_count": 129,
     "metadata": {},
     "output_type": "execute_result"
    }
   ],
   "source": [
    "odds = prob/(1-prob)\n",
    "odds"
   ]
  },
  {
   "cell_type": "markdown",
   "metadata": {},
   "source": [
    "The numerical odds that this game is a role playing is 14.051668564259527 (ie. 14.051668564259527/1)\n",
    "Putting this into words, we could say that the odds that this game is a role playing are 14.051668564259527 to 1. Putting these numbers into an integer format we can multiply the 14.05 and the 1 by 100.\n",
    "So more succintly, we can say that the odds that this game is a role playing are 1405 to 100."
   ]
  },
  {
   "cell_type": "markdown",
   "metadata": {},
   "source": [
    "### Inference\n",
    "\n"
   ]
  },
  {
   "cell_type": "markdown",
   "metadata": {},
   "source": [
    "$H_0: e^{\\beta_6}=1$\n",
    "\n",
    "$H_A: e^{\\beta_6} \\neq 1$"
   ]
  },
  {
   "cell_type": "markdown",
   "metadata": {},
   "source": [
    "#### 99% Confidence Interval For NA_Sales"
   ]
  },
  {
   "cell_type": "code",
   "execution_count": 130,
   "metadata": {},
   "outputs": [
    {
     "data": {
      "text/plain": [
       "1.6448536269514722"
      ]
     },
     "execution_count": 130,
     "metadata": {},
     "output_type": "execute_result"
    }
   ],
   "source": [
    "from scipy.stats import t, norm, f\n",
    "point_estimate = -1.2754\n",
    "standard_error = 0.72\n",
    "\n",
    "critical_value =norm.ppf(0.95)\n",
    "\n",
    "critical_value"
   ]
  },
  {
   "cell_type": "code",
   "execution_count": 133,
   "metadata": {},
   "outputs": [
    {
     "name": "stdout",
     "output_type": "stream",
     "text": [
      "Confidence Interval:( -2.4596946114050597 -0.09110538859494022 )\n"
     ]
    }
   ],
   "source": [
    "lower_bound = point_estimate - critical_value * standard_error\n",
    "upper_bound = point_estimate + critical_value * standard_error\n",
    "\n",
    "print('Confidence Interval:(', lower_bound, upper_bound, ')')"
   ]
  },
  {
   "cell_type": "code",
   "execution_count": 134,
   "metadata": {},
   "outputs": [
    {
     "name": "stdout",
     "output_type": "stream",
     "text": [
      "0.085461045811287 0.9129214943157129\n"
     ]
    }
   ],
   "source": [
    "lower_odds_mult_bound =np.exp(lower_bound)\n",
    "upper_odds_mult_bound =np.exp(upper_bound)\n",
    "\n",
    "print(lower_odds_mult_bound, upper_odds_mult_bound)"
   ]
  },
  {
   "cell_type": "markdown",
   "metadata": {},
   "source": [
    "Interpretation:"
   ]
  },
  {
   "cell_type": "markdown",
   "metadata": {},
   "source": [
    "We are 99% confident that the odds multiplier for NA_Sales in the corresponding population model is between 0.085461045811287 and 0.9129214943157129"
   ]
  },
  {
   "cell_type": "markdown",
   "metadata": {},
   "source": [
    "Conclusion:\n",
    "\n",
    "Because the null value $e^{\\beta_6}=1$ is outside the confidence interval, we reject the null hypothesis. Thus there is sufficient evidence to suggest $e^{\\beta_6}$ (the odds multiplier for NA_Sales in the population model) is not equal to 1.\n",
    "\n",
    "(Or in other words, there is sufficient evidence to suggest that there is a relationship between role playing games and the Sales in NA for all games in this corresponding population model)."
   ]
  },
  {
   "cell_type": "code",
   "execution_count": 135,
   "metadata": {},
   "outputs": [
    {
     "name": "stdout",
     "output_type": "stream",
     "text": [
      "Test Statistic:  -1.7713888888888891\n"
     ]
    }
   ],
   "source": [
    "null_value=0\n",
    "\n",
    "test_stat=(point_estimate-null_value)/standard_error\n",
    "print(\"Test Statistic: \",test_stat)"
   ]
  },
  {
   "cell_type": "code",
   "execution_count": 136,
   "metadata": {},
   "outputs": [
    {
     "name": "stdout",
     "output_type": "stream",
     "text": [
      "pvalue:  0.07649605499806844\n"
     ]
    }
   ],
   "source": [
    "p_value=2*(1-norm.cdf(np.abs(test_stat)))\n",
    "print('pvalue: ', p_value)"
   ]
  },
  {
   "cell_type": "markdown",
   "metadata": {},
   "source": [
    "Conclusion:\n",
    "\n",
    "Because the $p-value = 0.07649605499806844 < \\alpha=0.05$ we reject the null hypothesis. Thus there is sufficient evidence to suggest $e^{\\beta_6}$ (the odds multiplier for NA_Sakes in the population model) is not equal to 1.\n",
    "\n",
    "(Or in other words, there is sufficient evidence to suggest that there is a relationship between role playing games and the Sales in NA for all games in this corresponding population model)."
   ]
  },
  {
   "cell_type": "markdown",
   "metadata": {},
   "source": [
    "there is sufficient evidence to suggest that there is a relationship between whether or not the game is a role-playing game and the Sales in NA for all games in this corresponding population model"
   ]
  },
  {
   "cell_type": "markdown",
   "metadata": {},
   "source": [
    "## Section 5: Overall Summary"
   ]
  },
  {
   "cell_type": "markdown",
   "metadata": {},
   "source": [
    "The presented data science project, titled \"Regional Video Games Sales,\" focuses on analyzing video game sales across different regions globally. The project utilizes a dataset named **sample_game_sales.csv**, containing attributes such as game name, platform, release year, genre, and sales in North America, Europe, Japan, and other regions. The analysis begins with data preprocessing and cleaning, including filtering for specific genres like Action, Role-Playing, Fighting, and Shooter. Exploratory Data Analysis (EDA) examines numerical variable pairwise relationships, revealing insights into the strength of associations between variables, genre-specific sales in Japanese and North American markets, and the relationship between platforms and genres. The project also delves into statistical inference and visualization techniques, such as hypothesis testing, confidence intervals, and linear regression.\n",
    "\n",
    "The latter part of the project focuses on building predictive models and classifiers. It explores linear regression models for predicting North American game sales, utilizing both non-regularized and LASSO regression. The analysis compares these models and concludes that the non-regularized linear regression performs better. Additionally, logistic regression models are developed to classify games into Role-Playing or other genres, with the best-performing model identified through cross-validation. The project concludes with an evaluation of classifier performance, ROC curve analysis, and the selection of a predictive probability threshold for optimal classification. The analysis provides valuable insights into the factors influencing video game sales and offers predictive models for future sales and genre classification."
   ]
  },
  {
   "cell_type": "markdown",
   "metadata": {},
   "source": [
    "# 🙏🏻🙏🏻🙏🏻 Some Extra Please 🙏🏻🙏🏻🙏🏻"
   ]
  }
 ],
 "metadata": {
  "kernelspec": {
   "display_name": "Python 3",
   "language": "python",
   "name": "python3"
  },
  "language_info": {
   "codemirror_mode": {
    "name": "ipython",
    "version": 3
   },
   "file_extension": ".py",
   "mimetype": "text/x-python",
   "name": "python",
   "nbconvert_exporter": "python",
   "pygments_lexer": "ipython3",
   "version": "3.11.1"
  }
 },
 "nbformat": 4,
 "nbformat_minor": 4
}
