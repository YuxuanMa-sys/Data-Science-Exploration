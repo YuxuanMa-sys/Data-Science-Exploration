{
 "cells": [
  {
   "cell_type": "markdown",
   "metadata": {},
   "source": [
    "# STAT 207 Lab 8 - Group Part - [5 total points]\n",
    "\n",
    "## Hypothesis Testing"
   ]
  },
  {
   "cell_type": "markdown",
   "metadata": {},
   "source": [
    "Due: Wednesday, March 23, 11:59pm CST\n",
    "\n",
    "## <u>Case Study</u>: Former STAT107 Student Analysis\n",
    "\n",
    "In this group assignment, you will be using the same random sample of 6 students from lab_07_group to conduct a hypothesis test on your population parameter of interest. Remember, your population of interest in this case study is former STAT107 students from the last four semesters.\n",
    "\n",
    "In this analysis you should come up with a value that you think your population parameter might be. In your hypothesis test, you will test if you have enough evidence to suggest that your population parameter is not equal to this value."
   ]
  },
  {
   "cell_type": "code",
   "execution_count": 1,
   "metadata": {},
   "outputs": [],
   "source": [
    "import pandas as pd\n",
    "import matplotlib.pyplot as plt\n",
    "from scipy.stats import norm"
   ]
  },
  {
   "cell_type": "code",
   "execution_count": 2,
   "metadata": {},
   "outputs": [],
   "source": [
    "data=[]\n",
    "a={'Name':'nikita','Class_taken':5}\n",
    "data.append(a)\n",
    "b = {'Name': 'avni', 'Class_taken':5}\n",
    "data.append(b)\n",
    "c = {'Name': 'eric', 'Class_taken': 4}\n",
    "data.append(c)\n",
    "d = {'Name': 'micheal', 'Class_taken': 5}\n",
    "data.append(d)\n",
    "e = {'Name': 'samridhi', 'Class_taken': 6}\n",
    "data.append(e)\n",
    "f = {'Name': 'feiran', 'Class_taken': 5}\n",
    "data.append(f)\n",
    "df=pd.DataFrame(data)"
   ]
  },
  {
   "cell_type": "code",
   "execution_count": 4,
   "metadata": {},
   "outputs": [
    {
     "name": "stdout",
     "output_type": "stream",
     "text": [
      "Question: how many classes are you taking this semester?\n"
     ]
    }
   ],
   "source": [
    "print('Question: how many classes are you taking this semester?')"
   ]
  },
  {
   "cell_type": "markdown",
   "metadata": {},
   "source": [
    "### 1. Hypotheses\n",
    "\n",
    "First, set up your null and alternative hypotheses to evaluate these claims. You should use the appropriate notation to write these hypotheses. For any population parameter terms that you use, you should define what this parameter refers to."
   ]
  },
  {
   "cell_type": "markdown",
   "metadata": {},
   "source": [
    "Null hypothesis: The former 107 students take exactly 5 classes on average this semester\n",
    "\n",
    "Alternative hypothesis: the former STAT107 students don't take exactly 5 classess on average this semester. "
   ]
  },
  {
   "cell_type": "markdown",
   "metadata": {},
   "source": [
    "### 2. Conditions for Hypothesis Testing\n",
    "\n",
    "Check the appropriate conditions for conducting this hypothesis test."
   ]
  },
  {
   "cell_type": "markdown",
   "metadata": {},
   "source": [
    "1. 6 < 10% of all STAT 107 students\n",
    "2. the sample is randomly selected\n",
    "3. though sample size < 30, out population distribution is normal. "
   ]
  },
  {
   "cell_type": "markdown",
   "metadata": {},
   "source": [
    "### 3. p-value\n",
    "\n",
    "Calculate the p-value for this hypothesis test."
   ]
  },
  {
   "cell_type": "code",
   "execution_count": 13,
   "metadata": {},
   "outputs": [
    {
     "data": {
      "text/plain": [
       "1.0"
      ]
     },
     "execution_count": 13,
     "metadata": {},
     "output_type": "execute_result"
    }
   ],
   "source": [
    "2*(1-norm.cdf(df.Class_taken.mean(),loc=5,scale=df.Class_taken.std()/(6**0.5)))"
   ]
  },
  {
   "cell_type": "markdown",
   "metadata": {},
   "source": [
    "### 4. Conclusion\n",
    "\n",
    "Finally, use your p-value and a significance level of $\\alpha=0.05$ to make a conclusion about your hypotheses."
   ]
  },
  {
   "cell_type": "markdown",
   "metadata": {},
   "source": [
    "Because the p-value is greater than 0.05, we failed reject the null hypothesis, we don't have enought evidence to say that the alternative hypothesis is correct."
   ]
  },
  {
   "cell_type": "markdown",
   "metadata": {},
   "source": [
    "### <u>Contribution Report</u>:"
   ]
  },
  {
   "cell_type": "markdown",
   "metadata": {},
   "source": [
    "tianyih6 did 1,2, yuxuanm4 did 3"
   ]
  },
  {
   "cell_type": "code",
   "execution_count": null,
   "metadata": {},
   "outputs": [],
   "source": []
  }
 ],
 "metadata": {
  "kernelspec": {
   "display_name": "Python 3",
   "language": "python",
   "name": "python3"
  },
  "language_info": {
   "codemirror_mode": {
    "name": "ipython",
    "version": 3
   },
   "file_extension": ".py",
   "mimetype": "text/x-python",
   "name": "python",
   "nbconvert_exporter": "python",
   "pygments_lexer": "ipython3",
   "version": "3.7.6"
  }
 },
 "nbformat": 4,
 "nbformat_minor": 2
}
