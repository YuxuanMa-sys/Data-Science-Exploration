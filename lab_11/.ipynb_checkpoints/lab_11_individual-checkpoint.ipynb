{
 "cells": [
  {
   "cell_type": "markdown",
   "metadata": {},
   "source": [
    "# STAT 207 Lab 11 - Individual Part - [25 total points] - Solutions\n",
    "\n",
    "## Multiple Linear Regression and ANOVA"
   ]
  },
  {
   "cell_type": "markdown",
   "metadata": {},
   "source": [
    "Due: Wednesday, April 13 11:59pm CST\n",
    "\n",
    "## <u>Dataset</u>: Seattle Airbnb Dataset\n",
    "\n",
    "The following dataset is a **random sample** of available Airbnb listings in Seattle, WA. These listings were collected in January 2016, and filtered to just contain listings from the five most popular Seattle neighborhoods (for Airbnb listings) and just contain listings that are either in a house or apartment property. Rows with missing values have already been dropped from the dataset.\n",
    "\n",
    "Suppose that you work as a data scientist at Airbnb. You'd like to learn more about the relationship between various variables in this dataset. We will work on several different case studies with this dataset in this assignment.\n",
    "\n",
    "This dataset contains the following variables.\n",
    "\n",
    "**Listing Information**\n",
    "The dataset contains the following information about the Airbnb *listing*:\n",
    "* <u>price</u>: price of the listing (per night)(in US dollars)\n",
    "* <u>review_scores_rating</u>: the average rating of the listing [0,100] (100 is the best)\n",
    "* <u>number_of_reviews</u>: the number of reviews for the listing\n",
    "* <u>security_deposit</u>: the security deposit required for the listing (in US dollars)\n",
    "* <u>cleaning_fee</u>: the cleaning fee required for the listing (in US dollars)\n",
    "* <u>neighborhood</u>: the neighborhood of Seattle the listing is located in\n",
    "* <u>property_type</u>: is the listing in a 'House' or 'Apartment'\n",
    "* <u>room_type</u>: is the listing a 'Entire home/apt', 'Private room', or 'Shared room'\n",
    "* <u>accommodates</u>: how many guests will the listing accommodate\n",
    "* <u>bathrooms</u>:how many bathrooms does the listing have\n",
    "* <u>beds</u>: how many beds does the listing have\n",
    "\n",
    "**Host Information**\n",
    "The dataset also contains the following information about the *host* of the given Airbnb listing:\n",
    "* <u>host_is_superhost</u>: is the host a \"superhost\": t=True, f=False\n",
    "* <u>host_has_profile_pic</u>: does the host have a profile pic in their bio: t=True, f=False\n",
    "* <u>host_response_time</u>: how fast will the host respond to requests (on average)\n",
    "* <u>host_acceptance_rate</u>: what percent of booking requests will the host accept\n",
    "\n",
    "\n",
    "\n",
    "<p>&nbsp;</p>\n",
    "<table style=\"border: none;border-collapse: collapse;width:102pt;\">\n",
    "    <tbody>\n",
    "        <tr>\n",
    "            <td style=\"color:black;font-size:15px;font-weight:700;font-style:normal;text-decoration:none;font-family:Calibri, sans-serif;text-align:right;vertical-align:bottom;border:.5pt solid windowtext;height:14.25pt;width:51pt;\">Problem</td>\n",
    "            <td style=\"color:black;font-size:15px;font-weight:700;font-style:normal;text-decoration:none;font-family:Calibri, sans-serif;text-align:general;vertical-align:bottom;border:.5pt solid windowtext;border-left:none;width:51pt;\">Points</td>\n",
    "        </tr>\n",
    "        <tr>\n",
    "            <td style=\"color:black;font-size:15px;font-weight:400;font-style:normal;text-decoration:none;font-family:Calibri, sans-serif;text-align:right;vertical-align:bottom;border:.5pt solid windowtext;height:14.25pt;border-top:none;\">1</td>\n",
    "            <td style=\"color:black;font-size:15px;font-weight:400;font-style:normal;text-decoration:none;font-family:Calibri, sans-serif;text-align:right;vertical-align:bottom;border:.5pt solid windowtext;border-top:none;border-left:none;\">0.25</td>\n",
    "        </tr>\n",
    "        <tr>\n",
    "            <td style=\"color:black;font-size:15px;font-weight:400;font-style:normal;text-decoration:none;font-family:Calibri, sans-serif;text-align:right;vertical-align:bottom;border:.5pt solid windowtext;height:14.25pt;border-top:none;\">2.1</td>\n",
    "            <td style=\"color:black;font-size:15px;font-weight:400;font-style:normal;text-decoration:none;font-family:Calibri, sans-serif;text-align:right;vertical-align:bottom;border:.5pt solid windowtext;border-top:none;border-left:none;\">0.75</td>\n",
    "        </tr>\n",
    "        <tr>\n",
    "            <td style=\"color:black;font-size:15px;font-weight:400;font-style:normal;text-decoration:none;font-family:Calibri, sans-serif;text-align:right;vertical-align:bottom;border:.5pt solid windowtext;height:14.25pt;border-top:none;\">2.2</td>\n",
    "            <td style=\"color:black;font-size:15px;font-weight:400;font-style:normal;text-decoration:none;font-family:Calibri, sans-serif;text-align:right;vertical-align:bottom;border:.5pt solid windowtext;border-top:none;border-left:none;\">0.75</td>\n",
    "        </tr>\n",
    "        <tr>\n",
    "            <td style=\"color:black;font-size:15px;font-weight:400;font-style:normal;text-decoration:none;font-family:Calibri, sans-serif;text-align:right;vertical-align:bottom;border:.5pt solid windowtext;height:14.25pt;border-top:none;\">3.1</td>\n",
    "            <td style=\"color:black;font-size:15px;font-weight:400;font-style:normal;text-decoration:none;font-family:Calibri, sans-serif;text-align:right;vertical-align:bottom;border:.5pt solid windowtext;border-top:none;border-left:none;\">0.75</td>\n",
    "        </tr>\n",
    "        <tr>\n",
    "            <td style=\"color:black;font-size:15px;font-weight:400;font-style:normal;text-decoration:none;font-family:Calibri, sans-serif;text-align:right;vertical-align:bottom;border:.5pt solid windowtext;height:14.25pt;border-top:none;\">3.2</td>\n",
    "            <td style=\"color:black;font-size:15px;font-weight:400;font-style:normal;text-decoration:none;font-family:Calibri, sans-serif;text-align:right;vertical-align:bottom;border:.5pt solid windowtext;border-top:none;border-left:none;\">1.25</td>\n",
    "        </tr>\n",
    "        <tr>\n",
    "            <td style=\"color:black;font-size:15px;font-weight:400;font-style:normal;text-decoration:none;font-family:Calibri, sans-serif;text-align:right;vertical-align:bottom;border:.5pt solid windowtext;height:14.25pt;border-top:none;\">3.3</td>\n",
    "            <td style=\"color:black;font-size:15px;font-weight:400;font-style:normal;text-decoration:none;font-family:Calibri, sans-serif;text-align:right;vertical-align:bottom;border:.5pt solid windowtext;border-top:none;border-left:none;\">0.75</td>\n",
    "        </tr>\n",
    "        <tr>\n",
    "            <td style=\"color:black;font-size:15px;font-weight:400;font-style:normal;text-decoration:none;font-family:Calibri, sans-serif;text-align:right;vertical-align:bottom;border:.5pt solid windowtext;height:14.25pt;border-top:none;\">3.4</td>\n",
    "            <td style=\"color:black;font-size:15px;font-weight:400;font-style:normal;text-decoration:none;font-family:Calibri, sans-serif;text-align:right;vertical-align:bottom;border:.5pt solid windowtext;border-top:none;border-left:none;\">0.75</td>\n",
    "        </tr>\n",
    "        <tr>\n",
    "            <td style=\"color:black;font-size:15px;font-weight:400;font-style:normal;text-decoration:none;font-family:Calibri, sans-serif;text-align:right;vertical-align:bottom;border:.5pt solid windowtext;height:14.25pt;border-top:none;\">4.1</td>\n",
    "            <td style=\"color:black;font-size:15px;font-weight:400;font-style:normal;text-decoration:none;font-family:Calibri, sans-serif;text-align:right;vertical-align:bottom;border:.5pt solid windowtext;border-top:none;border-left:none;\">0.75</td>\n",
    "        </tr>\n",
    "        <tr>\n",
    "            <td style=\"color:black;font-size:15px;font-weight:400;font-style:normal;text-decoration:none;font-family:Calibri, sans-serif;text-align:right;vertical-align:bottom;border:.5pt solid windowtext;height:14.25pt;border-top:none;\">4.2</td>\n",
    "            <td style=\"color:black;font-size:15px;font-weight:400;font-style:normal;text-decoration:none;font-family:Calibri, sans-serif;text-align:right;vertical-align:bottom;border:.5pt solid windowtext;border-top:none;border-left:none;\">0.5</td>\n",
    "        </tr>\n",
    "        <tr>\n",
    "            <td style=\"color:black;font-size:15px;font-weight:400;font-style:normal;text-decoration:none;font-family:Calibri, sans-serif;text-align:right;vertical-align:bottom;border:.5pt solid windowtext;height:14.25pt;border-top:none;\">5.1</td>\n",
    "            <td style=\"color:black;font-size:15px;font-weight:400;font-style:normal;text-decoration:none;font-family:Calibri, sans-serif;text-align:right;vertical-align:bottom;border:.5pt solid windowtext;border-top:none;border-left:none;\">0.75</td>\n",
    "        </tr>\n",
    "        <tr>\n",
    "            <td style=\"color:black;font-size:15px;font-weight:400;font-style:normal;text-decoration:none;font-family:Calibri, sans-serif;text-align:right;vertical-align:bottom;border:.5pt solid windowtext;height:14.25pt;border-top:none;\">6.1</td>\n",
    "            <td style=\"color:black;font-size:15px;font-weight:400;font-style:normal;text-decoration:none;font-family:Calibri, sans-serif;text-align:right;vertical-align:bottom;border:.5pt solid windowtext;border-top:none;border-left:none;\">2.5</td>\n",
    "        </tr>\n",
    "        <tr>\n",
    "            <td style=\"color:black;font-size:15px;font-weight:400;font-style:normal;text-decoration:none;font-family:Calibri, sans-serif;text-align:right;vertical-align:bottom;border:.5pt solid windowtext;height:14.25pt;border-top:none;\">6.2</td>\n",
    "            <td style=\"color:black;font-size:15px;font-weight:400;font-style:normal;text-decoration:none;font-family:Calibri, sans-serif;text-align:right;vertical-align:bottom;border:.5pt solid windowtext;border-top:none;border-left:none;\">1</td>\n",
    "        </tr>\n",
    "        <tr>\n",
    "            <td style=\"color:black;font-size:15px;font-weight:400;font-style:normal;text-decoration:none;font-family:Calibri, sans-serif;text-align:right;vertical-align:bottom;border:.5pt solid windowtext;height:14.25pt;border-top:none;\">6.3.1</td>\n",
    "            <td style=\"color:black;font-size:15px;font-weight:400;font-style:normal;text-decoration:none;font-family:Calibri, sans-serif;text-align:right;vertical-align:bottom;border:.5pt solid windowtext;border-top:none;border-left:none;\">1.25</td>\n",
    "        </tr>\n",
    "        <tr>\n",
    "            <td style=\"color:black;font-size:15px;font-weight:400;font-style:normal;text-decoration:none;font-family:Calibri, sans-serif;text-align:right;vertical-align:bottom;border:.5pt solid windowtext;height:14.25pt;border-top:none;\">6.3.2</td>\n",
    "            <td style=\"color:black;font-size:15px;font-weight:400;font-style:normal;text-decoration:none;font-family:Calibri, sans-serif;text-align:right;vertical-align:bottom;border:.5pt solid windowtext;border-top:none;border-left:none;\">2.5</td>\n",
    "        </tr>\n",
    "        <tr>\n",
    "            <td style=\"color:black;font-size:15px;font-weight:400;font-style:normal;text-decoration:none;font-family:Calibri, sans-serif;text-align:right;vertical-align:bottom;border:.5pt solid windowtext;height:14.25pt;border-top:none;\">7.1</td>\n",
    "            <td style=\"color:black;font-size:15px;font-weight:400;font-style:normal;text-decoration:none;font-family:Calibri, sans-serif;text-align:right;vertical-align:bottom;border:.5pt solid windowtext;border-top:none;border-left:none;\">0.75</td>\n",
    "        </tr>\n",
    "        <tr>\n",
    "            <td style=\"color:black;font-size:15px;font-weight:400;font-style:normal;text-decoration:none;font-family:Calibri, sans-serif;text-align:right;vertical-align:bottom;border:.5pt solid windowtext;height:14.25pt;border-top:none;\">7.2</td>\n",
    "            <td style=\"color:black;font-size:15px;font-weight:400;font-style:normal;text-decoration:none;font-family:Calibri, sans-serif;text-align:right;vertical-align:bottom;border:.5pt solid windowtext;border-top:none;border-left:none;\">0.75</td>\n",
    "        </tr>\n",
    "        <tr>\n",
    "            <td style=\"color:black;font-size:15px;font-weight:400;font-style:normal;text-decoration:none;font-family:Calibri, sans-serif;text-align:right;vertical-align:bottom;border:.5pt solid windowtext;height:14.25pt;border-top:none;\">7.3</td>\n",
    "            <td style=\"color:black;font-size:15px;font-weight:400;font-style:normal;text-decoration:none;font-family:Calibri, sans-serif;text-align:right;vertical-align:bottom;border:.5pt solid windowtext;border-top:none;border-left:none;\">1.25</td>\n",
    "        </tr>\n",
    "        <tr>\n",
    "            <td style=\"color:black;font-size:15px;font-weight:400;font-style:normal;text-decoration:none;font-family:Calibri, sans-serif;text-align:right;vertical-align:bottom;border:.5pt solid windowtext;height:14.25pt;border-top:none;\">7.4.1</td>\n",
    "            <td style=\"color:black;font-size:15px;font-weight:400;font-style:normal;text-decoration:none;font-family:Calibri, sans-serif;text-align:right;vertical-align:bottom;border:.5pt solid windowtext;border-top:none;border-left:none;\">0.75</td>\n",
    "        </tr>\n",
    "        <tr>\n",
    "            <td style=\"color:black;font-size:15px;font-weight:400;font-style:normal;text-decoration:none;font-family:Calibri, sans-serif;text-align:right;vertical-align:bottom;border:.5pt solid windowtext;height:14.25pt;border-top:none;\">7.4.2</td>\n",
    "            <td style=\"color:black;font-size:15px;font-weight:400;font-style:normal;text-decoration:none;font-family:Calibri, sans-serif;text-align:right;vertical-align:bottom;border:.5pt solid windowtext;border-top:none;border-left:none;\">0.75</td>\n",
    "        </tr>\n",
    "        <tr>\n",
    "            <td style=\"color:black;font-size:15px;font-weight:400;font-style:normal;text-decoration:none;font-family:Calibri, sans-serif;text-align:right;vertical-align:bottom;border:.5pt solid windowtext;height:14.25pt;border-top:none;\">8.1</td>\n",
    "            <td style=\"color:black;font-size:15px;font-weight:400;font-style:normal;text-decoration:none;font-family:Calibri, sans-serif;text-align:right;vertical-align:bottom;border:.5pt solid windowtext;border-top:none;border-left:none;\">1</td>\n",
    "        </tr>\n",
    "        <tr>\n",
    "            <td style=\"color:black;font-size:15px;font-weight:400;font-style:normal;text-decoration:none;font-family:Calibri, sans-serif;text-align:right;vertical-align:bottom;border:.5pt solid windowtext;height:14.25pt;border-top:none;\">8.2</td>\n",
    "            <td style=\"color:black;font-size:15px;font-weight:400;font-style:normal;text-decoration:none;font-family:Calibri, sans-serif;text-align:right;vertical-align:bottom;border:.5pt solid windowtext;border-top:none;border-left:none;\">1</td>\n",
    "        </tr>\n",
    "        <tr>\n",
    "            <td style=\"color:black;font-size:15px;font-weight:400;font-style:normal;text-decoration:none;font-family:Calibri, sans-serif;text-align:right;vertical-align:bottom;border:.5pt solid windowtext;height:14.25pt;border-top:none;\">8.3</td>\n",
    "            <td style=\"color:black;font-size:15px;font-weight:400;font-style:normal;text-decoration:none;font-family:Calibri, sans-serif;text-align:right;vertical-align:bottom;border:.5pt solid windowtext;border-top:none;border-left:none;\">1.5</td>\n",
    "        </tr>\n",
    "        <tr>\n",
    "            <td style=\"color:black;font-size:15px;font-weight:400;font-style:normal;text-decoration:none;font-family:Calibri, sans-serif;text-align:right;vertical-align:bottom;border:.5pt solid windowtext;height:14.25pt;border-top:none;\">8.4</td>\n",
    "            <td style=\"color:black;font-size:15px;font-weight:400;font-style:normal;text-decoration:none;font-family:Calibri, sans-serif;text-align:right;vertical-align:bottom;border:.5pt solid windowtext;border-top:none;border-left:none;\">0.75</td>\n",
    "        </tr>\n",
    "        <tr>\n",
    "            <td style=\"color:black;font-size:15px;font-weight:400;font-style:normal;text-decoration:none;font-family:Calibri, sans-serif;text-align:right;vertical-align:bottom;border:.5pt solid windowtext;height:14.25pt;border-top:none;\">8.5.1</td>\n",
    "            <td style=\"color:black;font-size:15px;font-weight:400;font-style:normal;text-decoration:none;font-family:Calibri, sans-serif;text-align:right;vertical-align:bottom;border:.5pt solid windowtext;border-top:none;border-left:none;\">1.25</td>\n",
    "        </tr>\n",
    "        <tr>\n",
    "            <td style=\"color:black;font-size:15px;font-weight:400;font-style:normal;text-decoration:none;font-family:Calibri, sans-serif;text-align:right;vertical-align:bottom;border:.5pt solid windowtext;height:14.25pt;border-top:none;\">8.5.2</td>\n",
    "            <td style=\"color:black;font-size:15px;font-weight:400;font-style:normal;text-decoration:none;font-family:Calibri, sans-serif;text-align:right;vertical-align:bottom;border:.5pt solid windowtext;border-top:none;border-left:none;\">0.75</td>\n",
    "        </tr>\n",
    "    </tbody>\n",
    "</table>\n",
    "\n",
    "\n",
    "\n"
   ]
  },
  {
   "cell_type": "markdown",
   "metadata": {},
   "source": [
    "### Imports"
   ]
  },
  {
   "cell_type": "code",
   "execution_count": 1,
   "metadata": {},
   "outputs": [],
   "source": [
    "import pandas as pd                    # imports pandas and calls the imported version 'pd'\n",
    "import matplotlib.pyplot as plt        # imports the package and calls it 'plt'\n",
    "import seaborn as sns # imports the seaborn package with the imported name 'sns'\n",
    "sns.set() \n",
    "import scipy\n",
    "import statsmodels.api as sm\n",
    "import statsmodels.formula.api as smf"
   ]
  },
  {
   "cell_type": "markdown",
   "metadata": {},
   "source": [
    "## 1. Data Processing and Cleaning\n",
    "\n",
    "First, read the seattle_airbnb_listings_cleaned.csv file into a dataframe. This csv file does not contain any missing values."
   ]
  },
  {
   "cell_type": "code",
   "execution_count": 2,
   "metadata": {
    "scrolled": true
   },
   "outputs": [],
   "source": [
    "df = pd.read_csv('seattle_airbnb_listings_cleaned.csv')"
   ]
  },
  {
   "cell_type": "code",
   "execution_count": 3,
   "metadata": {},
   "outputs": [
    {
     "data": {
      "text/html": [
       "<div>\n",
       "<style scoped>\n",
       "    .dataframe tbody tr th:only-of-type {\n",
       "        vertical-align: middle;\n",
       "    }\n",
       "\n",
       "    .dataframe tbody tr th {\n",
       "        vertical-align: top;\n",
       "    }\n",
       "\n",
       "    .dataframe thead th {\n",
       "        text-align: right;\n",
       "    }\n",
       "</style>\n",
       "<table border=\"1\" class=\"dataframe\">\n",
       "  <thead>\n",
       "    <tr style=\"text-align: right;\">\n",
       "      <th></th>\n",
       "      <th>price</th>\n",
       "      <th>review_scores_rating</th>\n",
       "      <th>number_of_reviews</th>\n",
       "      <th>security_deposit</th>\n",
       "      <th>cleaning_fee</th>\n",
       "      <th>neighborhood</th>\n",
       "      <th>property_type</th>\n",
       "      <th>room_type</th>\n",
       "      <th>accommodates</th>\n",
       "      <th>bathrooms</th>\n",
       "      <th>beds</th>\n",
       "      <th>host_response_time</th>\n",
       "      <th>host_response_rate</th>\n",
       "      <th>host_acceptance_rate</th>\n",
       "      <th>host_is_superhost</th>\n",
       "      <th>host_has_profile_pic</th>\n",
       "      <th>host_identity_verified</th>\n",
       "    </tr>\n",
       "  </thead>\n",
       "  <tbody>\n",
       "    <tr>\n",
       "      <th>0</th>\n",
       "      <td>300</td>\n",
       "      <td>100</td>\n",
       "      <td>24</td>\n",
       "      <td>500</td>\n",
       "      <td>95</td>\n",
       "      <td>Wallingford</td>\n",
       "      <td>House</td>\n",
       "      <td>Entire home/apt</td>\n",
       "      <td>5</td>\n",
       "      <td>1.5</td>\n",
       "      <td>3</td>\n",
       "      <td>within a few hours</td>\n",
       "      <td>1.0</td>\n",
       "      <td>1</td>\n",
       "      <td>t</td>\n",
       "      <td>t</td>\n",
       "      <td>t</td>\n",
       "    </tr>\n",
       "    <tr>\n",
       "      <th>1</th>\n",
       "      <td>149</td>\n",
       "      <td>96</td>\n",
       "      <td>11</td>\n",
       "      <td>300</td>\n",
       "      <td>105</td>\n",
       "      <td>Wallingford</td>\n",
       "      <td>Apartment</td>\n",
       "      <td>Entire home/apt</td>\n",
       "      <td>6</td>\n",
       "      <td>1.0</td>\n",
       "      <td>3</td>\n",
       "      <td>within an hour</td>\n",
       "      <td>1.0</td>\n",
       "      <td>1</td>\n",
       "      <td>f</td>\n",
       "      <td>t</td>\n",
       "      <td>t</td>\n",
       "    </tr>\n",
       "    <tr>\n",
       "      <th>2</th>\n",
       "      <td>95</td>\n",
       "      <td>95</td>\n",
       "      <td>79</td>\n",
       "      <td>150</td>\n",
       "      <td>40</td>\n",
       "      <td>Wallingford</td>\n",
       "      <td>Apartment</td>\n",
       "      <td>Entire home/apt</td>\n",
       "      <td>3</td>\n",
       "      <td>1.0</td>\n",
       "      <td>2</td>\n",
       "      <td>within an hour</td>\n",
       "      <td>1.0</td>\n",
       "      <td>1</td>\n",
       "      <td>f</td>\n",
       "      <td>t</td>\n",
       "      <td>t</td>\n",
       "    </tr>\n",
       "    <tr>\n",
       "      <th>3</th>\n",
       "      <td>105</td>\n",
       "      <td>100</td>\n",
       "      <td>13</td>\n",
       "      <td>500</td>\n",
       "      <td>50</td>\n",
       "      <td>Wallingford</td>\n",
       "      <td>House</td>\n",
       "      <td>Private room</td>\n",
       "      <td>2</td>\n",
       "      <td>2.0</td>\n",
       "      <td>1</td>\n",
       "      <td>within a few hours</td>\n",
       "      <td>1.0</td>\n",
       "      <td>1</td>\n",
       "      <td>t</td>\n",
       "      <td>t</td>\n",
       "      <td>t</td>\n",
       "    </tr>\n",
       "    <tr>\n",
       "      <th>4</th>\n",
       "      <td>140</td>\n",
       "      <td>99</td>\n",
       "      <td>30</td>\n",
       "      <td>250</td>\n",
       "      <td>65</td>\n",
       "      <td>Wallingford</td>\n",
       "      <td>House</td>\n",
       "      <td>Entire home/apt</td>\n",
       "      <td>2</td>\n",
       "      <td>1.0</td>\n",
       "      <td>1</td>\n",
       "      <td>within an hour</td>\n",
       "      <td>1.0</td>\n",
       "      <td>1</td>\n",
       "      <td>t</td>\n",
       "      <td>t</td>\n",
       "      <td>t</td>\n",
       "    </tr>\n",
       "  </tbody>\n",
       "</table>\n",
       "</div>"
      ],
      "text/plain": [
       "   price  review_scores_rating  number_of_reviews  security_deposit  \\\n",
       "0    300                   100                 24               500   \n",
       "1    149                    96                 11               300   \n",
       "2     95                    95                 79               150   \n",
       "3    105                   100                 13               500   \n",
       "4    140                    99                 30               250   \n",
       "\n",
       "   cleaning_fee neighborhood property_type        room_type  accommodates  \\\n",
       "0            95  Wallingford         House  Entire home/apt             5   \n",
       "1           105  Wallingford     Apartment  Entire home/apt             6   \n",
       "2            40  Wallingford     Apartment  Entire home/apt             3   \n",
       "3            50  Wallingford         House     Private room             2   \n",
       "4            65  Wallingford         House  Entire home/apt             2   \n",
       "\n",
       "   bathrooms  beds  host_response_time  host_response_rate  \\\n",
       "0        1.5     3  within a few hours                 1.0   \n",
       "1        1.0     3      within an hour                 1.0   \n",
       "2        1.0     2      within an hour                 1.0   \n",
       "3        2.0     1  within a few hours                 1.0   \n",
       "4        1.0     1      within an hour                 1.0   \n",
       "\n",
       "   host_acceptance_rate host_is_superhost host_has_profile_pic  \\\n",
       "0                     1                 t                    t   \n",
       "1                     1                 f                    t   \n",
       "2                     1                 f                    t   \n",
       "3                     1                 t                    t   \n",
       "4                     1                 t                    t   \n",
       "\n",
       "  host_identity_verified  \n",
       "0                      t  \n",
       "1                      t  \n",
       "2                      t  \n",
       "3                      t  \n",
       "4                      t  "
      ]
     },
     "execution_count": 3,
     "metadata": {},
     "output_type": "execute_result"
    }
   ],
   "source": [
    "df.head()"
   ]
  },
  {
   "cell_type": "markdown",
   "metadata": {},
   "source": [
    "## <u>Case Study A</u>: Association between the Airbnb Price and the Neighborhood the Listing is Located In\n",
    "\n",
    "## 2. Associations in the Dataset\n",
    "\n",
    "First,  we would like to examine whether there is a relationship between the three different room types **in this dataset** and the price of the Airbnb listings.\n",
    "\n",
    "### 2.1. Average Price by Room Type\n",
    "\n",
    "First, calculate the average price of an Airbnb listing in each of the three different room types. For full credit, you should calculate these three averages in just one line of code.\n"
   ]
  },
  {
   "cell_type": "code",
   "execution_count": 4,
   "metadata": {},
   "outputs": [
    {
     "data": {
      "text/plain": [
       "room_type\n",
       "Entire home/apt    154.069498\n",
       "Private room        73.648148\n",
       "Shared room         49.884615\n",
       "Name: price, dtype: float64"
      ]
     },
     "execution_count": 4,
     "metadata": {},
     "output_type": "execute_result"
    }
   ],
   "source": [
    "df.groupby('room_type')['price'].mean()"
   ]
  },
  {
   "cell_type": "markdown",
   "metadata": {},
   "source": [
    "#### 2.2. Airbnb Price Distribution by Room Type\n",
    "\n",
    "Next, plot a side-by-side boxplots plot, visualizing the relationship between the listing price and the 3 room types in this dataset."
   ]
  },
  {
   "cell_type": "code",
   "execution_count": 5,
   "metadata": {},
   "outputs": [
    {
     "data": {
      "image/png": "[encoded data removed]",
      "text/plain": [
       "<Figure size 432x288 with 1 Axes>"
      ]
     },
     "metadata": {},
     "output_type": "display_data"
    }
   ],
   "source": [
    "sns.boxplot(x = 'room_type', y = 'price', data = df)\n",
    "plt.show()"
   ]
  },
  {
   "cell_type": "markdown",
   "metadata": {},
   "source": [
    "## 3. Associations in the Population of *All Seattle Airbnb Properties with Room Types* - with ANOVA\n",
    "\n",
    "Next, we would like to determine if there is an association between the price and the the room type for ALL Seattble Airbnb listings from the top 5 neighborhoods (ie. our population of interest). Specifically, we would like to test this association by assessing if we have enough evidence to suggest that at least two room type average Airbnb prices are different from each other in this population. The averages that you are considering in this case will be:\n",
    "* $\\mu_{Entire\\_Home}$ = the average listing price of *all* entire home Seattle Airbnb properties (from the top 5 neighborhoods)\n",
    "* $\\mu_{Private\\_Room}$ = the average listing price of *all* private room Seattle Airbnb properties (from the top 5 neighborhoods)\n",
    "* $\\mu_{Shared\\_Room}$ = the average listing price of *all* shared room Seattle Airbnb properties (from the top 5 neighborhoods)\n",
    "\n",
    "\n",
    "\n",
    "### 3.1. Hypotheses\n",
    "\n",
    "First, set up the hypotheses for this test. Make sure that you use the correct notation."
   ]
  },
  {
   "cell_type": "markdown",
   "metadata": {},
   "source": [
    "$H_{0} : \\mu_{Entire\\_Home} = \\mu_{Private\\_Room} = \\mu_{Shared\\_Room}$\n",
    "\n",
    "$H_{A}$ : at least two room type average are different from each other"
   ]
  },
  {
   "cell_type": "markdown",
   "metadata": {},
   "source": [
    "### 3.2. Test Statistic and p-value\n",
    "\n",
    "Next, find the test statistic and the p-value that correspond to this hypothesis test."
   ]
  },
  {
   "cell_type": "code",
   "execution_count": 6,
   "metadata": {},
   "outputs": [
    {
     "data": {
      "text/html": [
       "<table class=\"simpletable\">\n",
       "<caption>OLS Regression Results</caption>\n",
       "<tr>\n",
       "  <th>Dep. Variable:</th>          <td>price</td>      <th>  R-squared:         </th> <td>   0.167</td>\n",
       "</tr>\n",
       "<tr>\n",
       "  <th>Model:</th>                   <td>OLS</td>       <th>  Adj. R-squared:    </th> <td>   0.162</td>\n",
       "</tr>\n",
       "<tr>\n",
       "  <th>Method:</th>             <td>Least Squares</td>  <th>  F-statistic:       </th> <td>   33.75</td>\n",
       "</tr>\n",
       "<tr>\n",
       "  <th>Date:</th>             <td>Wed, 13 Apr 2022</td> <th>  Prob (F-statistic):</th> <td>4.41e-14</td>\n",
       "</tr>\n",
       "<tr>\n",
       "  <th>Time:</th>                 <td>14:57:03</td>     <th>  Log-Likelihood:    </th> <td> -1984.6</td>\n",
       "</tr>\n",
       "<tr>\n",
       "  <th>No. Observations:</th>      <td>   339</td>      <th>  AIC:               </th> <td>   3975.</td>\n",
       "</tr>\n",
       "<tr>\n",
       "  <th>Df Residuals:</th>          <td>   336</td>      <th>  BIC:               </th> <td>   3987.</td>\n",
       "</tr>\n",
       "<tr>\n",
       "  <th>Df Model:</th>              <td>     2</td>      <th>                     </th>     <td> </td>   \n",
       "</tr>\n",
       "<tr>\n",
       "  <th>Covariance Type:</th>      <td>nonrobust</td>    <th>                     </th>     <td> </td>   \n",
       "</tr>\n",
       "</table>\n",
       "<table class=\"simpletable\">\n",
       "<tr>\n",
       "              <td></td>                 <th>coef</th>     <th>std err</th>      <th>t</th>      <th>P>|t|</th>  <th>[0.025</th>    <th>0.975]</th>  \n",
       "</tr>\n",
       "<tr>\n",
       "  <th>Intercept</th>                 <td>  154.0695</td> <td>    5.266</td> <td>   29.257</td> <td> 0.000</td> <td>  143.711</td> <td>  164.428</td>\n",
       "</tr>\n",
       "<tr>\n",
       "  <th>room_type[T.Private room]</th> <td>  -80.4213</td> <td>   12.678</td> <td>   -6.343</td> <td> 0.000</td> <td> -105.360</td> <td>  -55.482</td>\n",
       "</tr>\n",
       "<tr>\n",
       "  <th>room_type[T.Shared room]</th>  <td> -104.1849</td> <td>   17.435</td> <td>   -5.976</td> <td> 0.000</td> <td> -138.481</td> <td>  -69.889</td>\n",
       "</tr>\n",
       "</table>\n",
       "<table class=\"simpletable\">\n",
       "<tr>\n",
       "  <th>Omnibus:</th>       <td>365.947</td> <th>  Durbin-Watson:     </th> <td>   1.925</td> \n",
       "</tr>\n",
       "<tr>\n",
       "  <th>Prob(Omnibus):</th> <td> 0.000</td>  <th>  Jarque-Bera (JB):  </th> <td>18418.080</td>\n",
       "</tr>\n",
       "<tr>\n",
       "  <th>Skew:</th>          <td> 4.641</td>  <th>  Prob(JB):          </th> <td>    0.00</td> \n",
       "</tr>\n",
       "<tr>\n",
       "  <th>Kurtosis:</th>      <td>37.897</td>  <th>  Cond. No.          </th> <td>    3.91</td> \n",
       "</tr>\n",
       "</table><br/><br/>Warnings:<br/>[1] Standard Errors assume that the covariance matrix of the errors is correctly specified."
      ],
      "text/plain": [
       "<class 'statsmodels.iolib.summary.Summary'>\n",
       "\"\"\"\n",
       "                            OLS Regression Results                            \n",
       "==============================================================================\n",
       "Dep. Variable:                  price   R-squared:                       0.167\n",
       "Model:                            OLS   Adj. R-squared:                  0.162\n",
       "Method:                 Least Squares   F-statistic:                     33.75\n",
       "Date:                Wed, 13 Apr 2022   Prob (F-statistic):           4.41e-14\n",
       "Time:                        14:57:03   Log-Likelihood:                -1984.6\n",
       "No. Observations:                 339   AIC:                             3975.\n",
       "Df Residuals:                     336   BIC:                             3987.\n",
       "Df Model:                           2                                         \n",
       "Covariance Type:            nonrobust                                         \n",
       "=============================================================================================\n",
       "                                coef    std err          t      P>|t|      [0.025      0.975]\n",
       "---------------------------------------------------------------------------------------------\n",
       "Intercept                   154.0695      5.266     29.257      0.000     143.711     164.428\n",
       "room_type[T.Private room]   -80.4213     12.678     -6.343      0.000    -105.360     -55.482\n",
       "room_type[T.Shared room]   -104.1849     17.435     -5.976      0.000    -138.481     -69.889\n",
       "==============================================================================\n",
       "Omnibus:                      365.947   Durbin-Watson:                   1.925\n",
       "Prob(Omnibus):                  0.000   Jarque-Bera (JB):            18418.080\n",
       "Skew:                           4.641   Prob(JB):                         0.00\n",
       "Kurtosis:                      37.897   Cond. No.                         3.91\n",
       "==============================================================================\n",
       "\n",
       "Warnings:\n",
       "[1] Standard Errors assume that the covariance matrix of the errors is correctly specified.\n",
       "\"\"\""
      ]
     },
     "execution_count": 6,
     "metadata": {},
     "output_type": "execute_result"
    }
   ],
   "source": [
    "result = smf.ols('price ~ room_type', data = df).fit()\n",
    "result.summary()"
   ]
  },
  {
   "cell_type": "code",
   "execution_count": 7,
   "metadata": {},
   "outputs": [
    {
     "data": {
      "text/plain": [
       "33.75"
      ]
     },
     "execution_count": 7,
     "metadata": {},
     "output_type": "execute_result"
    }
   ],
   "source": [
    "test_statistic = 33.75\n",
    "pvalue = 4.41e-14\n",
    "\n",
    "test_statistic"
   ]
  },
  {
   "cell_type": "code",
   "execution_count": 8,
   "metadata": {},
   "outputs": [
    {
     "data": {
      "text/plain": [
       "4.41e-14"
      ]
     },
     "execution_count": 8,
     "metadata": {},
     "output_type": "execute_result"
    }
   ],
   "source": [
    "pvalue"
   ]
  },
  {
   "cell_type": "markdown",
   "metadata": {},
   "source": []
  },
  {
   "cell_type": "markdown",
   "metadata": {},
   "source": [
    "### 3.3. Make a conclusion\n",
    "\n",
    "Use a significance level of $\\alpha=0.05$ to make a conclusion about our hypotheses from 3.1."
   ]
  },
  {
   "cell_type": "markdown",
   "metadata": {},
   "source": [
    "pvalue = 4.41e-14 < $\\alpha = 0.05$, we reject the null hypothesis. Thus there is sufficient evidence to at least two room type average price is different from each other. "
   ]
  },
  {
   "cell_type": "markdown",
   "metadata": {},
   "source": [
    "### 3.4. Type 1 Error Probability\n",
    "\n",
    "In our hypothesis test conducted in 3.1-3.3, what is the probability that the null value is actually true, but we incorrectly reject it?"
   ]
  },
  {
   "cell_type": "markdown",
   "metadata": {},
   "source": [
    "0.05"
   ]
  },
  {
   "cell_type": "markdown",
   "metadata": {},
   "source": [
    "<hr>\n",
    "\n",
    "## <u>Case Study B</u>: Association between Airbnb Price and Multiple Explanatory Variables - Multiple Linear Regression\n",
    "\n",
    "Next, we would like to build a multiple linear regression model that predicts the **price** of a Seattle Airbnb listing using several explanatory variables.\n",
    "\n",
    "\n",
    "\n",
    "\n",
    "\n",
    "## 4. Descriptive Analytics\n",
    "\n",
    "### 4.1. Interaction between Accommodation Number, Price, and Property Type\n",
    "First, let's analyze the relationship between the number of people that the Airbnb property accommodates and the price of the listing. Plot a scatterplot for these two numerical variables below (you should put price on the y-axis). Also in this scatterplot, color-code your points by the property type that this property corresponds to. Finally, fit a best fit line for each of the two different property types in this scatterplot."
   ]
  },
  {
   "cell_type": "code",
   "execution_count": 9,
   "metadata": {},
   "outputs": [
    {
     "data": {
      "image/png": "[encoded data removed]",
      "text/plain": [
       "<Figure size 450.725x360 with 1 Axes>"
      ]
     },
     "metadata": {},
     "output_type": "display_data"
    }
   ],
   "source": [
    "sns.lmplot(x='accommodates', y='price', hue='property_type', data=df, ci=False) \n",
    "plt.title('Airnb House price listing') \n",
    "plt.show() "
   ]
  },
  {
   "cell_type": "markdown",
   "metadata": {},
   "source": [
    "### 4.2. Interpretation\n",
    "\n",
    "Does this plot above indicate that there may be an interaction between the property type and the number of people that can be acommodated in an Airbnb listing in a regression model that predicts price? Explain."
   ]
  },
  {
   "cell_type": "markdown",
   "metadata": {},
   "source": []
  },
  {
   "cell_type": "markdown",
   "metadata": {},
   "source": [
    "## 5. Linear Regression Model\n",
    "\n",
    "Next, let's build a multiple linear regression model that predicts the **price** of a Seattle Airbnb listing using the following explanatory variables.\n",
    "* accommodates,\n",
    "* beds,\n",
    "* bathrooms,\n",
    "* property_type,\n",
    "* room_type, and\n",
    "* an interaction term between property type and accommodates.\n",
    "\n",
    "\n",
    "### 5.1. Model Fitting\n",
    "Fit this model below display the summary output table for the fitted model."
   ]
  },
  {
   "cell_type": "code",
   "execution_count": 10,
   "metadata": {},
   "outputs": [
    {
     "data": {
      "text/html": [
       "<table class=\"simpletable\">\n",
       "<caption>OLS Regression Results</caption>\n",
       "<tr>\n",
       "  <th>Dep. Variable:</th>          <td>price</td>      <th>  R-squared:         </th> <td>   0.478</td>\n",
       "</tr>\n",
       "<tr>\n",
       "  <th>Model:</th>                   <td>OLS</td>       <th>  Adj. R-squared:    </th> <td>   0.467</td>\n",
       "</tr>\n",
       "<tr>\n",
       "  <th>Method:</th>             <td>Least Squares</td>  <th>  F-statistic:       </th> <td>   43.29</td>\n",
       "</tr>\n",
       "<tr>\n",
       "  <th>Date:</th>             <td>Wed, 13 Apr 2022</td> <th>  Prob (F-statistic):</th> <td>3.32e-43</td>\n",
       "</tr>\n",
       "<tr>\n",
       "  <th>Time:</th>                 <td>14:57:12</td>     <th>  Log-Likelihood:    </th> <td> -1905.4</td>\n",
       "</tr>\n",
       "<tr>\n",
       "  <th>No. Observations:</th>      <td>   339</td>      <th>  AIC:               </th> <td>   3827.</td>\n",
       "</tr>\n",
       "<tr>\n",
       "  <th>Df Residuals:</th>          <td>   331</td>      <th>  BIC:               </th> <td>   3857.</td>\n",
       "</tr>\n",
       "<tr>\n",
       "  <th>Df Model:</th>              <td>     7</td>      <th>                     </th>     <td> </td>   \n",
       "</tr>\n",
       "<tr>\n",
       "  <th>Covariance Type:</th>      <td>nonrobust</td>    <th>                     </th>     <td> </td>   \n",
       "</tr>\n",
       "</table>\n",
       "<table class=\"simpletable\">\n",
       "<tr>\n",
       "                   <td></td>                      <th>coef</th>     <th>std err</th>      <th>t</th>      <th>P>|t|</th>  <th>[0.025</th>    <th>0.975]</th>  \n",
       "</tr>\n",
       "<tr>\n",
       "  <th>Intercept</th>                           <td>   48.5121</td> <td>   13.833</td> <td>    3.507</td> <td> 0.001</td> <td>   21.300</td> <td>   75.724</td>\n",
       "</tr>\n",
       "<tr>\n",
       "  <th>property_type[T.House]</th>              <td>  -13.5063</td> <td>   17.834</td> <td>   -0.757</td> <td> 0.449</td> <td>  -48.588</td> <td>   21.576</td>\n",
       "</tr>\n",
       "<tr>\n",
       "  <th>room_type[T.Private room]</th>           <td>  -48.0473</td> <td>   12.803</td> <td>   -3.753</td> <td> 0.000</td> <td>  -73.233</td> <td>  -22.862</td>\n",
       "</tr>\n",
       "<tr>\n",
       "  <th>room_type[T.Shared room]</th>            <td>  -34.8066</td> <td>   17.792</td> <td>   -1.956</td> <td> 0.051</td> <td>  -69.806</td> <td>    0.193</td>\n",
       "</tr>\n",
       "<tr>\n",
       "  <th>accommodates</th>                        <td>   16.9275</td> <td>    4.301</td> <td>    3.936</td> <td> 0.000</td> <td>    8.466</td> <td>   25.389</td>\n",
       "</tr>\n",
       "<tr>\n",
       "  <th>property_type[T.House]:accommodates</th> <td>    7.1134</td> <td>    4.227</td> <td>    1.683</td> <td> 0.093</td> <td>   -1.201</td> <td>   15.428</td>\n",
       "</tr>\n",
       "<tr>\n",
       "  <th>beds</th>                                <td>   -6.9700</td> <td>    6.114</td> <td>   -1.140</td> <td> 0.255</td> <td>  -18.998</td> <td>    5.058</td>\n",
       "</tr>\n",
       "<tr>\n",
       "  <th>bathrooms</th>                           <td>   35.7682</td> <td>    8.928</td> <td>    4.006</td> <td> 0.000</td> <td>   18.206</td> <td>   53.330</td>\n",
       "</tr>\n",
       "</table>\n",
       "<table class=\"simpletable\">\n",
       "<tr>\n",
       "  <th>Omnibus:</th>       <td>476.383</td> <th>  Durbin-Watson:     </th> <td>   1.930</td> \n",
       "</tr>\n",
       "<tr>\n",
       "  <th>Prob(Omnibus):</th> <td> 0.000</td>  <th>  Jarque-Bera (JB):  </th> <td>91231.191</td>\n",
       "</tr>\n",
       "<tr>\n",
       "  <th>Skew:</th>          <td> 6.725</td>  <th>  Prob(JB):          </th> <td>    0.00</td> \n",
       "</tr>\n",
       "<tr>\n",
       "  <th>Kurtosis:</th>      <td>82.234</td>  <th>  Cond. No.          </th> <td>    34.4</td> \n",
       "</tr>\n",
       "</table><br/><br/>Warnings:<br/>[1] Standard Errors assume that the covariance matrix of the errors is correctly specified."
      ],
      "text/plain": [
       "<class 'statsmodels.iolib.summary.Summary'>\n",
       "\"\"\"\n",
       "                            OLS Regression Results                            \n",
       "==============================================================================\n",
       "Dep. Variable:                  price   R-squared:                       0.478\n",
       "Model:                            OLS   Adj. R-squared:                  0.467\n",
       "Method:                 Least Squares   F-statistic:                     43.29\n",
       "Date:                Wed, 13 Apr 2022   Prob (F-statistic):           3.32e-43\n",
       "Time:                        14:57:12   Log-Likelihood:                -1905.4\n",
       "No. Observations:                 339   AIC:                             3827.\n",
       "Df Residuals:                     331   BIC:                             3857.\n",
       "Df Model:                           7                                         \n",
       "Covariance Type:            nonrobust                                         \n",
       "=======================================================================================================\n",
       "                                          coef    std err          t      P>|t|      [0.025      0.975]\n",
       "-------------------------------------------------------------------------------------------------------\n",
       "Intercept                              48.5121     13.833      3.507      0.001      21.300      75.724\n",
       "property_type[T.House]                -13.5063     17.834     -0.757      0.449     -48.588      21.576\n",
       "room_type[T.Private room]             -48.0473     12.803     -3.753      0.000     -73.233     -22.862\n",
       "room_type[T.Shared room]              -34.8066     17.792     -1.956      0.051     -69.806       0.193\n",
       "accommodates                           16.9275      4.301      3.936      0.000       8.466      25.389\n",
       "property_type[T.House]:accommodates     7.1134      4.227      1.683      0.093      -1.201      15.428\n",
       "beds                                   -6.9700      6.114     -1.140      0.255     -18.998       5.058\n",
       "bathrooms                              35.7682      8.928      4.006      0.000      18.206      53.330\n",
       "==============================================================================\n",
       "Omnibus:                      476.383   Durbin-Watson:                   1.930\n",
       "Prob(Omnibus):                  0.000   Jarque-Bera (JB):            91231.191\n",
       "Skew:                           6.725   Prob(JB):                         0.00\n",
       "Kurtosis:                      82.234   Cond. No.                         34.4\n",
       "==============================================================================\n",
       "\n",
       "Warnings:\n",
       "[1] Standard Errors assume that the covariance matrix of the errors is correctly specified.\n",
       "\"\"\""
      ]
     },
     "execution_count": 10,
     "metadata": {},
     "output_type": "execute_result"
    }
   ],
   "source": [
    "results = smf.ols('price ~ accommodates+beds+bathrooms+property_type+room_type+property_type*accommodates', data = df).fit()\n",
    "results.summary()"
   ]
  },
  {
   "cell_type": "markdown",
   "metadata": {},
   "source": [
    "## 6. Model Conditions Checking, Fixing, and Transformations\n",
    "\n",
    "Next, we would like to check the conditions for conducting inference on the population slopes in the corresponding population regression model. \n",
    "\n",
    "\n",
    "### 6.1. Initial Model Condition Checking\n",
    "Check the corresponding conditions for inference below."
   ]
  },
  {
   "cell_type": "markdown",
   "metadata": {},
   "source": [
    "[MET] Condition 1: Linearity Condition\n",
    "First, we check the linearity condition by looking at the fitted values vs. residuals plot for our simple linear\n",
    "regression model. Fortunately, it looks like there are parts of this plot in which there are the same residual\n",
    "points that are negative as there are residual points that are postive. Thus, this indicates that this condition is\n",
    " met."
   ]
  },
  {
   "cell_type": "code",
   "execution_count": 14,
   "metadata": {},
   "outputs": [
    {
     "data": {
      "image/png": "[encoded data removed]",
      "text/plain": [
       "<Figure size 432x288 with 1 Axes>"
      ]
     },
     "metadata": {},
     "output_type": "display_data"
    }
   ],
   "source": [
    "import numpy as np\n",
    "plt.scatter(results.fittedvalues, results.resid) \n",
    "plt.hlines(y=0, xmin=np.min(results.fittedvalues), xmax=np.max(results.fittedvalues)) \n",
    "plt.ylabel('Residual') \n",
    "plt.xlabel('Fitted Value') \n",
    "plt.show() "
   ]
  },
  {
   "cell_type": "markdown",
   "metadata": {},
   "source": [
    "[NOT MET] Condition 2: Constant Variance of Residuals Condition\n",
    "Next, we check the constant variance of residuals condition by also looking at the fitted values vs. residuals plot\n",
    "for our simple linear regression model. Unfortunately, it looks like the y-axis spread of the residual points\n",
    "changes as we move from left to right in this plot. Thus, this condition is not met."
   ]
  },
  {
   "cell_type": "code",
   "execution_count": 17,
   "metadata": {},
   "outputs": [
    {
     "data": {
      "image/png": "[encoded data removed]",
      "text/plain": [
       "<Figure size 432x288 with 1 Axes>"
      ]
     },
     "metadata": {},
     "output_type": "display_data"
    }
   ],
   "source": [
    "plt.scatter(results.fittedvalues, results.resid) \n",
    "plt.hlines(y=0, xmin=np.min(results.fittedvalues), xmax=np.max(results.fittedvalues)) \n",
    "plt.ylabel('Residual') \n",
    "plt.xlabel('Fitted Value') \n",
    "plt.show() "
   ]
  },
  {
   "cell_type": "markdown",
   "metadata": {},
   "source": [
    "[NOT MET] Condition 3: Residuals are Normally Distributed (with Mean of 0)\n",
    "Next, we check the condition in which the residuals are normal (with mean of 0) by looking at a histogram of the\n",
    "residuals for this model. Unfortunately, the distribution of residuals is right skewed. Thus, this distribution cannot\n",
    "be normal. Thus, this condition is also not met."
   ]
  },
  {
   "cell_type": "code",
   "execution_count": 18,
   "metadata": {},
   "outputs": [
    {
     "data": {
      "image/png": "[encoded data removed]",
      "text/plain": [
       "<Figure size 432x288 with 1 Axes>"
      ]
     },
     "metadata": {},
     "output_type": "display_data"
    }
   ],
   "source": [
    "plt.hist(results.resid) \n",
    "plt.xlabel('Residuals') \n",
    "plt.show() "
   ]
  },
  {
   "cell_type": "code",
   "execution_count": 19,
   "metadata": {},
   "outputs": [
    {
     "data": {
      "text/plain": [
       "339"
      ]
     },
     "execution_count": 19,
     "metadata": {},
     "output_type": "execute_result"
    }
   ],
   "source": [
    "df.shape[0]"
   ]
  },
  {
   "cell_type": "markdown",
   "metadata": {},
   "source": [
    "[NOT VIOLATED IN THIS PARTICULAR WAY THAT WE HAVE CHECKED] Condition 4: Independence of\n",
    "Residuals\n",
    "At the very least, we verify that:\n",
    "the data is randomly sampled and\n",
    "the sample size n = 3398<10% of all airnb house prices\n",
    "Thus the condition for independence of residuals may not be violated in this particular way.\n",
    "However, it may still be the case that these residuals are not independent"
   ]
  },
  {
   "cell_type": "markdown",
   "metadata": {},
   "source": [
    "[MET] Condition 5: No Multi-Collinearity Condition\n",
    "When examining each of the relationships between each pair of numerical explanatory variables, we do not see\n",
    "any strong linear relationships. Thus there are no multicollinear explanatory variables. Thus this condition is met."
   ]
  },
  {
   "cell_type": "code",
   "execution_count": 22,
   "metadata": {},
   "outputs": [
    {
     "data": {
      "image/png": "[encoded data removed]",
      "text/plain": [
       "<Figure size 540x540 with 12 Axes>"
      ]
     },
     "metadata": {},
     "output_type": "display_data"
    }
   ],
   "source": [
    "sns.pairplot(df[['accommodates', 'beds', 'bathrooms']]) \n",
    "plt.show() "
   ]
  },
  {
   "cell_type": "code",
   "execution_count": 23,
   "metadata": {},
   "outputs": [
    {
     "data": {
      "text/html": [
       "<div>\n",
       "<style scoped>\n",
       "    .dataframe tbody tr th:only-of-type {\n",
       "        vertical-align: middle;\n",
       "    }\n",
       "\n",
       "    .dataframe tbody tr th {\n",
       "        vertical-align: top;\n",
       "    }\n",
       "\n",
       "    .dataframe thead th {\n",
       "        text-align: right;\n",
       "    }\n",
       "</style>\n",
       "<table border=\"1\" class=\"dataframe\">\n",
       "  <thead>\n",
       "    <tr style=\"text-align: right;\">\n",
       "      <th></th>\n",
       "      <th>accommodates</th>\n",
       "      <th>beds</th>\n",
       "      <th>bathrooms</th>\n",
       "    </tr>\n",
       "  </thead>\n",
       "  <tbody>\n",
       "    <tr>\n",
       "      <th>accommodates</th>\n",
       "      <td>1.000000</td>\n",
       "      <td>0.854691</td>\n",
       "      <td>0.576515</td>\n",
       "    </tr>\n",
       "    <tr>\n",
       "      <th>beds</th>\n",
       "      <td>0.854691</td>\n",
       "      <td>1.000000</td>\n",
       "      <td>0.542841</td>\n",
       "    </tr>\n",
       "    <tr>\n",
       "      <th>bathrooms</th>\n",
       "      <td>0.576515</td>\n",
       "      <td>0.542841</td>\n",
       "      <td>1.000000</td>\n",
       "    </tr>\n",
       "  </tbody>\n",
       "</table>\n",
       "</div>"
      ],
      "text/plain": [
       "              accommodates      beds  bathrooms\n",
       "accommodates      1.000000  0.854691   0.576515\n",
       "beds              0.854691  1.000000   0.542841\n",
       "bathrooms         0.576515  0.542841   1.000000"
      ]
     },
     "execution_count": 23,
     "metadata": {},
     "output_type": "execute_result"
    }
   ],
   "source": [
    "df[['accommodates', 'beds', 'bathrooms']].corr()"
   ]
  },
  {
   "cell_type": "markdown",
   "metadata": {},
   "source": [
    "### 6.2. Deleting a Numerical Explanatory Variable from the Model\n",
    "\n",
    "If you had to delete one of the three numerical explanatory variables from the model, which one would you pick? Use the $R^2$ to help make your decision.\n",
    "\n",
    "*You would still keep the accommodate and property type interaction variable in your model though*."
   ]
  },
  {
   "cell_type": "code",
   "execution_count": 24,
   "metadata": {},
   "outputs": [
    {
     "name": "stdout",
     "output_type": "stream",
     "text": [
      "R^2 for the model without beds:  0.47592081625200444\n"
     ]
    }
   ],
   "source": [
    "results = smf.ols('price ~ accommodates+bathrooms+property_type+room_type+property_type*accommodates', data = df).fit()\n",
    "print('R^2 for the model without beds: ', results.rsquared)"
   ]
  },
  {
   "cell_type": "code",
   "execution_count": 25,
   "metadata": {},
   "outputs": [
    {
     "name": "stdout",
     "output_type": "stream",
     "text": [
      "R^2 for the model without bathrooms:  0.4526541100492206\n"
     ]
    }
   ],
   "source": [
    "results = smf.ols('price ~ accommodates+beds+property_type+room_type+property_type*accommodates', data = df).fit()\n",
    "print('R^2 for the model without bathrooms: ', results.rsquared)"
   ]
  },
  {
   "cell_type": "code",
   "execution_count": 26,
   "metadata": {},
   "outputs": [
    {
     "name": "stdout",
     "output_type": "stream",
     "text": [
      "R^2 for the model without accomodates:  0.47797023894981516\n"
     ]
    }
   ],
   "source": [
    "results = smf.ols('price ~ beds+bathrooms+property_type+room_type+property_type*accommodates', data = df).fit()\n",
    "print('R^2 for the model without accomodates: ', results.rsquared)"
   ]
  },
  {
   "cell_type": "markdown",
   "metadata": {},
   "source": [
    "In particular we should delete accomodates because the r squared value without accomodates is higher. \n",
    "\n",
    "However, since we know that we should keep accomodates, then we should delete beds"
   ]
  },
  {
   "cell_type": "markdown",
   "metadata": {},
   "source": [
    "### 6.3. Response Variable Transformation and Variable Deletion\n",
    "\n",
    "In attempt to have our conditions for inference met, let's build a new linear regression model predicts the **ln(price)** of a Seattle Airbnb listing using the following explanatory variables.\n",
    "* accommodates,\n",
    "* bathrooms,\n",
    "* property_type,\n",
    "* room_type, and\n",
    "* an interaction term between property type and accommodates.\n",
    "\n",
    "*Note that we are no longer considering the beds variable as an explanatory variable in our model.*\n",
    "\n",
    "#### 6.3.1. Model Fitting\n",
    "Fit this model below and display the summary output table for the fitted model."
   ]
  },
  {
   "cell_type": "code",
   "execution_count": 40,
   "metadata": {},
   "outputs": [],
   "source": [
    "results1 = smf.ols('np.log(price) ~ accommodates+bathrooms+property_type+room_type+property_type*accommodates', data = df).fit()"
   ]
  },
  {
   "cell_type": "code",
   "execution_count": 41,
   "metadata": {},
   "outputs": [
    {
     "data": {
      "text/html": [
       "<table class=\"simpletable\">\n",
       "<caption>OLS Regression Results</caption>\n",
       "<tr>\n",
       "  <th>Dep. Variable:</th>      <td>np.log(price)</td>  <th>  R-squared:         </th> <td>   0.658</td>\n",
       "</tr>\n",
       "<tr>\n",
       "  <th>Model:</th>                   <td>OLS</td>       <th>  Adj. R-squared:    </th> <td>   0.652</td>\n",
       "</tr>\n",
       "<tr>\n",
       "  <th>Method:</th>             <td>Least Squares</td>  <th>  F-statistic:       </th> <td>   106.6</td>\n",
       "</tr>\n",
       "<tr>\n",
       "  <th>Date:</th>             <td>Wed, 13 Apr 2022</td> <th>  Prob (F-statistic):</th> <td>2.33e-74</td>\n",
       "</tr>\n",
       "<tr>\n",
       "  <th>Time:</th>                 <td>15:55:15</td>     <th>  Log-Likelihood:    </th> <td> -86.270</td>\n",
       "</tr>\n",
       "<tr>\n",
       "  <th>No. Observations:</th>      <td>   339</td>      <th>  AIC:               </th> <td>   186.5</td>\n",
       "</tr>\n",
       "<tr>\n",
       "  <th>Df Residuals:</th>          <td>   332</td>      <th>  BIC:               </th> <td>   213.3</td>\n",
       "</tr>\n",
       "<tr>\n",
       "  <th>Df Model:</th>              <td>     6</td>      <th>                     </th>     <td> </td>   \n",
       "</tr>\n",
       "<tr>\n",
       "  <th>Covariance Type:</th>      <td>nonrobust</td>    <th>                     </th>     <td> </td>   \n",
       "</tr>\n",
       "</table>\n",
       "<table class=\"simpletable\">\n",
       "<tr>\n",
       "                   <td></td>                      <th>coef</th>     <th>std err</th>      <th>t</th>      <th>P>|t|</th>  <th>[0.025</th>    <th>0.975]</th>  \n",
       "</tr>\n",
       "<tr>\n",
       "  <th>Intercept</th>                           <td>    4.3052</td> <td>    0.064</td> <td>   66.815</td> <td> 0.000</td> <td>    4.178</td> <td>    4.432</td>\n",
       "</tr>\n",
       "<tr>\n",
       "  <th>property_type[T.House]</th>              <td>    0.1089</td> <td>    0.083</td> <td>    1.313</td> <td> 0.190</td> <td>   -0.054</td> <td>    0.272</td>\n",
       "</tr>\n",
       "<tr>\n",
       "  <th>room_type[T.Private room]</th>           <td>   -0.5500</td> <td>    0.060</td> <td>   -9.229</td> <td> 0.000</td> <td>   -0.667</td> <td>   -0.433</td>\n",
       "</tr>\n",
       "<tr>\n",
       "  <th>room_type[T.Shared room]</th>            <td>   -0.7874</td> <td>    0.082</td> <td>   -9.610</td> <td> 0.000</td> <td>   -0.949</td> <td>   -0.626</td>\n",
       "</tr>\n",
       "<tr>\n",
       "  <th>accommodates</th>                        <td>    0.0880</td> <td>    0.016</td> <td>    5.492</td> <td> 0.000</td> <td>    0.056</td> <td>    0.119</td>\n",
       "</tr>\n",
       "<tr>\n",
       "  <th>property_type[T.House]:accommodates</th> <td>   -0.0047</td> <td>    0.019</td> <td>   -0.242</td> <td> 0.809</td> <td>   -0.043</td> <td>    0.034</td>\n",
       "</tr>\n",
       "<tr>\n",
       "  <th>bathrooms</th>                           <td>    0.1964</td> <td>    0.042</td> <td>    4.720</td> <td> 0.000</td> <td>    0.115</td> <td>    0.278</td>\n",
       "</tr>\n",
       "</table>\n",
       "<table class=\"simpletable\">\n",
       "<tr>\n",
       "  <th>Omnibus:</th>       <td>75.830</td> <th>  Durbin-Watson:     </th> <td>   1.845</td>\n",
       "</tr>\n",
       "<tr>\n",
       "  <th>Prob(Omnibus):</th> <td> 0.000</td> <th>  Jarque-Bera (JB):  </th> <td> 348.916</td>\n",
       "</tr>\n",
       "<tr>\n",
       "  <th>Skew:</th>          <td> 0.853</td> <th>  Prob(JB):          </th> <td>1.71e-76</td>\n",
       "</tr>\n",
       "<tr>\n",
       "  <th>Kurtosis:</th>      <td> 7.668</td> <th>  Cond. No.          </th> <td>    31.5</td>\n",
       "</tr>\n",
       "</table><br/><br/>Warnings:<br/>[1] Standard Errors assume that the covariance matrix of the errors is correctly specified."
      ],
      "text/plain": [
       "<class 'statsmodels.iolib.summary.Summary'>\n",
       "\"\"\"\n",
       "                            OLS Regression Results                            \n",
       "==============================================================================\n",
       "Dep. Variable:          np.log(price)   R-squared:                       0.658\n",
       "Model:                            OLS   Adj. R-squared:                  0.652\n",
       "Method:                 Least Squares   F-statistic:                     106.6\n",
       "Date:                Wed, 13 Apr 2022   Prob (F-statistic):           2.33e-74\n",
       "Time:                        15:55:15   Log-Likelihood:                -86.270\n",
       "No. Observations:                 339   AIC:                             186.5\n",
       "Df Residuals:                     332   BIC:                             213.3\n",
       "Df Model:                           6                                         \n",
       "Covariance Type:            nonrobust                                         \n",
       "=======================================================================================================\n",
       "                                          coef    std err          t      P>|t|      [0.025      0.975]\n",
       "-------------------------------------------------------------------------------------------------------\n",
       "Intercept                               4.3052      0.064     66.815      0.000       4.178       4.432\n",
       "property_type[T.House]                  0.1089      0.083      1.313      0.190      -0.054       0.272\n",
       "room_type[T.Private room]              -0.5500      0.060     -9.229      0.000      -0.667      -0.433\n",
       "room_type[T.Shared room]               -0.7874      0.082     -9.610      0.000      -0.949      -0.626\n",
       "accommodates                            0.0880      0.016      5.492      0.000       0.056       0.119\n",
       "property_type[T.House]:accommodates    -0.0047      0.019     -0.242      0.809      -0.043       0.034\n",
       "bathrooms                               0.1964      0.042      4.720      0.000       0.115       0.278\n",
       "==============================================================================\n",
       "Omnibus:                       75.830   Durbin-Watson:                   1.845\n",
       "Prob(Omnibus):                  0.000   Jarque-Bera (JB):              348.916\n",
       "Skew:                           0.853   Prob(JB):                     1.71e-76\n",
       "Kurtosis:                       7.668   Cond. No.                         31.5\n",
       "==============================================================================\n",
       "\n",
       "Warnings:\n",
       "[1] Standard Errors assume that the covariance matrix of the errors is correctly specified.\n",
       "\"\"\""
      ]
     },
     "execution_count": 41,
     "metadata": {},
     "output_type": "execute_result"
    }
   ],
   "source": [
    "results1.summary()"
   ]
  },
  {
   "cell_type": "markdown",
   "metadata": {},
   "source": [
    "#### 6.3.2. New Model Condition Checking\n",
    "Check the corresponding conditions for inference for this new model below. For any of the conditions that were not met with the previous model, are they closer to being met now?"
   ]
  },
  {
   "cell_type": "markdown",
   "metadata": {},
   "source": [
    "[MET] Condition 1: Linearity Condition First, we check the linearity condition by looking at the fitted values vs. residuals plot for our simple linear regression model. Fortunately, it looks like there are parts of this plot in which there are the same residual points that are negative as there are residual points that are postive. Thus, this indicates that this condition is met."
   ]
  },
  {
   "cell_type": "code",
   "execution_count": 42,
   "metadata": {},
   "outputs": [
    {
     "data": {
      "image/png": "[encoded data removed]",
      "text/plain": [
       "<Figure size 432x288 with 1 Axes>"
      ]
     },
     "metadata": {},
     "output_type": "display_data"
    }
   ],
   "source": [
    "import numpy as np\n",
    "plt.scatter(results1.fittedvalues, results1.resid) \n",
    "plt.hlines(y=0, xmin=np.min(results1.fittedvalues), xmax=np.max(results1.fittedvalues)) \n",
    "plt.ylabel('Residual') \n",
    "plt.xlabel('Fitted Value') \n",
    "plt.show() "
   ]
  },
  {
   "cell_type": "markdown",
   "metadata": {},
   "source": [
    "[NOT MET] Condition 2: Constant Variance of Residuals Condition Next, we check the constant variance of residuals condition by also looking at the fitted values vs. residuals plot for our simple linear regression model. Unfortunately, it looks like the y-axis spread of the residual points changes as we move from left to right in this plot. Thus, this condition is not met."
   ]
  },
  {
   "cell_type": "code",
   "execution_count": 43,
   "metadata": {},
   "outputs": [
    {
     "data": {
      "image/png": "[encoded data removed]",
      "text/plain": [
       "<Figure size 432x288 with 1 Axes>"
      ]
     },
     "metadata": {},
     "output_type": "display_data"
    }
   ],
   "source": [
    "import numpy as np\n",
    "plt.scatter(results1.fittedvalues, results1.resid) \n",
    "plt.hlines(y=0, xmin=np.min(results1.fittedvalues), xmax=np.max(results1.fittedvalues)) \n",
    "plt.ylabel('Residual') \n",
    "plt.xlabel('Fitted Value') \n",
    "plt.show() "
   ]
  },
  {
   "cell_type": "markdown",
   "metadata": {},
   "source": [
    "[NOT MET] Condition 3: Residuals are Normally Distributed (with Mean of 0) Next, we check the condition in which the residuals are normal (with mean of 0) by looking at a histogram of the residuals for this model. Unfortunately, the distribution of residuals is right skewed. Thus, this distribution cannot be normal. Thus, this condition is also not met."
   ]
  },
  {
   "cell_type": "code",
   "execution_count": 44,
   "metadata": {},
   "outputs": [
    {
     "data": {
      "image/png": "[encoded data removed]",
      "text/plain": [
       "<Figure size 432x288 with 1 Axes>"
      ]
     },
     "metadata": {},
     "output_type": "display_data"
    }
   ],
   "source": [
    "plt.hist(results1.resid)\n",
    "plt.xlabel('Residuals')\n",
    "plt.show()"
   ]
  },
  {
   "cell_type": "markdown",
   "metadata": {},
   "source": [
    "[NOT VIOLATED IN THIS PARTICULAR WAY THAT WE HAVE CHECKED] Condition 4: Independence of Residuals At the very least, we verify that: the data is randomly sampled and the sample size n = 3398<10% of all airnb house prices Thus the condition for independence of residuals may not be violated in this particular way. However, it may still be the case that these residuals are not independent"
   ]
  },
  {
   "cell_type": "markdown",
   "metadata": {},
   "source": [
    "[MET] Condition 5: No Multi-Collinearity Condition When examining each of the relationships between each pair of numerical explanatory variables, we do not see any strong linear relationships. Thus there are no multicollinear explanatory variables. Thus this condition is met."
   ]
  },
  {
   "cell_type": "code",
   "execution_count": 45,
   "metadata": {},
   "outputs": [
    {
     "data": {
      "image/png": "[encoded data removed]",
      "text/plain": [
       "<Figure size 360x360 with 6 Axes>"
      ]
     },
     "metadata": {},
     "output_type": "display_data"
    }
   ],
   "source": [
    "sns.pairplot(df[['accommodates', 'bathrooms']]) \n",
    "plt.show() "
   ]
  },
  {
   "cell_type": "code",
   "execution_count": 46,
   "metadata": {},
   "outputs": [
    {
     "data": {
      "text/html": [
       "<div>\n",
       "<style scoped>\n",
       "    .dataframe tbody tr th:only-of-type {\n",
       "        vertical-align: middle;\n",
       "    }\n",
       "\n",
       "    .dataframe tbody tr th {\n",
       "        vertical-align: top;\n",
       "    }\n",
       "\n",
       "    .dataframe thead th {\n",
       "        text-align: right;\n",
       "    }\n",
       "</style>\n",
       "<table border=\"1\" class=\"dataframe\">\n",
       "  <thead>\n",
       "    <tr style=\"text-align: right;\">\n",
       "      <th></th>\n",
       "      <th>accommodates</th>\n",
       "      <th>bathrooms</th>\n",
       "    </tr>\n",
       "  </thead>\n",
       "  <tbody>\n",
       "    <tr>\n",
       "      <th>accommodates</th>\n",
       "      <td>1.000000</td>\n",
       "      <td>0.576515</td>\n",
       "    </tr>\n",
       "    <tr>\n",
       "      <th>bathrooms</th>\n",
       "      <td>0.576515</td>\n",
       "      <td>1.000000</td>\n",
       "    </tr>\n",
       "  </tbody>\n",
       "</table>\n",
       "</div>"
      ],
      "text/plain": [
       "              accommodates  bathrooms\n",
       "accommodates      1.000000   0.576515\n",
       "bathrooms         0.576515   1.000000"
      ]
     },
     "execution_count": 46,
     "metadata": {},
     "output_type": "execute_result"
    }
   ],
   "source": [
    "df[['accommodates', 'bathrooms']].corr()"
   ]
  },
  {
   "cell_type": "markdown",
   "metadata": {},
   "source": [
    "## 7. Transformed Model\n",
    "\n",
    "Let's use our model from #6.3 for further evaluation.\n",
    "\n",
    "\n",
    "### 7.1. Model Predictive Power\n",
    "\n",
    "Which model was able to explain more price variability: the original model from #5 or the transformed model from #6.3? Explain."
   ]
  },
  {
   "cell_type": "markdown",
   "metadata": {},
   "source": [
    "0.658 > 0.478, model in # 6.3 can explain more price variability because it has larger R-squared"
   ]
  },
  {
   "cell_type": "markdown",
   "metadata": {},
   "source": [
    "### 7.2. Model Equation\n",
    "\n",
    "Write out your fitted regression model from #6.3. Make sure to use the appropriate notation discussed in class."
   ]
  },
  {
   "cell_type": "code",
   "execution_count": 47,
   "metadata": {},
   "outputs": [
    {
     "data": {
      "text/html": [
       "<table class=\"simpletable\">\n",
       "<caption>OLS Regression Results</caption>\n",
       "<tr>\n",
       "  <th>Dep. Variable:</th>      <td>np.log(price)</td>  <th>  R-squared:         </th> <td>   0.658</td>\n",
       "</tr>\n",
       "<tr>\n",
       "  <th>Model:</th>                   <td>OLS</td>       <th>  Adj. R-squared:    </th> <td>   0.652</td>\n",
       "</tr>\n",
       "<tr>\n",
       "  <th>Method:</th>             <td>Least Squares</td>  <th>  F-statistic:       </th> <td>   106.6</td>\n",
       "</tr>\n",
       "<tr>\n",
       "  <th>Date:</th>             <td>Wed, 13 Apr 2022</td> <th>  Prob (F-statistic):</th> <td>2.33e-74</td>\n",
       "</tr>\n",
       "<tr>\n",
       "  <th>Time:</th>                 <td>15:55:30</td>     <th>  Log-Likelihood:    </th> <td> -86.270</td>\n",
       "</tr>\n",
       "<tr>\n",
       "  <th>No. Observations:</th>      <td>   339</td>      <th>  AIC:               </th> <td>   186.5</td>\n",
       "</tr>\n",
       "<tr>\n",
       "  <th>Df Residuals:</th>          <td>   332</td>      <th>  BIC:               </th> <td>   213.3</td>\n",
       "</tr>\n",
       "<tr>\n",
       "  <th>Df Model:</th>              <td>     6</td>      <th>                     </th>     <td> </td>   \n",
       "</tr>\n",
       "<tr>\n",
       "  <th>Covariance Type:</th>      <td>nonrobust</td>    <th>                     </th>     <td> </td>   \n",
       "</tr>\n",
       "</table>\n",
       "<table class=\"simpletable\">\n",
       "<tr>\n",
       "                   <td></td>                      <th>coef</th>     <th>std err</th>      <th>t</th>      <th>P>|t|</th>  <th>[0.025</th>    <th>0.975]</th>  \n",
       "</tr>\n",
       "<tr>\n",
       "  <th>Intercept</th>                           <td>    4.3052</td> <td>    0.064</td> <td>   66.815</td> <td> 0.000</td> <td>    4.178</td> <td>    4.432</td>\n",
       "</tr>\n",
       "<tr>\n",
       "  <th>property_type[T.House]</th>              <td>    0.1089</td> <td>    0.083</td> <td>    1.313</td> <td> 0.190</td> <td>   -0.054</td> <td>    0.272</td>\n",
       "</tr>\n",
       "<tr>\n",
       "  <th>room_type[T.Private room]</th>           <td>   -0.5500</td> <td>    0.060</td> <td>   -9.229</td> <td> 0.000</td> <td>   -0.667</td> <td>   -0.433</td>\n",
       "</tr>\n",
       "<tr>\n",
       "  <th>room_type[T.Shared room]</th>            <td>   -0.7874</td> <td>    0.082</td> <td>   -9.610</td> <td> 0.000</td> <td>   -0.949</td> <td>   -0.626</td>\n",
       "</tr>\n",
       "<tr>\n",
       "  <th>accommodates</th>                        <td>    0.0880</td> <td>    0.016</td> <td>    5.492</td> <td> 0.000</td> <td>    0.056</td> <td>    0.119</td>\n",
       "</tr>\n",
       "<tr>\n",
       "  <th>property_type[T.House]:accommodates</th> <td>   -0.0047</td> <td>    0.019</td> <td>   -0.242</td> <td> 0.809</td> <td>   -0.043</td> <td>    0.034</td>\n",
       "</tr>\n",
       "<tr>\n",
       "  <th>bathrooms</th>                           <td>    0.1964</td> <td>    0.042</td> <td>    4.720</td> <td> 0.000</td> <td>    0.115</td> <td>    0.278</td>\n",
       "</tr>\n",
       "</table>\n",
       "<table class=\"simpletable\">\n",
       "<tr>\n",
       "  <th>Omnibus:</th>       <td>75.830</td> <th>  Durbin-Watson:     </th> <td>   1.845</td>\n",
       "</tr>\n",
       "<tr>\n",
       "  <th>Prob(Omnibus):</th> <td> 0.000</td> <th>  Jarque-Bera (JB):  </th> <td> 348.916</td>\n",
       "</tr>\n",
       "<tr>\n",
       "  <th>Skew:</th>          <td> 0.853</td> <th>  Prob(JB):          </th> <td>1.71e-76</td>\n",
       "</tr>\n",
       "<tr>\n",
       "  <th>Kurtosis:</th>      <td> 7.668</td> <th>  Cond. No.          </th> <td>    31.5</td>\n",
       "</tr>\n",
       "</table><br/><br/>Warnings:<br/>[1] Standard Errors assume that the covariance matrix of the errors is correctly specified."
      ],
      "text/plain": [
       "<class 'statsmodels.iolib.summary.Summary'>\n",
       "\"\"\"\n",
       "                            OLS Regression Results                            \n",
       "==============================================================================\n",
       "Dep. Variable:          np.log(price)   R-squared:                       0.658\n",
       "Model:                            OLS   Adj. R-squared:                  0.652\n",
       "Method:                 Least Squares   F-statistic:                     106.6\n",
       "Date:                Wed, 13 Apr 2022   Prob (F-statistic):           2.33e-74\n",
       "Time:                        15:55:30   Log-Likelihood:                -86.270\n",
       "No. Observations:                 339   AIC:                             186.5\n",
       "Df Residuals:                     332   BIC:                             213.3\n",
       "Df Model:                           6                                         \n",
       "Covariance Type:            nonrobust                                         \n",
       "=======================================================================================================\n",
       "                                          coef    std err          t      P>|t|      [0.025      0.975]\n",
       "-------------------------------------------------------------------------------------------------------\n",
       "Intercept                               4.3052      0.064     66.815      0.000       4.178       4.432\n",
       "property_type[T.House]                  0.1089      0.083      1.313      0.190      -0.054       0.272\n",
       "room_type[T.Private room]              -0.5500      0.060     -9.229      0.000      -0.667      -0.433\n",
       "room_type[T.Shared room]               -0.7874      0.082     -9.610      0.000      -0.949      -0.626\n",
       "accommodates                            0.0880      0.016      5.492      0.000       0.056       0.119\n",
       "property_type[T.House]:accommodates    -0.0047      0.019     -0.242      0.809      -0.043       0.034\n",
       "bathrooms                               0.1964      0.042      4.720      0.000       0.115       0.278\n",
       "==============================================================================\n",
       "Omnibus:                       75.830   Durbin-Watson:                   1.845\n",
       "Prob(Omnibus):                  0.000   Jarque-Bera (JB):              348.916\n",
       "Skew:                           0.853   Prob(JB):                     1.71e-76\n",
       "Kurtosis:                       7.668   Cond. No.                         31.5\n",
       "==============================================================================\n",
       "\n",
       "Warnings:\n",
       "[1] Standard Errors assume that the covariance matrix of the errors is correctly specified.\n",
       "\"\"\""
      ]
     },
     "execution_count": 47,
     "metadata": {},
     "output_type": "execute_result"
    }
   ],
   "source": [
    "results1.summary()"
   ]
  },
  {
   "cell_type": "markdown",
   "metadata": {},
   "source": [
    "ln(price) = 4.3052 + 0.1089 * property_type[T.House] - 0.55 * room_type[T.Private room] - 0.7874 * room_type[T.Shared room] + 0.088 * accommodates - 0.0047 * property_type[T.House] * accommodates + 0.1964 * bathrooms"
   ]
  },
  {
   "cell_type": "markdown",
   "metadata": {},
   "source": [
    "### 7.3. Prediction\n",
    "\n",
    "Predict the **price** of a Seattle Airbnb listing that is an house, where the tenant had the whole house to themselves, the listing accommodates 4 people, and has 1 bathroom."
   ]
  },
  {
   "cell_type": "code",
   "execution_count": 55,
   "metadata": {},
   "outputs": [],
   "source": [
    "predict = 4.3052 + 0.1089 + 0.088*4 + 0.0047 * 1 * 4 + 0.1964"
   ]
  },
  {
   "cell_type": "code",
   "execution_count": 56,
   "metadata": {},
   "outputs": [
    {
     "data": {
      "text/plain": [
       "145.66362132889736"
      ]
     },
     "execution_count": 56,
     "metadata": {},
     "output_type": "execute_result"
    }
   ],
   "source": [
    "np.exp(predict)"
   ]
  },
  {
   "cell_type": "markdown",
   "metadata": {},
   "source": [
    "### 7.4. Intercept and Slope Interpretation\n",
    "\n",
    "#### 7.4.1. Intercept\n",
    "\n",
    "Put the intercept of the regression model from #6.3 into words. **Make sure to use non-causal langauge in your interpretation!**"
   ]
  },
  {
   "cell_type": "markdown",
   "metadata": {},
   "source": [
    "We would expect the average natural log of  price listing of airbnb house that is 'House' and 'Entire Home' with 0 accommodates and 0 bathrooms to be 4.3052"
   ]
  },
  {
   "cell_type": "markdown",
   "metadata": {},
   "source": [
    "#### 7.4.2. Slope\n",
    "\n",
    "Put the slope of the regression model from #6.3 that corresponds to bathrooms into words. **Make sure to use non-causal langauge in your interpretation!**"
   ]
  },
  {
   "cell_type": "markdown",
   "metadata": {},
   "source": [
    "*  All else held equal, we would expect the average natural log of listing price of House higher than that of Apartment\n",
    "* All else held equal, we would expect the average natural log of listing price of room with room_type 'Private room' to be 0.55 lower than that of a room with room_type 'Entire Home'\n",
    "* All else held equal, we would expect the average natural log of listing price of room with room_type 'Shared room' to be 0.7874 lower than that of a room with room_type 'Entire Home'\n",
    "* All else held equal, if we were to increase the accommodates by 1, we would expect that the average natural log of listing price to increase by 0.088\n",
    "* All else held equal, if we were to increase the bathrooms by 1, we would expect that the average natural log of listing price to increase by 0.1964\n"
   ]
  },
  {
   "cell_type": "markdown",
   "metadata": {},
   "source": [
    "## 8. Transformed Model Inference\n",
    "\n",
    "Finally, (also referring to the transformed model from #6.3), we would like to determine if we have sufficient evidence to suggest that at least one of the slopes in our corresponding population model is non-zero.\n",
    "\n",
    "### 8.1. Hypotheses\n",
    "\n",
    "First, set up the hypotheses for this hypothesis test. Make sure to define any parameters that you use in your hypotheses."
   ]
  },
  {
   "cell_type": "markdown",
   "metadata": {},
   "source": [
    "$H_{0} : \\beta_{1} =\\beta_{2} =\\beta_{3} =\\beta_{4} =\\beta_{5} =\\beta_{6} =0$\n",
    "\n",
    "$H_{A}$ : at least one $\\beta_{i}$ is nonzero"
   ]
  },
  {
   "cell_type": "markdown",
   "metadata": {},
   "source": [
    "### 8.2. Test Statistic and p-value\n",
    "\n",
    "Give the test statistic and p-value for this hypothesis test."
   ]
  },
  {
   "cell_type": "markdown",
   "metadata": {},
   "source": [
    "test_stat = 106.6\n",
    "\n",
    "p_value = 2.33e-74"
   ]
  },
  {
   "cell_type": "markdown",
   "metadata": {},
   "source": [
    "### 8.3. Calculate p-value by hand\n",
    "\n",
    "Next, using the test statistic from 8.2, calculate the p-value \"by hand\". You can use a scipy.stats function to help you calculate this p-value.\n",
    "\n",
    "*Note: Your p-value in 8.3 and 8.2 may be slightly different due to rounding*."
   ]
  },
  {
   "cell_type": "code",
   "execution_count": 52,
   "metadata": {},
   "outputs": [
    {
     "data": {
      "text/plain": [
       "1.1102230246251565e-16"
      ]
     },
     "execution_count": 52,
     "metadata": {},
     "output_type": "execute_result"
    }
   ],
   "source": [
    "from scipy.stats import f\n",
    "pvalue = 1 - f.cdf(106.6, dfn = 6, dfd = 339-1-6)\n",
    "pvalue"
   ]
  },
  {
   "cell_type": "markdown",
   "metadata": {},
   "source": [
    "### 8.4. Conclusion\n",
    "\n",
    "Finally, using a significance level of $\\alpha=0.05$, make a conclusion about your hypotheses from 8.1."
   ]
  },
  {
   "cell_type": "markdown",
   "metadata": {},
   "source": [
    "because p_value = 1.11022e-16 < $\\alpha$ = 0.05. We reject the null hypothesis. Thus there is sufficient evidence to suggest that at least one of the 6 population slopes is nonzero"
   ]
  },
  {
   "cell_type": "markdown",
   "metadata": {},
   "source": [
    "### 8.5. Why use this hypothesis test in 8.1?\n",
    "\n",
    "\n",
    "#### 8.5.1. Downside of conducting many individual hypothesis tests\n",
    "\n",
    "Suppose instead, we were to conduct 6 separate hypothesis tests for this model:\n",
    "\n",
    "1. $H_0: \\beta_1=0; H_A: \\beta_1\\neq 0$\n",
    "2. $H_0: \\beta_2=0; H_A: \\beta_2\\neq 0$\n",
    "3. $H_0: \\beta_3=0; H_A: \\beta_3\\neq 0$\n",
    "4. $H_0: \\beta_4=0; H_A: \\beta_4\\neq 0$\n",
    "5. $H_0: \\beta_5=0; H_A: \\beta_5\\neq 0$\n",
    "6. $H_0: \\beta_6=0; H_A: \\beta_6\\neq 0$\n",
    "\n",
    "For *each* of these hypothesis tests, suppose we use a significance level of $\\alpha=0.05$.\n",
    "\n",
    "What is the probability that all six of these hypothesis tests *did not* make a type 1 error? Assume that the decisions made in each of these tests are independent."
   ]
  },
  {
   "cell_type": "markdown",
   "metadata": {},
   "source": []
  },
  {
   "cell_type": "code",
   "execution_count": 57,
   "metadata": {},
   "outputs": [
    {
     "data": {
      "text/plain": [
       "0.7350918906249998"
      ]
     },
     "execution_count": 57,
     "metadata": {},
     "output_type": "execute_result"
    }
   ],
   "source": [
    "0.95**6"
   ]
  },
  {
   "cell_type": "markdown",
   "metadata": {},
   "source": [
    "#### 8.5.2. Just one test benefit\n",
    "\n",
    "What is the probability that we did not make a type 1 error in our hypothesis test from 8.4?"
   ]
  },
  {
   "cell_type": "code",
   "execution_count": 58,
   "metadata": {},
   "outputs": [
    {
     "data": {
      "text/plain": [
       "0.95"
      ]
     },
     "execution_count": 58,
     "metadata": {},
     "output_type": "execute_result"
    }
   ],
   "source": [
    "0.95"
   ]
  }
 ],
 "metadata": {
  "kernelspec": {
   "display_name": "Python 3",
   "language": "python",
   "name": "python3"
  },
  "language_info": {
   "codemirror_mode": {
    "name": "ipython",
    "version": 3
   },
   "file_extension": ".py",
   "mimetype": "text/x-python",
   "name": "python",
   "nbconvert_exporter": "python",
   "pygments_lexer": "ipython3",
   "version": "3.7.6"
  }
 },
 "nbformat": 4,
 "nbformat_minor": 2
}
