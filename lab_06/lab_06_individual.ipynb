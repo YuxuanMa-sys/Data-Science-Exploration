{
 "cells": [
  {
   "cell_type": "markdown",
   "metadata": {},
   "source": [
    "# STAT 207 Lab 6 - Individual Part - [25 total points] - Solutions"
   ]
  },
  {
   "cell_type": "markdown",
   "metadata": {},
   "source": [
    "Due: Wednesday, March 2, 11:59pm CST\n",
    "\n",
    "<p>&nbsp;</p>\n",
    "<table style=\"border: none;border-collapse: collapse;width:102pt;\">\n",
    "    <tbody>\n",
    "        <tr>\n",
    "            <td style=\"color:black;font-size:15px;font-weight:700;font-style:normal;text-decoration:none;font-family:Calibri, sans-serif;text-align:right;vertical-align:bottom;border:.5pt solid windowtext;height:14.25pt;width:51pt;\">Problem</td>\n",
    "            <td style=\"color:black;font-size:15px;font-weight:700;font-style:normal;text-decoration:none;font-family:Calibri, sans-serif;text-align:right;vertical-align:bottom;border:.5pt solid windowtext;border-left:none;width:51pt;\">Points</td>\n",
    "        </tr>\n",
    "        <tr>\n",
    "            <td style=\"color:black;font-size:15px;font-weight:400;font-style:normal;text-decoration:none;font-family:Calibri, sans-serif;text-align:right;vertical-align:bottom;border:.5pt solid windowtext;height:14.25pt;border-top:none;\">1.1</td>\n",
    "            <td style=\"color:black;font-size:15px;font-weight:400;font-style:normal;text-decoration:none;font-family:Calibri, sans-serif;text-align:right;vertical-align:bottom;border:.5pt solid windowtext;border-top:none;border-left:none;\">1</td>\n",
    "        </tr>\n",
    "        <tr>\n",
    "            <td style=\"color:black;font-size:15px;font-weight:400;font-style:normal;text-decoration:none;font-family:Calibri, sans-serif;text-align:right;vertical-align:bottom;border:.5pt solid windowtext;height:14.25pt;border-top:none;\">1.2</td>\n",
    "            <td style=\"color:black;font-size:15px;font-weight:400;font-style:normal;text-decoration:none;font-family:Calibri, sans-serif;text-align:right;vertical-align:bottom;border:.5pt solid windowtext;border-top:none;border-left:none;\">1</td>\n",
    "        </tr>\n",
    "        <tr>\n",
    "            <td style=\"color:black;font-size:15px;font-weight:400;font-style:normal;text-decoration:none;font-family:Calibri, sans-serif;text-align:right;vertical-align:bottom;border:.5pt solid windowtext;height:14.25pt;border-top:none;\">2.1</td>\n",
    "            <td style=\"color:black;font-size:15px;font-weight:400;font-style:normal;text-decoration:none;font-family:Calibri, sans-serif;text-align:right;vertical-align:bottom;border:.5pt solid windowtext;border-top:none;border-left:none;\">1</td>\n",
    "        </tr>\n",
    "        <tr>\n",
    "            <td style=\"color:black;font-size:15px;font-weight:400;font-style:normal;text-decoration:none;font-family:Calibri, sans-serif;text-align:right;vertical-align:bottom;border:.5pt solid windowtext;height:14.25pt;border-top:none;\">2.2</td>\n",
    "            <td style=\"color:black;font-size:15px;font-weight:400;font-style:normal;text-decoration:none;font-family:Calibri, sans-serif;text-align:right;vertical-align:bottom;border:.5pt solid windowtext;border-top:none;border-left:none;\">2</td>\n",
    "        </tr>\n",
    "        <tr>\n",
    "            <td style=\"color:black;font-size:15px;font-weight:400;font-style:normal;text-decoration:none;font-family:Calibri, sans-serif;text-align:right;vertical-align:bottom;border:.5pt solid windowtext;height:14.25pt;border-top:none;\">3.1.1</td>\n",
    "            <td style=\"color:black;font-size:15px;font-weight:400;font-style:normal;text-decoration:none;font-family:Calibri, sans-serif;text-align:right;vertical-align:bottom;border:.5pt solid windowtext;border-top:none;border-left:none;\">0.5</td>\n",
    "        </tr>\n",
    "        <tr>\n",
    "            <td style=\"color:black;font-size:15px;font-weight:400;font-style:normal;text-decoration:none;font-family:Calibri, sans-serif;text-align:right;vertical-align:bottom;border:.5pt solid windowtext;height:14.25pt;border-top:none;\">3.1.2</td>\n",
    "            <td style=\"color:black;font-size:15px;font-weight:400;font-style:normal;text-decoration:none;font-family:Calibri, sans-serif;text-align:right;vertical-align:bottom;border:.5pt solid windowtext;border-top:none;border-left:none;\">1</td>\n",
    "        </tr>\n",
    "        <tr>\n",
    "            <td style=\"color:black;font-size:15px;font-weight:400;font-style:normal;text-decoration:none;font-family:Calibri, sans-serif;text-align:right;vertical-align:bottom;border:.5pt solid windowtext;height:14.25pt;border-top:none;\">3.2.1</td>\n",
    "            <td style=\"color:black;font-size:15px;font-weight:400;font-style:normal;text-decoration:none;font-family:Calibri, sans-serif;text-align:right;vertical-align:bottom;border:.5pt solid windowtext;border-top:none;border-left:none;\">1</td>\n",
    "        </tr>\n",
    "        <tr>\n",
    "            <td style=\"color:black;font-size:15px;font-weight:400;font-style:normal;text-decoration:none;font-family:Calibri, sans-serif;text-align:right;vertical-align:bottom;border:.5pt solid windowtext;height:14.25pt;border-top:none;\">3.2.2</td>\n",
    "            <td style=\"color:black;font-size:15px;font-weight:400;font-style:normal;text-decoration:none;font-family:Calibri, sans-serif;text-align:right;vertical-align:bottom;border:.5pt solid windowtext;border-top:none;border-left:none;\">1</td>\n",
    "        </tr>\n",
    "        <tr>\n",
    "            <td style=\"color:black;font-size:15px;font-weight:400;font-style:normal;text-decoration:none;font-family:Calibri, sans-serif;text-align:right;vertical-align:bottom;border:.5pt solid windowtext;height:14.25pt;border-top:none;\">3.3.1</td>\n",
    "            <td style=\"color:black;font-size:15px;font-weight:400;font-style:normal;text-decoration:none;font-family:Calibri, sans-serif;text-align:right;vertical-align:bottom;border:.5pt solid windowtext;border-top:none;border-left:none;\">1</td>\n",
    "        </tr>\n",
    "        <tr>\n",
    "            <td style=\"color:black;font-size:15px;font-weight:400;font-style:normal;text-decoration:none;font-family:Calibri, sans-serif;text-align:right;vertical-align:bottom;border:.5pt solid windowtext;height:14.25pt;border-top:none;\">3.3.2</td>\n",
    "            <td style=\"color:black;font-size:15px;font-weight:400;font-style:normal;text-decoration:none;font-family:Calibri, sans-serif;text-align:right;vertical-align:bottom;border:.5pt solid windowtext;border-top:none;border-left:none;\">1</td>\n",
    "        </tr>\n",
    "        <tr>\n",
    "            <td style=\"color:black;font-size:15px;font-weight:400;font-style:normal;text-decoration:none;font-family:Calibri, sans-serif;text-align:right;vertical-align:bottom;border:.5pt solid windowtext;height:14.25pt;border-top:none;\">3.3.3</td>\n",
    "            <td style=\"color:black;font-size:15px;font-weight:400;font-style:normal;text-decoration:none;font-family:Calibri, sans-serif;text-align:right;vertical-align:bottom;border:.5pt solid windowtext;border-top:none;border-left:none;\">1</td>\n",
    "        </tr>\n",
    "        <tr>\n",
    "            <td style=\"color:black;font-size:15px;font-weight:400;font-style:normal;text-decoration:none;font-family:Calibri, sans-serif;text-align:right;vertical-align:bottom;border:.5pt solid windowtext;height:14.25pt;border-top:none;\">3.4.1.</td>\n",
    "            <td style=\"color:black;font-size:15px;font-weight:400;font-style:normal;text-decoration:none;font-family:Calibri, sans-serif;text-align:right;vertical-align:bottom;border:.5pt solid windowtext;border-top:none;border-left:none;\">1.5</td>\n",
    "        </tr>\n",
    "        <tr>\n",
    "            <td style=\"color:black;font-size:15px;font-weight:400;font-style:normal;text-decoration:none;font-family:Calibri, sans-serif;text-align:right;vertical-align:bottom;border:.5pt solid windowtext;height:14.25pt;border-top:none;\">3.4.2</td>\n",
    "            <td style=\"color:black;font-size:15px;font-weight:400;font-style:normal;text-decoration:none;font-family:Calibri, sans-serif;text-align:right;vertical-align:bottom;border:.5pt solid windowtext;border-top:none;border-left:none;\">1.5</td>\n",
    "        </tr>\n",
    "        <tr>\n",
    "            <td style=\"color:black;font-size:15px;font-weight:400;font-style:normal;text-decoration:none;font-family:Calibri, sans-serif;text-align:right;vertical-align:bottom;border:.5pt solid windowtext;height:14.25pt;border-top:none;\">3.4.3</td>\n",
    "            <td style=\"color:black;font-size:15px;font-weight:400;font-style:normal;text-decoration:none;font-family:Calibri, sans-serif;text-align:right;vertical-align:bottom;border:.5pt solid windowtext;border-top:none;border-left:none;\">2</td>\n",
    "        </tr>\n",
    "        <tr>\n",
    "            <td style=\"color:black;font-size:15px;font-weight:400;font-style:normal;text-decoration:none;font-family:Calibri, sans-serif;text-align:right;vertical-align:bottom;border:.5pt solid windowtext;height:14.25pt;border-top:none;\">3.4.4</td>\n",
    "            <td style=\"color:black;font-size:15px;font-weight:400;font-style:normal;text-decoration:none;font-family:Calibri, sans-serif;text-align:right;vertical-align:bottom;border:.5pt solid windowtext;border-top:none;border-left:none;\">1.5</td>\n",
    "        </tr>\n",
    "        <tr>\n",
    "            <td style=\"color:black;font-size:15px;font-weight:400;font-style:normal;text-decoration:none;font-family:Calibri, sans-serif;text-align:right;vertical-align:bottom;border:.5pt solid windowtext;height:14.25pt;border-top:none;\">3.4.5</td>\n",
    "            <td style=\"color:black;font-size:15px;font-weight:400;font-style:normal;text-decoration:none;font-family:Calibri, sans-serif;text-align:right;vertical-align:bottom;border:.5pt solid windowtext;border-top:none;border-left:none;\">1</td>\n",
    "        </tr>\n",
    "        <tr>\n",
    "            <td style=\"color:black;font-size:15px;font-weight:400;font-style:normal;text-decoration:none;font-family:Calibri, sans-serif;text-align:right;vertical-align:bottom;border:.5pt solid windowtext;height:14.25pt;border-top:none;\">3.4.6</td>\n",
    "            <td style=\"color:black;font-size:15px;font-weight:400;font-style:normal;text-decoration:none;font-family:Calibri, sans-serif;text-align:right;vertical-align:bottom;border:.5pt solid windowtext;border-top:none;border-left:none;\">1.5</td>\n",
    "        </tr>\n",
    "        <tr>\n",
    "            <td style=\"color:black;font-size:15px;font-weight:400;font-style:normal;text-decoration:none;font-family:Calibri, sans-serif;text-align:right;vertical-align:bottom;border:.5pt solid windowtext;height:14.25pt;border-top:none;\">3.5.1</td>\n",
    "            <td style=\"color:black;font-size:15px;font-weight:400;font-style:normal;text-decoration:none;font-family:Calibri, sans-serif;text-align:right;vertical-align:bottom;border:.5pt solid windowtext;border-top:none;border-left:none;\">1.5</td>\n",
    "        </tr>\n",
    "        <tr>\n",
    "            <td style=\"color:black;font-size:15px;font-weight:400;font-style:normal;text-decoration:none;font-family:Calibri, sans-serif;text-align:right;vertical-align:bottom;border:.5pt solid windowtext;height:14.25pt;border-top:none;\">3.5.2</td>\n",
    "            <td style=\"color:black;font-size:15px;font-weight:400;font-style:normal;text-decoration:none;font-family:Calibri, sans-serif;text-align:right;vertical-align:bottom;border:.5pt solid windowtext;border-top:none;border-left:none;\">1</td>\n",
    "        </tr>\n",
    "        <tr>\n",
    "            <td style=\"color:black;font-size:15px;font-weight:400;font-style:normal;text-decoration:none;font-family:Calibri, sans-serif;text-align:right;vertical-align:bottom;border:.5pt solid windowtext;height:14.25pt;border-top:none;\">3.5.3</td>\n",
    "            <td style=\"color:black;font-size:15px;font-weight:400;font-style:normal;text-decoration:none;font-family:Calibri, sans-serif;text-align:right;vertical-align:bottom;border:.5pt solid windowtext;border-top:none;border-left:none;\">0.5</td>\n",
    "        </tr>\n",
    "        <tr>\n",
    "            <td style=\"color:black;font-size:15px;font-weight:400;font-style:normal;text-decoration:none;font-family:Calibri, sans-serif;text-align:right;vertical-align:bottom;border:.5pt solid windowtext;height:14.25pt;border-top:none;\">3.5.4</td>\n",
    "            <td style=\"color:black;font-size:15px;font-weight:400;font-style:normal;text-decoration:none;font-family:Calibri, sans-serif;text-align:right;vertical-align:bottom;border:.5pt solid windowtext;border-top:none;border-left:none;\">1</td>\n",
    "        </tr>\n",
    "        <tr>\n",
    "            <td style=\"color:black;font-size:15px;font-weight:400;font-style:normal;text-decoration:none;font-family:Calibri, sans-serif;text-align:right;vertical-align:bottom;border:.5pt solid windowtext;height:14.25pt;border-top:none;\">3.5.5</td>\n",
    "            <td style=\"color:black;font-size:15px;font-weight:400;font-style:normal;text-decoration:none;font-family:Calibri, sans-serif;text-align:right;vertical-align:bottom;border:.5pt solid windowtext;border-top:none;border-left:none;\">0.5</td>\n",
    "        </tr>\n",
    "    </tbody>\n",
    "</table>"
   ]
  },
  {
   "cell_type": "markdown",
   "metadata": {},
   "source": [
    "### Imports"
   ]
  },
  {
   "cell_type": "code",
   "execution_count": 1,
   "metadata": {},
   "outputs": [],
   "source": [
    "import pandas as pd                    # imports pandas and calls the imported version 'pd'\n",
    "import matplotlib.pyplot as plt        # imports the package and calls it 'plt'\n",
    "import seaborn as sns # imports the seaborn package with the imported name 'sns'\n",
    "sns.set() \n",
    "import scipy"
   ]
  },
  {
   "cell_type": "markdown",
   "metadata": {},
   "source": [
    "## <u>Case Study 1</u>: SAT Score Scholarship Analysis\n",
    "\n",
    "Suppose the distribution of SAT scores for the seniors at a local high school (just math and verbal) has an average of 900, a standard deviation of 150, and follows a normal distribution. "
   ]
  },
  {
   "cell_type": "markdown",
   "metadata": {},
   "source": [
    "### 1.1  Probability Calculation\n",
    "What is the probability that randomly selected senior from the high school scored more than 1000?"
   ]
  },
  {
   "cell_type": "code",
   "execution_count": 2,
   "metadata": {},
   "outputs": [],
   "source": [
    "from scipy.stats import norm "
   ]
  },
  {
   "cell_type": "code",
   "execution_count": 3,
   "metadata": {},
   "outputs": [
    {
     "data": {
      "text/plain": [
       "0.2524925375469229"
      ]
     },
     "execution_count": 3,
     "metadata": {},
     "output_type": "execute_result"
    }
   ],
   "source": [
    "mean = 900\n",
    "std = 150\n",
    "1 - norm.cdf(1000, loc = mean, scale = std)"
   ]
  },
  {
   "cell_type": "markdown",
   "metadata": {},
   "source": [
    "### 1.2 Percentage Calculation\n",
    "What percent of seniors at the school made score between a 950 and 1050?"
   ]
  },
  {
   "cell_type": "code",
   "execution_count": 4,
   "metadata": {},
   "outputs": [
    {
     "data": {
      "text/plain": [
       "0.2107860862503066"
      ]
     },
     "execution_count": 4,
     "metadata": {},
     "output_type": "execute_result"
    }
   ],
   "source": [
    "norm.cdf(1050, loc = mean, scale = std) - norm.cdf(950, loc = mean, scale = std)"
   ]
  },
  {
   "cell_type": "markdown",
   "metadata": {},
   "source": [
    "## <u>Case Study 2</u>: Proving Properties of the Sample Mean Random Variable\n",
    "\n",
    "Let's revisit our distribution of SAT scores for the seniors at a local high school (just math and verbal) that had an average of 900, a standard deviation of 150, and followed a normal distribution from case study 1.\n",
    "\n",
    "Let's define **$X_1$=SAT score of a randomly selected high school senior**"
   ]
  },
  {
   "cell_type": "markdown",
   "metadata": {},
   "source": [
    "### 2.1  What is $E[X_1]$,  $V[X_1]$, and $SD[X_1]$? (looking for actual numbers)."
   ]
  },
  {
   "cell_type": "markdown",
   "metadata": {},
   "source": [
    "\n",
    "E = 900\n",
    "\n",
    "\n",
    "V = 150^2 = 22500\n",
    "\n",
    "\n",
    "SD = 150"
   ]
  },
  {
   "cell_type": "code",
   "execution_count": null,
   "metadata": {},
   "outputs": [],
   "source": []
  },
  {
   "cell_type": "markdown",
   "metadata": {},
   "source": [
    "### <u>Tutorial</u>: Functions of Random Variables\n",
    "\n",
    "Remember from Unit 7, that we can create new random variables by adding and multiplying random variables by other random variables or other numbers.\n",
    "\n",
    "For instance, if we have the two following random variables,\n",
    "\n",
    "**$X_1$=SAT score of a randomly selected high school senior**\n",
    "\n",
    "**$X_2$=SAT score of a randomly selected high school senior**\n",
    "\n",
    "then $\\bar{X}=\\frac{X_1+X_2}{2}$ is also a random variable."
   ]
  },
  {
   "cell_type": "markdown",
   "metadata": {},
   "source": [
    "### <u>Tutorial</u>: Properties of the $E[ ]$ function and the $V[]$ function.\n",
    "\n",
    "* Recall that if we are dealing with a random variable Y that is associated with an experiment, then \n",
    "    - if we were to repeat this experiment many, many times, calculate the value of Y for the outcome of each of these experiments, and then take the **average** of these Y values, we would expect this average to be very close to $E[Y]$.\n",
    "    - if we were to repeat this experiment many, many times, calculate the value of Y for the outcome of each of these experiments, and then take the **variance** of these Y values, we would expect this average to be very close to $V[Y]$.\n",
    "    \n",
    "\n",
    "We can think of these $E[ ]$ and $V[]$ as **functions** that also happen to have certain properties.\n",
    "\n",
    "\n",
    "#### <u>Property of the $E[ ]$ function</u>\n",
    "For instance, if X and Y are random variables and a and b are coefficients, then the following property holds:\n",
    "$$E[aX+bY] = a\\cdot E[X]+b\\cdot E[Y]$$.\n",
    "\n",
    "For instance:\n",
    "\n",
    "$E[7X_1+4X_2] = 7\\cdot E[X_1]+4\\cdot E[X_2]$."
   ]
  },
  {
   "cell_type": "markdown",
   "metadata": {},
   "source": [
    "### 2.2   Calculating $E[\\bar{X}]$.\n",
    "Let's define the following four random variables:\n",
    "\n",
    "* **$X_1$=SAT score of a randomly selected high school senior**\n",
    "\n",
    "* **$X_2$=SAT score of a randomly selected high school senior**\n",
    "\n",
    "* **$X_3$=SAT score of a randomly selected high school senior**\n",
    "\n",
    "* **$X_4$=SAT score of a randomly selected high school senior**.\n",
    "\n",
    "Specifically, we say that $X_i \\sim N(\\mu = 900, \\sigma=150)$ for i=1, i=2, i=3, and i=4.\n",
    "\n",
    "Finally, let's define one more random variable as:\n",
    "* **$\\bar{X}=\\frac{X_1+X_2+X_3+X_4}{4}$**\n",
    "\n",
    "\n",
    "#### Use the properties from the tutorials above to prove that $E[\\bar{X}]=\\mu$.\n",
    "\n",
    "This is a proof, so show your work! Also, I'm looking for an actual number in the end as well."
   ]
  },
  {
   "cell_type": "markdown",
   "metadata": {},
   "source": [
    "E[X_bar] = E[X1/4 + X2/4 + X3/4 + X4/4] = 1/4 * E[X1] + 1/4 * E[X2] + 1/4 * E[X3] + 1/4 * E[X4]\n",
    "\n",
    "E[X1] = E[X2] = E[X3] = E[X4] = E[X] = mu\n",
    "\n",
    "E[X_bar] = mu/4 + mu/4 + mu/4 + mu/4 = mu"
   ]
  },
  {
   "cell_type": "code",
   "execution_count": null,
   "metadata": {},
   "outputs": [],
   "source": []
  },
  {
   "cell_type": "markdown",
   "metadata": {},
   "source": [
    "## <u>Case Study 3</u>: U.S. County Sampling Distribution Analysis\n",
    "\n",
    "### 3.1. Data Processing and Cleaning\n",
    "\n",
    "#### 3.1.1. Read the county.csv into a dataframe and display the first five rows.\n",
    "\n",
    "\n",
    "This dataset has missing values! Specifically, the phrase 'data unavailable' represents missing values in this csv. Make sure you encode these values as NaN when you read the data in."
   ]
  },
  {
   "cell_type": "code",
   "execution_count": 5,
   "metadata": {},
   "outputs": [
    {
     "data": {
      "text/html": [
       "<div>\n",
       "<style scoped>\n",
       "    .dataframe tbody tr th:only-of-type {\n",
       "        vertical-align: middle;\n",
       "    }\n",
       "\n",
       "    .dataframe tbody tr th {\n",
       "        vertical-align: top;\n",
       "    }\n",
       "\n",
       "    .dataframe thead th {\n",
       "        text-align: right;\n",
       "    }\n",
       "</style>\n",
       "<table border=\"1\" class=\"dataframe\">\n",
       "  <thead>\n",
       "    <tr style=\"text-align: right;\">\n",
       "      <th></th>\n",
       "      <th>name</th>\n",
       "      <th>state</th>\n",
       "      <th>pop2000</th>\n",
       "      <th>pop2010</th>\n",
       "      <th>pop2017</th>\n",
       "      <th>pop_change</th>\n",
       "      <th>poverty</th>\n",
       "      <th>homeownership</th>\n",
       "      <th>multi_unit</th>\n",
       "      <th>unemployment_rate</th>\n",
       "      <th>metro</th>\n",
       "      <th>median_edu</th>\n",
       "      <th>per_capita_income</th>\n",
       "      <th>median_hh_income</th>\n",
       "      <th>smoking_ban</th>\n",
       "    </tr>\n",
       "  </thead>\n",
       "  <tbody>\n",
       "    <tr>\n",
       "      <th>0</th>\n",
       "      <td>Autauga County</td>\n",
       "      <td>Alabama</td>\n",
       "      <td>43671</td>\n",
       "      <td>54571</td>\n",
       "      <td>55504</td>\n",
       "      <td>1.48</td>\n",
       "      <td>13.7</td>\n",
       "      <td>77.5</td>\n",
       "      <td>7.2</td>\n",
       "      <td>3.86</td>\n",
       "      <td>yes</td>\n",
       "      <td>some_college</td>\n",
       "      <td>27841.7</td>\n",
       "      <td>55317</td>\n",
       "      <td>none</td>\n",
       "    </tr>\n",
       "    <tr>\n",
       "      <th>1</th>\n",
       "      <td>Baldwin County</td>\n",
       "      <td>Alabama</td>\n",
       "      <td>140415</td>\n",
       "      <td>182265</td>\n",
       "      <td>212628</td>\n",
       "      <td>9.19</td>\n",
       "      <td>11.8</td>\n",
       "      <td>76.7</td>\n",
       "      <td>22.6</td>\n",
       "      <td>3.99</td>\n",
       "      <td>yes</td>\n",
       "      <td>some_college</td>\n",
       "      <td>27779.85</td>\n",
       "      <td>52562</td>\n",
       "      <td>none</td>\n",
       "    </tr>\n",
       "    <tr>\n",
       "      <th>2</th>\n",
       "      <td>Barbour County</td>\n",
       "      <td>Alabama</td>\n",
       "      <td>29038</td>\n",
       "      <td>27457</td>\n",
       "      <td>25270</td>\n",
       "      <td>-6.22</td>\n",
       "      <td>27.2</td>\n",
       "      <td>68.0</td>\n",
       "      <td>11.1</td>\n",
       "      <td>5.9</td>\n",
       "      <td>no</td>\n",
       "      <td>hs_diploma</td>\n",
       "      <td>17891.73</td>\n",
       "      <td>33368</td>\n",
       "      <td>partial</td>\n",
       "    </tr>\n",
       "    <tr>\n",
       "      <th>3</th>\n",
       "      <td>Bibb County</td>\n",
       "      <td>Alabama</td>\n",
       "      <td>20826</td>\n",
       "      <td>22915</td>\n",
       "      <td>22668</td>\n",
       "      <td>0.73</td>\n",
       "      <td>15.2</td>\n",
       "      <td>82.9</td>\n",
       "      <td>6.6</td>\n",
       "      <td>4.39</td>\n",
       "      <td>yes</td>\n",
       "      <td>hs_diploma</td>\n",
       "      <td>20572.05</td>\n",
       "      <td>43404</td>\n",
       "      <td>none</td>\n",
       "    </tr>\n",
       "    <tr>\n",
       "      <th>4</th>\n",
       "      <td>Blount County</td>\n",
       "      <td>Alabama</td>\n",
       "      <td>51024</td>\n",
       "      <td>57322</td>\n",
       "      <td>58013</td>\n",
       "      <td>0.68</td>\n",
       "      <td>15.6</td>\n",
       "      <td>82.0</td>\n",
       "      <td>3.7</td>\n",
       "      <td>4.02</td>\n",
       "      <td>yes</td>\n",
       "      <td>hs_diploma</td>\n",
       "      <td>21367.39</td>\n",
       "      <td>47412</td>\n",
       "      <td>none</td>\n",
       "    </tr>\n",
       "  </tbody>\n",
       "</table>\n",
       "</div>"
      ],
      "text/plain": [
       "             name    state pop2000  pop2010 pop2017 pop_change poverty  \\\n",
       "0  Autauga County  Alabama   43671    54571   55504       1.48    13.7   \n",
       "1  Baldwin County  Alabama  140415   182265  212628       9.19    11.8   \n",
       "2  Barbour County  Alabama   29038    27457   25270      -6.22    27.2   \n",
       "3     Bibb County  Alabama   20826    22915   22668       0.73    15.2   \n",
       "4   Blount County  Alabama   51024    57322   58013       0.68    15.6   \n",
       "\n",
       "   homeownership  multi_unit unemployment_rate metro    median_edu  \\\n",
       "0           77.5         7.2              3.86   yes  some_college   \n",
       "1           76.7        22.6              3.99   yes  some_college   \n",
       "2           68.0        11.1               5.9    no    hs_diploma   \n",
       "3           82.9         6.6              4.39   yes    hs_diploma   \n",
       "4           82.0         3.7              4.02   yes    hs_diploma   \n",
       "\n",
       "  per_capita_income median_hh_income smoking_ban  \n",
       "0           27841.7            55317        none  \n",
       "1          27779.85            52562        none  \n",
       "2          17891.73            33368     partial  \n",
       "3          20572.05            43404        none  \n",
       "4          21367.39            47412        none  "
      ]
     },
     "execution_count": 5,
     "metadata": {},
     "output_type": "execute_result"
    }
   ],
   "source": [
    "county = pd.read_csv('county.csv')\n",
    "county.head(5)"
   ]
  },
  {
   "cell_type": "markdown",
   "metadata": {},
   "source": [
    "#### 3.1.2. Clean the dataframe.\n",
    "\n",
    "Create a pandas dataframe that is comprised of just the unemployment rate and the median_edu columns. THEN drop all rows in this dataframe that have missing values.\n"
   ]
  },
  {
   "cell_type": "code",
   "execution_count": 6,
   "metadata": {},
   "outputs": [
    {
     "data": {
      "text/html": [
       "<div>\n",
       "<style scoped>\n",
       "    .dataframe tbody tr th:only-of-type {\n",
       "        vertical-align: middle;\n",
       "    }\n",
       "\n",
       "    .dataframe tbody tr th {\n",
       "        vertical-align: top;\n",
       "    }\n",
       "\n",
       "    .dataframe thead th {\n",
       "        text-align: right;\n",
       "    }\n",
       "</style>\n",
       "<table border=\"1\" class=\"dataframe\">\n",
       "  <thead>\n",
       "    <tr style=\"text-align: right;\">\n",
       "      <th></th>\n",
       "      <th>unemployment_rate</th>\n",
       "      <th>median_edu</th>\n",
       "    </tr>\n",
       "  </thead>\n",
       "  <tbody>\n",
       "    <tr>\n",
       "      <th>0</th>\n",
       "      <td>3.86</td>\n",
       "      <td>some_college</td>\n",
       "    </tr>\n",
       "    <tr>\n",
       "      <th>1</th>\n",
       "      <td>3.99</td>\n",
       "      <td>some_college</td>\n",
       "    </tr>\n",
       "    <tr>\n",
       "      <th>2</th>\n",
       "      <td>5.9</td>\n",
       "      <td>hs_diploma</td>\n",
       "    </tr>\n",
       "    <tr>\n",
       "      <th>3</th>\n",
       "      <td>4.39</td>\n",
       "      <td>hs_diploma</td>\n",
       "    </tr>\n",
       "    <tr>\n",
       "      <th>4</th>\n",
       "      <td>4.02</td>\n",
       "      <td>hs_diploma</td>\n",
       "    </tr>\n",
       "    <tr>\n",
       "      <th>...</th>\n",
       "      <td>...</td>\n",
       "      <td>...</td>\n",
       "    </tr>\n",
       "    <tr>\n",
       "      <th>3137</th>\n",
       "      <td>4.55</td>\n",
       "      <td>some_college</td>\n",
       "    </tr>\n",
       "    <tr>\n",
       "      <th>3138</th>\n",
       "      <td>2.99</td>\n",
       "      <td>bachelors</td>\n",
       "    </tr>\n",
       "    <tr>\n",
       "      <th>3139</th>\n",
       "      <td>4.5</td>\n",
       "      <td>some_college</td>\n",
       "    </tr>\n",
       "    <tr>\n",
       "      <th>3140</th>\n",
       "      <td>4.08</td>\n",
       "      <td>some_college</td>\n",
       "    </tr>\n",
       "    <tr>\n",
       "      <th>3141</th>\n",
       "      <td>3.98</td>\n",
       "      <td>some_college</td>\n",
       "    </tr>\n",
       "  </tbody>\n",
       "</table>\n",
       "<p>3142 rows × 2 columns</p>\n",
       "</div>"
      ],
      "text/plain": [
       "     unemployment_rate    median_edu\n",
       "0                 3.86  some_college\n",
       "1                 3.99  some_college\n",
       "2                  5.9    hs_diploma\n",
       "3                 4.39    hs_diploma\n",
       "4                 4.02    hs_diploma\n",
       "...                ...           ...\n",
       "3137              4.55  some_college\n",
       "3138              2.99     bachelors\n",
       "3139               4.5  some_college\n",
       "3140              4.08  some_college\n",
       "3141              3.98  some_college\n",
       "\n",
       "[3142 rows x 2 columns]"
      ]
     },
     "execution_count": 6,
     "metadata": {},
     "output_type": "execute_result"
    }
   ],
   "source": [
    "df = pd.concat([county['unemployment_rate'], county['median_edu']], axis = 1)\n",
    "df\n"
   ]
  },
  {
   "cell_type": "code",
   "execution_count": 7,
   "metadata": {},
   "outputs": [
    {
     "data": {
      "text/plain": [
       "unemployment_rate    0\n",
       "median_edu           0\n",
       "dtype: int64"
      ]
     },
     "execution_count": 7,
     "metadata": {},
     "output_type": "execute_result"
    }
   ],
   "source": [
    "df.isna().sum()"
   ]
  },
  {
   "cell_type": "code",
   "execution_count": 8,
   "metadata": {},
   "outputs": [
    {
     "data": {
      "text/plain": [
       "array(['3.86', '3.99', '5.9', '4.39', '4.02', '4.93', '5.49', '4.08',\n",
       "       '4.05', '6.39', '8.48', '4.37', '4.46', '5.21', '6.14', '4.62',\n",
       "       '5.24', '4.47', '3.71', '4.43', '7.53', '4.49', '3.64', '5.03',\n",
       "       '4.57', '4.73', '4.23', '4.27', '7.66', '5.89', '4.87', '4.34',\n",
       "       '4.77', '4.24', '4.61', '4.88', '3.91', '3.98', '8', '5.78',\n",
       "       '3.85', '5.65', '4.79', '3.8', '5.18', '6.74', '4.3', '4.11',\n",
       "       '7.94', '5.29', '4.4', '3.97', '3.23', '6.54', '4.96', '4.16',\n",
       "       '4.14', '5.02', '6.84', '11.4', '5', '2.52', '3.63', '5.97',\n",
       "       '13.79', '6.34', '9.38', '9.29', '6.29', '9.09', '12.63', '4.75',\n",
       "       '8.49', '6.31', '5.1', '11.89', '8.66', '12.57', '7.44', '16.82',\n",
       "       '9.34', '11.42', '4.68', '10.56', '10.44', '7.96',\n",
       "       'data unavailable', '7.71', '9.36', '18.26', '10.42', '5.61',\n",
       "       '5.55', '6.06', '5.44', '5.11', '5.38', '4.17', '5.86', '7.57',\n",
       "       '4.48', '9.51', '4.5', '17.05', '3.26', '5.73', '2.9', '3.43',\n",
       "       '3.94', '3.29', '6.53', '4.55', '4.9', '5.05', '2.98', '3.54',\n",
       "       '4.29', '4.51', '4.8', '5.16', '3.32', '3.47', '4.21', '4.01',\n",
       "       '3.19', '3.65', '3.46', '3.69', '3.04', '4.22', '5.46', '5.85',\n",
       "       '5.08', '3.77', '4.84', '4.19', '3.83', '3.25', '2.8', '4.31',\n",
       "       '5.94', '4.26', '4.82', '3.58', '5.81', '4.06', '4.12', '3.38',\n",
       "       '4.15', '3', '3.41', '3.61', '4.92', '4.74', '5.42', '2.53',\n",
       "       '4.53', '4.85', '4', '6.13', '5.74', '14.34', '6.43', '4.36',\n",
       "       '8.47', '7.46', '19.07', '9.21', '8.87', '5.58', '4.69', '8.05',\n",
       "       '2.86', '9.3', '4.44', '7.18', '3.66', '3.5', '3.84', '4.64',\n",
       "       '5.82', '6.96', '2.68', '3.21', '5.67', '5.8', '7.24', '3.36',\n",
       "       '7.47', '8.6', '6.37', '6.03', '5.39', '5.01', '3.06', '2.78',\n",
       "       '1.64', '2.7', '2.43', '2.63', '2.33', '1.75', '2.61', '3.55',\n",
       "       '3.09', '3.03', '3.89', '2.75', '2.99', '2.39', '2.32', '2.44',\n",
       "       '3.27', '2.88', '2.03', '2.24', '2', '1.77', '1.8', '1.82', '2.16',\n",
       "       '2.45', '2.12', '2.35', '1.99', '3.3', '2.4', '1.66', '2.62',\n",
       "       '4.33', '2.38', '2.23', '2.85', '2.22', '1.86', '3.24', '1.93',\n",
       "       '2.67', '1.62', '4.97', '6.05', '3.7', '4.09', '3.87', '4.89',\n",
       "       '4.07', '4.28', '4.13', '4.65', '5.31', '5.54', '7.25', '5.13',\n",
       "       '5.62', '4.76', '4.98', '4.45', '4.32', '3.72', '3.88', '3.31',\n",
       "       '4.18', '5.33', '5.07', '3.59', '3.52', '5.53', '4.54', '3.96',\n",
       "       '7.86', '5.36', '6.94', '7.08', '5.23', '7.33', '3.74', '8.91',\n",
       "       '5.52', '5.17', '4.52', '4.2', '5.22', '5.63', '4.81', '6.3',\n",
       "       '6.12', '5.32', '6.7', '3.75', '4.83', '5.15', '4.58', '7.12',\n",
       "       '4.78', '7.07', '6.02', '6.83', '4.38', '5.92', '5.28', '4.7',\n",
       "       '6.24', '6.99', '6.08', '5.88', '6.36', '6.64', '6.21', '5.83',\n",
       "       '5.93', '4.99', '6.65', '5.95', '5.59', '6.56', '5.87', '6.15',\n",
       "       '6.82', '8.76', '7.83', '5.99', '6.51', '5.72', '7.6', '4.56',\n",
       "       '6.01', '7.59', '8.93', '5.47', '5.68', '2.81', '2.54', '5.66',\n",
       "       '3.01', '2.95', '2.66', '3.17', '2.47', '2.73', '6.88', '3.62',\n",
       "       '2.28', '3.92', '4.95', '2.5', '2.65', '1.89', '2.83', '2.84',\n",
       "       '3.39', '6.27', '2.89', '4.66', '3.81', '6.58', '3.48', '4.59',\n",
       "       '3.9', '5.43', '6.26', '4.42', '5.09', '7.63', '7.32', '4.72',\n",
       "       '4.41', '4.25', '5.14', '5.3', '5.96', '6.33', '5.77', '6.16',\n",
       "       '7.82', '6.04', '2.93', '6.07', '6.32', '2.72', '3.42', '3.82',\n",
       "       '3.78', '3.08', '2.79', '2.91', '2.59', '3.02', '3.44', '2.97',\n",
       "       '3.56', '3.73', '2.94', '2.55', '3.05', '4.86', '3.1', '3.93',\n",
       "       '4.35', '3.49', '3.57', '3.79', '3.22', '3.12', '5.4', '3.51',\n",
       "       '3.15', '3.76', '2.92', '4.03', '3.07', '2.31', '3.6', '3.13',\n",
       "       '4.1', '2.14', '3.34', '2.64', '2.69', '2.77', '3.2', '2.74',\n",
       "       '2.36', '3.14', '2.49', '3.67', '2.41', '5.51', '3.37', '1.76',\n",
       "       '3.28', '2.17', '2.1', '2.42', '2.48', '3.16', '2.02', '2.26',\n",
       "       '3.18', '2.87', '5.26', '4.04', '2.25', '2.76', '3.33', '2.27',\n",
       "       '2.58', '5.19', '7.64', '7.8', '7.85', '7.14', '8.52', '9.57',\n",
       "       '6.09', '5.27', '5.98', '10.19', '8.14', '7.19', '4.91', '7.62',\n",
       "       '5.06', '9.41', '7.15', '8.33', '8.17', '8.88', '8.35', '10.08',\n",
       "       '9.17', '7.54', '5.25', '15.71', '7.3', '8.72', '6.57', '7.26',\n",
       "       '5.35', '6.38', '8.08', '8.23', '7.89', '6.6', '5.79', '7.16',\n",
       "       '5.76', '9', '5.91', '7.38', '5.34', '7.05', '7.88', '6.1',\n",
       "       '11.13', '7.51', '7.27', '4.71', '8.11', '7.99', '6.11', '5.5',\n",
       "       '6.71', '8.4', '5.69', '6.46', '6.87', '4.63', '9.8', '5.71',\n",
       "       '3.68', '6.81', '8.5', '7.34', '8.42', '6.69', '8.24', '8.01',\n",
       "       '5.64', '6.59', '5.7', '10.25', '7.03', '6.44', '5.75', '6.67',\n",
       "       '6.52', '3.53', '5.37', '6.91', '10.24', '10.8', '5.41', '7.84',\n",
       "       '9.1', '7.48', '3.35', '9.5', '8.55', '6.23', '3.95', '8.68',\n",
       "       '3.4', '5.56', '7.01', '7.04', '4.94', '2.06', '3.11', '7.29',\n",
       "       '6.45', '9.79', '6.17', '6.75', '6.78', '7.06', '7.5', '4.6',\n",
       "       '9.54', '11.62', '5.84', '14.72', '7.92', '6.55', '7.36', '7.39',\n",
       "       '6.76', '6.25', '8.73', '7.69', '7.43', '6.28', '8.71', '6.72',\n",
       "       '5.2', '5.6', '13.43', '2.3', '7.56', '2.56', '6.95', '1.88',\n",
       "       '2.34', '2.57', '2.6', '3.45', '2.46', '1.95', '2.37', '2.82',\n",
       "       '2.18', '2.2', '9.15', '6.93', '6.42', '14.11', '8.69', '7.23',\n",
       "       '7.91', '8.64', '6.66', '6.2', '6.77', '5.04', '7.79', '4.67',\n",
       "       '8.53', '6.35', '5.12', '7.31', '1.73', '2.08', '1.9', '1.87',\n",
       "       '2.51', '10.16', '2.04', '7.17', '6.19', '6', '6.47', '8.15',\n",
       "       '6.85', '7.2', '7.1', '7.22', '6.63', '7.52', '5.48', '6.18',\n",
       "       '5.57', '6.86', '7.42', '7.37', '10.21', '2.96', '8.21', '1.97',\n",
       "       '7.09', '9.26', '7.87', '8.56', '7.45', '7.61', '11.67', '11.01',\n",
       "       '7.35', '11.11', '7.4', '6.8', '11.03', '10.45', '8.57', '6.61',\n",
       "       '8.65', '6.97', '8.54', '7.21', '5.45', '7'], dtype=object)"
      ]
     },
     "execution_count": 8,
     "metadata": {},
     "output_type": "execute_result"
    }
   ],
   "source": [
    "df['unemployment_rate'].unique()"
   ]
  },
  {
   "cell_type": "code",
   "execution_count": 9,
   "metadata": {},
   "outputs": [
    {
     "data": {
      "text/plain": [
       "array(['some_college', 'hs_diploma', 'data unavailable', 'bachelors',\n",
       "       'below_hs'], dtype=object)"
      ]
     },
     "execution_count": 9,
     "metadata": {},
     "output_type": "execute_result"
    }
   ],
   "source": [
    "df['median_edu'].unique()"
   ]
  },
  {
   "cell_type": "code",
   "execution_count": 10,
   "metadata": {},
   "outputs": [
    {
     "data": {
      "text/html": [
       "<div>\n",
       "<style scoped>\n",
       "    .dataframe tbody tr th:only-of-type {\n",
       "        vertical-align: middle;\n",
       "    }\n",
       "\n",
       "    .dataframe tbody tr th {\n",
       "        vertical-align: top;\n",
       "    }\n",
       "\n",
       "    .dataframe thead th {\n",
       "        text-align: right;\n",
       "    }\n",
       "</style>\n",
       "<table border=\"1\" class=\"dataframe\">\n",
       "  <thead>\n",
       "    <tr style=\"text-align: right;\">\n",
       "      <th></th>\n",
       "      <th>unemployment_rate</th>\n",
       "      <th>median_edu</th>\n",
       "    </tr>\n",
       "  </thead>\n",
       "  <tbody>\n",
       "    <tr>\n",
       "      <th>0</th>\n",
       "      <td>3.86</td>\n",
       "      <td>some_college</td>\n",
       "    </tr>\n",
       "    <tr>\n",
       "      <th>1</th>\n",
       "      <td>3.99</td>\n",
       "      <td>some_college</td>\n",
       "    </tr>\n",
       "    <tr>\n",
       "      <th>2</th>\n",
       "      <td>5.90</td>\n",
       "      <td>hs_diploma</td>\n",
       "    </tr>\n",
       "    <tr>\n",
       "      <th>3</th>\n",
       "      <td>4.39</td>\n",
       "      <td>hs_diploma</td>\n",
       "    </tr>\n",
       "    <tr>\n",
       "      <th>4</th>\n",
       "      <td>4.02</td>\n",
       "      <td>hs_diploma</td>\n",
       "    </tr>\n",
       "    <tr>\n",
       "      <th>...</th>\n",
       "      <td>...</td>\n",
       "      <td>...</td>\n",
       "    </tr>\n",
       "    <tr>\n",
       "      <th>3137</th>\n",
       "      <td>4.55</td>\n",
       "      <td>some_college</td>\n",
       "    </tr>\n",
       "    <tr>\n",
       "      <th>3138</th>\n",
       "      <td>2.99</td>\n",
       "      <td>bachelors</td>\n",
       "    </tr>\n",
       "    <tr>\n",
       "      <th>3139</th>\n",
       "      <td>4.50</td>\n",
       "      <td>some_college</td>\n",
       "    </tr>\n",
       "    <tr>\n",
       "      <th>3140</th>\n",
       "      <td>4.08</td>\n",
       "      <td>some_college</td>\n",
       "    </tr>\n",
       "    <tr>\n",
       "      <th>3141</th>\n",
       "      <td>3.98</td>\n",
       "      <td>some_college</td>\n",
       "    </tr>\n",
       "  </tbody>\n",
       "</table>\n",
       "<p>3142 rows × 2 columns</p>\n",
       "</div>"
      ],
      "text/plain": [
       "      unemployment_rate    median_edu\n",
       "0                  3.86  some_college\n",
       "1                  3.99  some_college\n",
       "2                  5.90    hs_diploma\n",
       "3                  4.39    hs_diploma\n",
       "4                  4.02    hs_diploma\n",
       "...                 ...           ...\n",
       "3137               4.55  some_college\n",
       "3138               2.99     bachelors\n",
       "3139               4.50  some_college\n",
       "3140               4.08  some_college\n",
       "3141               3.98  some_college\n",
       "\n",
       "[3142 rows x 2 columns]"
      ]
     },
     "execution_count": 10,
     "metadata": {},
     "output_type": "execute_result"
    }
   ],
   "source": [
    "missing_values = [\"data unavailable\"]\n",
    "county1 = pd.read_csv(\"county.csv\", na_values = missing_values)\n",
    "df1 = pd.concat([county1['unemployment_rate'], county1['median_edu']], axis = 1)\n",
    "df1"
   ]
  },
  {
   "cell_type": "code",
   "execution_count": 11,
   "metadata": {},
   "outputs": [
    {
     "data": {
      "text/plain": [
       "array([ 3.86,  3.99,  5.9 ,  4.39,  4.02,  4.93,  5.49,  4.08,  4.05,\n",
       "        6.39,  8.48,  4.37,  4.46,  5.21,  6.14,  4.62,  5.24,  4.47,\n",
       "        3.71,  4.43,  7.53,  4.49,  3.64,  5.03,  4.57,  4.73,  4.23,\n",
       "        4.27,  7.66,  5.89,  4.87,  4.34,  4.77,  4.24,  4.61,  4.88,\n",
       "        3.91,  3.98,  8.  ,  5.78,  3.85,  5.65,  4.79,  3.8 ,  5.18,\n",
       "        6.74,  4.3 ,  4.11,  7.94,  5.29,  4.4 ,  3.97,  3.23,  6.54,\n",
       "        4.96,  4.16,  4.14,  5.02,  6.84, 11.4 ,  5.  ,  2.52,  3.63,\n",
       "        5.97, 13.79,  6.34,  9.38,  9.29,  6.29,  9.09, 12.63,  4.75,\n",
       "        8.49,  6.31,  5.1 , 11.89,  8.66, 12.57,  7.44, 16.82,  9.34,\n",
       "       11.42,  4.68, 10.56, 10.44,  7.96,   nan,  7.71,  9.36, 18.26,\n",
       "       10.42,  5.61,  5.55,  6.06,  5.44,  5.11,  5.38,  4.17,  5.86,\n",
       "        7.57,  4.48,  9.51,  4.5 , 17.05,  3.26,  5.73,  2.9 ,  3.43,\n",
       "        3.94,  3.29,  6.53,  4.55,  4.9 ,  5.05,  2.98,  3.54,  4.29,\n",
       "        4.51,  4.8 ,  5.16,  3.32,  3.47,  4.21,  4.01,  3.19,  3.65,\n",
       "        3.46,  3.69,  3.04,  4.22,  5.46,  5.85,  5.08,  3.77,  4.84,\n",
       "        4.19,  3.83,  3.25,  2.8 ,  4.31,  5.94,  4.26,  4.82,  3.58,\n",
       "        5.81,  4.06,  4.12,  3.38,  4.15,  3.  ,  3.41,  3.61,  4.92,\n",
       "        4.74,  5.42,  2.53,  4.53,  4.85,  4.  ,  6.13,  5.74, 14.34,\n",
       "        6.43,  4.36,  8.47,  7.46, 19.07,  9.21,  8.87,  5.58,  4.69,\n",
       "        8.05,  2.86,  9.3 ,  4.44,  7.18,  3.66,  3.5 ,  3.84,  4.64,\n",
       "        5.82,  6.96,  2.68,  3.21,  5.67,  5.8 ,  7.24,  3.36,  7.47,\n",
       "        8.6 ,  6.37,  6.03,  5.39,  5.01,  3.06,  2.78,  1.64,  2.7 ,\n",
       "        2.43,  2.63,  2.33,  1.75,  2.61,  3.55,  3.09,  3.03,  3.89,\n",
       "        2.75,  2.99,  2.39,  2.32,  2.44,  3.27,  2.88,  2.03,  2.24,\n",
       "        2.  ,  1.77,  1.8 ,  1.82,  2.16,  2.45,  2.12,  2.35,  1.99,\n",
       "        3.3 ,  2.4 ,  1.66,  2.62,  4.33,  2.38,  2.23,  2.85,  2.22,\n",
       "        1.86,  3.24,  1.93,  2.67,  1.62,  4.97,  6.05,  3.7 ,  4.09,\n",
       "        3.87,  4.89,  4.07,  4.28,  4.13,  4.65,  5.31,  5.54,  7.25,\n",
       "        5.13,  5.62,  4.76,  4.98,  4.45,  4.32,  3.72,  3.88,  3.31,\n",
       "        4.18,  5.33,  5.07,  3.59,  3.52,  5.53,  4.54,  3.96,  7.86,\n",
       "        5.36,  6.94,  7.08,  5.23,  7.33,  3.74,  8.91,  5.52,  5.17,\n",
       "        4.52,  4.2 ,  5.22,  5.63,  4.81,  6.3 ,  6.12,  5.32,  6.7 ,\n",
       "        3.75,  4.83,  5.15,  4.58,  7.12,  4.78,  7.07,  6.02,  6.83,\n",
       "        4.38,  5.92,  5.28,  4.7 ,  6.24,  6.99,  6.08,  5.88,  6.36,\n",
       "        6.64,  6.21,  5.83,  5.93,  4.99,  6.65,  5.95,  5.59,  6.56,\n",
       "        5.87,  6.15,  6.82,  8.76,  7.83,  5.99,  6.51,  5.72,  7.6 ,\n",
       "        4.56,  6.01,  7.59,  8.93,  5.47,  5.68,  2.81,  2.54,  5.66,\n",
       "        3.01,  2.95,  2.66,  3.17,  2.47,  2.73,  6.88,  3.62,  2.28,\n",
       "        3.92,  4.95,  2.5 ,  2.65,  1.89,  2.83,  2.84,  3.39,  6.27,\n",
       "        2.89,  4.66,  3.81,  6.58,  3.48,  4.59,  3.9 ,  5.43,  6.26,\n",
       "        4.42,  5.09,  7.63,  7.32,  4.72,  4.41,  4.25,  5.14,  5.3 ,\n",
       "        5.96,  6.33,  5.77,  6.16,  7.82,  6.04,  2.93,  6.07,  6.32,\n",
       "        2.72,  3.42,  3.82,  3.78,  3.08,  2.79,  2.91,  2.59,  3.02,\n",
       "        3.44,  2.97,  3.56,  3.73,  2.94,  2.55,  3.05,  4.86,  3.1 ,\n",
       "        3.93,  4.35,  3.49,  3.57,  3.79,  3.22,  3.12,  5.4 ,  3.51,\n",
       "        3.15,  3.76,  2.92,  4.03,  3.07,  2.31,  3.6 ,  3.13,  4.1 ,\n",
       "        2.14,  3.34,  2.64,  2.69,  2.77,  3.2 ,  2.74,  2.36,  3.14,\n",
       "        2.49,  3.67,  2.41,  5.51,  3.37,  1.76,  3.28,  2.17,  2.1 ,\n",
       "        2.42,  2.48,  3.16,  2.02,  2.26,  3.18,  2.87,  5.26,  4.04,\n",
       "        2.25,  2.76,  3.33,  2.27,  2.58,  5.19,  7.64,  7.8 ,  7.85,\n",
       "        7.14,  8.52,  9.57,  6.09,  5.27,  5.98, 10.19,  8.14,  7.19,\n",
       "        4.91,  7.62,  5.06,  9.41,  7.15,  8.33,  8.17,  8.88,  8.35,\n",
       "       10.08,  9.17,  7.54,  5.25, 15.71,  7.3 ,  8.72,  6.57,  7.26,\n",
       "        5.35,  6.38,  8.08,  8.23,  7.89,  6.6 ,  5.79,  7.16,  5.76,\n",
       "        9.  ,  5.91,  7.38,  5.34,  7.05,  7.88,  6.1 , 11.13,  7.51,\n",
       "        7.27,  4.71,  8.11,  7.99,  6.11,  5.5 ,  6.71,  8.4 ,  5.69,\n",
       "        6.46,  6.87,  4.63,  9.8 ,  5.71,  3.68,  6.81,  8.5 ,  7.34,\n",
       "        8.42,  6.69,  8.24,  8.01,  5.64,  6.59,  5.7 , 10.25,  7.03,\n",
       "        6.44,  5.75,  6.67,  6.52,  3.53,  5.37,  6.91, 10.24, 10.8 ,\n",
       "        5.41,  7.84,  9.1 ,  7.48,  3.35,  9.5 ,  8.55,  6.23,  3.95,\n",
       "        8.68,  3.4 ,  5.56,  7.01,  7.04,  4.94,  2.06,  3.11,  7.29,\n",
       "        6.45,  9.79,  6.17,  6.75,  6.78,  7.06,  7.5 ,  4.6 ,  9.54,\n",
       "       11.62,  5.84, 14.72,  7.92,  6.55,  7.36,  7.39,  6.76,  6.25,\n",
       "        8.73,  7.69,  7.43,  6.28,  8.71,  6.72,  5.2 ,  5.6 , 13.43,\n",
       "        2.3 ,  7.56,  2.56,  6.95,  1.88,  2.34,  2.57,  2.6 ,  3.45,\n",
       "        2.46,  1.95,  2.37,  2.82,  2.18,  2.2 ,  9.15,  6.93,  6.42,\n",
       "       14.11,  8.69,  7.23,  7.91,  8.64,  6.66,  6.2 ,  6.77,  5.04,\n",
       "        7.79,  4.67,  8.53,  6.35,  5.12,  7.31,  1.73,  2.08,  1.9 ,\n",
       "        1.87,  2.51, 10.16,  2.04,  7.17,  6.19,  6.  ,  6.47,  8.15,\n",
       "        6.85,  7.2 ,  7.1 ,  7.22,  6.63,  7.52,  5.48,  6.18,  5.57,\n",
       "        6.86,  7.42,  7.37, 10.21,  2.96,  8.21,  1.97,  7.09,  9.26,\n",
       "        7.87,  8.56,  7.45,  7.61, 11.67, 11.01,  7.35, 11.11,  7.4 ,\n",
       "        6.8 , 11.03, 10.45,  8.57,  6.61,  8.65,  6.97,  8.54,  7.21,\n",
       "        5.45,  7.  ])"
      ]
     },
     "execution_count": 11,
     "metadata": {},
     "output_type": "execute_result"
    }
   ],
   "source": [
    "df1['unemployment_rate'].unique()"
   ]
  },
  {
   "cell_type": "code",
   "execution_count": 12,
   "metadata": {},
   "outputs": [
    {
     "data": {
      "text/plain": [
       "array(['some_college', 'hs_diploma', nan, 'bachelors', 'below_hs'],\n",
       "      dtype=object)"
      ]
     },
     "execution_count": 12,
     "metadata": {},
     "output_type": "execute_result"
    }
   ],
   "source": [
    "df1['median_edu'].unique()"
   ]
  },
  {
   "cell_type": "code",
   "execution_count": 13,
   "metadata": {},
   "outputs": [],
   "source": [
    "df1 = df1.dropna()"
   ]
  },
  {
   "cell_type": "code",
   "execution_count": 14,
   "metadata": {},
   "outputs": [
    {
     "data": {
      "text/plain": [
       "unemployment_rate    float64\n",
       "median_edu            object\n",
       "dtype: object"
      ]
     },
     "execution_count": 14,
     "metadata": {},
     "output_type": "execute_result"
    }
   ],
   "source": [
    "df1.dtypes"
   ]
  },
  {
   "cell_type": "markdown",
   "metadata": {},
   "source": [
    "### 3.2 *Population* of County Unemployment Rates\n",
    "\n",
    "Let's assume that thist cleaned dataframe represents a **population** of all U.S. counties.\n",
    "\n",
    "#### 3.2.1. Calculate the population mean and the population standard deviation unemployment rates."
   ]
  },
  {
   "cell_type": "code",
   "execution_count": 27,
   "metadata": {},
   "outputs": [
    {
     "data": {
      "text/plain": [
       "4.611443134756305"
      ]
     },
     "execution_count": 27,
     "metadata": {},
     "output_type": "execute_result"
    }
   ],
   "source": [
    "pop_mean = df1['unemployment_rate'].mean()\n",
    "pop_mean"
   ]
  },
  {
   "cell_type": "code",
   "execution_count": 43,
   "metadata": {},
   "outputs": [
    {
     "data": {
      "text/plain": [
       "1.6487610856225392"
      ]
     },
     "execution_count": 43,
     "metadata": {},
     "output_type": "execute_result"
    }
   ],
   "source": [
    "pop_std = df1['unemployment_rate'].std()\n",
    "pop_std"
   ]
  },
  {
   "cell_type": "markdown",
   "metadata": {},
   "source": [
    "#### 3.2.2.   Plot the population distribution of unemployment rates in a histogram.\n",
    "\n",
    "Make sure you label your x-axis and title appropriately."
   ]
  },
  {
   "cell_type": "code",
   "execution_count": 44,
   "metadata": {},
   "outputs": [
    {
     "data": {
      "text/plain": [
       "Text(0.5, 1.0, 'population unemployment rate distribution')"
      ]
     },
     "execution_count": 44,
     "metadata": {},
     "output_type": "execute_result"
    },
    {
     "data": {
      "image/png": "[encoded data removed]",
      "text/plain": [
       "<Figure size 432x288 with 1 Axes>"
      ]
     },
     "metadata": {},
     "output_type": "display_data"
    }
   ],
   "source": [
    "df1['unemployment_rate'].hist()\n",
    "plt.xlabel('unemployment rate')\n",
    "plt.ylabel('Frequency')\n",
    "plt.title('population unemployment rate distribution')"
   ]
  },
  {
   "cell_type": "markdown",
   "metadata": {},
   "source": [
    "### 3.3. *Random Sample* of County Unemployment Rates\n",
    "\n",
    "#### 3.3.1. Collect a random sample of size 50 from this population (using a random state of 101) WITHOUT replacement."
   ]
  },
  {
   "cell_type": "code",
   "execution_count": 45,
   "metadata": {},
   "outputs": [
    {
     "data": {
      "text/html": [
       "<div>\n",
       "<style scoped>\n",
       "    .dataframe tbody tr th:only-of-type {\n",
       "        vertical-align: middle;\n",
       "    }\n",
       "\n",
       "    .dataframe tbody tr th {\n",
       "        vertical-align: top;\n",
       "    }\n",
       "\n",
       "    .dataframe thead th {\n",
       "        text-align: right;\n",
       "    }\n",
       "</style>\n",
       "<table border=\"1\" class=\"dataframe\">\n",
       "  <thead>\n",
       "    <tr style=\"text-align: right;\">\n",
       "      <th></th>\n",
       "      <th>unemployment_rate</th>\n",
       "      <th>median_edu</th>\n",
       "    </tr>\n",
       "  </thead>\n",
       "  <tbody>\n",
       "    <tr>\n",
       "      <th>1294</th>\n",
       "      <td>7.15</td>\n",
       "      <td>some_college</td>\n",
       "    </tr>\n",
       "    <tr>\n",
       "      <th>960</th>\n",
       "      <td>3.33</td>\n",
       "      <td>some_college</td>\n",
       "    </tr>\n",
       "    <tr>\n",
       "      <th>105</th>\n",
       "      <td>7.57</td>\n",
       "      <td>some_college</td>\n",
       "    </tr>\n",
       "    <tr>\n",
       "      <th>692</th>\n",
       "      <td>4.73</td>\n",
       "      <td>some_college</td>\n",
       "    </tr>\n",
       "    <tr>\n",
       "      <th>502</th>\n",
       "      <td>5.28</td>\n",
       "      <td>hs_diploma</td>\n",
       "    </tr>\n",
       "  </tbody>\n",
       "</table>\n",
       "</div>"
      ],
      "text/plain": [
       "      unemployment_rate    median_edu\n",
       "1294               7.15  some_college\n",
       "960                3.33  some_college\n",
       "105                7.57  some_college\n",
       "692                4.73  some_college\n",
       "502                5.28    hs_diploma"
      ]
     },
     "execution_count": 45,
     "metadata": {},
     "output_type": "execute_result"
    }
   ],
   "source": [
    "sample = df1.sample(50, random_state = 101)\n",
    "sample.head()"
   ]
  },
  {
   "cell_type": "markdown",
   "metadata": {},
   "source": [
    "#### 3.3.2.   Calculate the mean and standard deviation of this sample."
   ]
  },
  {
   "cell_type": "code",
   "execution_count": 51,
   "metadata": {},
   "outputs": [
    {
     "data": {
      "text/plain": [
       "5.0280000000000005"
      ]
     },
     "execution_count": 51,
     "metadata": {},
     "output_type": "execute_result"
    }
   ],
   "source": [
    "sample_mean = sample['unemployment_rate'].mean()\n",
    "sample_mean"
   ]
  },
  {
   "cell_type": "code",
   "execution_count": 52,
   "metadata": {},
   "outputs": [
    {
     "data": {
      "text/plain": [
       "1.598841417261581"
      ]
     },
     "execution_count": 52,
     "metadata": {},
     "output_type": "execute_result"
    }
   ],
   "source": [
    "sample_std = sample['unemployment_rate'].std()\n",
    "sample_std"
   ]
  },
  {
   "cell_type": "markdown",
   "metadata": {},
   "source": [
    "#### 3.3.3.  Plot the sample distribution of unemployment rates in a histogram.\n",
    "\n",
    "Make sure that you label the x-axis and title appropriately."
   ]
  },
  {
   "cell_type": "code",
   "execution_count": 48,
   "metadata": {},
   "outputs": [
    {
     "data": {
      "text/plain": [
       "Text(0.5, 1.0, 'sample unemployment rate distribution')"
      ]
     },
     "execution_count": 48,
     "metadata": {},
     "output_type": "execute_result"
    },
    {
     "data": {
      "image/png": "[encoded data removed]",
      "text/plain": [
       "<Figure size 432x288 with 1 Axes>"
      ]
     },
     "metadata": {},
     "output_type": "display_data"
    }
   ],
   "source": [
    "sample['unemployment_rate'].hist()\n",
    "plt.xlabel('unemployment rate')\n",
    "plt.ylabel('frequency')\n",
    "plt.title('sample unemployment rate distribution')"
   ]
  },
  {
   "cell_type": "markdown",
   "metadata": {},
   "source": [
    "### 3.4 Sampling Distribution - *Theoretical*\n",
    "\n",
    "SUPPOSE we were to create a sampling distribution with many, many sample means unemployment rates, where each sample was of size 50 (drawn with replacement from the population of all county unemployment rates).\n",
    "\n",
    "#### 3.4.1.   What would we *expect* the mean of this *theoretical* sampling distribution to be?\n",
    "\n",
    "<u>Hint</u>: *In this part, we are not actually looking for you to calculate the mean of an **actual** sampling distribution (ie. one that you have created).*"
   ]
  },
  {
   "cell_type": "markdown",
   "metadata": {},
   "source": [
    "4.6114"
   ]
  },
  {
   "cell_type": "code",
   "execution_count": 49,
   "metadata": {},
   "outputs": [
    {
     "data": {
      "text/plain": [
       "4.611443134756305"
      ]
     },
     "execution_count": 49,
     "metadata": {},
     "output_type": "execute_result"
    }
   ],
   "source": [
    "samp_mean = pop_mean\n",
    "samp_mean"
   ]
  },
  {
   "cell_type": "markdown",
   "metadata": {},
   "source": [
    "#### 3.4.2  What would we *expect* the standard deviation of this *theoretical* sampling distribution to be?\n",
    "\n",
    "<u>Hint</u>: *In this part, we are not actually looking for you to calculate the standard deviation of an **actual** sampling distribution (ie. one that you have created).*"
   ]
  },
  {
   "cell_type": "markdown",
   "metadata": {},
   "source": []
  },
  {
   "cell_type": "code",
   "execution_count": 50,
   "metadata": {},
   "outputs": [
    {
     "data": {
      "text/plain": [
       "0.23317002884003826"
      ]
     },
     "execution_count": 50,
     "metadata": {},
     "output_type": "execute_result"
    }
   ],
   "source": [
    "import numpy as np\n",
    "samp_std = pop_std/np.sqrt(50)\n",
    "samp_std"
   ]
  },
  {
   "cell_type": "markdown",
   "metadata": {},
   "source": [
    "#### 3.4.3   Will this sampling distribution of sample means be approximately normal? Explain why."
   ]
  },
  {
   "cell_type": "markdown",
   "metadata": {},
   "source": [
    "yes. the sample is random, 30 < n < 10% of the population. "
   ]
  },
  {
   "cell_type": "markdown",
   "metadata": {},
   "source": [
    "#### 3.4.4   Calculate the probability that a randomly selected sample mean unemployment rate (from this sampling distribution) is greater than or equal to the sample mean that we calculated in (3.3.2). \n",
    "\n",
    "<u>Hint</u>: You should assume that the sampling distribution is normal (ie. $\\bar{X}\\sim N(\\mbox{mean of sampling distribution}, \\mbox{std of sampling distribution})$)."
   ]
  },
  {
   "cell_type": "code",
   "execution_count": 54,
   "metadata": {},
   "outputs": [
    {
     "data": {
      "text/plain": [
       "0.03700965123991118"
      ]
     },
     "execution_count": 54,
     "metadata": {},
     "output_type": "execute_result"
    }
   ],
   "source": [
    "from scipy.stats import norm\n",
    "1-norm.cdf(sample_mean, samp_mean, samp_std)"
   ]
  },
  {
   "cell_type": "markdown",
   "metadata": {},
   "source": [
    "#### 3.4.5  What is the value of a sample mean that is equally far away from the population mean (as the one from 3.3.2 is), but is less than the population mean)?"
   ]
  },
  {
   "cell_type": "code",
   "execution_count": 55,
   "metadata": {},
   "outputs": [
    {
     "data": {
      "text/plain": [
       "0.4165568652436953"
      ]
     },
     "execution_count": 55,
     "metadata": {},
     "output_type": "execute_result"
    }
   ],
   "source": [
    "sample_mean - samp_mean"
   ]
  },
  {
   "cell_type": "code",
   "execution_count": 58,
   "metadata": {},
   "outputs": [],
   "source": [
    "a = samp_mean - (sample_mean - samp_mean)"
   ]
  },
  {
   "cell_type": "markdown",
   "metadata": {},
   "source": [
    "#### 3.4.6. Calculate the probability that a randomly selected sample mean (from this sampling distribution) is less than or equal to the sample mean that we calculated in (3.4.5.). "
   ]
  },
  {
   "cell_type": "code",
   "execution_count": 59,
   "metadata": {},
   "outputs": [
    {
     "data": {
      "text/plain": [
       "0.037009651239911165"
      ]
     },
     "execution_count": 59,
     "metadata": {},
     "output_type": "execute_result"
    }
   ],
   "source": [
    "norm.cdf(a, samp_mean, samp_std)"
   ]
  },
  {
   "cell_type": "markdown",
   "metadata": {},
   "source": [
    "### 3.5. Sampling Distribution - *Actual*\n",
    "\n",
    "#### 3.5.1 Create an actual sampling distribution\n",
    "\n",
    "Now, using your population of county unemployment rates, create an **actual sampling distribution** of sample mean unemployment rates. We would like our sampling distribution to contain 1000 sample means, each calculated on samples of size 50.\n"
   ]
  },
  {
   "cell_type": "code",
   "execution_count": 60,
   "metadata": {},
   "outputs": [],
   "source": [
    "result = []\n",
    "for i in range(1000):\n",
    "\n",
    "    sample = df1.sample(50)\n",
    "    result.append(sample['unemployment_rate'].mean())"
   ]
  },
  {
   "cell_type": "code",
   "execution_count": 61,
   "metadata": {},
   "outputs": [
    {
     "data": {
      "text/html": [
       "<div>\n",
       "<style scoped>\n",
       "    .dataframe tbody tr th:only-of-type {\n",
       "        vertical-align: middle;\n",
       "    }\n",
       "\n",
       "    .dataframe tbody tr th {\n",
       "        vertical-align: top;\n",
       "    }\n",
       "\n",
       "    .dataframe thead th {\n",
       "        text-align: right;\n",
       "    }\n",
       "</style>\n",
       "<table border=\"1\" class=\"dataframe\">\n",
       "  <thead>\n",
       "    <tr style=\"text-align: right;\">\n",
       "      <th></th>\n",
       "      <th>mean</th>\n",
       "    </tr>\n",
       "  </thead>\n",
       "  <tbody>\n",
       "    <tr>\n",
       "      <th>0</th>\n",
       "      <td>4.4032</td>\n",
       "    </tr>\n",
       "    <tr>\n",
       "      <th>1</th>\n",
       "      <td>4.2906</td>\n",
       "    </tr>\n",
       "    <tr>\n",
       "      <th>2</th>\n",
       "      <td>4.5964</td>\n",
       "    </tr>\n",
       "    <tr>\n",
       "      <th>3</th>\n",
       "      <td>4.6664</td>\n",
       "    </tr>\n",
       "    <tr>\n",
       "      <th>4</th>\n",
       "      <td>4.9606</td>\n",
       "    </tr>\n",
       "  </tbody>\n",
       "</table>\n",
       "</div>"
      ],
      "text/plain": [
       "     mean\n",
       "0  4.4032\n",
       "1  4.2906\n",
       "2  4.5964\n",
       "3  4.6664\n",
       "4  4.9606"
      ]
     },
     "execution_count": 61,
     "metadata": {},
     "output_type": "execute_result"
    }
   ],
   "source": [
    "sampledf = pd.DataFrame(result, columns = ['mean'])\n",
    "sampledf.head()"
   ]
  },
  {
   "cell_type": "code",
   "execution_count": null,
   "metadata": {},
   "outputs": [],
   "source": []
  },
  {
   "cell_type": "markdown",
   "metadata": {},
   "source": [
    "#### 3.5.2 Calculate the mean and the standard deviation of this sampling distribution you *actually* created in 3.5.1."
   ]
  },
  {
   "cell_type": "code",
   "execution_count": 67,
   "metadata": {},
   "outputs": [
    {
     "data": {
      "text/plain": [
       "4.602576599999997"
      ]
     },
     "execution_count": 67,
     "metadata": {},
     "output_type": "execute_result"
    }
   ],
   "source": [
    "samp_dist_mean = sampledf['mean'].mean()\n",
    "samp_dist_mean"
   ]
  },
  {
   "cell_type": "code",
   "execution_count": 70,
   "metadata": {},
   "outputs": [
    {
     "data": {
      "text/plain": [
       "0.23027578307044946"
      ]
     },
     "execution_count": 70,
     "metadata": {},
     "output_type": "execute_result"
    }
   ],
   "source": [
    "samp_dist_std = sampledf['mean'].std()\n",
    "samp_dist_std"
   ]
  },
  {
   "cell_type": "markdown",
   "metadata": {},
   "source": [
    "#### 3.5.3.  How do these values compare to the sampling distribution mean and the standard deviation that you *theoretically* calculated in 3.4.1 and 3.4.2?\n",
    "\n",
    "(They should be close)."
   ]
  },
  {
   "cell_type": "code",
   "execution_count": 69,
   "metadata": {},
   "outputs": [
    {
     "data": {
      "text/plain": [
       "0.008866534756307942"
      ]
     },
     "execution_count": 69,
     "metadata": {},
     "output_type": "execute_result"
    }
   ],
   "source": [
    "samp_mean - samp_dist_mean"
   ]
  },
  {
   "cell_type": "code",
   "execution_count": 71,
   "metadata": {},
   "outputs": [
    {
     "data": {
      "text/plain": [
       "0.002894245769588799"
      ]
     },
     "execution_count": 71,
     "metadata": {},
     "output_type": "execute_result"
    }
   ],
   "source": [
    "samp_std - samp_dist_std"
   ]
  },
  {
   "cell_type": "markdown",
   "metadata": {},
   "source": [
    "The values are very close to each other. "
   ]
  },
  {
   "cell_type": "markdown",
   "metadata": {},
   "source": [
    "#### 3.5.4. Plot the histogram of this sampling distribution.\n",
    "\n",
    "Make sure to appropriately label the x-axis and title of this plot."
   ]
  },
  {
   "cell_type": "code",
   "execution_count": 72,
   "metadata": {},
   "outputs": [
    {
     "data": {
      "text/plain": [
       "Text(0.5, 1.0, 'sample unemployment rate distribution')"
      ]
     },
     "execution_count": 72,
     "metadata": {},
     "output_type": "execute_result"
    },
    {
     "data": {
      "image/png": "[encoded data removed]",
      "text/plain": [
       "<Figure size 432x288 with 1 Axes>"
      ]
     },
     "metadata": {},
     "output_type": "display_data"
    }
   ],
   "source": [
    "sampledf['mean'].hist()\n",
    "plt.xlabel('unemployment rate mean')\n",
    "plt.ylabel('frequency')\n",
    "plt.title('sample unemployment rate distribution')"
   ]
  },
  {
   "cell_type": "markdown",
   "metadata": {},
   "source": [
    "#### 3.5.5. How does the shape of this ACTUAL sampling distribution compare to what you said about the THEORETICAL sampling distribution in 3.4.3?"
   ]
  },
  {
   "cell_type": "markdown",
   "metadata": {},
   "source": [
    "Yes, the shape of the distribution above is nearly normal, so it's very close compared to the theoretical distribution shape in 3.4.3"
   ]
  },
  {
   "cell_type": "code",
   "execution_count": null,
   "metadata": {},
   "outputs": [],
   "source": []
  }
 ],
 "metadata": {
  "kernelspec": {
   "display_name": "Python 3",
   "language": "python",
   "name": "python3"
  },
  "language_info": {
   "codemirror_mode": {
    "name": "ipython",
    "version": 3
   },
   "file_extension": ".py",
   "mimetype": "text/x-python",
   "name": "python",
   "nbconvert_exporter": "python",
   "pygments_lexer": "ipython3",
   "version": "3.7.6"
  }
 },
 "nbformat": 4,
 "nbformat_minor": 2
}
