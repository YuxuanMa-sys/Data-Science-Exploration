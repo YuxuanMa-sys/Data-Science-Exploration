{
 "cells": [
  {
   "cell_type": "markdown",
   "metadata": {},
   "source": [
    "# STAT 207 Lab 7 - Group Part - [5 total points]\n",
    "\n",
    "## Confidence Intervals"
   ]
  },
  {
   "cell_type": "markdown",
   "metadata": {},
   "source": [
    "Due: Wednesday, March 9, 11:59pm CST\n",
    "\n",
    "## <u>Case Study</u>: Former STAT107 Student Analysis"
   ]
  },
  {
   "cell_type": "code",
   "execution_count": 10,
   "metadata": {},
   "outputs": [],
   "source": [
    "import pandas as pd\n",
    "import matplotlib.pyplot as plt\n",
    "from scipy.stats import norm"
   ]
  },
  {
   "cell_type": "markdown",
   "metadata": {},
   "source": [
    "### Motivation\n",
    "Starting next Fall, STAT107 and STAT207 (as well as other courses) will count as requirements towards a brand new suite of majors that we are calling \"X+Data Science\" majors. Thus, we in the statistics department are interested to learn more about the type of students that enroll in courses like STAT107. In the previous four semesters, 497 students enrolled in STAT107. Rather than track down and ask each of these 497 students questions, we will use the students in *this lab section* (who have presumably taken STAT107) in an attempt to learn more about the larger population of **all students who have taken STAT107 in the last four semesters**.\n",
    "\n",
    "<hr>\n",
    "\n",
    "### <u>Part 1</u>:  [1 pt] Create and Conduct a Survey\n",
    "\n",
    "#### 1.1. Create a research question that *you* would be interested in asking all former STAT107 students (from the last four semesters).\n",
    "   *  <u>Option 1</u>: Create a question that has a numerical response, for instance: \"How many UIUC games have you attended so far?\"\n",
    "   * <u>Option 2</u>: Create a question that has a categorical response (with just two answers), for instance, \"Are you team Jacob or team Edward?\"\n",
    "\n",
    "**<u>Note</u>: Don't use these example questions. You should come up with your own.**\n",
    "\n",
    "**<u>Note</u>: If you were not able to attend the lab, then you can pretend that you asked the students in your lab this question: \"Are you a sophomore?\"**\n",
    "\n",
    "Write your question below."
   ]
  },
  {
   "cell_type": "markdown",
   "metadata": {},
   "source": [
    "how many classes are you taking this semester? "
   ]
  },
  {
   "cell_type": "markdown",
   "metadata": {},
   "source": [
    "#### 1.2. Then, ask your question to 6 randomly selected students in this lab section and record your answers. Put these six responses in a dataframe.\n",
    "\n",
    "*To ensure that your sample of students in this lab is random, see Wenzhuo or the course assistants for your random sample.*\n",
    "\n",
    "**<u>Note</u>: If you were not able to attend the lab, then here is a random sample of six students from the class and their answers to your question (that I found out from the class roster page): ['no','no','no','no','yes','no']**\n",
    "<hr>"
   ]
  },
  {
   "cell_type": "code",
   "execution_count": 28,
   "metadata": {},
   "outputs": [],
   "source": [
    "#5 nikita.  5, avni, 4, eric, 5=micheal, 6=samridhi, 5=feiran"
   ]
  },
  {
   "cell_type": "code",
   "execution_count": 29,
   "metadata": {},
   "outputs": [],
   "source": [
    "data=[]\n",
    "a={'Name':'nikita','Class_taken':5}\n",
    "data.append(a)\n",
    "b = {'Name': 'avni', 'Class_taken':5}\n",
    "data.append(b)\n",
    "c = {'Name': 'eric', 'Class_taken': 4}\n",
    "data.append(c)\n",
    "d = {'Name': 'micheal', 'Class_taken': 5}\n",
    "data.append(d)\n",
    "e = {'Name': 'samridhi', 'Class_taken': 6}\n",
    "data.append(e)\n",
    "f = {'Name': 'feiran', 'Class_taken': 5}\n",
    "data.append(f)"
   ]
  },
  {
   "cell_type": "code",
   "execution_count": 30,
   "metadata": {},
   "outputs": [],
   "source": [
    "df=pd.DataFrame(data)"
   ]
  },
  {
   "cell_type": "markdown",
   "metadata": {},
   "source": [
    "<hr>\n",
    "\n",
    "### <u> Part 2</u>: [1 pt] Calculate Sample Statistics\n",
    "\n",
    "Then, using your sample that you just collected do one of the following.\n",
    "\n",
    "**a. If your sample is comprised of numerical data:**\n",
    "\n",
    "    * calculate the sample mean\n",
    "    * calculate the sample standard deviation\n",
    "    * plot the histogram of the numerical values in your sample\n",
    "    \n",
    "**b. If your sample is comprised of categorical data:**\n",
    "\n",
    "    * calculate the proportion of observations in the sample that are of a particular value that you are interested in."
   ]
  },
  {
   "cell_type": "markdown",
   "metadata": {},
   "source": [
    "**Example Sample Statistic**\n",
    "\n",
    "Because my sample is comprised of categorical data, I will calculate a **sample proportion**. Specifically, I am interested in knowing the proportion of people in the sample who *have* ran through a corn field before."
   ]
  },
  {
   "cell_type": "code",
   "execution_count": 31,
   "metadata": {},
   "outputs": [
    {
     "data": {
      "text/plain": [
       "5.0"
      ]
     },
     "execution_count": 31,
     "metadata": {},
     "output_type": "execute_result"
    }
   ],
   "source": [
    "sample_mean=df.Class_taken.mean()\n",
    "sample_mean"
   ]
  },
  {
   "cell_type": "code",
   "execution_count": 32,
   "metadata": {},
   "outputs": [
    {
     "data": {
      "text/plain": [
       "0.6324555320336759"
      ]
     },
     "execution_count": 32,
     "metadata": {},
     "output_type": "execute_result"
    }
   ],
   "source": [
    "sample_std=df.Class_taken.std()\n",
    "sample_std"
   ]
  },
  {
   "cell_type": "code",
   "execution_count": 33,
   "metadata": {},
   "outputs": [
    {
     "data": {
      "image/png": "[encoded data removed]",
      "text/plain": [
       "<Figure size 432x288 with 1 Axes>"
      ]
     },
     "metadata": {
      "needs_background": "light"
     },
     "output_type": "display_data"
    }
   ],
   "source": [
    "df.Class_taken.hist()\n",
    "plt.xlabel('Class taken')\n",
    "plt.ylabel('Frequency')\n",
    "plt.title('Sample distribution')\n",
    "plt.show()"
   ]
  },
  {
   "cell_type": "markdown",
   "metadata": {},
   "source": [
    "<hr>\n",
    "\n",
    "### <u>Part 3</u>: [2.5 pt] Create a Confidence Interval\n",
    "\n",
    "Finally, using this sample we would like to create a plausible range of values for a **mean value** or **proportion value** corresponding to all students who took STAT107 in the last four semesters. Specifically, we will create a 90% confidence interval for this **population parameter**.\n",
    "   *  For instance, if you asked six students in this lab \"How many UIUC games have you attended so far?\", then you should create a 90% confidence interval for the **average** number of games that **all former STAT107 students (from the last four semesters) have attended.**\n",
    "   *  For instance, if you asked six students in this lab \"Are you team Jacob or team Edward?\", then you should create a 90% confidence interval for the **proportion** of **all former STAT107 students (from the last four semesters)** that are a **team Jacob.**\n",
    "   \n",
    "   \n",
    "Make sure you check the appropriate corresponding Central Limit Theorem conditions needed in order to create this confidence inteval. *If you find that not all of these conditions are met, then you should \"proceed with caution\". This means that you should still create this confidence interval (for the purpose of this assignment), but knowing that the conclusions that we are drawing from this confidence interval may not be completely accurate.*\n",
    "\n",
    "<hr>"
   ]
  },
  {
   "cell_type": "markdown",
   "metadata": {},
   "source": []
  },
  {
   "cell_type": "code",
   "execution_count": 34,
   "metadata": {},
   "outputs": [],
   "source": [
    "critical_value=norm.ppf(0.95)"
   ]
  },
  {
   "cell_type": "code",
   "execution_count": 35,
   "metadata": {},
   "outputs": [
    {
     "data": {
      "text/plain": [
       "1.6448536269514722"
      ]
     },
     "execution_count": 35,
     "metadata": {},
     "output_type": "execute_result"
    }
   ],
   "source": [
    "critical_value"
   ]
  },
  {
   "cell_type": "code",
   "execution_count": 36,
   "metadata": {},
   "outputs": [],
   "source": [
    "lower_bound = sample_mean - critical_value*(sample_std/(6**0.5))\n",
    "upper_bound = sample_mean + critical_value*(sample_std/(6**0.5))"
   ]
  },
  {
   "cell_type": "code",
   "execution_count": 37,
   "metadata": {},
   "outputs": [
    {
     "data": {
      "text/plain": [
       "4.575300619724539"
      ]
     },
     "execution_count": 37,
     "metadata": {},
     "output_type": "execute_result"
    }
   ],
   "source": [
    "lower_bound"
   ]
  },
  {
   "cell_type": "code",
   "execution_count": 38,
   "metadata": {},
   "outputs": [
    {
     "data": {
      "text/plain": [
       "5.424699380275461"
      ]
     },
     "execution_count": 38,
     "metadata": {},
     "output_type": "execute_result"
    }
   ],
   "source": [
    "upper_bound"
   ]
  },
  {
   "cell_type": "code",
   "execution_count": null,
   "metadata": {},
   "outputs": [],
   "source": []
  },
  {
   "cell_type": "markdown",
   "metadata": {},
   "source": [
    "### <u>Part 4</u>: [0.5 pt] Confidence Interval Interpretation\n",
    "\n",
    "Put your confidence interval into words."
   ]
  },
  {
   "cell_type": "markdown",
   "metadata": {},
   "source": [
    "We are 90% confident that the class taken all former STAT107 students (from the last four semesters) is between 4.575 and 5.425"
   ]
  },
  {
   "cell_type": "markdown",
   "metadata": {},
   "source": [
    "### <u>Contribution Report</u>:"
   ]
  },
  {
   "cell_type": "markdown",
   "metadata": {},
   "source": [
    "tianyih6 did 1,2\n",
    "yuxuanm4 did 3"
   ]
  },
  {
   "cell_type": "code",
   "execution_count": null,
   "metadata": {},
   "outputs": [],
   "source": []
  },
  {
   "cell_type": "code",
   "execution_count": null,
   "metadata": {},
   "outputs": [],
   "source": []
  },
  {
   "cell_type": "code",
   "execution_count": null,
   "metadata": {},
   "outputs": [],
   "source": []
  }
 ],
 "metadata": {
  "kernelspec": {
   "display_name": "Python 3",
   "language": "python",
   "name": "python3"
  },
  "language_info": {
   "codemirror_mode": {
    "name": "ipython",
    "version": 3
   },
   "file_extension": ".py",
   "mimetype": "text/x-python",
   "name": "python",
   "nbconvert_exporter": "python",
   "pygments_lexer": "ipython3",
   "version": "3.7.6"
  }
 },
 "nbformat": 4,
 "nbformat_minor": 2
}
