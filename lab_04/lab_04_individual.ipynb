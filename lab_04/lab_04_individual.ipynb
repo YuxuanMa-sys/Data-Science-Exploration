{
 "cells": [
  {
   "cell_type": "markdown",
   "metadata": {},
   "source": [
    "# STAT 207 Lab Assignment 4 - Individual Part - [25 total points]\n",
    "\n",
    "## Probability\n",
    "\n",
    "In this assignment we have the following research goals.\n",
    "\n",
    "### Research Goals\n",
    "\n",
    "1. Calculate the probability of randomly drawing a **flush** hand in poker.\n",
    "2. Which of the following is more likely to happen:\n",
    "    - randomly selecting a **single** U.S. county that has a higher **multi unit housing rate** than **Champaign County, Illinois**?\n",
    "    - randomly selecting **5 U.S. counties** that has a higher **AVERAGE multi unit housing rate** than **Champaign County, Illinois and it's 4 neighboring counties**?"
   ]
  },
  {
   "cell_type": "markdown",
   "metadata": {},
   "source": [
    "Due: Wednesday, February 16, 11:59pm CST\n",
    "\n",
    "<hr>\n",
    "\n",
    "\n",
    "<p>&nbsp;</p>\n",
    "<table style=\"border: none;border-collapse: collapse;width:102pt;\">\n",
    "    <tbody>\n",
    "        <tr>\n",
    "            <td style=\"color:black;font-size:15px;font-weight:700;font-style:normal;text-decoration:none;font-family:Calibri, sans-serif;text-align:general;vertical-align:bottom;border:.5pt solid windowtext;height:14.25pt;width:51pt;\">Problems</td>\n",
    "            <td style=\"color:black;font-size:15px;font-weight:700;font-style:normal;text-decoration:none;font-family:Calibri, sans-serif;text-align:general;vertical-align:bottom;border:.5pt solid windowtext;border-left:none;width:51pt;\">Points</td>\n",
    "        </tr>\n",
    "        <tr>\n",
    "            <td style=\"color:black;font-size:15px;font-weight:400;font-style:normal;text-decoration:none;font-family:Calibri, sans-serif;text-align:right;vertical-align:bottom;border:.5pt solid windowtext;height:14.25pt;border-top:none;\">1</td>\n",
    "            <td style=\"color:black;font-size:15px;font-weight:400;font-style:normal;text-decoration:none;font-family:Calibri, sans-serif;text-align:right;vertical-align:bottom;border:.5pt solid windowtext;border-top:none;border-left:none;\">4</td>\n",
    "        </tr>\n",
    "        <tr>\n",
    "            <td style=\"color:black;font-size:15px;font-weight:400;font-style:normal;text-decoration:none;font-family:Calibri, sans-serif;text-align:right;vertical-align:bottom;border:.5pt solid windowtext;height:14.25pt;border-top:none;\">2.1</td>\n",
    "            <td style=\"color:black;font-size:15px;font-weight:400;font-style:normal;text-decoration:none;font-family:Calibri, sans-serif;text-align:right;vertical-align:bottom;border:.5pt solid windowtext;border-top:none;border-left:none;\">3.5</td>\n",
    "        </tr>\n",
    "        <tr>\n",
    "            <td style=\"color:black;font-size:15px;font-weight:400;font-style:normal;text-decoration:none;font-family:Calibri, sans-serif;text-align:right;vertical-align:bottom;border:.5pt solid windowtext;height:14.25pt;border-top:none;\">2.2</td>\n",
    "            <td style=\"color:black;font-size:15px;font-weight:400;font-style:normal;text-decoration:none;font-family:Calibri, sans-serif;text-align:right;vertical-align:bottom;border:.5pt solid windowtext;border-top:none;border-left:none;\">4</td>\n",
    "        </tr>\n",
    "        <tr>\n",
    "            <td style=\"color:black;font-size:15px;font-weight:400;font-style:normal;text-decoration:none;font-family:Calibri, sans-serif;text-align:right;vertical-align:bottom;border:.5pt solid windowtext;height:14.25pt;border-top:none;\">3</td>\n",
    "            <td style=\"color:black;font-size:15px;font-weight:400;font-style:normal;text-decoration:none;font-family:Calibri, sans-serif;text-align:right;vertical-align:bottom;border:.5pt solid windowtext;border-top:none;border-left:none;\">0.5</td>\n",
    "        </tr>\n",
    "        <tr>\n",
    "            <td style=\"color:black;font-size:15px;font-weight:400;font-style:normal;text-decoration:none;font-family:Calibri, sans-serif;text-align:right;vertical-align:bottom;border:.5pt solid windowtext;height:14.25pt;border-top:none;\">4.1</td>\n",
    "            <td style=\"color:black;font-size:15px;font-weight:400;font-style:normal;text-decoration:none;font-family:Calibri, sans-serif;text-align:right;vertical-align:bottom;border:.5pt solid windowtext;border-top:none;border-left:none;\">0.5</td>\n",
    "        </tr>\n",
    "        <tr>\n",
    "            <td style=\"color:black;font-size:15px;font-weight:400;font-style:normal;text-decoration:none;font-family:Calibri, sans-serif;text-align:right;vertical-align:bottom;border:.5pt solid windowtext;height:14.25pt;border-top:none;\">4.2</td>\n",
    "            <td style=\"color:black;font-size:15px;font-weight:400;font-style:normal;text-decoration:none;font-family:Calibri, sans-serif;text-align:right;vertical-align:bottom;border:.5pt solid windowtext;border-top:none;border-left:none;\">1.5</td>\n",
    "        </tr>\n",
    "        <tr>\n",
    "            <td style=\"color:black;font-size:15px;font-weight:400;font-style:normal;text-decoration:none;font-family:Calibri, sans-serif;text-align:right;vertical-align:bottom;border:.5pt solid windowtext;height:14.25pt;border-top:none;\">4.3</td>\n",
    "            <td style=\"color:black;font-size:15px;font-weight:400;font-style:normal;text-decoration:none;font-family:Calibri, sans-serif;text-align:right;vertical-align:bottom;border:.5pt solid windowtext;border-top:none;border-left:none;\">2</td>\n",
    "        </tr>\n",
    "        <tr>\n",
    "            <td style=\"color:black;font-size:15px;font-weight:400;font-style:normal;text-decoration:none;font-family:Calibri, sans-serif;text-align:right;vertical-align:bottom;border:.5pt solid windowtext;height:14.25pt;border-top:none;\">5.1</td>\n",
    "            <td style=\"color:black;font-size:15px;font-weight:400;font-style:normal;text-decoration:none;font-family:Calibri, sans-serif;text-align:right;vertical-align:bottom;border:.5pt solid windowtext;border-top:none;border-left:none;\">1.5</td>\n",
    "        </tr>\n",
    "        <tr>\n",
    "            <td style=\"color:black;font-size:15px;font-weight:400;font-style:normal;text-decoration:none;font-family:Calibri, sans-serif;text-align:right;vertical-align:bottom;border:.5pt solid windowtext;height:14.25pt;border-top:none;\">5.2</td>\n",
    "            <td style=\"color:black;font-size:15px;font-weight:400;font-style:normal;text-decoration:none;font-family:Calibri, sans-serif;text-align:right;vertical-align:bottom;border:.5pt solid windowtext;border-top:none;border-left:none;\">1.5</td>\n",
    "        </tr>\n",
    "        <tr>\n",
    "            <td style=\"color:black;font-size:15px;font-weight:400;font-style:normal;text-decoration:none;font-family:Calibri, sans-serif;text-align:right;vertical-align:bottom;border:.5pt solid windowtext;height:14.25pt;border-top:none;\">6.1</td>\n",
    "            <td style=\"color:black;font-size:15px;font-weight:400;font-style:normal;text-decoration:none;font-family:Calibri, sans-serif;text-align:right;vertical-align:bottom;border:.5pt solid windowtext;border-top:none;border-left:none;\">1.5</td>\n",
    "        </tr>\n",
    "        <tr>\n",
    "            <td style=\"color:black;font-size:15px;font-weight:400;font-style:normal;text-decoration:none;font-family:Calibri, sans-serif;text-align:right;vertical-align:bottom;border:.5pt solid windowtext;height:14.25pt;border-top:none;\">6.2</td>\n",
    "            <td style=\"color:black;font-size:15px;font-weight:400;font-style:normal;text-decoration:none;font-family:Calibri, sans-serif;text-align:right;vertical-align:bottom;border:.5pt solid windowtext;border-top:none;border-left:none;\">3</td>\n",
    "        </tr>\n",
    "        <tr>\n",
    "            <td style=\"color:black;font-size:15px;font-weight:400;font-style:normal;text-decoration:none;font-family:Calibri, sans-serif;text-align:right;vertical-align:bottom;border:.5pt solid windowtext;height:14.25pt;border-top:none;\">7</td>\n",
    "            <td style=\"color:black;font-size:15px;font-weight:400;font-style:normal;text-decoration:none;font-family:Calibri, sans-serif;text-align:right;vertical-align:bottom;border:.5pt solid windowtext;border-top:none;border-left:none;\">1.5</td>\n",
    "        </tr>\n",
    "    </tbody>\n",
    "</table>"
   ]
  },
  {
   "cell_type": "markdown",
   "metadata": {},
   "source": [
    "### Imports"
   ]
  },
  {
   "cell_type": "code",
   "execution_count": 1,
   "metadata": {},
   "outputs": [],
   "source": [
    "import pandas as pd                    # imports pandas and calls the imported version 'pd'\n",
    "import matplotlib.pyplot as plt        # imports the package and calls it 'plt'\n",
    "import seaborn as sns # imports the seaborn package with the imported name 'sns'\n",
    "sns.set() \n",
    "import scipy"
   ]
  },
  {
   "cell_type": "markdown",
   "metadata": {},
   "source": [
    "### <u>Tutorial</u>: Using More Complicated Row Filtering Conditions\n",
    "\n",
    "You can use parentheses and the **&** and the **|** operators to create more complicated combinations of filtering conditions for the rows of a dataframe."
   ]
  },
  {
   "cell_type": "code",
   "execution_count": 2,
   "metadata": {},
   "outputs": [
    {
     "data": {
      "text/html": [
       "<div>\n",
       "<style scoped>\n",
       "    .dataframe tbody tr th:only-of-type {\n",
       "        vertical-align: middle;\n",
       "    }\n",
       "\n",
       "    .dataframe tbody tr th {\n",
       "        vertical-align: top;\n",
       "    }\n",
       "\n",
       "    .dataframe thead th {\n",
       "        text-align: right;\n",
       "    }\n",
       "</style>\n",
       "<table border=\"1\" class=\"dataframe\">\n",
       "  <thead>\n",
       "    <tr style=\"text-align: right;\">\n",
       "      <th></th>\n",
       "      <th>x</th>\n",
       "      <th>y</th>\n",
       "    </tr>\n",
       "  </thead>\n",
       "  <tbody>\n",
       "    <tr>\n",
       "      <th>0</th>\n",
       "      <td>3</td>\n",
       "      <td>100</td>\n",
       "    </tr>\n",
       "    <tr>\n",
       "      <th>1</th>\n",
       "      <td>3</td>\n",
       "      <td>101</td>\n",
       "    </tr>\n",
       "    <tr>\n",
       "      <th>2</th>\n",
       "      <td>10</td>\n",
       "      <td>100</td>\n",
       "    </tr>\n",
       "    <tr>\n",
       "      <th>3</th>\n",
       "      <td>10</td>\n",
       "      <td>22</td>\n",
       "    </tr>\n",
       "  </tbody>\n",
       "</table>\n",
       "</div>"
      ],
      "text/plain": [
       "    x    y\n",
       "0   3  100\n",
       "1   3  101\n",
       "2  10  100\n",
       "3  10   22"
      ]
     },
     "execution_count": 2,
     "metadata": {},
     "output_type": "execute_result"
    }
   ],
   "source": [
    "import pandas as pd\n",
    "tmp=pd.DataFrame({'x':[3,3,10,10], 'y':[100,101,100,22]})\n",
    "tmp"
   ]
  },
  {
   "cell_type": "markdown",
   "metadata": {},
   "source": [
    "For instance, the code below returns rows from the tmp dataframe that either have (x=3 and y=100) OR (x=10 and y=22)."
   ]
  },
  {
   "cell_type": "code",
   "execution_count": 3,
   "metadata": {},
   "outputs": [
    {
     "data": {
      "text/html": [
       "<div>\n",
       "<style scoped>\n",
       "    .dataframe tbody tr th:only-of-type {\n",
       "        vertical-align: middle;\n",
       "    }\n",
       "\n",
       "    .dataframe tbody tr th {\n",
       "        vertical-align: top;\n",
       "    }\n",
       "\n",
       "    .dataframe thead th {\n",
       "        text-align: right;\n",
       "    }\n",
       "</style>\n",
       "<table border=\"1\" class=\"dataframe\">\n",
       "  <thead>\n",
       "    <tr style=\"text-align: right;\">\n",
       "      <th></th>\n",
       "      <th>x</th>\n",
       "      <th>y</th>\n",
       "    </tr>\n",
       "  </thead>\n",
       "  <tbody>\n",
       "    <tr>\n",
       "      <th>0</th>\n",
       "      <td>3</td>\n",
       "      <td>100</td>\n",
       "    </tr>\n",
       "    <tr>\n",
       "      <th>3</th>\n",
       "      <td>10</td>\n",
       "      <td>22</td>\n",
       "    </tr>\n",
       "  </tbody>\n",
       "</table>\n",
       "</div>"
      ],
      "text/plain": [
       "    x    y\n",
       "0   3  100\n",
       "3  10   22"
      ]
     },
     "execution_count": 3,
     "metadata": {},
     "output_type": "execute_result"
    }
   ],
   "source": [
    "tmp[((tmp['x']==3) & (tmp['y']==100)) | ((tmp['x']==10) & (tmp['y']==22))]"
   ]
  },
  {
   "cell_type": "markdown",
   "metadata": {},
   "source": [
    "## <u>Case Study</u>: 'Flush' Poker Hand Analysis\n",
    "\n",
    "In poker, a 'flush' is a drawn hand that contains five cards all of the same suit.\n",
    "\n",
    "<u>Examples</u>:\n",
    "\n",
    "K♣ 10♣ 7♣ 6♣ 4♣ \n",
    "\n",
    "J♥ 8♥ 4♥ 3♥ 2♥ \n",
    "\n",
    "<u>Note for People that Actually Play Poker</u>:\n",
    "*For the sake of this analysis, we will assume that \"straight flushes\" and \"royal flushes\" also count as \"flush\" hands.*\n",
    "\n",
    "## 1. Calculating the Probability of a Flush Hand *Theoretically* \n",
    "\n",
    "Calculate the *theoretical* probability of drawing a flush hand from a 52 card playing deck.\n",
    "\n",
    "* <u>Hint</u>: Remember, when we draw a hand in poker, we draw the five cards without replacement and the order of cards that you selected doesn't matter.\n",
    "\n",
    "**Show your work and calculations!**\n",
    "\n",
    "<hr>"
   ]
  },
  {
   "cell_type": "code",
   "execution_count": 6,
   "metadata": {},
   "outputs": [
    {
     "data": {
      "text/html": [
       "<div>\n",
       "<style scoped>\n",
       "    .dataframe tbody tr th:only-of-type {\n",
       "        vertical-align: middle;\n",
       "    }\n",
       "\n",
       "    .dataframe tbody tr th {\n",
       "        vertical-align: top;\n",
       "    }\n",
       "\n",
       "    .dataframe thead th {\n",
       "        text-align: right;\n",
       "    }\n",
       "</style>\n",
       "<table border=\"1\" class=\"dataframe\">\n",
       "  <thead>\n",
       "    <tr style=\"text-align: right;\">\n",
       "      <th></th>\n",
       "      <th>color</th>\n",
       "      <th>suit</th>\n",
       "      <th>face</th>\n",
       "    </tr>\n",
       "  </thead>\n",
       "  <tbody>\n",
       "    <tr>\n",
       "      <th>0</th>\n",
       "      <td>black</td>\n",
       "      <td>club</td>\n",
       "      <td>A</td>\n",
       "    </tr>\n",
       "    <tr>\n",
       "      <th>1</th>\n",
       "      <td>black</td>\n",
       "      <td>club</td>\n",
       "      <td>2</td>\n",
       "    </tr>\n",
       "    <tr>\n",
       "      <th>2</th>\n",
       "      <td>black</td>\n",
       "      <td>club</td>\n",
       "      <td>3</td>\n",
       "    </tr>\n",
       "    <tr>\n",
       "      <th>3</th>\n",
       "      <td>black</td>\n",
       "      <td>club</td>\n",
       "      <td>4</td>\n",
       "    </tr>\n",
       "    <tr>\n",
       "      <th>4</th>\n",
       "      <td>black</td>\n",
       "      <td>club</td>\n",
       "      <td>5</td>\n",
       "    </tr>\n",
       "  </tbody>\n",
       "</table>\n",
       "</div>"
      ],
      "text/plain": [
       "   color  suit face\n",
       "0  black  club    A\n",
       "1  black  club    2\n",
       "2  black  club    3\n",
       "3  black  club    4\n",
       "4  black  club    5"
      ]
     },
     "execution_count": 6,
     "metadata": {},
     "output_type": "execute_result"
    }
   ],
   "source": [
    "card = pd.read_csv(\"cards.csv\")\n",
    "card.head()"
   ]
  },
  {
   "cell_type": "code",
   "execution_count": null,
   "metadata": {},
   "outputs": [],
   "source": []
  },
  {
   "cell_type": "code",
   "execution_count": 12,
   "metadata": {},
   "outputs": [
    {
     "data": {
      "text/plain": [
       "0.0019807923169267707"
      ]
     },
     "execution_count": 12,
     "metadata": {},
     "output_type": "execute_result"
    }
   ],
   "source": [
    "(13/52)*(12/51)*(11/50)*(10/49)*(9/48)*4"
   ]
  },
  {
   "cell_type": "code",
   "execution_count": null,
   "metadata": {},
   "outputs": [],
   "source": []
  },
  {
   "cell_type": "code",
   "execution_count": null,
   "metadata": {},
   "outputs": [],
   "source": []
  },
  {
   "cell_type": "code",
   "execution_count": null,
   "metadata": {},
   "outputs": [],
   "source": []
  },
  {
   "cell_type": "markdown",
   "metadata": {},
   "source": []
  },
  {
   "cell_type": "markdown",
   "metadata": {},
   "source": []
  },
  {
   "cell_type": "markdown",
   "metadata": {},
   "source": [
    "## 2. *Approximating* the Probability of a 'Flush' Hand\n",
    "\n",
    "\n",
    "Now, via a simulation we would like to approximate the probability of randomly selecting a flush hand from a 52 card playing deck (also drawn without replacement in which the order does not matter).\n",
    "\n",
    "### 2.1. Function for Testing Flush Hands\n",
    "\n",
    "We have created two test hands below in the form of dataframes.\n",
    "1. **hand1** is a flush hand.\n",
    "2. **hand2** is not a flush hand\n",
    "\n",
    "a. Create a function that returns a True if the dataframe (that represents a poker hand of 5 cards) is a 'flush' hand and returns False if it is not a 'flush' hand.\n",
    "\n",
    "b. Then use this function on the **hand1** and **hand2** dataframe to test your results."
   ]
  },
  {
   "cell_type": "code",
   "execution_count": 13,
   "metadata": {},
   "outputs": [
    {
     "data": {
      "text/html": [
       "<div>\n",
       "<style scoped>\n",
       "    .dataframe tbody tr th:only-of-type {\n",
       "        vertical-align: middle;\n",
       "    }\n",
       "\n",
       "    .dataframe tbody tr th {\n",
       "        vertical-align: top;\n",
       "    }\n",
       "\n",
       "    .dataframe thead th {\n",
       "        text-align: right;\n",
       "    }\n",
       "</style>\n",
       "<table border=\"1\" class=\"dataframe\">\n",
       "  <thead>\n",
       "    <tr style=\"text-align: right;\">\n",
       "      <th></th>\n",
       "      <th>face</th>\n",
       "      <th>suit</th>\n",
       "    </tr>\n",
       "  </thead>\n",
       "  <tbody>\n",
       "    <tr>\n",
       "      <th>0</th>\n",
       "      <td>J</td>\n",
       "      <td>heart</td>\n",
       "    </tr>\n",
       "    <tr>\n",
       "      <th>1</th>\n",
       "      <td>K</td>\n",
       "      <td>heart</td>\n",
       "    </tr>\n",
       "    <tr>\n",
       "      <th>2</th>\n",
       "      <td>10</td>\n",
       "      <td>heart</td>\n",
       "    </tr>\n",
       "    <tr>\n",
       "      <th>3</th>\n",
       "      <td>9</td>\n",
       "      <td>heart</td>\n",
       "    </tr>\n",
       "    <tr>\n",
       "      <th>4</th>\n",
       "      <td>4</td>\n",
       "      <td>heart</td>\n",
       "    </tr>\n",
       "  </tbody>\n",
       "</table>\n",
       "</div>"
      ],
      "text/plain": [
       "  face   suit\n",
       "0    J  heart\n",
       "1    K  heart\n",
       "2   10  heart\n",
       "3    9  heart\n",
       "4    4  heart"
      ]
     },
     "execution_count": 13,
     "metadata": {},
     "output_type": "execute_result"
    }
   ],
   "source": [
    "import pandas as pd\n",
    "hand1 = pd.DataFrame({'face': ['J','K','10','9','4'],\n",
    "                           'suit': ['heart', 'heart', 'heart', 'heart', 'heart']})\n",
    "hand1"
   ]
  },
  {
   "cell_type": "code",
   "execution_count": 14,
   "metadata": {},
   "outputs": [
    {
     "data": {
      "text/html": [
       "<div>\n",
       "<style scoped>\n",
       "    .dataframe tbody tr th:only-of-type {\n",
       "        vertical-align: middle;\n",
       "    }\n",
       "\n",
       "    .dataframe tbody tr th {\n",
       "        vertical-align: top;\n",
       "    }\n",
       "\n",
       "    .dataframe thead th {\n",
       "        text-align: right;\n",
       "    }\n",
       "</style>\n",
       "<table border=\"1\" class=\"dataframe\">\n",
       "  <thead>\n",
       "    <tr style=\"text-align: right;\">\n",
       "      <th></th>\n",
       "      <th>face</th>\n",
       "      <th>suit</th>\n",
       "    </tr>\n",
       "  </thead>\n",
       "  <tbody>\n",
       "    <tr>\n",
       "      <th>0</th>\n",
       "      <td>3</td>\n",
       "      <td>heart</td>\n",
       "    </tr>\n",
       "    <tr>\n",
       "      <th>1</th>\n",
       "      <td>2</td>\n",
       "      <td>club</td>\n",
       "    </tr>\n",
       "    <tr>\n",
       "      <th>2</th>\n",
       "      <td>Q</td>\n",
       "      <td>spade</td>\n",
       "    </tr>\n",
       "    <tr>\n",
       "      <th>3</th>\n",
       "      <td>9</td>\n",
       "      <td>club</td>\n",
       "    </tr>\n",
       "    <tr>\n",
       "      <th>4</th>\n",
       "      <td>J</td>\n",
       "      <td>diamond</td>\n",
       "    </tr>\n",
       "  </tbody>\n",
       "</table>\n",
       "</div>"
      ],
      "text/plain": [
       "  face     suit\n",
       "0    3    heart\n",
       "1    2     club\n",
       "2    Q    spade\n",
       "3    9     club\n",
       "4    J  diamond"
      ]
     },
     "execution_count": 14,
     "metadata": {},
     "output_type": "execute_result"
    }
   ],
   "source": [
    "hand2 = pd.DataFrame({'face': ['3','2','Q','9','J'],\n",
    "                           'suit': ['heart', 'club', 'spade', 'club', 'diamond']})\n",
    "hand2"
   ]
  },
  {
   "cell_type": "code",
   "execution_count": 63,
   "metadata": {},
   "outputs": [],
   "source": [
    "def Flush(hand):\n",
    "    Flush = 0\n",
    "    for i in range(len(hand)-1):\n",
    "        if hand[i-1:i]['suit'].values != hand[i:i+1]['suit'].values:\n",
    "            Flush += 1\n",
    "    if Flush == 0:\n",
    "        return True\n",
    "    else:\n",
    "        return False"
   ]
  },
  {
   "cell_type": "code",
   "execution_count": 64,
   "metadata": {},
   "outputs": [
    {
     "name": "stderr",
     "output_type": "stream",
     "text": [
      "/Users/mayuxuan/opt/anaconda3/lib/python3.7/site-packages/ipykernel_launcher.py:4: DeprecationWarning: The truth value of an empty array is ambiguous. Returning False, but in future this will result in an error. Use `array.size > 0` to check that an array is not empty.\n",
      "  after removing the cwd from sys.path.\n"
     ]
    },
    {
     "data": {
      "text/plain": [
       "True"
      ]
     },
     "execution_count": 64,
     "metadata": {},
     "output_type": "execute_result"
    }
   ],
   "source": [
    "Flush(hand1)"
   ]
  },
  {
   "cell_type": "code",
   "execution_count": 65,
   "metadata": {},
   "outputs": [
    {
     "name": "stderr",
     "output_type": "stream",
     "text": [
      "/Users/mayuxuan/opt/anaconda3/lib/python3.7/site-packages/ipykernel_launcher.py:4: DeprecationWarning: The truth value of an empty array is ambiguous. Returning False, but in future this will result in an error. Use `array.size > 0` to check that an array is not empty.\n",
      "  after removing the cwd from sys.path.\n"
     ]
    },
    {
     "data": {
      "text/plain": [
       "False"
      ]
     },
     "execution_count": 65,
     "metadata": {},
     "output_type": "execute_result"
    }
   ],
   "source": [
    "Flush(hand2)"
   ]
  },
  {
   "cell_type": "code",
   "execution_count": null,
   "metadata": {},
   "outputs": [],
   "source": []
  },
  {
   "cell_type": "code",
   "execution_count": null,
   "metadata": {},
   "outputs": [],
   "source": []
  },
  {
   "cell_type": "code",
   "execution_count": null,
   "metadata": {},
   "outputs": [],
   "source": []
  },
  {
   "cell_type": "code",
   "execution_count": null,
   "metadata": {},
   "outputs": [],
   "source": []
  },
  {
   "cell_type": "code",
   "execution_count": null,
   "metadata": {},
   "outputs": [],
   "source": []
  },
  {
   "cell_type": "code",
   "execution_count": null,
   "metadata": {},
   "outputs": [],
   "source": []
  },
  {
   "cell_type": "markdown",
   "metadata": {},
   "source": [
    "### 2.2. Approximating the probability that a randomly drawn hand is a flush hand.\n",
    "\n",
    "Using the cards.csv file attached to this lab, conduct a simulation that does the following.\n",
    "\n",
    "1. Simulate drawing 20,000 hands (ie. 5 cards) from the 52 card deck. Each trial is randomly sampled without replacement. (But you can assume that after each trial, the 5 drawn cards were put back in the deck).\n",
    "2. Tests whether the trial hand is a flush hand.\n",
    "3. Calculates the proportion of the 20,000 hands that were a flush hand.\n",
    "\n",
    "This proportion will be your approximated probability of drawing a flush hand in poker.\n",
    "\n",
    "**Warning: Using print statements (depending on how large of an object you're printing) may cause your notebook to crash with for loops with lots of iterations.**"
   ]
  },
  {
   "cell_type": "code",
   "execution_count": 46,
   "metadata": {},
   "outputs": [],
   "source": [
    "bigsample = card.sample(n = 5, replace = False)"
   ]
  },
  {
   "cell_type": "code",
   "execution_count": 47,
   "metadata": {},
   "outputs": [
    {
     "data": {
      "text/html": [
       "<div>\n",
       "<style scoped>\n",
       "    .dataframe tbody tr th:only-of-type {\n",
       "        vertical-align: middle;\n",
       "    }\n",
       "\n",
       "    .dataframe tbody tr th {\n",
       "        vertical-align: top;\n",
       "    }\n",
       "\n",
       "    .dataframe thead th {\n",
       "        text-align: right;\n",
       "    }\n",
       "</style>\n",
       "<table border=\"1\" class=\"dataframe\">\n",
       "  <thead>\n",
       "    <tr style=\"text-align: right;\">\n",
       "      <th></th>\n",
       "      <th>color</th>\n",
       "      <th>suit</th>\n",
       "      <th>face</th>\n",
       "    </tr>\n",
       "  </thead>\n",
       "  <tbody>\n",
       "    <tr>\n",
       "      <th>12</th>\n",
       "      <td>black</td>\n",
       "      <td>club</td>\n",
       "      <td>K</td>\n",
       "    </tr>\n",
       "    <tr>\n",
       "      <th>6</th>\n",
       "      <td>black</td>\n",
       "      <td>club</td>\n",
       "      <td>7</td>\n",
       "    </tr>\n",
       "    <tr>\n",
       "      <th>15</th>\n",
       "      <td>black</td>\n",
       "      <td>spade</td>\n",
       "      <td>3</td>\n",
       "    </tr>\n",
       "    <tr>\n",
       "      <th>46</th>\n",
       "      <td>red</td>\n",
       "      <td>heart</td>\n",
       "      <td>8</td>\n",
       "    </tr>\n",
       "    <tr>\n",
       "      <th>27</th>\n",
       "      <td>red</td>\n",
       "      <td>diamond</td>\n",
       "      <td>2</td>\n",
       "    </tr>\n",
       "  </tbody>\n",
       "</table>\n",
       "</div>"
      ],
      "text/plain": [
       "    color     suit face\n",
       "12  black     club    K\n",
       "6   black     club    7\n",
       "15  black    spade    3\n",
       "46    red    heart    8\n",
       "27    red  diamond    2"
      ]
     },
     "execution_count": 47,
     "metadata": {},
     "output_type": "execute_result"
    }
   ],
   "source": [
    "bigsample"
   ]
  },
  {
   "cell_type": "code",
   "execution_count": 77,
   "metadata": {},
   "outputs": [
    {
     "name": "stderr",
     "output_type": "stream",
     "text": [
      "/Users/mayuxuan/opt/anaconda3/lib/python3.7/site-packages/ipykernel_launcher.py:6: DeprecationWarning: The truth value of an empty array is ambiguous. Returning False, but in future this will result in an error. Use `array.size > 0` to check that an array is not empty.\n",
      "  \n"
     ]
    }
   ],
   "source": [
    "isFlush = 0\n",
    "for i in range(20000):\n",
    "    Flush = 0\n",
    "    bigsample = card.sample(n = 5, replace = False)\n",
    "    for i in range(5):\n",
    "        if (bigsample[i-1:i]['suit'].values != bigsample[i:i+1]['suit'].values) | (bigsample[i-1:i]['color'].values != bigsample[i:i+1]['color'].values):\n",
    "            Flush += 1\n",
    "    if Flush == 0:\n",
    "        isFlush += 1\n",
    "        "
   ]
  },
  {
   "cell_type": "code",
   "execution_count": 78,
   "metadata": {},
   "outputs": [
    {
     "data": {
      "text/plain": [
       "41"
      ]
     },
     "execution_count": 78,
     "metadata": {},
     "output_type": "execute_result"
    }
   ],
   "source": [
    "isFlush"
   ]
  },
  {
   "cell_type": "code",
   "execution_count": 80,
   "metadata": {},
   "outputs": [
    {
     "data": {
      "text/plain": [
       "0.00205"
      ]
     },
     "execution_count": 80,
     "metadata": {},
     "output_type": "execute_result"
    }
   ],
   "source": [
    "isFlush/20000"
   ]
  },
  {
   "cell_type": "code",
   "execution_count": null,
   "metadata": {},
   "outputs": [],
   "source": []
  },
  {
   "cell_type": "markdown",
   "metadata": {},
   "source": [
    "### 3. Comparison of Theoretical and Approximated Probabilities\n",
    "\n",
    "What is the difference between your theoretical probability that you calculated in #1 and your approximated probability that you calculated in 2?"
   ]
  },
  {
   "cell_type": "code",
   "execution_count": 81,
   "metadata": {},
   "outputs": [
    {
     "data": {
      "text/plain": [
       "-6.920768307322944e-05"
      ]
     },
     "execution_count": 81,
     "metadata": {},
     "output_type": "execute_result"
    }
   ],
   "source": [
    "0.0019807923169267707 - 0.00205"
   ]
  },
  {
   "cell_type": "markdown",
   "metadata": {},
   "source": [
    "<hr>\n",
    "\n",
    "## <u>Case Study</u>: Champaign County and Surrounding Counties Multi-Unit Housing Structure Analysis\n",
    "\n",
    "The county.csv file attached contains various statistics about each county in the United States. You can read more about this dataset and what the variables mean here: https://www.openintro.org/data/index.php?data=county\n",
    "\n",
    "**Champaign County**\n",
    "\n",
    "Because Champaign County in Illinois is home to UIUC, in which a lot of students and young adults live in apartments, we conjecture that the probability of randomly selecting a **single U.S. county** that has a **multi_unit rate** higher than **Champaign County's** will be low.\n",
    "\n",
    "**Champaign County and Neighboring Counties**\n",
    "\n",
    "In addition, suppose we calculate the average multi_unit housing rate of Champaign county, as well as the four neighboring counties (Vermilion, Ford, Piatt, and Douglas). Will it also be the case that the probability of randomly selecting **5 U.S. counties** (without replacement) with an **AVERAGE multi_unit housing rate** higher than the **average of Champaign county and it's neighbors** will be low as well?\n",
    "\n",
    "Let's find out!\n",
    "\n",
    "## 4. Data Basics\n",
    "\n",
    "### 4.1. Data Processing\n",
    "\n",
    "Read the county csv file into a dataframe and show the first five rows.\n",
    "\n",
    "**<u>Note</u>: This csv file does have some missing values, but the multi_unit variable does not have any missing values. Because we will only be using the multi_unit variable in this analysis we do not need to worry about cleaning the dataframe or dropping any rows with missing values for now.**"
   ]
  },
  {
   "cell_type": "code",
   "execution_count": 84,
   "metadata": {},
   "outputs": [
    {
     "data": {
      "text/html": [
       "<div>\n",
       "<style scoped>\n",
       "    .dataframe tbody tr th:only-of-type {\n",
       "        vertical-align: middle;\n",
       "    }\n",
       "\n",
       "    .dataframe tbody tr th {\n",
       "        vertical-align: top;\n",
       "    }\n",
       "\n",
       "    .dataframe thead th {\n",
       "        text-align: right;\n",
       "    }\n",
       "</style>\n",
       "<table border=\"1\" class=\"dataframe\">\n",
       "  <thead>\n",
       "    <tr style=\"text-align: right;\">\n",
       "      <th></th>\n",
       "      <th>name</th>\n",
       "      <th>state</th>\n",
       "      <th>pop2000</th>\n",
       "      <th>pop2010</th>\n",
       "      <th>pop2017</th>\n",
       "      <th>pop_change</th>\n",
       "      <th>poverty</th>\n",
       "      <th>homeownership</th>\n",
       "      <th>multi_unit</th>\n",
       "      <th>unemployment_rate</th>\n",
       "      <th>metro</th>\n",
       "      <th>median_edu</th>\n",
       "      <th>per_capita_income</th>\n",
       "      <th>median_hh_income</th>\n",
       "      <th>smoking_ban</th>\n",
       "    </tr>\n",
       "  </thead>\n",
       "  <tbody>\n",
       "    <tr>\n",
       "      <th>0</th>\n",
       "      <td>Autauga County</td>\n",
       "      <td>Alabama</td>\n",
       "      <td>43671</td>\n",
       "      <td>54571</td>\n",
       "      <td>55504</td>\n",
       "      <td>1.48</td>\n",
       "      <td>13.7</td>\n",
       "      <td>77.5</td>\n",
       "      <td>7.2</td>\n",
       "      <td>3.86</td>\n",
       "      <td>yes</td>\n",
       "      <td>some_college</td>\n",
       "      <td>27841.7</td>\n",
       "      <td>55317</td>\n",
       "      <td>none</td>\n",
       "    </tr>\n",
       "    <tr>\n",
       "      <th>1</th>\n",
       "      <td>Baldwin County</td>\n",
       "      <td>Alabama</td>\n",
       "      <td>140415</td>\n",
       "      <td>182265</td>\n",
       "      <td>212628</td>\n",
       "      <td>9.19</td>\n",
       "      <td>11.8</td>\n",
       "      <td>76.7</td>\n",
       "      <td>22.6</td>\n",
       "      <td>3.99</td>\n",
       "      <td>yes</td>\n",
       "      <td>some_college</td>\n",
       "      <td>27779.85</td>\n",
       "      <td>52562</td>\n",
       "      <td>none</td>\n",
       "    </tr>\n",
       "    <tr>\n",
       "      <th>2</th>\n",
       "      <td>Barbour County</td>\n",
       "      <td>Alabama</td>\n",
       "      <td>29038</td>\n",
       "      <td>27457</td>\n",
       "      <td>25270</td>\n",
       "      <td>-6.22</td>\n",
       "      <td>27.2</td>\n",
       "      <td>68.0</td>\n",
       "      <td>11.1</td>\n",
       "      <td>5.9</td>\n",
       "      <td>no</td>\n",
       "      <td>hs_diploma</td>\n",
       "      <td>17891.73</td>\n",
       "      <td>33368</td>\n",
       "      <td>partial</td>\n",
       "    </tr>\n",
       "    <tr>\n",
       "      <th>3</th>\n",
       "      <td>Bibb County</td>\n",
       "      <td>Alabama</td>\n",
       "      <td>20826</td>\n",
       "      <td>22915</td>\n",
       "      <td>22668</td>\n",
       "      <td>0.73</td>\n",
       "      <td>15.2</td>\n",
       "      <td>82.9</td>\n",
       "      <td>6.6</td>\n",
       "      <td>4.39</td>\n",
       "      <td>yes</td>\n",
       "      <td>hs_diploma</td>\n",
       "      <td>20572.05</td>\n",
       "      <td>43404</td>\n",
       "      <td>none</td>\n",
       "    </tr>\n",
       "    <tr>\n",
       "      <th>4</th>\n",
       "      <td>Blount County</td>\n",
       "      <td>Alabama</td>\n",
       "      <td>51024</td>\n",
       "      <td>57322</td>\n",
       "      <td>58013</td>\n",
       "      <td>0.68</td>\n",
       "      <td>15.6</td>\n",
       "      <td>82.0</td>\n",
       "      <td>3.7</td>\n",
       "      <td>4.02</td>\n",
       "      <td>yes</td>\n",
       "      <td>hs_diploma</td>\n",
       "      <td>21367.39</td>\n",
       "      <td>47412</td>\n",
       "      <td>none</td>\n",
       "    </tr>\n",
       "  </tbody>\n",
       "</table>\n",
       "</div>"
      ],
      "text/plain": [
       "             name    state pop2000  pop2010 pop2017 pop_change poverty  \\\n",
       "0  Autauga County  Alabama   43671    54571   55504       1.48    13.7   \n",
       "1  Baldwin County  Alabama  140415   182265  212628       9.19    11.8   \n",
       "2  Barbour County  Alabama   29038    27457   25270      -6.22    27.2   \n",
       "3     Bibb County  Alabama   20826    22915   22668       0.73    15.2   \n",
       "4   Blount County  Alabama   51024    57322   58013       0.68    15.6   \n",
       "\n",
       "   homeownership  multi_unit unemployment_rate metro    median_edu  \\\n",
       "0           77.5         7.2              3.86   yes  some_college   \n",
       "1           76.7        22.6              3.99   yes  some_college   \n",
       "2           68.0        11.1               5.9    no    hs_diploma   \n",
       "3           82.9         6.6              4.39   yes    hs_diploma   \n",
       "4           82.0         3.7              4.02   yes    hs_diploma   \n",
       "\n",
       "  per_capita_income median_hh_income smoking_ban  \n",
       "0           27841.7            55317        none  \n",
       "1          27779.85            52562        none  \n",
       "2          17891.73            33368     partial  \n",
       "3          20572.05            43404        none  \n",
       "4          21367.39            47412        none  "
      ]
     },
     "execution_count": 84,
     "metadata": {},
     "output_type": "execute_result"
    }
   ],
   "source": [
    "county = pd.read_csv('county.csv')\n",
    "county.head()"
   ]
  },
  {
   "cell_type": "markdown",
   "metadata": {},
   "source": [
    "### 4.2.  Learning About Champaign County Multi_Unit Rate\n",
    "\n",
    "What is the multi_unit housing rate for Champaign County, Illinois?"
   ]
  },
  {
   "cell_type": "code",
   "execution_count": 87,
   "metadata": {},
   "outputs": [],
   "source": [
    "champaign = county[(county['name'] == 'Champaign County') & (county['state'] == 'Illinois')]"
   ]
  },
  {
   "cell_type": "code",
   "execution_count": 88,
   "metadata": {},
   "outputs": [
    {
     "data": {
      "text/html": [
       "<div>\n",
       "<style scoped>\n",
       "    .dataframe tbody tr th:only-of-type {\n",
       "        vertical-align: middle;\n",
       "    }\n",
       "\n",
       "    .dataframe tbody tr th {\n",
       "        vertical-align: top;\n",
       "    }\n",
       "\n",
       "    .dataframe thead th {\n",
       "        text-align: right;\n",
       "    }\n",
       "</style>\n",
       "<table border=\"1\" class=\"dataframe\">\n",
       "  <thead>\n",
       "    <tr style=\"text-align: right;\">\n",
       "      <th></th>\n",
       "      <th>name</th>\n",
       "      <th>state</th>\n",
       "      <th>pop2000</th>\n",
       "      <th>pop2010</th>\n",
       "      <th>pop2017</th>\n",
       "      <th>pop_change</th>\n",
       "      <th>poverty</th>\n",
       "      <th>homeownership</th>\n",
       "      <th>multi_unit</th>\n",
       "      <th>unemployment_rate</th>\n",
       "      <th>metro</th>\n",
       "      <th>median_edu</th>\n",
       "      <th>per_capita_income</th>\n",
       "      <th>median_hh_income</th>\n",
       "      <th>smoking_ban</th>\n",
       "    </tr>\n",
       "  </thead>\n",
       "  <tbody>\n",
       "    <tr>\n",
       "      <th>604</th>\n",
       "      <td>Champaign County</td>\n",
       "      <td>Illinois</td>\n",
       "      <td>179669</td>\n",
       "      <td>201081</td>\n",
       "      <td>209399</td>\n",
       "      <td>1.83</td>\n",
       "      <td>21.4</td>\n",
       "      <td>55.9</td>\n",
       "      <td>35.2</td>\n",
       "      <td>4.24</td>\n",
       "      <td>yes</td>\n",
       "      <td>some_college</td>\n",
       "      <td>29619.49</td>\n",
       "      <td>49586</td>\n",
       "      <td>data unavailable</td>\n",
       "    </tr>\n",
       "  </tbody>\n",
       "</table>\n",
       "</div>"
      ],
      "text/plain": [
       "                 name     state pop2000  pop2010 pop2017 pop_change poverty  \\\n",
       "604  Champaign County  Illinois  179669   201081  209399       1.83    21.4   \n",
       "\n",
       "     homeownership  multi_unit unemployment_rate metro    median_edu  \\\n",
       "604           55.9        35.2              4.24   yes  some_college   \n",
       "\n",
       "    per_capita_income median_hh_income       smoking_ban  \n",
       "604          29619.49            49586  data unavailable  "
      ]
     },
     "execution_count": 88,
     "metadata": {},
     "output_type": "execute_result"
    }
   ],
   "source": [
    "champaign"
   ]
  },
  {
   "cell_type": "code",
   "execution_count": null,
   "metadata": {},
   "outputs": [],
   "source": []
  },
  {
   "cell_type": "code",
   "execution_count": null,
   "metadata": {},
   "outputs": [],
   "source": []
  },
  {
   "cell_type": "markdown",
   "metadata": {},
   "source": [
    "### 4.3. Learning about Champaign County and it's Neighboring County's Average Multi_Unit Rate\n",
    "What is the average multi_unit housing rate for Champaign County and it's four neighboring Illinois counties (Vermilion County, Ford County, Piatt County, and Douglas County)?"
   ]
  },
  {
   "cell_type": "code",
   "execution_count": 108,
   "metadata": {},
   "outputs": [
    {
     "data": {
      "text/html": [
       "<div>\n",
       "<style scoped>\n",
       "    .dataframe tbody tr th:only-of-type {\n",
       "        vertical-align: middle;\n",
       "    }\n",
       "\n",
       "    .dataframe tbody tr th {\n",
       "        vertical-align: top;\n",
       "    }\n",
       "\n",
       "    .dataframe thead th {\n",
       "        text-align: right;\n",
       "    }\n",
       "</style>\n",
       "<table border=\"1\" class=\"dataframe\">\n",
       "  <thead>\n",
       "    <tr style=\"text-align: right;\">\n",
       "      <th></th>\n",
       "      <th>name</th>\n",
       "      <th>state</th>\n",
       "      <th>pop2000</th>\n",
       "      <th>pop2010</th>\n",
       "      <th>pop2017</th>\n",
       "      <th>pop_change</th>\n",
       "      <th>poverty</th>\n",
       "      <th>homeownership</th>\n",
       "      <th>multi_unit</th>\n",
       "      <th>unemployment_rate</th>\n",
       "      <th>metro</th>\n",
       "      <th>median_edu</th>\n",
       "      <th>per_capita_income</th>\n",
       "      <th>median_hh_income</th>\n",
       "      <th>smoking_ban</th>\n",
       "    </tr>\n",
       "  </thead>\n",
       "  <tbody>\n",
       "    <tr>\n",
       "      <th>615</th>\n",
       "      <td>Douglas County</td>\n",
       "      <td>Illinois</td>\n",
       "      <td>19922</td>\n",
       "      <td>19980</td>\n",
       "      <td>19748</td>\n",
       "      <td>-0.57</td>\n",
       "      <td>12.1</td>\n",
       "      <td>78.3</td>\n",
       "      <td>11.2</td>\n",
       "      <td>4.01</td>\n",
       "      <td>no</td>\n",
       "      <td>hs_diploma</td>\n",
       "      <td>25796.91</td>\n",
       "      <td>52261</td>\n",
       "      <td>partial</td>\n",
       "    </tr>\n",
       "    <tr>\n",
       "      <th>621</th>\n",
       "      <td>Ford County</td>\n",
       "      <td>Illinois</td>\n",
       "      <td>14241</td>\n",
       "      <td>14081</td>\n",
       "      <td>13280</td>\n",
       "      <td>-2.86</td>\n",
       "      <td>15.7</td>\n",
       "      <td>79.1</td>\n",
       "      <td>7.9</td>\n",
       "      <td>4.7</td>\n",
       "      <td>yes</td>\n",
       "      <td>some_college</td>\n",
       "      <td>27234.78</td>\n",
       "      <td>50851</td>\n",
       "      <td>none</td>\n",
       "    </tr>\n",
       "    <tr>\n",
       "      <th>668</th>\n",
       "      <td>Piatt County</td>\n",
       "      <td>Illinois</td>\n",
       "      <td>16365</td>\n",
       "      <td>16729</td>\n",
       "      <td>16445</td>\n",
       "      <td>0.09</td>\n",
       "      <td>5.4</td>\n",
       "      <td>81.7</td>\n",
       "      <td>7.5</td>\n",
       "      <td>3.99</td>\n",
       "      <td>yes</td>\n",
       "      <td>some_college</td>\n",
       "      <td>33598.78</td>\n",
       "      <td>67360</td>\n",
       "      <td>data unavailable</td>\n",
       "    </tr>\n",
       "    <tr>\n",
       "      <th>686</th>\n",
       "      <td>Vermilion County</td>\n",
       "      <td>Illinois</td>\n",
       "      <td>83919</td>\n",
       "      <td>81625</td>\n",
       "      <td>77909</td>\n",
       "      <td>-3.31</td>\n",
       "      <td>19.8</td>\n",
       "      <td>71.3</td>\n",
       "      <td>14.5</td>\n",
       "      <td>6.29</td>\n",
       "      <td>yes</td>\n",
       "      <td>hs_diploma</td>\n",
       "      <td>23759.02</td>\n",
       "      <td>44930</td>\n",
       "      <td>data unavailable</td>\n",
       "    </tr>\n",
       "  </tbody>\n",
       "</table>\n",
       "</div>"
      ],
      "text/plain": [
       "                 name     state pop2000  pop2010 pop2017 pop_change poverty  \\\n",
       "615    Douglas County  Illinois   19922    19980   19748      -0.57    12.1   \n",
       "621       Ford County  Illinois   14241    14081   13280      -2.86    15.7   \n",
       "668      Piatt County  Illinois   16365    16729   16445       0.09     5.4   \n",
       "686  Vermilion County  Illinois   83919    81625   77909      -3.31    19.8   \n",
       "\n",
       "     homeownership  multi_unit unemployment_rate metro    median_edu  \\\n",
       "615           78.3        11.2              4.01    no    hs_diploma   \n",
       "621           79.1         7.9               4.7   yes  some_college   \n",
       "668           81.7         7.5              3.99   yes  some_college   \n",
       "686           71.3        14.5              6.29   yes    hs_diploma   \n",
       "\n",
       "    per_capita_income median_hh_income       smoking_ban  \n",
       "615          25796.91            52261           partial  \n",
       "621          27234.78            50851              none  \n",
       "668          33598.78            67360  data unavailable  \n",
       "686          23759.02            44930  data unavailable  "
      ]
     },
     "execution_count": 108,
     "metadata": {},
     "output_type": "execute_result"
    }
   ],
   "source": [
    "neighbor = county[((county['name'] == 'Vermilion County') | (county['name'] == 'Ford County') | (county['name'] == 'Piatt County') | (county['name'] == 'Douglas County')) & (county['state'] == 'Illinois')]\n",
    "neighbor"
   ]
  },
  {
   "cell_type": "code",
   "execution_count": 109,
   "metadata": {},
   "outputs": [
    {
     "data": {
      "text/plain": [
       "15.260000000000002"
      ]
     },
     "execution_count": 109,
     "metadata": {},
     "output_type": "execute_result"
    }
   ],
   "source": [
    "average = sum(sum(neighbor['multi_unit']) + champaign['multi_unit'])/5\n",
    "average"
   ]
  },
  {
   "cell_type": "markdown",
   "metadata": {},
   "source": [
    "## 5. Theoretical Probabilities\n",
    "\n",
    "### 5.1. Randomly Selecting a Single County\n",
    "\n",
    "What is the probability of randomly selecting a single county from this population of U.S. counties that has a multi_unit rate that is higher than the multi_unit rate of Champaign County, Illinois?"
   ]
  },
  {
   "cell_type": "code",
   "execution_count": 150,
   "metadata": {},
   "outputs": [
    {
     "data": {
      "text/plain": [
       "0.028334925183062718"
      ]
     },
     "execution_count": 150,
     "metadata": {},
     "output_type": "execute_result"
    }
   ],
   "source": [
    "len(county[county['multi_unit'].values > champaign['multi_unit'].values])/(len(county)-1)"
   ]
  },
  {
   "cell_type": "code",
   "execution_count": 149,
   "metadata": {},
   "outputs": [],
   "source": [
    "#isHigher = 0\n",
    "#for i in range(20000):\n",
    "#    sample = county.sample(n = 1)\n",
    "#    if (sample[0:1]['multi_unit'].values > champaign['multi_unit'].values):\n",
    "#        isHigher += 1\n",
    "\n",
    "#isHigher/len(county)"
   ]
  },
  {
   "cell_type": "markdown",
   "metadata": {},
   "source": []
  },
  {
   "cell_type": "markdown",
   "metadata": {},
   "source": [
    "### 5.2. Randomly Selecting 2 Counties (With Replacement)\n",
    "\n",
    "If we were to randomly select two counties from the population of U.S. counties **with replacement**, what is the probability that they both have multiunit rates that are higher than Champaign county's?"
   ]
  },
  {
   "cell_type": "code",
   "execution_count": 154,
   "metadata": {},
   "outputs": [
    {
     "data": {
      "text/plain": [
       "0.0007940998140476176"
      ]
     },
     "execution_count": 154,
     "metadata": {},
     "output_type": "execute_result"
    }
   ],
   "source": [
    "(len(county[county['multi_unit'].values > champaign['multi_unit'].values])/(len(county)-1))*((len(county[county['multi_unit'].values > champaign['multi_unit'].values])-1)/(len(county)-2))"
   ]
  },
  {
   "cell_type": "code",
   "execution_count": 153,
   "metadata": {},
   "outputs": [],
   "source": [
    "#isHigher = 0\n",
    "#for i in range(20000):\n",
    "#    sample = county.sample(n = 2, replace = True)\n",
    "#    if (sample[0:1]['multi_unit'].values > champaign['multi_unit'].values) & (sample[1:2]['multi_unit'].values > champaign['multi_unit'].values):\n",
    "#        isHigher += 1\n",
    "\n",
    "#isHigher/len(county)"
   ]
  },
  {
   "cell_type": "markdown",
   "metadata": {},
   "source": [
    "## 6. Approximated Probabilities\n",
    "\n",
    "Finally, we would like to design a simulation that approximates the probability that the average multiunit rate of 5 randomly selected counties from the population (drawn **without replacement**) is higher than the average multiunit rate of Champaign County and it's 4 neighboring counties.\n",
    "\n",
    "### 6.1. Test Function\n",
    "\n",
    "First, create a function that checks whether a sample mean value is larger than the average multiunti rate of Champaign county and it's 4 neighboring counties. You should test this function to make sure it works."
   ]
  },
  {
   "cell_type": "code",
   "execution_count": 142,
   "metadata": {},
   "outputs": [],
   "source": [
    "def compare(county_sample):\n",
    "    sample_average = sum(county_sample['multi_unit'])/5\n",
    "    if sample_average > average:\n",
    "        return True\n",
    "    else:\n",
    "        return False"
   ]
  },
  {
   "cell_type": "code",
   "execution_count": 143,
   "metadata": {},
   "outputs": [
    {
     "data": {
      "text/html": [
       "<div>\n",
       "<style scoped>\n",
       "    .dataframe tbody tr th:only-of-type {\n",
       "        vertical-align: middle;\n",
       "    }\n",
       "\n",
       "    .dataframe tbody tr th {\n",
       "        vertical-align: top;\n",
       "    }\n",
       "\n",
       "    .dataframe thead th {\n",
       "        text-align: right;\n",
       "    }\n",
       "</style>\n",
       "<table border=\"1\" class=\"dataframe\">\n",
       "  <thead>\n",
       "    <tr style=\"text-align: right;\">\n",
       "      <th></th>\n",
       "      <th>name</th>\n",
       "      <th>state</th>\n",
       "      <th>pop2000</th>\n",
       "      <th>pop2010</th>\n",
       "      <th>pop2017</th>\n",
       "      <th>pop_change</th>\n",
       "      <th>poverty</th>\n",
       "      <th>homeownership</th>\n",
       "      <th>multi_unit</th>\n",
       "      <th>unemployment_rate</th>\n",
       "      <th>metro</th>\n",
       "      <th>median_edu</th>\n",
       "      <th>per_capita_income</th>\n",
       "      <th>median_hh_income</th>\n",
       "      <th>smoking_ban</th>\n",
       "    </tr>\n",
       "  </thead>\n",
       "  <tbody>\n",
       "    <tr>\n",
       "      <th>2719</th>\n",
       "      <td>Roberts County</td>\n",
       "      <td>Texas</td>\n",
       "      <td>887</td>\n",
       "      <td>929</td>\n",
       "      <td>938</td>\n",
       "      <td>2.07</td>\n",
       "      <td>3.3</td>\n",
       "      <td>75.9</td>\n",
       "      <td>0.0</td>\n",
       "      <td>3.66</td>\n",
       "      <td>no</td>\n",
       "      <td>some_college</td>\n",
       "      <td>34038.83</td>\n",
       "      <td>79167</td>\n",
       "      <td>partial</td>\n",
       "    </tr>\n",
       "    <tr>\n",
       "      <th>1658</th>\n",
       "      <td>Blaine County</td>\n",
       "      <td>Nebraska</td>\n",
       "      <td>583</td>\n",
       "      <td>478</td>\n",
       "      <td>482</td>\n",
       "      <td>2.55</td>\n",
       "      <td>9.8</td>\n",
       "      <td>65.3</td>\n",
       "      <td>0.0</td>\n",
       "      <td>4.2</td>\n",
       "      <td>no</td>\n",
       "      <td>some_college</td>\n",
       "      <td>30201.85</td>\n",
       "      <td>52000</td>\n",
       "      <td>partial</td>\n",
       "    </tr>\n",
       "    <tr>\n",
       "      <th>2574</th>\n",
       "      <td>Crane County</td>\n",
       "      <td>Texas</td>\n",
       "      <td>3996</td>\n",
       "      <td>4375</td>\n",
       "      <td>4740</td>\n",
       "      <td>0.38</td>\n",
       "      <td>11.8</td>\n",
       "      <td>75.8</td>\n",
       "      <td>0.0</td>\n",
       "      <td>5.29</td>\n",
       "      <td>no</td>\n",
       "      <td>hs_diploma</td>\n",
       "      <td>23267.5</td>\n",
       "      <td>63935</td>\n",
       "      <td>none</td>\n",
       "    </tr>\n",
       "    <tr>\n",
       "      <th>1711</th>\n",
       "      <td>Loup County</td>\n",
       "      <td>Nebraska</td>\n",
       "      <td>712</td>\n",
       "      <td>632</td>\n",
       "      <td>609</td>\n",
       "      <td>3.75</td>\n",
       "      <td>8.9</td>\n",
       "      <td>85.1</td>\n",
       "      <td>0.0</td>\n",
       "      <td>3.06</td>\n",
       "      <td>no</td>\n",
       "      <td>some_college</td>\n",
       "      <td>30660.73</td>\n",
       "      <td>58625</td>\n",
       "      <td>none</td>\n",
       "    </tr>\n",
       "    <tr>\n",
       "      <th>1710</th>\n",
       "      <td>Logan County</td>\n",
       "      <td>Nebraska</td>\n",
       "      <td>774</td>\n",
       "      <td>763</td>\n",
       "      <td>768</td>\n",
       "      <td>-1.16</td>\n",
       "      <td>9.7</td>\n",
       "      <td>68.1</td>\n",
       "      <td>0.0</td>\n",
       "      <td>2.77</td>\n",
       "      <td>no</td>\n",
       "      <td>some_college</td>\n",
       "      <td>24356.18</td>\n",
       "      <td>50278</td>\n",
       "      <td>none</td>\n",
       "    </tr>\n",
       "    <tr>\n",
       "      <th>...</th>\n",
       "      <td>...</td>\n",
       "      <td>...</td>\n",
       "      <td>...</td>\n",
       "      <td>...</td>\n",
       "      <td>...</td>\n",
       "      <td>...</td>\n",
       "      <td>...</td>\n",
       "      <td>...</td>\n",
       "      <td>...</td>\n",
       "      <td>...</td>\n",
       "      <td>...</td>\n",
       "      <td>...</td>\n",
       "      <td>...</td>\n",
       "      <td>...</td>\n",
       "      <td>...</td>\n",
       "    </tr>\n",
       "    <tr>\n",
       "      <th>1229</th>\n",
       "      <td>Suffolk County</td>\n",
       "      <td>Massachusetts</td>\n",
       "      <td>689807</td>\n",
       "      <td>722023</td>\n",
       "      <td>797939</td>\n",
       "      <td>4.8</td>\n",
       "      <td>19.6</td>\n",
       "      <td>36.5</td>\n",
       "      <td>80.7</td>\n",
       "      <td>3.39</td>\n",
       "      <td>yes</td>\n",
       "      <td>some_college</td>\n",
       "      <td>38224.07</td>\n",
       "      <td>61242</td>\n",
       "      <td>data unavailable</td>\n",
       "    </tr>\n",
       "    <tr>\n",
       "      <th>1782</th>\n",
       "      <td>Hudson County</td>\n",
       "      <td>New Jersey</td>\n",
       "      <td>608975</td>\n",
       "      <td>634266</td>\n",
       "      <td>691643</td>\n",
       "      <td>3.68</td>\n",
       "      <td>17.1</td>\n",
       "      <td>34.3</td>\n",
       "      <td>83.7</td>\n",
       "      <td>4.38</td>\n",
       "      <td>yes</td>\n",
       "      <td>some_college</td>\n",
       "      <td>34823.31</td>\n",
       "      <td>62681</td>\n",
       "      <td>data unavailable</td>\n",
       "    </tr>\n",
       "    <tr>\n",
       "      <th>1851</th>\n",
       "      <td>Kings County</td>\n",
       "      <td>New York</td>\n",
       "      <td>2465326</td>\n",
       "      <td>2504700</td>\n",
       "      <td>2648771</td>\n",
       "      <td>1.65</td>\n",
       "      <td>21.9</td>\n",
       "      <td>30.3</td>\n",
       "      <td>85.7</td>\n",
       "      <td>4.64</td>\n",
       "      <td>yes</td>\n",
       "      <td>some_college</td>\n",
       "      <td>29375.27</td>\n",
       "      <td>52782</td>\n",
       "      <td>data unavailable</td>\n",
       "    </tr>\n",
       "    <tr>\n",
       "      <th>1830</th>\n",
       "      <td>Bronx County</td>\n",
       "      <td>New York</td>\n",
       "      <td>1332650</td>\n",
       "      <td>1385108</td>\n",
       "      <td>1471160</td>\n",
       "      <td>2.67</td>\n",
       "      <td>29.7</td>\n",
       "      <td>20.7</td>\n",
       "      <td>89.1</td>\n",
       "      <td>6.2</td>\n",
       "      <td>yes</td>\n",
       "      <td>hs_diploma</td>\n",
       "      <td>18852.63</td>\n",
       "      <td>36593</td>\n",
       "      <td>data unavailable</td>\n",
       "    </tr>\n",
       "    <tr>\n",
       "      <th>1858</th>\n",
       "      <td>New York County</td>\n",
       "      <td>New York</td>\n",
       "      <td>1537195</td>\n",
       "      <td>1585873</td>\n",
       "      <td>1664727</td>\n",
       "      <td>1.58</td>\n",
       "      <td>17.3</td>\n",
       "      <td>22.8</td>\n",
       "      <td>98.5</td>\n",
       "      <td>4.04</td>\n",
       "      <td>yes</td>\n",
       "      <td>bachelors</td>\n",
       "      <td>69532.86</td>\n",
       "      <td>79781</td>\n",
       "      <td>none</td>\n",
       "    </tr>\n",
       "  </tbody>\n",
       "</table>\n",
       "<p>3142 rows × 15 columns</p>\n",
       "</div>"
      ],
      "text/plain": [
       "                 name          state  pop2000  pop2010  pop2017 pop_change  \\\n",
       "2719   Roberts County          Texas      887      929      938       2.07   \n",
       "1658    Blaine County       Nebraska      583      478      482       2.55   \n",
       "2574     Crane County          Texas     3996     4375     4740       0.38   \n",
       "1711      Loup County       Nebraska      712      632      609       3.75   \n",
       "1710     Logan County       Nebraska      774      763      768      -1.16   \n",
       "...               ...            ...      ...      ...      ...        ...   \n",
       "1229   Suffolk County  Massachusetts   689807   722023   797939        4.8   \n",
       "1782    Hudson County     New Jersey   608975   634266   691643       3.68   \n",
       "1851     Kings County       New York  2465326  2504700  2648771       1.65   \n",
       "1830     Bronx County       New York  1332650  1385108  1471160       2.67   \n",
       "1858  New York County       New York  1537195  1585873  1664727       1.58   \n",
       "\n",
       "     poverty  homeownership  multi_unit unemployment_rate metro    median_edu  \\\n",
       "2719     3.3           75.9         0.0              3.66    no  some_college   \n",
       "1658     9.8           65.3         0.0               4.2    no  some_college   \n",
       "2574    11.8           75.8         0.0              5.29    no    hs_diploma   \n",
       "1711     8.9           85.1         0.0              3.06    no  some_college   \n",
       "1710     9.7           68.1         0.0              2.77    no  some_college   \n",
       "...      ...            ...         ...               ...   ...           ...   \n",
       "1229    19.6           36.5        80.7              3.39   yes  some_college   \n",
       "1782    17.1           34.3        83.7              4.38   yes  some_college   \n",
       "1851    21.9           30.3        85.7              4.64   yes  some_college   \n",
       "1830    29.7           20.7        89.1               6.2   yes    hs_diploma   \n",
       "1858    17.3           22.8        98.5              4.04   yes     bachelors   \n",
       "\n",
       "     per_capita_income median_hh_income       smoking_ban  \n",
       "2719          34038.83            79167           partial  \n",
       "1658          30201.85            52000           partial  \n",
       "2574           23267.5            63935              none  \n",
       "1711          30660.73            58625              none  \n",
       "1710          24356.18            50278              none  \n",
       "...                ...              ...               ...  \n",
       "1229          38224.07            61242  data unavailable  \n",
       "1782          34823.31            62681  data unavailable  \n",
       "1851          29375.27            52782  data unavailable  \n",
       "1830          18852.63            36593  data unavailable  \n",
       "1858          69532.86            79781              none  \n",
       "\n",
       "[3142 rows x 15 columns]"
      ]
     },
     "execution_count": 143,
     "metadata": {},
     "output_type": "execute_result"
    }
   ],
   "source": [
    "county.sort_values(by = 'multi_unit', ascending = True)"
   ]
  },
  {
   "cell_type": "code",
   "execution_count": 144,
   "metadata": {},
   "outputs": [
    {
     "data": {
      "text/plain": [
       "True"
      ]
     },
     "execution_count": 144,
     "metadata": {},
     "output_type": "execute_result"
    }
   ],
   "source": [
    "county_sample1 = county[county['multi_unit'] >= 80.7]\n",
    "\n",
    "compare(county_sample1)"
   ]
  },
  {
   "cell_type": "code",
   "execution_count": 145,
   "metadata": {},
   "outputs": [
    {
     "data": {
      "text/plain": [
       "False"
      ]
     },
     "execution_count": 145,
     "metadata": {},
     "output_type": "execute_result"
    }
   ],
   "source": [
    "county_sample2 = county[county['multi_unit'] == 0].head(5)\n",
    "compare(county_sample2)"
   ]
  },
  {
   "cell_type": "markdown",
   "metadata": {},
   "source": [
    "### 6.2. Simulation\n",
    "\n",
    "Finally, use this function to do the following.\n",
    "\n",
    "* Draw 1000 random samples of 5 U.S. counties from the population (**without replacement**) and calculate the proportion of samples that had an average multi unit rate that was higher than Champaign and it's 4 neighboring counties."
   ]
  },
  {
   "cell_type": "code",
   "execution_count": 146,
   "metadata": {},
   "outputs": [
    {
     "data": {
      "text/plain": [
       "0.212"
      ]
     },
     "execution_count": 146,
     "metadata": {},
     "output_type": "execute_result"
    }
   ],
   "source": [
    "result = 0\n",
    "for i in range(1000):\n",
    "    big_sample = county.sample(n = 5, replace = False)\n",
    "    if compare(big_sample):\n",
    "        result += 1\n",
    "result/1000"
   ]
  },
  {
   "cell_type": "markdown",
   "metadata": {},
   "source": [
    "## 7. Comparison"
   ]
  },
  {
   "cell_type": "markdown",
   "metadata": {},
   "source": [
    "2. Which of the following is more likely to happen:\n",
    "    - randomly selecting a **single** U.S. county that has a higher **multi unit housing rate** than **Champaign County, Illinois**?\n",
    "    - randomly selecting **5 U.S. counties** that has a higher **AVERAGE multi unit housing rate** than **Champaign County, Illinois and it's 4 neighboring counties**?\n",
    "\n",
    "Explain.\n"
   ]
  },
  {
   "cell_type": "markdown",
   "metadata": {},
   "source": [
    "randomly selecting a single U.S. county that has a higher multi unit housing rate than Champaign County, Illinois: 0.028334925183062718\n",
    "\n",
    "randomly selecting 5 U.S. counties that has a higher AVERAGE multi unit housing rate than Champaign County, Illinois and it's 4 neighboring counties: 0.212\n",
    "\n",
    "The second is more likely to happen because it has higher probability"
   ]
  },
  {
   "cell_type": "code",
   "execution_count": null,
   "metadata": {},
   "outputs": [],
   "source": []
  }
 ],
 "metadata": {
  "kernelspec": {
   "display_name": "Python 3",
   "language": "python",
   "name": "python3"
  },
  "language_info": {
   "codemirror_mode": {
    "name": "ipython",
    "version": 3
   },
   "file_extension": ".py",
   "mimetype": "text/x-python",
   "name": "python",
   "nbconvert_exporter": "python",
   "pygments_lexer": "ipython3",
   "version": "3.7.6"
  }
 },
 "nbformat": 4,
 "nbformat_minor": 2
}
